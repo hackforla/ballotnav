{
 "cells": [
  {
   "cell_type": "markdown",
   "metadata": {
    "toc": true
   },
   "source": [
    "<h1>Table of Contents<span class=\"tocSkip\"></span></h1>\n",
    "<div class=\"toc\"><ul class=\"toc-item\"><li><span><a href=\"#Scrape-Illinois---County-Dropoff-Locations\" data-toc-modified-id=\"Scrape-Illinois---County-Dropoff-Locations-1\"><span class=\"toc-item-num\">1&nbsp;&nbsp;</span>Scrape Illinois - County Dropoff Locations</a></span></li><li><span><a href=\"#Analyze-the-format-of-the-text\" data-toc-modified-id=\"Analyze-the-format-of-the-text-2\"><span class=\"toc-item-num\">2&nbsp;&nbsp;</span>Analyze the format of the text</a></span></li><li><span><a href=\"#Download-html-code-locally-to-scrape\" data-toc-modified-id=\"Download-html-code-locally-to-scrape-3\"><span class=\"toc-item-num\">3&nbsp;&nbsp;</span>Download html code locally to scrape</a></span></li><li><span><a href=\"#Scrape-address-info\" data-toc-modified-id=\"Scrape-address-info-4\"><span class=\"toc-item-num\">4&nbsp;&nbsp;</span>Scrape address info</a></span><ul class=\"toc-item\"><li><span><a href=\"#Case-1:-no-address_2\" data-toc-modified-id=\"Case-1:-no-address_2-4.1\"><span class=\"toc-item-num\">4.1&nbsp;&nbsp;</span>Case 1: no address_2</a></span></li><li><span><a href=\"#Case-2:-address_2-present\" data-toc-modified-id=\"Case-2:-address_2-present-4.2\"><span class=\"toc-item-num\">4.2&nbsp;&nbsp;</span>Case 2: address_2 present</a></span></li><li><span><a href=\"#Loop-through-class=infoContainers\" data-toc-modified-id=\"Loop-through-class=infoContainers-4.3\"><span class=\"toc-item-num\">4.3&nbsp;&nbsp;</span>Loop through class=infoContainers</a></span></li></ul></li><li><span><a href=\"#Scrape-schedules\" data-toc-modified-id=\"Scrape-schedules-5\"><span class=\"toc-item-num\">5&nbsp;&nbsp;</span>Scrape schedules</a></span></li><li><span><a href=\"#Join-address-and-schedules\" data-toc-modified-id=\"Join-address-and-schedules-6\"><span class=\"toc-item-num\">6&nbsp;&nbsp;</span>Join address and schedules</a></span></li><li><span><a href=\"#Create-a-DataFrame-to-hold-the-data\" data-toc-modified-id=\"Create-a-DataFrame-to-hold-the-data-7\"><span class=\"toc-item-num\">7&nbsp;&nbsp;</span>Create a DataFrame to hold the data</a></span></li><li><span><a href=\"#Write-dropoff-data-to-csv-file\" data-toc-modified-id=\"Write-dropoff-data-to-csv-file-8\"><span class=\"toc-item-num\">8&nbsp;&nbsp;</span>Write dropoff data to csv file</a></span></li><li><span><a href=\"#Read-csv-of-Illinois-jurisdicitons\" data-toc-modified-id=\"Read-csv-of-Illinois-jurisdicitons-9\"><span class=\"toc-item-num\">9&nbsp;&nbsp;</span>Read csv of Illinois jurisdicitons</a></span></li><li><span><a href=\"#Write-jurisdiciton-data-to-csv-file\" data-toc-modified-id=\"Write-jurisdiciton-data-to-csv-file-10\"><span class=\"toc-item-num\">10&nbsp;&nbsp;</span>Write jurisdiciton data to csv file</a></span></li></ul></div>"
   ]
  },
  {
   "cell_type": "markdown",
   "metadata": {},
   "source": [
    "# Scrape Illinois - County Dropoff Locations"
   ]
  },
  {
   "cell_type": "code",
   "execution_count": 1,
   "metadata": {
    "ExecuteTime": {
     "end_time": "2020-10-22T22:42:16.209510Z",
     "start_time": "2020-10-22T22:42:14.993440Z"
    }
   },
   "outputs": [],
   "source": [
    "import pandas as pd\n",
    "import numpy as np\n",
    "import requests\n",
    "from bs4 import BeautifulSoup\n",
    "import re"
   ]
  },
  {
   "cell_type": "code",
   "execution_count": 2,
   "metadata": {
    "ExecuteTime": {
     "end_time": "2020-10-22T22:42:17.128981Z",
     "start_time": "2020-10-22T22:42:17.121093Z"
    }
   },
   "outputs": [],
   "source": [
    "url = 'https://www.elections.il.gov/VotingAndRegistrationSystems/VoteByMailBallotDropBoxLocations.aspx?MID=0DjRa0Y9V6U%3d&T=637368952002106087'"
   ]
  },
  {
   "cell_type": "code",
   "execution_count": 3,
   "metadata": {
    "ExecuteTime": {
     "end_time": "2020-10-22T22:42:18.348678Z",
     "start_time": "2020-10-22T22:42:17.715536Z"
    }
   },
   "outputs": [],
   "source": [
    "res = requests.get(url)"
   ]
  },
  {
   "cell_type": "code",
   "execution_count": 4,
   "metadata": {
    "ExecuteTime": {
     "end_time": "2020-10-22T22:42:18.368466Z",
     "start_time": "2020-10-22T22:42:18.352260Z"
    }
   },
   "outputs": [
    {
     "data": {
      "text/plain": [
       "200"
      ]
     },
     "execution_count": 4,
     "metadata": {},
     "output_type": "execute_result"
    }
   ],
   "source": [
    "res.status_code"
   ]
  },
  {
   "cell_type": "code",
   "execution_count": 5,
   "metadata": {
    "ExecuteTime": {
     "end_time": "2020-10-22T22:42:19.026225Z",
     "start_time": "2020-10-22T22:42:18.952667Z"
    }
   },
   "outputs": [],
   "source": [
    "soup = BeautifulSoup(res.content)"
   ]
  },
  {
   "cell_type": "markdown",
   "metadata": {},
   "source": [
    "# Analyze the format of the text"
   ]
  },
  {
   "cell_type": "code",
   "execution_count": 6,
   "metadata": {
    "ExecuteTime": {
     "end_time": "2020-10-22T22:42:22.860868Z",
     "start_time": "2020-10-22T22:42:22.834242Z"
    }
   },
   "outputs": [],
   "source": [
    "counties = soup.find_all(class_='infoContainers')"
   ]
  },
  {
   "cell_type": "code",
   "execution_count": 7,
   "metadata": {
    "ExecuteTime": {
     "end_time": "2020-10-22T22:42:24.348771Z",
     "start_time": "2020-10-22T22:42:24.341586Z"
    }
   },
   "outputs": [
    {
     "data": {
      "text/plain": [
       "1"
      ]
     },
     "execution_count": 7,
     "metadata": {},
     "output_type": "execute_result"
    }
   ],
   "source": [
    "len(counties)"
   ]
  },
  {
   "cell_type": "code",
   "execution_count": 8,
   "metadata": {
    "ExecuteTime": {
     "end_time": "2020-10-22T22:42:25.302501Z",
     "start_time": "2020-10-22T22:42:25.287333Z"
    },
    "scrolled": false
   },
   "outputs": [
    {
     "data": {
      "text/plain": [
       "[<div class=\"infoContainers width-66\">\n",
       " <div class=\"infoHeaders\">\n",
       "             Select a Jurisdiction\n",
       "         </div>\n",
       " <div class=\"infoContent text-center margin-Auto\">\n",
       " <div class=\"search-options-container\">\n",
       " <div class=\"search-errors\">\n",
       " </div>\n",
       " <div class=\"left\">\n",
       "                     Election:\n",
       "                 </div>\n",
       " <div class=\"right\">\n",
       " <select id=\"ContentPlaceHolder1_ddlElection\" name=\"ctl00$ContentPlaceHolder1$ddlElection\">\n",
       " <option selected=\"selected\" value=\"0\">Please Select an Election</option>\n",
       " <option value=\"66\">2020 General Election</option>\n",
       " </select>\n",
       " </div>\n",
       " <div class=\"left\">\n",
       "                     Jurisdiction:\n",
       "                 </div>\n",
       " <div class=\"right\">\n",
       " <select id=\"ContentPlaceHolder1_ddlCounty\" name=\"ctl00$ContentPlaceHolder1$ddlCounty\">\n",
       " <option selected=\"selected\" value=\"0\">Please Choose a Jurisdiction</option>\n",
       " <option value=\"0\">All Jurisdictions</option>\n",
       " <option value=\"1\">Adams County</option>\n",
       " <option value=\"2\">Alexander County</option>\n",
       " <option value=\"3\">Bond County</option>\n",
       " <option value=\"4\">Boone County</option>\n",
       " <option value=\"5\">Brown County</option>\n",
       " <option value=\"6\">Bureau County</option>\n",
       " <option value=\"7\">Calhoun County</option>\n",
       " <option value=\"8\">Carroll County</option>\n",
       " <option value=\"9\">Cass County</option>\n",
       " <option value=\"10\">Champaign County</option>\n",
       " <option value=\"11\">Christian County</option>\n",
       " <option value=\"12\">Clark County</option>\n",
       " <option value=\"13\">Clay County</option>\n",
       " <option value=\"14\">Clinton County</option>\n",
       " <option value=\"15\">Coles County</option>\n",
       " <option value=\"16\">Cook County</option>\n",
       " <option value=\"17\">Crawford County</option>\n",
       " <option value=\"18\">Cumberland County</option>\n",
       " <option value=\"19\">DeKalb County</option>\n",
       " <option value=\"20\">DeWitt County</option>\n",
       " <option value=\"21\">Douglas County</option>\n",
       " <option value=\"22\">DuPage County</option>\n",
       " <option value=\"23\">Edgar County</option>\n",
       " <option value=\"24\">Edwards County</option>\n",
       " <option value=\"25\">Effingham County</option>\n",
       " <option value=\"26\">Fayette County</option>\n",
       " <option value=\"27\">Ford County</option>\n",
       " <option value=\"28\">Franklin County</option>\n",
       " <option value=\"29\">Fulton County</option>\n",
       " <option value=\"30\">Gallatin County</option>\n",
       " <option value=\"31\">Greene County</option>\n",
       " <option value=\"32\">Grundy County</option>\n",
       " <option value=\"33\">Hamilton County</option>\n",
       " <option value=\"34\">Hancock County</option>\n",
       " <option value=\"35\">Hardin County</option>\n",
       " <option value=\"36\">Henderson County</option>\n",
       " <option value=\"37\">Henry County</option>\n",
       " <option value=\"38\">Iroquois County</option>\n",
       " <option value=\"39\">Jackson County</option>\n",
       " <option value=\"40\">Jasper County</option>\n",
       " <option value=\"41\">Jefferson County</option>\n",
       " <option value=\"42\">Jersey County</option>\n",
       " <option value=\"43\">JoDaviess County</option>\n",
       " <option value=\"44\">Johnson County</option>\n",
       " <option value=\"45\">Kane County</option>\n",
       " <option value=\"46\">Kankakee County</option>\n",
       " <option value=\"47\">Kendall County</option>\n",
       " <option value=\"48\">Knox County</option>\n",
       " <option value=\"49\">Lake County</option>\n",
       " <option value=\"50\">LaSalle County</option>\n",
       " <option value=\"51\">Lawrence County</option>\n",
       " <option value=\"52\">Lee County</option>\n",
       " <option value=\"53\">Livingston County</option>\n",
       " <option value=\"54\">Logan County</option>\n",
       " <option value=\"55\">Macon County</option>\n",
       " <option value=\"56\">Macoupin County</option>\n",
       " <option value=\"57\">Madison County</option>\n",
       " <option value=\"58\">Marion County</option>\n",
       " <option value=\"59\">Marshall County</option>\n",
       " <option value=\"60\">Mason County</option>\n",
       " <option value=\"61\">Massac County</option>\n",
       " <option value=\"62\">McDonough County</option>\n",
       " <option value=\"63\">McHenry County</option>\n",
       " <option value=\"64\">McLean County</option>\n",
       " <option value=\"65\">Menard County</option>\n",
       " <option value=\"66\">Mercer County</option>\n",
       " <option value=\"67\">Monroe County</option>\n",
       " <option value=\"68\">Montgomery County</option>\n",
       " <option value=\"69\">Morgan County</option>\n",
       " <option value=\"70\">Moultrie County</option>\n",
       " <option value=\"71\">Ogle County</option>\n",
       " <option value=\"72\">Peoria County</option>\n",
       " <option value=\"73\">Perry County</option>\n",
       " <option value=\"74\">Piatt County</option>\n",
       " <option value=\"75\">Pike County</option>\n",
       " <option value=\"76\">Pope County</option>\n",
       " <option value=\"77\">Pulaski County</option>\n",
       " <option value=\"78\">Putnam County</option>\n",
       " <option value=\"79\">Randolph County</option>\n",
       " <option value=\"80\">Richland County</option>\n",
       " <option value=\"81\">Rock Island County</option>\n",
       " <option value=\"82\">Saline County</option>\n",
       " <option value=\"83\">Sangamon County</option>\n",
       " <option value=\"84\">Schuyler County</option>\n",
       " <option value=\"85\">Scott County</option>\n",
       " <option value=\"86\">Shelby County</option>\n",
       " <option value=\"87\">Stark County</option>\n",
       " <option value=\"88\">St. Clair County</option>\n",
       " <option value=\"89\">Stephenson County</option>\n",
       " <option value=\"90\">Tazewell County</option>\n",
       " <option value=\"91\">Union County</option>\n",
       " <option value=\"92\">Vermilion County</option>\n",
       " <option value=\"93\">Wabash County</option>\n",
       " <option value=\"94\">Warren County</option>\n",
       " <option value=\"95\">Washington County</option>\n",
       " <option value=\"96\">Wayne County</option>\n",
       " <option value=\"97\">White County</option>\n",
       " <option value=\"98\">Whiteside County</option>\n",
       " <option value=\"99\">Will County</option>\n",
       " <option value=\"100\">Williamson County</option>\n",
       " <option value=\"101\">Winnebago County</option>\n",
       " <option value=\"102\">Woodford County</option>\n",
       " <option value=\"104\">City of Bloomington</option>\n",
       " <option value=\"105\">City of Chicago</option>\n",
       " <option value=\"106\">City of Danville</option>\n",
       " <option value=\"107\">City of East St Louis</option>\n",
       " <option value=\"108\">City of Galesburg</option>\n",
       " <option value=\"110\">City of Rockford</option>\n",
       " </select>\n",
       " </div>\n",
       " <div class=\"row\">\n",
       " <input id=\"ContentPlaceHolder1_btnSubmit\" name=\"ctl00$ContentPlaceHolder1$btnSubmit\" onclick=\"javascript:__doPostBack('ctl00$ContentPlaceHolder1$btnSubmit','')\" type=\"button\" value=\"Submit\"/>\n",
       " </div>\n",
       " </div>\n",
       " </div>\n",
       " </div>]"
      ]
     },
     "execution_count": 8,
     "metadata": {},
     "output_type": "execute_result"
    }
   ],
   "source": [
    "counties"
   ]
  },
  {
   "cell_type": "markdown",
   "metadata": {},
   "source": [
    "It looks like there is some code on this page that calls the drop off locations once the user has selected a county, or all counties, so I am selecting all counties and copying the html container that has the detailed addresses and rebuilding it locally so I can scrape them."
   ]
  },
  {
   "cell_type": "markdown",
   "metadata": {},
   "source": [
    "# Download html code locally to scrape"
   ]
  },
  {
   "cell_type": "code",
   "execution_count": 9,
   "metadata": {
    "ExecuteTime": {
     "end_time": "2020-10-22T22:42:58.764160Z",
     "start_time": "2020-10-22T22:42:58.756660Z"
    }
   },
   "outputs": [],
   "source": [
    "from requests_file import FileAdapter"
   ]
  },
  {
   "cell_type": "code",
   "execution_count": 10,
   "metadata": {
    "ExecuteTime": {
     "end_time": "2020-10-22T22:43:01.512484Z",
     "start_time": "2020-10-22T22:43:01.501681Z"
    }
   },
   "outputs": [],
   "source": [
    "s = requests.Session()\n",
    "s.mount('file://', FileAdapter())\n",
    "\n",
    "res = s.get('file:///Users/seymourliao/Documents/Data Science/hackForLA/ballot_nav/web_scrape_IL/index.html')"
   ]
  },
  {
   "cell_type": "code",
   "execution_count": 11,
   "metadata": {
    "ExecuteTime": {
     "end_time": "2020-10-22T22:43:02.306274Z",
     "start_time": "2020-10-22T22:43:02.299558Z"
    }
   },
   "outputs": [
    {
     "data": {
      "text/plain": [
       "<Response [200]>"
      ]
     },
     "execution_count": 11,
     "metadata": {},
     "output_type": "execute_result"
    }
   ],
   "source": [
    "res"
   ]
  },
  {
   "cell_type": "code",
   "execution_count": 12,
   "metadata": {
    "ExecuteTime": {
     "end_time": "2020-10-22T22:43:03.556157Z",
     "start_time": "2020-10-22T22:43:03.334510Z"
    }
   },
   "outputs": [],
   "source": [
    "soup = BeautifulSoup(res.content)"
   ]
  },
  {
   "cell_type": "markdown",
   "metadata": {},
   "source": [
    "# Scrape address info"
   ]
  },
  {
   "cell_type": "code",
   "execution_count": 13,
   "metadata": {
    "ExecuteTime": {
     "end_time": "2020-10-22T22:43:06.301375Z",
     "start_time": "2020-10-22T22:43:06.204580Z"
    }
   },
   "outputs": [],
   "source": [
    "divs = soup.find_all(class_='infoContainers')"
   ]
  },
  {
   "cell_type": "code",
   "execution_count": 14,
   "metadata": {
    "ExecuteTime": {
     "end_time": "2020-10-22T22:43:06.971280Z",
     "start_time": "2020-10-22T22:43:06.959595Z"
    }
   },
   "outputs": [
    {
     "data": {
      "text/plain": [
       "176"
      ]
     },
     "execution_count": 14,
     "metadata": {},
     "output_type": "execute_result"
    }
   ],
   "source": [
    "len(divs)"
   ]
  },
  {
   "cell_type": "code",
   "execution_count": 15,
   "metadata": {
    "ExecuteTime": {
     "end_time": "2020-10-22T22:43:07.877874Z",
     "start_time": "2020-10-22T22:43:07.869652Z"
    },
    "scrolled": false
   },
   "outputs": [
    {
     "data": {
      "text/plain": [
       "[<div class=\"infoContainers width-66\"><div class=\"infoHeaders text-Center\"><asp:label runat=\"server\">Adams County</asp:label><br/><asp:label runat=\"server\">County Clerk's Office</asp:label><br/><asp:label runat=\"server\">507 Vermont ST<br/>Quincy, IL  62301</asp:label></div></div>,\n",
       " <div class=\"infoContainers width-66\"><div class=\"infoHeaders text-Center\"><asp:label runat=\"server\">Brown County</asp:label><br/><asp:label runat=\"server\">Brown County Clerk’s Office</asp:label><br/><asp:label runat=\"server\">200 Court Street<br/>Room 4<br/>Mt. Sterling, IL  62353</asp:label></div></div>,\n",
       " <div class=\"infoContainers width-66\"><div class=\"infoHeaders text-Center\"><asp:label runat=\"server\">Carroll County</asp:label><br/><asp:label runat=\"server\">Carroll County Courthouse</asp:label><br/><asp:label runat=\"server\">301 N Main Street<br/>Mount Carroll, IL  61053</asp:label></div></div>,\n",
       " <div class=\"infoContainers width-66\"><div class=\"infoHeaders text-Center\"><asp:label runat=\"server\">Cass County</asp:label><br/><asp:label runat=\"server\">Cass County Clerk's Office</asp:label><br/><asp:label runat=\"server\">100 E Springfield St<br/>Virginia, IL  62691</asp:label></div></div>]"
      ]
     },
     "execution_count": 15,
     "metadata": {},
     "output_type": "execute_result"
    }
   ],
   "source": [
    "divs[1:5]"
   ]
  },
  {
   "cell_type": "code",
   "execution_count": 16,
   "metadata": {
    "ExecuteTime": {
     "end_time": "2020-10-22T22:43:10.419260Z",
     "start_time": "2020-10-22T22:43:10.412072Z"
    }
   },
   "outputs": [
    {
     "data": {
      "text/plain": [
       "bs4.element.ResultSet"
      ]
     },
     "execution_count": 16,
     "metadata": {},
     "output_type": "execute_result"
    }
   ],
   "source": [
    "type(divs)"
   ]
  },
  {
   "cell_type": "code",
   "execution_count": 17,
   "metadata": {
    "ExecuteTime": {
     "end_time": "2020-10-22T22:43:10.962646Z",
     "start_time": "2020-10-22T22:43:10.952531Z"
    }
   },
   "outputs": [
    {
     "data": {
      "text/plain": [
       "<div class=\"infoContainers width-66\"><div class=\"infoHeaders text-Center\"><asp:label runat=\"server\">Adams County</asp:label><br/><asp:label runat=\"server\">County Clerk's Office</asp:label><br/><asp:label runat=\"server\">507 Vermont ST<br/>Quincy, IL  62301</asp:label></div></div>"
      ]
     },
     "execution_count": 17,
     "metadata": {},
     "output_type": "execute_result"
    }
   ],
   "source": [
    "divs[1]"
   ]
  },
  {
   "cell_type": "code",
   "execution_count": 18,
   "metadata": {
    "ExecuteTime": {
     "end_time": "2020-10-22T22:43:11.689458Z",
     "start_time": "2020-10-22T22:43:11.682203Z"
    }
   },
   "outputs": [
    {
     "data": {
      "text/plain": [
       "bs4.element.Tag"
      ]
     },
     "execution_count": 18,
     "metadata": {},
     "output_type": "execute_result"
    }
   ],
   "source": [
    "type(divs[1])"
   ]
  },
  {
   "cell_type": "code",
   "execution_count": 19,
   "metadata": {
    "ExecuteTime": {
     "end_time": "2020-10-22T22:43:13.494851Z",
     "start_time": "2020-10-22T22:43:13.483395Z"
    }
   },
   "outputs": [
    {
     "data": {
      "text/plain": [
       "['Adams County',\n",
       " \"County Clerk's Office\",\n",
       " '507 Vermont ST<br/>Quincy, IL  62301']"
      ]
     },
     "execution_count": 19,
     "metadata": {},
     "output_type": "execute_result"
    }
   ],
   "source": [
    "re.findall('server\">(.*?)</', str(divs[1]))"
   ]
  },
  {
   "cell_type": "markdown",
   "metadata": {},
   "source": [
    "## Case 1: no address_2"
   ]
  },
  {
   "cell_type": "code",
   "execution_count": 20,
   "metadata": {
    "ExecuteTime": {
     "end_time": "2020-10-22T22:43:21.063108Z",
     "start_time": "2020-10-22T22:43:21.054677Z"
    }
   },
   "outputs": [
    {
     "data": {
      "text/plain": [
       "['507 Vermont ST', 'Quincy, IL  62301']"
      ]
     },
     "execution_count": 20,
     "metadata": {},
     "output_type": "execute_result"
    }
   ],
   "source": [
    "re.findall('server\">(.*?)</', str(divs[1]))[-1].split('<br/>')"
   ]
  },
  {
   "cell_type": "code",
   "execution_count": 21,
   "metadata": {
    "ExecuteTime": {
     "end_time": "2020-10-22T22:43:22.041813Z",
     "start_time": "2020-10-22T22:43:22.033687Z"
    }
   },
   "outputs": [
    {
     "data": {
      "text/plain": [
       "'507 Vermont ST'"
      ]
     },
     "execution_count": 21,
     "metadata": {},
     "output_type": "execute_result"
    }
   ],
   "source": [
    "re.findall('server\">(.*?)</', str(divs[1]))[-1].split('<br/>')[0]"
   ]
  },
  {
   "cell_type": "code",
   "execution_count": 22,
   "metadata": {
    "ExecuteTime": {
     "end_time": "2020-10-22T22:43:22.650323Z",
     "start_time": "2020-10-22T22:43:22.641149Z"
    }
   },
   "outputs": [
    {
     "data": {
      "text/plain": [
       "'Quincy'"
      ]
     },
     "execution_count": 22,
     "metadata": {},
     "output_type": "execute_result"
    }
   ],
   "source": [
    "re.findall('server\">(.*?)</', str(divs[1]))[-1].split('<br/>')[-1].split(',')[0]"
   ]
  },
  {
   "cell_type": "code",
   "execution_count": 23,
   "metadata": {
    "ExecuteTime": {
     "end_time": "2020-10-22T22:43:23.173014Z",
     "start_time": "2020-10-22T22:43:23.162379Z"
    }
   },
   "outputs": [
    {
     "data": {
      "text/plain": [
       "'62301'"
      ]
     },
     "execution_count": 23,
     "metadata": {},
     "output_type": "execute_result"
    }
   ],
   "source": [
    "re.findall('server\">(.*?)</', str(divs[1]))[-1].split('<br/>')[-1].split('IL ')[1].strip()"
   ]
  },
  {
   "cell_type": "markdown",
   "metadata": {},
   "source": [
    "## Case 2: address_2 present"
   ]
  },
  {
   "cell_type": "code",
   "execution_count": 24,
   "metadata": {
    "ExecuteTime": {
     "end_time": "2020-10-22T22:43:40.122053Z",
     "start_time": "2020-10-22T22:43:40.113675Z"
    }
   },
   "outputs": [
    {
     "data": {
      "text/plain": [
       "['Brown County',\n",
       " 'Brown County Clerk’s Office',\n",
       " '200 Court Street<br/>Room 4<br/>Mt. Sterling, IL  62353']"
      ]
     },
     "execution_count": 24,
     "metadata": {},
     "output_type": "execute_result"
    }
   ],
   "source": [
    "re.findall('server\">(.*?)</', str(divs[2]))"
   ]
  },
  {
   "cell_type": "code",
   "execution_count": 25,
   "metadata": {
    "ExecuteTime": {
     "end_time": "2020-10-22T22:43:40.830569Z",
     "start_time": "2020-10-22T22:43:40.821844Z"
    }
   },
   "outputs": [
    {
     "data": {
      "text/plain": [
       "['200 Court Street', 'Room 4', 'Mt. Sterling, IL  62353']"
      ]
     },
     "execution_count": 25,
     "metadata": {},
     "output_type": "execute_result"
    }
   ],
   "source": [
    "re.findall('server\">(.*?)</', str(divs[2]))[-1].split('<br/>')"
   ]
  },
  {
   "cell_type": "code",
   "execution_count": 26,
   "metadata": {
    "ExecuteTime": {
     "end_time": "2020-10-22T22:43:41.438036Z",
     "start_time": "2020-10-22T22:43:41.429841Z"
    }
   },
   "outputs": [
    {
     "data": {
      "text/plain": [
       "'200 Court Street'"
      ]
     },
     "execution_count": 26,
     "metadata": {},
     "output_type": "execute_result"
    }
   ],
   "source": [
    "re.findall('server\">(.*?)</', str(divs[2]))[-1].split('<br/>')[0]"
   ]
  },
  {
   "cell_type": "code",
   "execution_count": 27,
   "metadata": {
    "ExecuteTime": {
     "end_time": "2020-10-22T22:43:41.978523Z",
     "start_time": "2020-10-22T22:43:41.968936Z"
    }
   },
   "outputs": [
    {
     "data": {
      "text/plain": [
       "'Mt. Sterling, IL  62353'"
      ]
     },
     "execution_count": 27,
     "metadata": {},
     "output_type": "execute_result"
    }
   ],
   "source": [
    "re.findall('server\">(.*?)</', str(divs[2]))[-1].split('<br/>')[-1]"
   ]
  },
  {
   "cell_type": "code",
   "execution_count": 28,
   "metadata": {
    "ExecuteTime": {
     "end_time": "2020-10-22T22:43:42.553504Z",
     "start_time": "2020-10-22T22:43:42.543536Z"
    }
   },
   "outputs": [
    {
     "data": {
      "text/plain": [
       "'62353'"
      ]
     },
     "execution_count": 28,
     "metadata": {},
     "output_type": "execute_result"
    }
   ],
   "source": [
    "re.findall('server\">(.*?)</', str(divs[2]))[-1].split('<br/>')[-1].split('IL ')[1].strip()"
   ]
  },
  {
   "cell_type": "code",
   "execution_count": 29,
   "metadata": {
    "ExecuteTime": {
     "end_time": "2020-10-22T22:43:44.715819Z",
     "start_time": "2020-10-22T22:43:44.707112Z"
    }
   },
   "outputs": [
    {
     "data": {
      "text/plain": [
       "True"
      ]
     },
     "execution_count": 29,
     "metadata": {},
     "output_type": "execute_result"
    }
   ],
   "source": [
    "bool(re.search('IL', re.findall('server\">(.*?)</', str(divs[2]))[-1].split('<br/>')[2]))"
   ]
  },
  {
   "cell_type": "code",
   "execution_count": 30,
   "metadata": {
    "ExecuteTime": {
     "end_time": "2020-10-22T22:43:47.356111Z",
     "start_time": "2020-10-22T22:43:47.347336Z"
    }
   },
   "outputs": [
    {
     "data": {
      "text/plain": [
       "'Room 4'"
      ]
     },
     "execution_count": 30,
     "metadata": {},
     "output_type": "execute_result"
    }
   ],
   "source": [
    "re.findall('server\">(.*?)</', str(divs[2]))[-1].split('<br/>')[1].strip()"
   ]
  },
  {
   "cell_type": "markdown",
   "metadata": {},
   "source": [
    "## Loop through class=infoContainers"
   ]
  },
  {
   "cell_type": "code",
   "execution_count": 31,
   "metadata": {
    "ExecuteTime": {
     "end_time": "2020-10-22T22:43:54.969285Z",
     "start_time": "2020-10-22T22:43:54.805580Z"
    }
   },
   "outputs": [],
   "source": [
    "all_addresses = []\n",
    "for div in divs[1:]:\n",
    "    county = re.findall('server\">(.*?)</', str(div))[0]\n",
    "    location_type = re.findall('server\">(.*?)</', str(div))[1]\n",
    "    address_1 = re.findall('server\">(.*?)</', str(div))[-1].split('<br/>')[0]\n",
    "    city = re.findall('server\">(.*?)</', str(div))[-1].split('<br/>')[-1].split(',')[0]\n",
    "    zip_code = re.findall('server\">(.*?)</', str(div))[-1].split('<br/>')[-1].split('IL ')[1].strip()\n",
    "    \n",
    "    if re.search('IL', re.findall('server\">(.*?)</', str(div))[-1].split('<br/>')[1]):\n",
    "        address_2 = np.nan\n",
    "    else:\n",
    "        address_2 = re.findall('server\">(.*?)</', str(div))[-1].split('<br/>')[1].strip()\n",
    "    \n",
    "    data = {'county': county, 'location_type': location_type, 'address_1': address_1, \n",
    "            'address_2': address_2, 'city': city, 'zip': zip_code}\n",
    "    all_addresses.append(data)"
   ]
  },
  {
   "cell_type": "code",
   "execution_count": 32,
   "metadata": {
    "ExecuteTime": {
     "end_time": "2020-10-22T22:43:55.973230Z",
     "start_time": "2020-10-22T22:43:55.965092Z"
    },
    "scrolled": true
   },
   "outputs": [
    {
     "data": {
      "text/plain": [
       "[{'county': 'Woodford County',\n",
       "  'location_type': \"County Clerk's Office\",\n",
       "  'address_1': '115 N Main St',\n",
       "  'address_2': 'Rm 104',\n",
       "  'city': 'Eureka',\n",
       "  'zip': '61530'},\n",
       " {'county': 'City of Galesburg',\n",
       "  'location_type': 'City Election Office (City Hall)',\n",
       "  'address_1': '55 w Tompkins St',\n",
       "  'address_2': nan,\n",
       "  'city': 'Galesburg',\n",
       "  'zip': '61401'},\n",
       " {'county': 'City of Rockford',\n",
       "  'location_type': 'Rockford Election Commssion Office',\n",
       "  'address_1': '301 S 6th ST',\n",
       "  'address_2': nan,\n",
       "  'city': 'Rockford',\n",
       "  'zip': '61104'}]"
      ]
     },
     "execution_count": 32,
     "metadata": {},
     "output_type": "execute_result"
    }
   ],
   "source": [
    "all_addresses[-3:]"
   ]
  },
  {
   "cell_type": "code",
   "execution_count": 33,
   "metadata": {
    "ExecuteTime": {
     "end_time": "2020-10-22T22:43:59.437198Z",
     "start_time": "2020-10-22T22:43:59.429985Z"
    }
   },
   "outputs": [
    {
     "data": {
      "text/plain": [
       "175"
      ]
     },
     "execution_count": 33,
     "metadata": {},
     "output_type": "execute_result"
    }
   ],
   "source": [
    "len(all_addresses)"
   ]
  },
  {
   "cell_type": "code",
   "execution_count": 34,
   "metadata": {
    "ExecuteTime": {
     "end_time": "2020-10-22T22:44:00.375732Z",
     "start_time": "2020-10-22T22:44:00.364604Z"
    }
   },
   "outputs": [],
   "source": [
    "all_addresses_df = pd.DataFrame(all_addresses)"
   ]
  },
  {
   "cell_type": "code",
   "execution_count": 35,
   "metadata": {
    "ExecuteTime": {
     "end_time": "2020-10-22T22:44:01.982949Z",
     "start_time": "2020-10-22T22:44:01.962517Z"
    }
   },
   "outputs": [
    {
     "name": "stdout",
     "output_type": "stream",
     "text": [
      "<class 'pandas.core.frame.DataFrame'>\n",
      "RangeIndex: 175 entries, 0 to 174\n",
      "Data columns (total 6 columns):\n",
      " #   Column         Non-Null Count  Dtype \n",
      "---  ------         --------------  ----- \n",
      " 0   county         175 non-null    object\n",
      " 1   location_type  175 non-null    object\n",
      " 2   address_1      175 non-null    object\n",
      " 3   address_2      47 non-null     object\n",
      " 4   city           175 non-null    object\n",
      " 5   zip            175 non-null    object\n",
      "dtypes: object(6)\n",
      "memory usage: 8.3+ KB\n"
     ]
    }
   ],
   "source": [
    "all_addresses_df.info()"
   ]
  },
  {
   "cell_type": "markdown",
   "metadata": {},
   "source": [
    "# Scrape schedules"
   ]
  },
  {
   "cell_type": "code",
   "execution_count": 36,
   "metadata": {
    "ExecuteTime": {
     "end_time": "2020-10-22T22:44:13.304336Z",
     "start_time": "2020-10-22T22:44:13.212544Z"
    }
   },
   "outputs": [],
   "source": [
    "schedules = soup.find_all(class_='gridview-container')"
   ]
  },
  {
   "cell_type": "code",
   "execution_count": 37,
   "metadata": {
    "ExecuteTime": {
     "end_time": "2020-10-22T22:44:13.692313Z",
     "start_time": "2020-10-22T22:44:13.683281Z"
    }
   },
   "outputs": [
    {
     "data": {
      "text/plain": [
       "175"
      ]
     },
     "execution_count": 37,
     "metadata": {},
     "output_type": "execute_result"
    }
   ],
   "source": [
    "len(schedules)"
   ]
  },
  {
   "cell_type": "code",
   "execution_count": 38,
   "metadata": {
    "ExecuteTime": {
     "end_time": "2020-10-22T22:44:17.570915Z",
     "start_time": "2020-10-22T22:44:17.528552Z"
    }
   },
   "outputs": [
    {
     "data": {
      "text/html": [
       "<div>\n",
       "<style scoped>\n",
       "    .dataframe tbody tr th:only-of-type {\n",
       "        vertical-align: middle;\n",
       "    }\n",
       "\n",
       "    .dataframe tbody tr th {\n",
       "        vertical-align: top;\n",
       "    }\n",
       "\n",
       "    .dataframe thead th {\n",
       "        text-align: right;\n",
       "    }\n",
       "</style>\n",
       "<table border=\"1\" class=\"dataframe\">\n",
       "  <thead>\n",
       "    <tr style=\"text-align: right;\">\n",
       "      <th></th>\n",
       "      <th>county</th>\n",
       "      <th>location_type</th>\n",
       "      <th>address_1</th>\n",
       "      <th>address_2</th>\n",
       "      <th>city</th>\n",
       "      <th>zip</th>\n",
       "    </tr>\n",
       "  </thead>\n",
       "  <tbody>\n",
       "    <tr>\n",
       "      <th>15</th>\n",
       "      <td>Cook County</td>\n",
       "      <td>Cook County Clerk's Main Office</td>\n",
       "      <td>69 W Washington St</td>\n",
       "      <td>Pedway</td>\n",
       "      <td>Chicago</td>\n",
       "      <td>60602</td>\n",
       "    </tr>\n",
       "    <tr>\n",
       "      <th>16</th>\n",
       "      <td>Cook County</td>\n",
       "      <td>Palos Heights Recreation Center</td>\n",
       "      <td>6601 W 127th St</td>\n",
       "      <td>NaN</td>\n",
       "      <td>Palos Heights</td>\n",
       "      <td>60463</td>\n",
       "    </tr>\n",
       "    <tr>\n",
       "      <th>17</th>\n",
       "      <td>Cook County</td>\n",
       "      <td>Arlington Heights Village Hall</td>\n",
       "      <td>33 S Arlington Heights Rd</td>\n",
       "      <td>NaN</td>\n",
       "      <td>Arlington Heights</td>\n",
       "      <td>60005</td>\n",
       "    </tr>\n",
       "    <tr>\n",
       "      <th>18</th>\n",
       "      <td>Cook County</td>\n",
       "      <td>Barrington Hills Village Hall</td>\n",
       "      <td>112 Algonquin Rd</td>\n",
       "      <td>NaN</td>\n",
       "      <td>Barrington Hills</td>\n",
       "      <td>60010</td>\n",
       "    </tr>\n",
       "    <tr>\n",
       "      <th>19</th>\n",
       "      <td>Cook County</td>\n",
       "      <td>Bellwood Village Hall</td>\n",
       "      <td>3200 Washington Blvd</td>\n",
       "      <td>NaN</td>\n",
       "      <td>Bellwood</td>\n",
       "      <td>60104</td>\n",
       "    </tr>\n",
       "    <tr>\n",
       "      <th>20</th>\n",
       "      <td>Cook County</td>\n",
       "      <td>Burbank (Prairie Trails Library District)</td>\n",
       "      <td>8449 S Moody Ave</td>\n",
       "      <td>NaN</td>\n",
       "      <td>Burbank</td>\n",
       "      <td>60459</td>\n",
       "    </tr>\n",
       "    <tr>\n",
       "      <th>21</th>\n",
       "      <td>Cook County</td>\n",
       "      <td>Bridgeview Courthouse</td>\n",
       "      <td>10220 S 76th Ave</td>\n",
       "      <td>Room 238</td>\n",
       "      <td>Bridgeview</td>\n",
       "      <td>60455</td>\n",
       "    </tr>\n",
       "    <tr>\n",
       "      <th>22</th>\n",
       "      <td>Cook County</td>\n",
       "      <td>Calumet City Public Library</td>\n",
       "      <td>660 S Manistee Ave</td>\n",
       "      <td>NaN</td>\n",
       "      <td>Calumet City</td>\n",
       "      <td>60827</td>\n",
       "    </tr>\n",
       "    <tr>\n",
       "      <th>23</th>\n",
       "      <td>Cook County</td>\n",
       "      <td>Calumet Township Community Center</td>\n",
       "      <td>12633 S Ashland Ave</td>\n",
       "      <td>NaN</td>\n",
       "      <td>Calumet Park</td>\n",
       "      <td>60827</td>\n",
       "    </tr>\n",
       "    <tr>\n",
       "      <th>24</th>\n",
       "      <td>Cook County</td>\n",
       "      <td>Chicago Heights (Prairie State College)</td>\n",
       "      <td>202 S Halsted St</td>\n",
       "      <td>ROOM 1318</td>\n",
       "      <td>Chicago Heights</td>\n",
       "      <td>60411</td>\n",
       "    </tr>\n",
       "    <tr>\n",
       "      <th>25</th>\n",
       "      <td>Cook County</td>\n",
       "      <td>Cicero Community Center</td>\n",
       "      <td>2250 S 49th Ave</td>\n",
       "      <td>NaN</td>\n",
       "      <td>Cicero</td>\n",
       "      <td>60804</td>\n",
       "    </tr>\n",
       "    <tr>\n",
       "      <th>26</th>\n",
       "      <td>Cook County</td>\n",
       "      <td>Cicero PSO Building</td>\n",
       "      <td>5410 W 34th St</td>\n",
       "      <td>NaN</td>\n",
       "      <td>Cicero</td>\n",
       "      <td>60804</td>\n",
       "    </tr>\n",
       "    <tr>\n",
       "      <th>27</th>\n",
       "      <td>Cook County</td>\n",
       "      <td>Crestwood (Andrew Biela Senior Citizen Center)</td>\n",
       "      <td>4545 Midlothian Turnpike</td>\n",
       "      <td>NaN</td>\n",
       "      <td>Crestwood</td>\n",
       "      <td>60445</td>\n",
       "    </tr>\n",
       "    <tr>\n",
       "      <th>28</th>\n",
       "      <td>Cook County</td>\n",
       "      <td>Des Plaines Public Library</td>\n",
       "      <td>1501 Ellinwood St</td>\n",
       "      <td>NaN</td>\n",
       "      <td>Des Plaines</td>\n",
       "      <td>60016</td>\n",
       "    </tr>\n",
       "    <tr>\n",
       "      <th>29</th>\n",
       "      <td>Cook County</td>\n",
       "      <td>Elk Grove Village Hall</td>\n",
       "      <td>901 Wellington Ave</td>\n",
       "      <td>NaN</td>\n",
       "      <td>Elk Grove Village</td>\n",
       "      <td>60007</td>\n",
       "    </tr>\n",
       "    <tr>\n",
       "      <th>30</th>\n",
       "      <td>Cook County</td>\n",
       "      <td>Elmwood Park Village Hall</td>\n",
       "      <td>11 W Conti Parkway</td>\n",
       "      <td>NaN</td>\n",
       "      <td>Elmwood Park</td>\n",
       "      <td>60707</td>\n",
       "    </tr>\n",
       "    <tr>\n",
       "      <th>31</th>\n",
       "      <td>Cook County</td>\n",
       "      <td>Evanston Civic Center</td>\n",
       "      <td>2100 Ridge Ave</td>\n",
       "      <td>NaN</td>\n",
       "      <td>Evanston</td>\n",
       "      <td>60201</td>\n",
       "    </tr>\n",
       "    <tr>\n",
       "      <th>32</th>\n",
       "      <td>Cook County</td>\n",
       "      <td>Franklin Park Village Hall</td>\n",
       "      <td>9500 Belmont Ave</td>\n",
       "      <td>NaN</td>\n",
       "      <td>Franklin Park</td>\n",
       "      <td>60131</td>\n",
       "    </tr>\n",
       "    <tr>\n",
       "      <th>33</th>\n",
       "      <td>Cook County</td>\n",
       "      <td>Glenview Village Hall</td>\n",
       "      <td>2500 E Lake Ave</td>\n",
       "      <td>NaN</td>\n",
       "      <td>Glenview</td>\n",
       "      <td>60025</td>\n",
       "    </tr>\n",
       "    <tr>\n",
       "      <th>34</th>\n",
       "      <td>Cook County</td>\n",
       "      <td>Harvey City Hall</td>\n",
       "      <td>15320 Broadway Ave</td>\n",
       "      <td>NaN</td>\n",
       "      <td>Harvey</td>\n",
       "      <td>60426</td>\n",
       "    </tr>\n",
       "    <tr>\n",
       "      <th>35</th>\n",
       "      <td>Cook County</td>\n",
       "      <td>Hodgkins Village Hall</td>\n",
       "      <td>8990 Lyons St</td>\n",
       "      <td>NaN</td>\n",
       "      <td>Hodgkins</td>\n",
       "      <td>60525</td>\n",
       "    </tr>\n",
       "    <tr>\n",
       "      <th>36</th>\n",
       "      <td>Cook County</td>\n",
       "      <td>Hoffman Estates Village Hall</td>\n",
       "      <td>1900 Hassell Rd</td>\n",
       "      <td>NaN</td>\n",
       "      <td>Hoffman Estates</td>\n",
       "      <td>60169</td>\n",
       "    </tr>\n",
       "    <tr>\n",
       "      <th>37</th>\n",
       "      <td>Cook County</td>\n",
       "      <td>Lansing Public Library</td>\n",
       "      <td>2750 Indiana Ave</td>\n",
       "      <td>NaN</td>\n",
       "      <td>Lansing</td>\n",
       "      <td>60438</td>\n",
       "    </tr>\n",
       "    <tr>\n",
       "      <th>38</th>\n",
       "      <td>Cook County</td>\n",
       "      <td>Lemont Township Hall</td>\n",
       "      <td>1115 Warner Ave</td>\n",
       "      <td>NaN</td>\n",
       "      <td>Lemont</td>\n",
       "      <td>60439</td>\n",
       "    </tr>\n",
       "    <tr>\n",
       "      <th>39</th>\n",
       "      <td>Cook County</td>\n",
       "      <td>Lyons Village Hall</td>\n",
       "      <td>4200 S Lawndale Ave</td>\n",
       "      <td>NaN</td>\n",
       "      <td>Lyons</td>\n",
       "      <td>60534</td>\n",
       "    </tr>\n",
       "    <tr>\n",
       "      <th>40</th>\n",
       "      <td>Cook County</td>\n",
       "      <td>Markham Courthouse</td>\n",
       "      <td>16501 S Kedzie Ave</td>\n",
       "      <td>Room 238</td>\n",
       "      <td>Markham</td>\n",
       "      <td>60428</td>\n",
       "    </tr>\n",
       "    <tr>\n",
       "      <th>41</th>\n",
       "      <td>Cook County</td>\n",
       "      <td>Matteson Community Center</td>\n",
       "      <td>20642 Matteson Ave</td>\n",
       "      <td>NaN</td>\n",
       "      <td>Matteson</td>\n",
       "      <td>60443</td>\n",
       "    </tr>\n",
       "    <tr>\n",
       "      <th>42</th>\n",
       "      <td>Cook County</td>\n",
       "      <td>Maywood Courthouse - Whitcomb Building</td>\n",
       "      <td>1311 Maybrook Square</td>\n",
       "      <td>Room 104</td>\n",
       "      <td>Maywood</td>\n",
       "      <td>60153</td>\n",
       "    </tr>\n",
       "    <tr>\n",
       "      <th>43</th>\n",
       "      <td>Cook County</td>\n",
       "      <td>Melrose Park Village Hall</td>\n",
       "      <td>1000 25th Ave</td>\n",
       "      <td>NaN</td>\n",
       "      <td>Melrose Park</td>\n",
       "      <td>60160</td>\n",
       "    </tr>\n",
       "    <tr>\n",
       "      <th>44</th>\n",
       "      <td>Cook County</td>\n",
       "      <td>Mt. Prospect Village Hall</td>\n",
       "      <td>50 S Emerson St</td>\n",
       "      <td>Community Room</td>\n",
       "      <td>Mount Prospect</td>\n",
       "      <td>60056</td>\n",
       "    </tr>\n",
       "    <tr>\n",
       "      <th>45</th>\n",
       "      <td>Cook County</td>\n",
       "      <td>Niles Village Hall</td>\n",
       "      <td>1000 Civic Center Dr</td>\n",
       "      <td>NaN</td>\n",
       "      <td>Niles</td>\n",
       "      <td>60714</td>\n",
       "    </tr>\n",
       "    <tr>\n",
       "      <th>46</th>\n",
       "      <td>Cook County</td>\n",
       "      <td>Norridge Village Hall</td>\n",
       "      <td>4000 N Olcott Ave</td>\n",
       "      <td>NaN</td>\n",
       "      <td>Norridge</td>\n",
       "      <td>60706</td>\n",
       "    </tr>\n",
       "    <tr>\n",
       "      <th>47</th>\n",
       "      <td>Cook County</td>\n",
       "      <td>Northbrook Village Hall</td>\n",
       "      <td>1225 Cedar Lane</td>\n",
       "      <td>NaN</td>\n",
       "      <td>Northbrook</td>\n",
       "      <td>60062</td>\n",
       "    </tr>\n",
       "    <tr>\n",
       "      <th>48</th>\n",
       "      <td>Cook County</td>\n",
       "      <td>Oak Forest City Hall</td>\n",
       "      <td>15440 S Central Ave</td>\n",
       "      <td>NaN</td>\n",
       "      <td>Oak Forest</td>\n",
       "      <td>60452</td>\n",
       "    </tr>\n",
       "    <tr>\n",
       "      <th>49</th>\n",
       "      <td>Cook County</td>\n",
       "      <td>Oak Lawn Village Hall</td>\n",
       "      <td>9446 S Raymond Ave</td>\n",
       "      <td>NaN</td>\n",
       "      <td>Oak Lawn</td>\n",
       "      <td>60453</td>\n",
       "    </tr>\n",
       "    <tr>\n",
       "      <th>50</th>\n",
       "      <td>Cook County</td>\n",
       "      <td>Oak Park Village Hall</td>\n",
       "      <td>123 Madison Street</td>\n",
       "      <td>NaN</td>\n",
       "      <td>Oak Park</td>\n",
       "      <td>60302</td>\n",
       "    </tr>\n",
       "    <tr>\n",
       "      <th>51</th>\n",
       "      <td>Cook County</td>\n",
       "      <td>Orland Township Hall</td>\n",
       "      <td>14807 Ravinia Ave</td>\n",
       "      <td>NaN</td>\n",
       "      <td>Orland Park</td>\n",
       "      <td>60462</td>\n",
       "    </tr>\n",
       "    <tr>\n",
       "      <th>52</th>\n",
       "      <td>Cook County</td>\n",
       "      <td>Palatine Village Hall</td>\n",
       "      <td>150 W Wilson Street</td>\n",
       "      <td>Temporary Village Hall</td>\n",
       "      <td>Palatine</td>\n",
       "      <td>60067</td>\n",
       "    </tr>\n",
       "    <tr>\n",
       "      <th>53</th>\n",
       "      <td>Cook County</td>\n",
       "      <td>Park Forest Village Hall</td>\n",
       "      <td>350 Victory Dr</td>\n",
       "      <td>NaN</td>\n",
       "      <td>Park Forest</td>\n",
       "      <td>60466</td>\n",
       "    </tr>\n",
       "    <tr>\n",
       "      <th>54</th>\n",
       "      <td>Cook County</td>\n",
       "      <td>Rolling Meadows Courthouse</td>\n",
       "      <td>2121 Euclid Ave</td>\n",
       "      <td>Room 238</td>\n",
       "      <td>Rolling Meadows</td>\n",
       "      <td>60008</td>\n",
       "    </tr>\n",
       "    <tr>\n",
       "      <th>55</th>\n",
       "      <td>Cook County</td>\n",
       "      <td>Park Ridge (Centennial Activity Center)</td>\n",
       "      <td>100 S Western Ave</td>\n",
       "      <td>NaN</td>\n",
       "      <td>Park Ridge</td>\n",
       "      <td>60068</td>\n",
       "    </tr>\n",
       "    <tr>\n",
       "      <th>56</th>\n",
       "      <td>Cook County</td>\n",
       "      <td>Schaumburg (Trickster Art Gallery)</td>\n",
       "      <td>190 S Roselle Rd</td>\n",
       "      <td>NaN</td>\n",
       "      <td>Schaumburg</td>\n",
       "      <td>60193</td>\n",
       "    </tr>\n",
       "    <tr>\n",
       "      <th>57</th>\n",
       "      <td>Cook County</td>\n",
       "      <td>Streamwood Village Hall</td>\n",
       "      <td>301 E Irving Park Rd</td>\n",
       "      <td>NaN</td>\n",
       "      <td>Streamwood</td>\n",
       "      <td>60107</td>\n",
       "    </tr>\n",
       "    <tr>\n",
       "      <th>58</th>\n",
       "      <td>Cook County</td>\n",
       "      <td>Skokie (Oakton Community College-Skokie Campus)</td>\n",
       "      <td>7701 Lincoln St</td>\n",
       "      <td>NaN</td>\n",
       "      <td>Skokie</td>\n",
       "      <td>60077</td>\n",
       "    </tr>\n",
       "    <tr>\n",
       "      <th>59</th>\n",
       "      <td>Cook County</td>\n",
       "      <td>Skokie Courthouse</td>\n",
       "      <td>5600 W Old Orchard Rd</td>\n",
       "      <td>Room 149</td>\n",
       "      <td>Skokie</td>\n",
       "      <td>60077</td>\n",
       "    </tr>\n",
       "    <tr>\n",
       "      <th>60</th>\n",
       "      <td>Cook County</td>\n",
       "      <td>South Chicago Heights Senior Center</td>\n",
       "      <td>3140 Enterprise Park Ave</td>\n",
       "      <td>NaN</td>\n",
       "      <td>South Chicago Heights</td>\n",
       "      <td>60411</td>\n",
       "    </tr>\n",
       "    <tr>\n",
       "      <th>61</th>\n",
       "      <td>Cook County</td>\n",
       "      <td>Tinley Park Village Hall</td>\n",
       "      <td>16250 S Oak Park Ave</td>\n",
       "      <td>NaN</td>\n",
       "      <td>Tinley Park</td>\n",
       "      <td>60477</td>\n",
       "    </tr>\n",
       "    <tr>\n",
       "      <th>62</th>\n",
       "      <td>Cook County</td>\n",
       "      <td>Thornton Township Hall</td>\n",
       "      <td>333 E 162nd St</td>\n",
       "      <td>NaN</td>\n",
       "      <td>South Holland</td>\n",
       "      <td>60473</td>\n",
       "    </tr>\n",
       "    <tr>\n",
       "      <th>63</th>\n",
       "      <td>Cook County</td>\n",
       "      <td>Wilmette (Centennial Ice Rinks)</td>\n",
       "      <td>2300 Old Glenview Rd</td>\n",
       "      <td>NaN</td>\n",
       "      <td>Wilmette</td>\n",
       "      <td>60091</td>\n",
       "    </tr>\n",
       "    <tr>\n",
       "      <th>64</th>\n",
       "      <td>Cook County</td>\n",
       "      <td>Union Station</td>\n",
       "      <td>225 S Canal St</td>\n",
       "      <td>NaN</td>\n",
       "      <td>Chicago</td>\n",
       "      <td>60606</td>\n",
       "    </tr>\n",
       "    <tr>\n",
       "      <th>65</th>\n",
       "      <td>Cook County</td>\n",
       "      <td>Wheeling (Indian Trails Public Library)</td>\n",
       "      <td>355 Schoenbeck Rd</td>\n",
       "      <td>NaN</td>\n",
       "      <td>Wheeling</td>\n",
       "      <td>60090</td>\n",
       "    </tr>\n",
       "  </tbody>\n",
       "</table>\n",
       "</div>"
      ],
      "text/plain": [
       "         county                                    location_type  \\\n",
       "15  Cook County                  Cook County Clerk's Main Office   \n",
       "16  Cook County                  Palos Heights Recreation Center   \n",
       "17  Cook County                   Arlington Heights Village Hall   \n",
       "18  Cook County                    Barrington Hills Village Hall   \n",
       "19  Cook County                            Bellwood Village Hall   \n",
       "20  Cook County       Burbank (Prairie Trails Library District)    \n",
       "21  Cook County                            Bridgeview Courthouse   \n",
       "22  Cook County                      Calumet City Public Library   \n",
       "23  Cook County                Calumet Township Community Center   \n",
       "24  Cook County          Chicago Heights (Prairie State College)   \n",
       "25  Cook County                         Cicero Community Center    \n",
       "26  Cook County                             Cicero PSO Building    \n",
       "27  Cook County  Crestwood (Andrew Biela Senior Citizen Center)    \n",
       "28  Cook County                      Des Plaines Public Library    \n",
       "29  Cook County                          Elk Grove Village Hall    \n",
       "30  Cook County                       Elmwood Park Village Hall    \n",
       "31  Cook County                           Evanston Civic Center    \n",
       "32  Cook County                      Franklin Park Village Hall    \n",
       "33  Cook County                           Glenview Village Hall    \n",
       "34  Cook County                                 Harvey City Hall   \n",
       "35  Cook County                           Hodgkins Village Hall    \n",
       "36  Cook County                    Hoffman Estates Village Hall    \n",
       "37  Cook County                          Lansing Public Library    \n",
       "38  Cook County                             Lemont Township Hall   \n",
       "39  Cook County                               Lyons Village Hall   \n",
       "40  Cook County                               Markham Courthouse   \n",
       "41  Cook County                        Matteson Community Center   \n",
       "42  Cook County           Maywood Courthouse - Whitcomb Building   \n",
       "43  Cook County                       Melrose Park Village Hall    \n",
       "44  Cook County                        Mt. Prospect Village Hall   \n",
       "45  Cook County                              Niles Village Hall    \n",
       "46  Cook County                           Norridge Village Hall    \n",
       "47  Cook County                         Northbrook Village Hall    \n",
       "48  Cook County                            Oak Forest City Hall    \n",
       "49  Cook County                           Oak Lawn Village Hall    \n",
       "50  Cook County                           Oak Park Village Hall    \n",
       "51  Cook County                            Orland Township Hall    \n",
       "52  Cook County                            Palatine Village Hall   \n",
       "53  Cook County                         Park Forest Village Hall   \n",
       "54  Cook County                       Rolling Meadows Courthouse   \n",
       "55  Cook County          Park Ridge (Centennial Activity Center)   \n",
       "56  Cook County      Schaumburg (Trickster Art Gallery)            \n",
       "57  Cook County                         Streamwood Village Hall    \n",
       "58  Cook County  Skokie (Oakton Community College-Skokie Campus)   \n",
       "59  Cook County                                Skokie Courthouse   \n",
       "60  Cook County              South Chicago Heights Senior Center   \n",
       "61  Cook County                        Tinley Park Village Hall    \n",
       "62  Cook County                          Thornton Township Hall    \n",
       "63  Cook County                  Wilmette (Centennial Ice Rinks)   \n",
       "64  Cook County                                    Union Station   \n",
       "65  Cook County          Wheeling (Indian Trails Public Library)   \n",
       "\n",
       "                    address_1               address_2                   city  \\\n",
       "15         69 W Washington St                  Pedway                Chicago   \n",
       "16            6601 W 127th St                     NaN          Palos Heights   \n",
       "17  33 S Arlington Heights Rd                     NaN      Arlington Heights   \n",
       "18           112 Algonquin Rd                     NaN       Barrington Hills   \n",
       "19       3200 Washington Blvd                     NaN               Bellwood   \n",
       "20           8449 S Moody Ave                     NaN                Burbank   \n",
       "21           10220 S 76th Ave                Room 238             Bridgeview   \n",
       "22         660 S Manistee Ave                     NaN           Calumet City   \n",
       "23        12633 S Ashland Ave                     NaN           Calumet Park   \n",
       "24           202 S Halsted St               ROOM 1318        Chicago Heights   \n",
       "25            2250 S 49th Ave                     NaN                 Cicero   \n",
       "26             5410 W 34th St                     NaN                 Cicero   \n",
       "27   4545 Midlothian Turnpike                     NaN              Crestwood   \n",
       "28          1501 Ellinwood St                     NaN            Des Plaines   \n",
       "29         901 Wellington Ave                     NaN      Elk Grove Village   \n",
       "30         11 W Conti Parkway                     NaN           Elmwood Park   \n",
       "31             2100 Ridge Ave                     NaN               Evanston   \n",
       "32           9500 Belmont Ave                     NaN          Franklin Park   \n",
       "33            2500 E Lake Ave                     NaN               Glenview   \n",
       "34         15320 Broadway Ave                     NaN                 Harvey   \n",
       "35              8990 Lyons St                     NaN               Hodgkins   \n",
       "36            1900 Hassell Rd                     NaN        Hoffman Estates   \n",
       "37           2750 Indiana Ave                     NaN                Lansing   \n",
       "38            1115 Warner Ave                     NaN                 Lemont   \n",
       "39        4200 S Lawndale Ave                     NaN                  Lyons   \n",
       "40         16501 S Kedzie Ave                Room 238                Markham   \n",
       "41         20642 Matteson Ave                     NaN               Matteson   \n",
       "42       1311 Maybrook Square                Room 104                Maywood   \n",
       "43              1000 25th Ave                     NaN           Melrose Park   \n",
       "44            50 S Emerson St          Community Room         Mount Prospect   \n",
       "45       1000 Civic Center Dr                     NaN                  Niles   \n",
       "46          4000 N Olcott Ave                     NaN               Norridge   \n",
       "47            1225 Cedar Lane                     NaN             Northbrook   \n",
       "48        15440 S Central Ave                     NaN             Oak Forest   \n",
       "49         9446 S Raymond Ave                     NaN               Oak Lawn   \n",
       "50         123 Madison Street                     NaN               Oak Park   \n",
       "51          14807 Ravinia Ave                     NaN            Orland Park   \n",
       "52        150 W Wilson Street  Temporary Village Hall               Palatine   \n",
       "53             350 Victory Dr                     NaN            Park Forest   \n",
       "54            2121 Euclid Ave                Room 238        Rolling Meadows   \n",
       "55          100 S Western Ave                     NaN            Park Ridge    \n",
       "56           190 S Roselle Rd                     NaN             Schaumburg   \n",
       "57       301 E Irving Park Rd                     NaN             Streamwood   \n",
       "58            7701 Lincoln St                     NaN                 Skokie   \n",
       "59      5600 W Old Orchard Rd                Room 149                 Skokie   \n",
       "60   3140 Enterprise Park Ave                     NaN  South Chicago Heights   \n",
       "61       16250 S Oak Park Ave                     NaN            Tinley Park   \n",
       "62             333 E 162nd St                     NaN          South Holland   \n",
       "63       2300 Old Glenview Rd                     NaN              Wilmette    \n",
       "64             225 S Canal St                     NaN                Chicago   \n",
       "65          355 Schoenbeck Rd                     NaN               Wheeling   \n",
       "\n",
       "      zip  \n",
       "15  60602  \n",
       "16  60463  \n",
       "17  60005  \n",
       "18  60010  \n",
       "19  60104  \n",
       "20  60459  \n",
       "21  60455  \n",
       "22  60827  \n",
       "23  60827  \n",
       "24  60411  \n",
       "25  60804  \n",
       "26  60804  \n",
       "27  60445  \n",
       "28  60016  \n",
       "29  60007  \n",
       "30  60707  \n",
       "31  60201  \n",
       "32  60131  \n",
       "33  60025  \n",
       "34  60426  \n",
       "35  60525  \n",
       "36  60169  \n",
       "37  60438  \n",
       "38  60439  \n",
       "39  60534  \n",
       "40  60428  \n",
       "41  60443  \n",
       "42  60153  \n",
       "43  60160  \n",
       "44  60056  \n",
       "45  60714  \n",
       "46  60706  \n",
       "47  60062  \n",
       "48  60452  \n",
       "49  60453  \n",
       "50  60302  \n",
       "51  60462  \n",
       "52  60067  \n",
       "53  60466  \n",
       "54  60008  \n",
       "55  60068  \n",
       "56  60193  \n",
       "57  60107  \n",
       "58  60077  \n",
       "59  60077  \n",
       "60  60411  \n",
       "61  60477  \n",
       "62  60473  \n",
       "63  60091  \n",
       "64  60606  \n",
       "65  60090  "
      ]
     },
     "execution_count": 38,
     "metadata": {},
     "output_type": "execute_result"
    }
   ],
   "source": [
    "all_addresses_df[all_addresses_df['county']=='Cook County']"
   ]
  },
  {
   "cell_type": "code",
   "execution_count": 39,
   "metadata": {
    "ExecuteTime": {
     "end_time": "2020-10-22T22:44:22.188934Z",
     "start_time": "2020-10-22T22:44:22.176931Z"
    }
   },
   "outputs": [
    {
     "data": {
      "text/plain": [
       "<div class=\"gridview-container\"><div>\n",
       "<table border=\"1\" cellpadding=\"0\" cellspacing=\"0\" class=\"SearchListTable\" id=\"ContentPlaceHolder1_gvJurisdiction_0\" rules=\"all\" style=\"background-color:White;width:66%;border-collapse:collapse;\">\n",
       "<tbody><tr class=\"SearchListTableHeaderRow\">\n",
       "<th class=\"GridViewSortHeaderNone\" scope=\"col\">Location Type</th><th class=\"GridViewSortHeaderNone\" scope=\"col\">Dates Of Operation</th><th class=\"GridViewSortHeaderNone\" scope=\"col\">Hours Of Operation</th><th class=\"GridViewSortHeaderNone\" scope=\"col\">Notes</th>\n",
       "</tr><tr>\n",
       "<td align=\"left\" style=\"width:25%;\" valign=\"middle\">VBM Ballot Drop Box</td><td align=\"left\" style=\"width:25%;\" valign=\"middle\">September 24, 2020 and concludes November 3, 2020</td><td align=\"left\" style=\"width:25%;\" valign=\"middle\">24 hours/7 Days a week</td><td align=\"left\" style=\"width:25%;\" valign=\"middle\">On November 3rd, drop box closed at 7:00 PM</td>\n",
       "</tr>\n",
       "</tbody></table>\n",
       "</div></div>"
      ]
     },
     "execution_count": 39,
     "metadata": {},
     "output_type": "execute_result"
    }
   ],
   "source": [
    "schedules[0]"
   ]
  },
  {
   "cell_type": "code",
   "execution_count": 40,
   "metadata": {
    "ExecuteTime": {
     "end_time": "2020-10-22T22:44:23.671854Z",
     "start_time": "2020-10-22T22:44:23.662989Z"
    }
   },
   "outputs": [
    {
     "data": {
      "text/plain": [
       "[<td align=\"left\" style=\"width:25%;\" valign=\"middle\">VBM Ballot Drop Box</td>,\n",
       " <td align=\"left\" style=\"width:25%;\" valign=\"middle\">November 3, 2020</td>,\n",
       " <td align=\"left\" style=\"width:25%;\" valign=\"middle\">Tuesday 6:00 AM to 7:00 PM</td>,\n",
       " <td align=\"left\" style=\"width:25%;\" valign=\"middle\">Open to All Voters in Suburban Cook County</td>,\n",
       " <td align=\"left\" style=\"width:25%;\" valign=\"middle\">VBM Ballot Drop Box</td>,\n",
       " <td align=\"left\" style=\"width:25%;\" valign=\"middle\">Oct 7 through November 2, 2020</td>,\n",
       " <td align=\"left\" style=\"width:25%;\" valign=\"middle\">Monday-Friday 8:30am-7:00pm Saturdays and Sundays 9:00am-5:00pm</td>,\n",
       " <td align=\"left\" style=\"width:25%;\" valign=\"middle\"> </td>,\n",
       " <td align=\"left\" style=\"width:25%;\" valign=\"middle\">VBM Ballot Drop Box</td>,\n",
       " <td align=\"left\" style=\"width:25%;\" valign=\"middle\">October 7th through Nov 2, 2020</td>,\n",
       " <td align=\"left\" style=\"width:25%;\" valign=\"middle\">Monday-Friday 8:30am-7:00pm Saturdays and Sundays 9:00am-5:00pm</td>,\n",
       " <td align=\"left\" style=\"width:25%;\" valign=\"middle\">Pedway Room</td>]"
      ]
     },
     "execution_count": 40,
     "metadata": {},
     "output_type": "execute_result"
    }
   ],
   "source": [
    "schedules[15].find_all('td')"
   ]
  },
  {
   "cell_type": "code",
   "execution_count": 41,
   "metadata": {
    "ExecuteTime": {
     "end_time": "2020-10-22T22:44:31.008101Z",
     "start_time": "2020-10-22T22:44:30.932198Z"
    }
   },
   "outputs": [],
   "source": [
    "schedule_list = [re.findall('>(.*?)</td>', str(x.find_all('td'))) for x in schedules]"
   ]
  },
  {
   "cell_type": "code",
   "execution_count": 42,
   "metadata": {
    "ExecuteTime": {
     "end_time": "2020-10-22T22:44:31.580663Z",
     "start_time": "2020-10-22T22:44:31.573127Z"
    }
   },
   "outputs": [
    {
     "data": {
      "text/plain": [
       "175"
      ]
     },
     "execution_count": 42,
     "metadata": {},
     "output_type": "execute_result"
    }
   ],
   "source": [
    "len(schedule_list)"
   ]
  },
  {
   "cell_type": "code",
   "execution_count": 43,
   "metadata": {
    "ExecuteTime": {
     "end_time": "2020-10-22T22:44:34.156205Z",
     "start_time": "2020-10-22T22:44:34.148599Z"
    }
   },
   "outputs": [
    {
     "data": {
      "text/plain": [
       "['VBM Ballot Drop Box',\n",
       " 'November 3, 2020',\n",
       " 'Tuesday 6:00 AM to 7:00 PM',\n",
       " 'Open to All Voters in Suburban Cook County',\n",
       " 'VBM Ballot Drop Box',\n",
       " 'Oct 7 through November 2, 2020',\n",
       " 'Monday-Friday 8:30am-7:00pm Saturdays and Sundays 9:00am-5:00pm',\n",
       " '\\xa0',\n",
       " 'VBM Ballot Drop Box',\n",
       " 'October 7th through Nov 2, 2020',\n",
       " 'Monday-Friday 8:30am-7:00pm Saturdays and Sundays 9:00am-5:00pm',\n",
       " 'Pedway Room']"
      ]
     },
     "execution_count": 43,
     "metadata": {},
     "output_type": "execute_result"
    }
   ],
   "source": [
    "schedule_list[15]"
   ]
  },
  {
   "cell_type": "code",
   "execution_count": 44,
   "metadata": {
    "ExecuteTime": {
     "end_time": "2020-10-22T22:44:35.585864Z",
     "start_time": "2020-10-22T22:44:35.577003Z"
    }
   },
   "outputs": [
    {
     "data": {
      "text/plain": [
       "76"
      ]
     },
     "execution_count": 44,
     "metadata": {},
     "output_type": "execute_result"
    }
   ],
   "source": [
    "len(schedule_list[-4])"
   ]
  },
  {
   "cell_type": "code",
   "execution_count": 45,
   "metadata": {
    "ExecuteTime": {
     "end_time": "2020-10-22T22:44:38.917673Z",
     "start_time": "2020-10-22T22:44:38.909145Z"
    }
   },
   "outputs": [
    {
     "data": {
      "text/plain": [
       "range(0, 19)"
      ]
     },
     "execution_count": 45,
     "metadata": {},
     "output_type": "execute_result"
    }
   ],
   "source": [
    "range(int(len(schedules[-4].find_all('td'))/4))"
   ]
  },
  {
   "cell_type": "code",
   "execution_count": 46,
   "metadata": {
    "ExecuteTime": {
     "end_time": "2020-10-22T22:44:39.858849Z",
     "start_time": "2020-10-22T22:44:39.851675Z"
    }
   },
   "outputs": [
    {
     "data": {
      "text/plain": [
       "'Adams County'"
      ]
     },
     "execution_count": 46,
     "metadata": {},
     "output_type": "execute_result"
    }
   ],
   "source": [
    "all_addresses[0]['county']"
   ]
  },
  {
   "cell_type": "code",
   "execution_count": 47,
   "metadata": {
    "ExecuteTime": {
     "end_time": "2020-10-22T22:44:42.382255Z",
     "start_time": "2020-10-22T22:44:42.372266Z"
    }
   },
   "outputs": [],
   "source": [
    "all_schedueles = []\n",
    "for count,records in enumerate(schedule_list):\n",
    "    for record in range(int(len(records)/4)):\n",
    "        county = all_addresses[count]['county']\n",
    "        address_1 = all_addresses[count]['address_1']\n",
    "        hours = records[1+record*4] + ': ' + records[2+record*4]\n",
    "        notes = records[3+record*4]\n",
    "        data = {'county':county, 'address_1':address_1, 'hours':hours, 'notes':notes}\n",
    "        all_schedueles.append(data)"
   ]
  },
  {
   "cell_type": "code",
   "execution_count": 48,
   "metadata": {
    "ExecuteTime": {
     "end_time": "2020-10-22T22:44:42.999569Z",
     "start_time": "2020-10-22T22:44:42.991084Z"
    }
   },
   "outputs": [
    {
     "data": {
      "text/plain": [
       "333"
      ]
     },
     "execution_count": 48,
     "metadata": {},
     "output_type": "execute_result"
    }
   ],
   "source": [
    "len(all_schedueles)"
   ]
  },
  {
   "cell_type": "code",
   "execution_count": 49,
   "metadata": {
    "ExecuteTime": {
     "end_time": "2020-10-22T22:44:43.808393Z",
     "start_time": "2020-10-22T22:44:43.801100Z"
    }
   },
   "outputs": [
    {
     "data": {
      "text/plain": [
       "['VBM Ballot Drop Box',\n",
       " 'November 3, 2020',\n",
       " 'Tuesday 6:00 AM to 7:00 PM',\n",
       " 'Open to All Voters in Suburban Cook County',\n",
       " 'VBM Ballot Drop Box',\n",
       " 'Oct 7 through November 2, 2020',\n",
       " 'Monday-Friday 8:30am-7:00pm Saturdays and Sundays 9:00am-5:00pm',\n",
       " '\\xa0',\n",
       " 'VBM Ballot Drop Box',\n",
       " 'October 7th through Nov 2, 2020',\n",
       " 'Monday-Friday 8:30am-7:00pm Saturdays and Sundays 9:00am-5:00pm',\n",
       " 'Pedway Room']"
      ]
     },
     "execution_count": 49,
     "metadata": {},
     "output_type": "execute_result"
    }
   ],
   "source": [
    "schedule_list[15]"
   ]
  },
  {
   "cell_type": "code",
   "execution_count": 50,
   "metadata": {
    "ExecuteTime": {
     "end_time": "2020-10-22T22:44:50.852741Z",
     "start_time": "2020-10-22T22:44:50.844586Z"
    }
   },
   "outputs": [
    {
     "data": {
      "text/plain": [
       "[{'county': 'Cook County',\n",
       "  'address_1': '69 W Washington St',\n",
       "  'hours': 'November 3, 2020: Tuesday 6:00 AM to 7:00 PM',\n",
       "  'notes': 'Open to All Voters in Suburban Cook County'},\n",
       " {'county': 'Cook County',\n",
       "  'address_1': '69 W Washington St',\n",
       "  'hours': 'Oct 7 through November 2, 2020: Monday-Friday 8:30am-7:00pm Saturdays and Sundays 9:00am-5:00pm',\n",
       "  'notes': '\\xa0'},\n",
       " {'county': 'Cook County',\n",
       "  'address_1': '69 W Washington St',\n",
       "  'hours': 'October 7th through Nov 2, 2020: Monday-Friday 8:30am-7:00pm Saturdays and Sundays 9:00am-5:00pm',\n",
       "  'notes': 'Pedway Room'}]"
      ]
     },
     "execution_count": 50,
     "metadata": {},
     "output_type": "execute_result"
    }
   ],
   "source": [
    "all_schedueles[15:18]"
   ]
  },
  {
   "cell_type": "code",
   "execution_count": 51,
   "metadata": {
    "ExecuteTime": {
     "end_time": "2020-10-22T22:44:51.603904Z",
     "start_time": "2020-10-22T22:44:51.597017Z"
    }
   },
   "outputs": [],
   "source": [
    "all_schedueles_df = pd.DataFrame(all_schedueles)"
   ]
  },
  {
   "cell_type": "code",
   "execution_count": 52,
   "metadata": {
    "ExecuteTime": {
     "end_time": "2020-10-22T22:44:52.131902Z",
     "start_time": "2020-10-22T22:44:52.113456Z"
    }
   },
   "outputs": [
    {
     "name": "stdout",
     "output_type": "stream",
     "text": [
      "<class 'pandas.core.frame.DataFrame'>\n",
      "RangeIndex: 333 entries, 0 to 332\n",
      "Data columns (total 4 columns):\n",
      " #   Column     Non-Null Count  Dtype \n",
      "---  ------     --------------  ----- \n",
      " 0   county     333 non-null    object\n",
      " 1   address_1  333 non-null    object\n",
      " 2   hours      333 non-null    object\n",
      " 3   notes      333 non-null    object\n",
      "dtypes: object(4)\n",
      "memory usage: 10.5+ KB\n"
     ]
    }
   ],
   "source": [
    "all_schedueles_df.info()"
   ]
  },
  {
   "cell_type": "markdown",
   "metadata": {},
   "source": [
    "# Join address and schedules"
   ]
  },
  {
   "cell_type": "code",
   "execution_count": 53,
   "metadata": {
    "ExecuteTime": {
     "end_time": "2020-10-22T22:45:00.756864Z",
     "start_time": "2020-10-22T22:45:00.744255Z"
    }
   },
   "outputs": [],
   "source": [
    "dropOff_df = pd.merge(all_addresses_df, all_schedueles_df, on=['county','address_1'])"
   ]
  },
  {
   "cell_type": "code",
   "execution_count": 54,
   "metadata": {
    "ExecuteTime": {
     "end_time": "2020-10-22T22:45:01.211406Z",
     "start_time": "2020-10-22T22:45:01.196070Z"
    }
   },
   "outputs": [
    {
     "name": "stdout",
     "output_type": "stream",
     "text": [
      "<class 'pandas.core.frame.DataFrame'>\n",
      "Int64Index: 336 entries, 0 to 335\n",
      "Data columns (total 8 columns):\n",
      " #   Column         Non-Null Count  Dtype \n",
      "---  ------         --------------  ----- \n",
      " 0   county         336 non-null    object\n",
      " 1   location_type  336 non-null    object\n",
      " 2   address_1      336 non-null    object\n",
      " 3   address_2      70 non-null     object\n",
      " 4   city           336 non-null    object\n",
      " 5   zip            336 non-null    object\n",
      " 6   hours          336 non-null    object\n",
      " 7   notes          336 non-null    object\n",
      "dtypes: object(8)\n",
      "memory usage: 23.6+ KB\n"
     ]
    }
   ],
   "source": [
    "dropOff_df.info()"
   ]
  },
  {
   "cell_type": "code",
   "execution_count": 55,
   "metadata": {
    "ExecuteTime": {
     "end_time": "2020-10-22T22:45:01.948042Z",
     "start_time": "2020-10-22T22:45:01.927221Z"
    }
   },
   "outputs": [
    {
     "data": {
      "text/html": [
       "<div>\n",
       "<style scoped>\n",
       "    .dataframe tbody tr th:only-of-type {\n",
       "        vertical-align: middle;\n",
       "    }\n",
       "\n",
       "    .dataframe tbody tr th {\n",
       "        vertical-align: top;\n",
       "    }\n",
       "\n",
       "    .dataframe thead th {\n",
       "        text-align: right;\n",
       "    }\n",
       "</style>\n",
       "<table border=\"1\" class=\"dataframe\">\n",
       "  <thead>\n",
       "    <tr style=\"text-align: right;\">\n",
       "      <th></th>\n",
       "      <th>county</th>\n",
       "      <th>location_type</th>\n",
       "      <th>address_1</th>\n",
       "      <th>address_2</th>\n",
       "      <th>city</th>\n",
       "      <th>zip</th>\n",
       "      <th>hours</th>\n",
       "      <th>notes</th>\n",
       "    </tr>\n",
       "  </thead>\n",
       "  <tbody>\n",
       "    <tr>\n",
       "      <th>0</th>\n",
       "      <td>Adams County</td>\n",
       "      <td>County Clerk's Office</td>\n",
       "      <td>507 Vermont ST</td>\n",
       "      <td>NaN</td>\n",
       "      <td>Quincy</td>\n",
       "      <td>62301</td>\n",
       "      <td>September 24, 2020 and concludes November 3, 2...</td>\n",
       "      <td>On November 3rd, drop box closed at 7:00 PM</td>\n",
       "    </tr>\n",
       "    <tr>\n",
       "      <th>1</th>\n",
       "      <td>Brown County</td>\n",
       "      <td>Brown County Clerk’s Office</td>\n",
       "      <td>200 Court Street</td>\n",
       "      <td>Room 4</td>\n",
       "      <td>Mt. Sterling</td>\n",
       "      <td>62353</td>\n",
       "      <td>September 24 - November 3, 2020 7:00 PM: 24 Hours</td>\n",
       "      <td>Right side of Courthouse Entrance</td>\n",
       "    </tr>\n",
       "    <tr>\n",
       "      <th>2</th>\n",
       "      <td>Carroll County</td>\n",
       "      <td>Carroll County Courthouse</td>\n",
       "      <td>301 N Main Street</td>\n",
       "      <td>NaN</td>\n",
       "      <td>Mount Carroll</td>\n",
       "      <td>61053</td>\n",
       "      <td>September 24, 2020 thru November 3, 2020: 24 h...</td>\n",
       "      <td>Drop Box will be attached to building by the f...</td>\n",
       "    </tr>\n",
       "    <tr>\n",
       "      <th>3</th>\n",
       "      <td>Cass County</td>\n",
       "      <td>Cass County Clerk's Office</td>\n",
       "      <td>100 E Springfield St</td>\n",
       "      <td>NaN</td>\n",
       "      <td>Virginia</td>\n",
       "      <td>62691</td>\n",
       "      <td>Begins on September 24, 2020 and concludes on ...</td>\n",
       "      <td>Attached to the building just to the right of ...</td>\n",
       "    </tr>\n",
       "    <tr>\n",
       "      <th>4</th>\n",
       "      <td>Champaign County</td>\n",
       "      <td>Champaign County Clerk's Office</td>\n",
       "      <td>1776 E Washington St</td>\n",
       "      <td>NaN</td>\n",
       "      <td>Urbana</td>\n",
       "      <td>61802</td>\n",
       "      <td>Opens September 26, 2020: Open 24 Hours a Day,...</td>\n",
       "      <td>Ballots must be deposited by 7PM on Election D...</td>\n",
       "    </tr>\n",
       "  </tbody>\n",
       "</table>\n",
       "</div>"
      ],
      "text/plain": [
       "             county                    location_type             address_1  \\\n",
       "0      Adams County            County Clerk's Office        507 Vermont ST   \n",
       "1      Brown County      Brown County Clerk’s Office      200 Court Street   \n",
       "2    Carroll County        Carroll County Courthouse     301 N Main Street   \n",
       "3       Cass County       Cass County Clerk's Office  100 E Springfield St   \n",
       "4  Champaign County  Champaign County Clerk's Office  1776 E Washington St   \n",
       "\n",
       "  address_2           city    zip  \\\n",
       "0       NaN         Quincy  62301   \n",
       "1    Room 4   Mt. Sterling  62353   \n",
       "2       NaN  Mount Carroll  61053   \n",
       "3       NaN       Virginia  62691   \n",
       "4       NaN         Urbana  61802   \n",
       "\n",
       "                                               hours  \\\n",
       "0  September 24, 2020 and concludes November 3, 2...   \n",
       "1  September 24 - November 3, 2020 7:00 PM: 24 Hours   \n",
       "2  September 24, 2020 thru November 3, 2020: 24 h...   \n",
       "3  Begins on September 24, 2020 and concludes on ...   \n",
       "4  Opens September 26, 2020: Open 24 Hours a Day,...   \n",
       "\n",
       "                                               notes  \n",
       "0        On November 3rd, drop box closed at 7:00 PM  \n",
       "1                  Right side of Courthouse Entrance  \n",
       "2  Drop Box will be attached to building by the f...  \n",
       "3  Attached to the building just to the right of ...  \n",
       "4  Ballots must be deposited by 7PM on Election D...  "
      ]
     },
     "execution_count": 55,
     "metadata": {},
     "output_type": "execute_result"
    }
   ],
   "source": [
    "dropOff_df.head()"
   ]
  },
  {
   "cell_type": "code",
   "execution_count": 56,
   "metadata": {
    "ExecuteTime": {
     "end_time": "2020-10-22T22:45:05.258806Z",
     "start_time": "2020-10-22T22:45:05.234546Z"
    }
   },
   "outputs": [
    {
     "data": {
      "text/html": [
       "<div>\n",
       "<style scoped>\n",
       "    .dataframe tbody tr th:only-of-type {\n",
       "        vertical-align: middle;\n",
       "    }\n",
       "\n",
       "    .dataframe tbody tr th {\n",
       "        vertical-align: top;\n",
       "    }\n",
       "\n",
       "    .dataframe thead th {\n",
       "        text-align: right;\n",
       "    }\n",
       "</style>\n",
       "<table border=\"1\" class=\"dataframe\">\n",
       "  <thead>\n",
       "    <tr style=\"text-align: right;\">\n",
       "      <th></th>\n",
       "      <th>county</th>\n",
       "      <th>location_type</th>\n",
       "      <th>address_1</th>\n",
       "      <th>address_2</th>\n",
       "      <th>city</th>\n",
       "      <th>zip</th>\n",
       "      <th>hours</th>\n",
       "      <th>notes</th>\n",
       "    </tr>\n",
       "  </thead>\n",
       "  <tbody>\n",
       "    <tr>\n",
       "      <th>331</th>\n",
       "      <td>Will County</td>\n",
       "      <td>White Oak Library</td>\n",
       "      <td>121 E Eighth ST</td>\n",
       "      <td>NaN</td>\n",
       "      <td>Lockport</td>\n",
       "      <td>60441</td>\n",
       "      <td>November 1, 2020: Sunday 1:00 PM to 5:00 PM</td>\n",
       "      <td>Right side of circulation desk inside main ent...</td>\n",
       "    </tr>\n",
       "    <tr>\n",
       "      <th>332</th>\n",
       "      <td>Will County</td>\n",
       "      <td>White Oak Library</td>\n",
       "      <td>121 E Eighth ST</td>\n",
       "      <td>NaN</td>\n",
       "      <td>Lockport</td>\n",
       "      <td>60441</td>\n",
       "      <td>November 2, 2020: Monday 10:00 AM to 8:30 PM</td>\n",
       "      <td>Right side of circulation desk inside main ent...</td>\n",
       "    </tr>\n",
       "    <tr>\n",
       "      <th>333</th>\n",
       "      <td>Woodford County</td>\n",
       "      <td>County Clerk's Office</td>\n",
       "      <td>115 N Main St</td>\n",
       "      <td>Rm 104</td>\n",
       "      <td>Eureka</td>\n",
       "      <td>61530</td>\n",
       "      <td>Begins on September 24, 2020 and concluding on...</td>\n",
       "      <td></td>\n",
       "    </tr>\n",
       "    <tr>\n",
       "      <th>334</th>\n",
       "      <td>City of Galesburg</td>\n",
       "      <td>City Election Office (City Hall)</td>\n",
       "      <td>55 w Tompkins St</td>\n",
       "      <td>NaN</td>\n",
       "      <td>Galesburg</td>\n",
       "      <td>61401</td>\n",
       "      <td>September 24th through November 3, 2020: 24/7</td>\n",
       "      <td>A secure ballot drop box is located on the Cit...</td>\n",
       "    </tr>\n",
       "    <tr>\n",
       "      <th>335</th>\n",
       "      <td>City of Rockford</td>\n",
       "      <td>Rockford Election Commssion Office</td>\n",
       "      <td>301 S 6th ST</td>\n",
       "      <td>NaN</td>\n",
       "      <td>Rockford</td>\n",
       "      <td>61104</td>\n",
       "      <td>October 1 thru November 3: 24 hrs. Ends Novemb...</td>\n",
       "      <td>City of Rockford Residents Only</td>\n",
       "    </tr>\n",
       "  </tbody>\n",
       "</table>\n",
       "</div>"
      ],
      "text/plain": [
       "                county                       location_type         address_1  \\\n",
       "331        Will County                   White Oak Library   121 E Eighth ST   \n",
       "332        Will County                   White Oak Library   121 E Eighth ST   \n",
       "333    Woodford County               County Clerk's Office     115 N Main St   \n",
       "334  City of Galesburg    City Election Office (City Hall)  55 w Tompkins St   \n",
       "335   City of Rockford  Rockford Election Commssion Office      301 S 6th ST   \n",
       "\n",
       "    address_2       city    zip  \\\n",
       "331       NaN   Lockport  60441   \n",
       "332       NaN   Lockport  60441   \n",
       "333    Rm 104     Eureka  61530   \n",
       "334       NaN  Galesburg  61401   \n",
       "335       NaN   Rockford  61104   \n",
       "\n",
       "                                                 hours  \\\n",
       "331        November 1, 2020: Sunday 1:00 PM to 5:00 PM   \n",
       "332       November 2, 2020: Monday 10:00 AM to 8:30 PM   \n",
       "333  Begins on September 24, 2020 and concluding on...   \n",
       "334      September 24th through November 3, 2020: 24/7   \n",
       "335  October 1 thru November 3: 24 hrs. Ends Novemb...   \n",
       "\n",
       "                                                 notes  \n",
       "331  Right side of circulation desk inside main ent...  \n",
       "332  Right side of circulation desk inside main ent...  \n",
       "333                                                     \n",
       "334  A secure ballot drop box is located on the Cit...  \n",
       "335                    City of Rockford Residents Only  "
      ]
     },
     "execution_count": 56,
     "metadata": {},
     "output_type": "execute_result"
    }
   ],
   "source": [
    "dropOff_df.tail()"
   ]
  },
  {
   "cell_type": "markdown",
   "metadata": {},
   "source": [
    "# Create a DataFrame to hold the data"
   ]
  },
  {
   "cell_type": "code",
   "execution_count": 57,
   "metadata": {
    "ExecuteTime": {
     "end_time": "2020-10-22T22:45:09.736518Z",
     "start_time": "2020-10-22T22:45:09.724467Z"
    }
   },
   "outputs": [],
   "source": [
    "data_schema = [\n",
    "        'address_1',\n",
    "        'state',\n",
    "        'county',\n",
    "        'Field 23',\n",
    "        'location_type',\n",
    "        'address_2',\n",
    "        'city',\n",
    "        'state_2',\n",
    "        'zip',\n",
    "        'phone', \n",
    "        'latitude', \n",
    "        'longitude', \n",
    "        'has_droppff', \n",
    "        'has_phone_number', \n",
    "        'county_website_url', \n",
    "        'validate_url', \n",
    "        'email', \n",
    "        'fax', \n",
    "        'social', \n",
    "        'inactive', \n",
    "        'hours',\n",
    "        'rules',\n",
    "        'notes'\n",
    "]"
   ]
  },
  {
   "cell_type": "code",
   "execution_count": 58,
   "metadata": {
    "ExecuteTime": {
     "end_time": "2020-10-22T22:45:10.311301Z",
     "start_time": "2020-10-22T22:45:10.296050Z"
    }
   },
   "outputs": [],
   "source": [
    "all_data_df = pd.DataFrame(columns=data_schema)"
   ]
  },
  {
   "cell_type": "code",
   "execution_count": 59,
   "metadata": {
    "ExecuteTime": {
     "end_time": "2020-10-22T22:45:13.544212Z",
     "start_time": "2020-10-22T22:45:13.525104Z"
    },
    "scrolled": false
   },
   "outputs": [
    {
     "name": "stdout",
     "output_type": "stream",
     "text": [
      "<class 'pandas.core.frame.DataFrame'>\n",
      "Index: 0 entries\n",
      "Data columns (total 23 columns):\n",
      " #   Column              Non-Null Count  Dtype \n",
      "---  ------              --------------  ----- \n",
      " 0   address_1           0 non-null      object\n",
      " 1   state               0 non-null      object\n",
      " 2   county              0 non-null      object\n",
      " 3   Field 23            0 non-null      object\n",
      " 4   location_type       0 non-null      object\n",
      " 5   address_2           0 non-null      object\n",
      " 6   city                0 non-null      object\n",
      " 7   state_2             0 non-null      object\n",
      " 8   zip                 0 non-null      object\n",
      " 9   phone               0 non-null      object\n",
      " 10  latitude            0 non-null      object\n",
      " 11  longitude           0 non-null      object\n",
      " 12  has_droppff         0 non-null      object\n",
      " 13  has_phone_number    0 non-null      object\n",
      " 14  county_website_url  0 non-null      object\n",
      " 15  validate_url        0 non-null      object\n",
      " 16  email               0 non-null      object\n",
      " 17  fax                 0 non-null      object\n",
      " 18  social              0 non-null      object\n",
      " 19  inactive            0 non-null      object\n",
      " 20  hours               0 non-null      object\n",
      " 21  rules               0 non-null      object\n",
      " 22  notes               0 non-null      object\n",
      "dtypes: object(23)\n",
      "memory usage: 0.0+ bytes\n"
     ]
    }
   ],
   "source": [
    "all_data_df.info()"
   ]
  },
  {
   "cell_type": "code",
   "execution_count": 60,
   "metadata": {
    "ExecuteTime": {
     "end_time": "2020-10-22T22:45:15.371747Z",
     "start_time": "2020-10-22T22:45:15.359956Z"
    }
   },
   "outputs": [],
   "source": [
    "all_data_df['county'] = dropOff_df['county']\n",
    "all_data_df['location_type'] = dropOff_df['location_type']\n",
    "all_data_df['address_1'] = dropOff_df['address_1']\n",
    "all_data_df['address_2'] = dropOff_df['address_2']\n",
    "all_data_df['city'] = dropOff_df['city']\n",
    "all_data_df['zip'] = dropOff_df['zip']\n",
    "all_data_df['hours'] = dropOff_df['hours']\n",
    "all_data_df['notes'] = dropOff_df['notes']\n",
    "all_data_df['state'] = 'IL'\n",
    "all_data_df['validate_url'] = 'https://www.elections.il.gov/VotingAndRegistrationSystems/VoteByMailBallotDropBoxLocations.aspx?MID=0DjRa0Y9V6U%3d&T=637369778439680154'"
   ]
  },
  {
   "cell_type": "code",
   "execution_count": 61,
   "metadata": {
    "ExecuteTime": {
     "end_time": "2020-10-22T22:45:16.654753Z",
     "start_time": "2020-10-22T22:45:16.619806Z"
    }
   },
   "outputs": [
    {
     "data": {
      "text/html": [
       "<div>\n",
       "<style scoped>\n",
       "    .dataframe tbody tr th:only-of-type {\n",
       "        vertical-align: middle;\n",
       "    }\n",
       "\n",
       "    .dataframe tbody tr th {\n",
       "        vertical-align: top;\n",
       "    }\n",
       "\n",
       "    .dataframe thead th {\n",
       "        text-align: right;\n",
       "    }\n",
       "</style>\n",
       "<table border=\"1\" class=\"dataframe\">\n",
       "  <thead>\n",
       "    <tr style=\"text-align: right;\">\n",
       "      <th></th>\n",
       "      <th>address_1</th>\n",
       "      <th>state</th>\n",
       "      <th>county</th>\n",
       "      <th>Field 23</th>\n",
       "      <th>location_type</th>\n",
       "      <th>address_2</th>\n",
       "      <th>city</th>\n",
       "      <th>state_2</th>\n",
       "      <th>zip</th>\n",
       "      <th>phone</th>\n",
       "      <th>...</th>\n",
       "      <th>has_phone_number</th>\n",
       "      <th>county_website_url</th>\n",
       "      <th>validate_url</th>\n",
       "      <th>email</th>\n",
       "      <th>fax</th>\n",
       "      <th>social</th>\n",
       "      <th>inactive</th>\n",
       "      <th>hours</th>\n",
       "      <th>rules</th>\n",
       "      <th>notes</th>\n",
       "    </tr>\n",
       "  </thead>\n",
       "  <tbody>\n",
       "    <tr>\n",
       "      <th>0</th>\n",
       "      <td>507 Vermont ST</td>\n",
       "      <td>IL</td>\n",
       "      <td>Adams County</td>\n",
       "      <td>NaN</td>\n",
       "      <td>County Clerk's Office</td>\n",
       "      <td>NaN</td>\n",
       "      <td>Quincy</td>\n",
       "      <td>NaN</td>\n",
       "      <td>62301</td>\n",
       "      <td>NaN</td>\n",
       "      <td>...</td>\n",
       "      <td>NaN</td>\n",
       "      <td>NaN</td>\n",
       "      <td>https://www.elections.il.gov/VotingAndRegistra...</td>\n",
       "      <td>NaN</td>\n",
       "      <td>NaN</td>\n",
       "      <td>NaN</td>\n",
       "      <td>NaN</td>\n",
       "      <td>September 24, 2020 and concludes November 3, 2...</td>\n",
       "      <td>NaN</td>\n",
       "      <td>On November 3rd, drop box closed at 7:00 PM</td>\n",
       "    </tr>\n",
       "    <tr>\n",
       "      <th>1</th>\n",
       "      <td>200 Court Street</td>\n",
       "      <td>IL</td>\n",
       "      <td>Brown County</td>\n",
       "      <td>NaN</td>\n",
       "      <td>Brown County Clerk’s Office</td>\n",
       "      <td>Room 4</td>\n",
       "      <td>Mt. Sterling</td>\n",
       "      <td>NaN</td>\n",
       "      <td>62353</td>\n",
       "      <td>NaN</td>\n",
       "      <td>...</td>\n",
       "      <td>NaN</td>\n",
       "      <td>NaN</td>\n",
       "      <td>https://www.elections.il.gov/VotingAndRegistra...</td>\n",
       "      <td>NaN</td>\n",
       "      <td>NaN</td>\n",
       "      <td>NaN</td>\n",
       "      <td>NaN</td>\n",
       "      <td>September 24 - November 3, 2020 7:00 PM: 24 Hours</td>\n",
       "      <td>NaN</td>\n",
       "      <td>Right side of Courthouse Entrance</td>\n",
       "    </tr>\n",
       "    <tr>\n",
       "      <th>2</th>\n",
       "      <td>301 N Main Street</td>\n",
       "      <td>IL</td>\n",
       "      <td>Carroll County</td>\n",
       "      <td>NaN</td>\n",
       "      <td>Carroll County Courthouse</td>\n",
       "      <td>NaN</td>\n",
       "      <td>Mount Carroll</td>\n",
       "      <td>NaN</td>\n",
       "      <td>61053</td>\n",
       "      <td>NaN</td>\n",
       "      <td>...</td>\n",
       "      <td>NaN</td>\n",
       "      <td>NaN</td>\n",
       "      <td>https://www.elections.il.gov/VotingAndRegistra...</td>\n",
       "      <td>NaN</td>\n",
       "      <td>NaN</td>\n",
       "      <td>NaN</td>\n",
       "      <td>NaN</td>\n",
       "      <td>September 24, 2020 thru November 3, 2020: 24 h...</td>\n",
       "      <td>NaN</td>\n",
       "      <td>Drop Box will be attached to building by the f...</td>\n",
       "    </tr>\n",
       "    <tr>\n",
       "      <th>3</th>\n",
       "      <td>100 E Springfield St</td>\n",
       "      <td>IL</td>\n",
       "      <td>Cass County</td>\n",
       "      <td>NaN</td>\n",
       "      <td>Cass County Clerk's Office</td>\n",
       "      <td>NaN</td>\n",
       "      <td>Virginia</td>\n",
       "      <td>NaN</td>\n",
       "      <td>62691</td>\n",
       "      <td>NaN</td>\n",
       "      <td>...</td>\n",
       "      <td>NaN</td>\n",
       "      <td>NaN</td>\n",
       "      <td>https://www.elections.il.gov/VotingAndRegistra...</td>\n",
       "      <td>NaN</td>\n",
       "      <td>NaN</td>\n",
       "      <td>NaN</td>\n",
       "      <td>NaN</td>\n",
       "      <td>Begins on September 24, 2020 and concludes on ...</td>\n",
       "      <td>NaN</td>\n",
       "      <td>Attached to the building just to the right of ...</td>\n",
       "    </tr>\n",
       "    <tr>\n",
       "      <th>4</th>\n",
       "      <td>1776 E Washington St</td>\n",
       "      <td>IL</td>\n",
       "      <td>Champaign County</td>\n",
       "      <td>NaN</td>\n",
       "      <td>Champaign County Clerk's Office</td>\n",
       "      <td>NaN</td>\n",
       "      <td>Urbana</td>\n",
       "      <td>NaN</td>\n",
       "      <td>61802</td>\n",
       "      <td>NaN</td>\n",
       "      <td>...</td>\n",
       "      <td>NaN</td>\n",
       "      <td>NaN</td>\n",
       "      <td>https://www.elections.il.gov/VotingAndRegistra...</td>\n",
       "      <td>NaN</td>\n",
       "      <td>NaN</td>\n",
       "      <td>NaN</td>\n",
       "      <td>NaN</td>\n",
       "      <td>Opens September 26, 2020: Open 24 Hours a Day,...</td>\n",
       "      <td>NaN</td>\n",
       "      <td>Ballots must be deposited by 7PM on Election D...</td>\n",
       "    </tr>\n",
       "  </tbody>\n",
       "</table>\n",
       "<p>5 rows × 23 columns</p>\n",
       "</div>"
      ],
      "text/plain": [
       "              address_1 state            county Field 23  \\\n",
       "0        507 Vermont ST    IL      Adams County      NaN   \n",
       "1      200 Court Street    IL      Brown County      NaN   \n",
       "2     301 N Main Street    IL    Carroll County      NaN   \n",
       "3  100 E Springfield St    IL       Cass County      NaN   \n",
       "4  1776 E Washington St    IL  Champaign County      NaN   \n",
       "\n",
       "                     location_type address_2           city state_2    zip  \\\n",
       "0            County Clerk's Office       NaN         Quincy     NaN  62301   \n",
       "1      Brown County Clerk’s Office    Room 4   Mt. Sterling     NaN  62353   \n",
       "2        Carroll County Courthouse       NaN  Mount Carroll     NaN  61053   \n",
       "3       Cass County Clerk's Office       NaN       Virginia     NaN  62691   \n",
       "4  Champaign County Clerk's Office       NaN         Urbana     NaN  61802   \n",
       "\n",
       "  phone  ... has_phone_number county_website_url  \\\n",
       "0   NaN  ...              NaN                NaN   \n",
       "1   NaN  ...              NaN                NaN   \n",
       "2   NaN  ...              NaN                NaN   \n",
       "3   NaN  ...              NaN                NaN   \n",
       "4   NaN  ...              NaN                NaN   \n",
       "\n",
       "                                        validate_url email  fax social  \\\n",
       "0  https://www.elections.il.gov/VotingAndRegistra...   NaN  NaN    NaN   \n",
       "1  https://www.elections.il.gov/VotingAndRegistra...   NaN  NaN    NaN   \n",
       "2  https://www.elections.il.gov/VotingAndRegistra...   NaN  NaN    NaN   \n",
       "3  https://www.elections.il.gov/VotingAndRegistra...   NaN  NaN    NaN   \n",
       "4  https://www.elections.il.gov/VotingAndRegistra...   NaN  NaN    NaN   \n",
       "\n",
       "  inactive                                              hours rules  \\\n",
       "0      NaN  September 24, 2020 and concludes November 3, 2...   NaN   \n",
       "1      NaN  September 24 - November 3, 2020 7:00 PM: 24 Hours   NaN   \n",
       "2      NaN  September 24, 2020 thru November 3, 2020: 24 h...   NaN   \n",
       "3      NaN  Begins on September 24, 2020 and concludes on ...   NaN   \n",
       "4      NaN  Opens September 26, 2020: Open 24 Hours a Day,...   NaN   \n",
       "\n",
       "                                               notes  \n",
       "0        On November 3rd, drop box closed at 7:00 PM  \n",
       "1                  Right side of Courthouse Entrance  \n",
       "2  Drop Box will be attached to building by the f...  \n",
       "3  Attached to the building just to the right of ...  \n",
       "4  Ballots must be deposited by 7PM on Election D...  \n",
       "\n",
       "[5 rows x 23 columns]"
      ]
     },
     "execution_count": 61,
     "metadata": {},
     "output_type": "execute_result"
    }
   ],
   "source": [
    "all_data_df.head()"
   ]
  },
  {
   "cell_type": "code",
   "execution_count": 62,
   "metadata": {
    "ExecuteTime": {
     "end_time": "2020-10-22T22:45:19.637825Z",
     "start_time": "2020-10-22T22:45:19.590096Z"
    }
   },
   "outputs": [
    {
     "data": {
      "text/html": [
       "<div>\n",
       "<style scoped>\n",
       "    .dataframe tbody tr th:only-of-type {\n",
       "        vertical-align: middle;\n",
       "    }\n",
       "\n",
       "    .dataframe tbody tr th {\n",
       "        vertical-align: top;\n",
       "    }\n",
       "\n",
       "    .dataframe thead th {\n",
       "        text-align: right;\n",
       "    }\n",
       "</style>\n",
       "<table border=\"1\" class=\"dataframe\">\n",
       "  <thead>\n",
       "    <tr style=\"text-align: right;\">\n",
       "      <th></th>\n",
       "      <th>address_1</th>\n",
       "      <th>state</th>\n",
       "      <th>county</th>\n",
       "      <th>Field 23</th>\n",
       "      <th>location_type</th>\n",
       "      <th>address_2</th>\n",
       "      <th>city</th>\n",
       "      <th>state_2</th>\n",
       "      <th>zip</th>\n",
       "      <th>phone</th>\n",
       "      <th>...</th>\n",
       "      <th>has_phone_number</th>\n",
       "      <th>county_website_url</th>\n",
       "      <th>validate_url</th>\n",
       "      <th>email</th>\n",
       "      <th>fax</th>\n",
       "      <th>social</th>\n",
       "      <th>inactive</th>\n",
       "      <th>hours</th>\n",
       "      <th>rules</th>\n",
       "      <th>notes</th>\n",
       "    </tr>\n",
       "  </thead>\n",
       "  <tbody>\n",
       "    <tr>\n",
       "      <th>331</th>\n",
       "      <td>121 E Eighth ST</td>\n",
       "      <td>IL</td>\n",
       "      <td>Will County</td>\n",
       "      <td>NaN</td>\n",
       "      <td>White Oak Library</td>\n",
       "      <td>NaN</td>\n",
       "      <td>Lockport</td>\n",
       "      <td>NaN</td>\n",
       "      <td>60441</td>\n",
       "      <td>NaN</td>\n",
       "      <td>...</td>\n",
       "      <td>NaN</td>\n",
       "      <td>NaN</td>\n",
       "      <td>https://www.elections.il.gov/VotingAndRegistra...</td>\n",
       "      <td>NaN</td>\n",
       "      <td>NaN</td>\n",
       "      <td>NaN</td>\n",
       "      <td>NaN</td>\n",
       "      <td>November 1, 2020: Sunday 1:00 PM to 5:00 PM</td>\n",
       "      <td>NaN</td>\n",
       "      <td>Right side of circulation desk inside main ent...</td>\n",
       "    </tr>\n",
       "    <tr>\n",
       "      <th>332</th>\n",
       "      <td>121 E Eighth ST</td>\n",
       "      <td>IL</td>\n",
       "      <td>Will County</td>\n",
       "      <td>NaN</td>\n",
       "      <td>White Oak Library</td>\n",
       "      <td>NaN</td>\n",
       "      <td>Lockport</td>\n",
       "      <td>NaN</td>\n",
       "      <td>60441</td>\n",
       "      <td>NaN</td>\n",
       "      <td>...</td>\n",
       "      <td>NaN</td>\n",
       "      <td>NaN</td>\n",
       "      <td>https://www.elections.il.gov/VotingAndRegistra...</td>\n",
       "      <td>NaN</td>\n",
       "      <td>NaN</td>\n",
       "      <td>NaN</td>\n",
       "      <td>NaN</td>\n",
       "      <td>November 2, 2020: Monday 10:00 AM to 8:30 PM</td>\n",
       "      <td>NaN</td>\n",
       "      <td>Right side of circulation desk inside main ent...</td>\n",
       "    </tr>\n",
       "    <tr>\n",
       "      <th>333</th>\n",
       "      <td>115 N Main St</td>\n",
       "      <td>IL</td>\n",
       "      <td>Woodford County</td>\n",
       "      <td>NaN</td>\n",
       "      <td>County Clerk's Office</td>\n",
       "      <td>Rm 104</td>\n",
       "      <td>Eureka</td>\n",
       "      <td>NaN</td>\n",
       "      <td>61530</td>\n",
       "      <td>NaN</td>\n",
       "      <td>...</td>\n",
       "      <td>NaN</td>\n",
       "      <td>NaN</td>\n",
       "      <td>https://www.elections.il.gov/VotingAndRegistra...</td>\n",
       "      <td>NaN</td>\n",
       "      <td>NaN</td>\n",
       "      <td>NaN</td>\n",
       "      <td>NaN</td>\n",
       "      <td>Begins on September 24, 2020 and concluding on...</td>\n",
       "      <td>NaN</td>\n",
       "      <td></td>\n",
       "    </tr>\n",
       "    <tr>\n",
       "      <th>334</th>\n",
       "      <td>55 w Tompkins St</td>\n",
       "      <td>IL</td>\n",
       "      <td>City of Galesburg</td>\n",
       "      <td>NaN</td>\n",
       "      <td>City Election Office (City Hall)</td>\n",
       "      <td>NaN</td>\n",
       "      <td>Galesburg</td>\n",
       "      <td>NaN</td>\n",
       "      <td>61401</td>\n",
       "      <td>NaN</td>\n",
       "      <td>...</td>\n",
       "      <td>NaN</td>\n",
       "      <td>NaN</td>\n",
       "      <td>https://www.elections.il.gov/VotingAndRegistra...</td>\n",
       "      <td>NaN</td>\n",
       "      <td>NaN</td>\n",
       "      <td>NaN</td>\n",
       "      <td>NaN</td>\n",
       "      <td>September 24th through November 3, 2020: 24/7</td>\n",
       "      <td>NaN</td>\n",
       "      <td>A secure ballot drop box is located on the Cit...</td>\n",
       "    </tr>\n",
       "    <tr>\n",
       "      <th>335</th>\n",
       "      <td>301 S 6th ST</td>\n",
       "      <td>IL</td>\n",
       "      <td>City of Rockford</td>\n",
       "      <td>NaN</td>\n",
       "      <td>Rockford Election Commssion Office</td>\n",
       "      <td>NaN</td>\n",
       "      <td>Rockford</td>\n",
       "      <td>NaN</td>\n",
       "      <td>61104</td>\n",
       "      <td>NaN</td>\n",
       "      <td>...</td>\n",
       "      <td>NaN</td>\n",
       "      <td>NaN</td>\n",
       "      <td>https://www.elections.il.gov/VotingAndRegistra...</td>\n",
       "      <td>NaN</td>\n",
       "      <td>NaN</td>\n",
       "      <td>NaN</td>\n",
       "      <td>NaN</td>\n",
       "      <td>October 1 thru November 3: 24 hrs. Ends Novemb...</td>\n",
       "      <td>NaN</td>\n",
       "      <td>City of Rockford Residents Only</td>\n",
       "    </tr>\n",
       "  </tbody>\n",
       "</table>\n",
       "<p>5 rows × 23 columns</p>\n",
       "</div>"
      ],
      "text/plain": [
       "            address_1 state             county Field 23  \\\n",
       "331   121 E Eighth ST    IL        Will County      NaN   \n",
       "332   121 E Eighth ST    IL        Will County      NaN   \n",
       "333     115 N Main St    IL    Woodford County      NaN   \n",
       "334  55 w Tompkins St    IL  City of Galesburg      NaN   \n",
       "335      301 S 6th ST    IL   City of Rockford      NaN   \n",
       "\n",
       "                          location_type address_2       city state_2    zip  \\\n",
       "331                   White Oak Library       NaN   Lockport     NaN  60441   \n",
       "332                   White Oak Library       NaN   Lockport     NaN  60441   \n",
       "333               County Clerk's Office    Rm 104     Eureka     NaN  61530   \n",
       "334    City Election Office (City Hall)       NaN  Galesburg     NaN  61401   \n",
       "335  Rockford Election Commssion Office       NaN   Rockford     NaN  61104   \n",
       "\n",
       "    phone  ... has_phone_number county_website_url  \\\n",
       "331   NaN  ...              NaN                NaN   \n",
       "332   NaN  ...              NaN                NaN   \n",
       "333   NaN  ...              NaN                NaN   \n",
       "334   NaN  ...              NaN                NaN   \n",
       "335   NaN  ...              NaN                NaN   \n",
       "\n",
       "                                          validate_url email  fax social  \\\n",
       "331  https://www.elections.il.gov/VotingAndRegistra...   NaN  NaN    NaN   \n",
       "332  https://www.elections.il.gov/VotingAndRegistra...   NaN  NaN    NaN   \n",
       "333  https://www.elections.il.gov/VotingAndRegistra...   NaN  NaN    NaN   \n",
       "334  https://www.elections.il.gov/VotingAndRegistra...   NaN  NaN    NaN   \n",
       "335  https://www.elections.il.gov/VotingAndRegistra...   NaN  NaN    NaN   \n",
       "\n",
       "    inactive                                              hours rules  \\\n",
       "331      NaN        November 1, 2020: Sunday 1:00 PM to 5:00 PM   NaN   \n",
       "332      NaN       November 2, 2020: Monday 10:00 AM to 8:30 PM   NaN   \n",
       "333      NaN  Begins on September 24, 2020 and concluding on...   NaN   \n",
       "334      NaN      September 24th through November 3, 2020: 24/7   NaN   \n",
       "335      NaN  October 1 thru November 3: 24 hrs. Ends Novemb...   NaN   \n",
       "\n",
       "                                                 notes  \n",
       "331  Right side of circulation desk inside main ent...  \n",
       "332  Right side of circulation desk inside main ent...  \n",
       "333                                                     \n",
       "334  A secure ballot drop box is located on the Cit...  \n",
       "335                    City of Rockford Residents Only  \n",
       "\n",
       "[5 rows x 23 columns]"
      ]
     },
     "execution_count": 62,
     "metadata": {},
     "output_type": "execute_result"
    }
   ],
   "source": [
    "all_data_df.tail()"
   ]
  },
  {
   "cell_type": "markdown",
   "metadata": {},
   "source": [
    "# Write dropoff data to csv file"
   ]
  },
  {
   "cell_type": "code",
   "execution_count": 63,
   "metadata": {
    "ExecuteTime": {
     "end_time": "2020-10-22T22:45:30.697073Z",
     "start_time": "2020-10-22T22:45:30.693260Z"
    }
   },
   "outputs": [],
   "source": [
    "all_data_df.to_csv('Illinois.csv')"
   ]
  },
  {
   "cell_type": "markdown",
   "metadata": {},
   "source": [
    "# Read csv of Illinois jurisdicitons\n",
    "- The jurisidictions are just a table on the Illinois site so it was quicker to just copy them into a csv and clean them up here"
   ]
  },
  {
   "cell_type": "code",
   "execution_count": 195,
   "metadata": {
    "ExecuteTime": {
     "end_time": "2020-10-23T00:25:34.763870Z",
     "start_time": "2020-10-23T00:25:34.749549Z"
    }
   },
   "outputs": [],
   "source": [
    "juries_df = pd.read_csv('Illinois_jurisdictions.csv', header=1, index_col=None)"
   ]
  },
  {
   "cell_type": "code",
   "execution_count": 196,
   "metadata": {
    "ExecuteTime": {
     "end_time": "2020-10-23T00:25:35.500515Z",
     "start_time": "2020-10-23T00:25:35.480406Z"
    }
   },
   "outputs": [
    {
     "data": {
      "text/html": [
       "<div>\n",
       "<style scoped>\n",
       "    .dataframe tbody tr th:only-of-type {\n",
       "        vertical-align: middle;\n",
       "    }\n",
       "\n",
       "    .dataframe tbody tr th {\n",
       "        vertical-align: top;\n",
       "    }\n",
       "\n",
       "    .dataframe thead th {\n",
       "        text-align: right;\n",
       "    }\n",
       "</style>\n",
       "<table border=\"1\" class=\"dataframe\">\n",
       "  <thead>\n",
       "    <tr style=\"text-align: right;\">\n",
       "      <th></th>\n",
       "      <th>Unnamed: 0</th>\n",
       "      <th>Jurisdiction</th>\n",
       "      <th>Name</th>\n",
       "      <th>Title</th>\n",
       "      <th>Email</th>\n",
       "      <th>Address</th>\n",
       "      <th>Phone</th>\n",
       "      <th>Fax</th>\n",
       "    </tr>\n",
       "  </thead>\n",
       "  <tbody>\n",
       "    <tr>\n",
       "      <th>0</th>\n",
       "      <td>NaN</td>\n",
       "      <td>ADAMS</td>\n",
       "      <td>RYAN A. NIEKAMP</td>\n",
       "      <td>COUNTY CLERK</td>\n",
       "      <td>rniekamp@co.adams.il.us</td>\n",
       "      <td>507 VERMONT\\nQUINCY, IL 62306</td>\n",
       "      <td>(217) 277-2150</td>\n",
       "      <td>(217) 277-2155</td>\n",
       "    </tr>\n",
       "    <tr>\n",
       "      <th>1</th>\n",
       "      <td>NaN</td>\n",
       "      <td>ADAMS</td>\n",
       "      <td>RYAN A. NIEKAMP</td>\n",
       "      <td>ELECTION DIVISION</td>\n",
       "      <td>countyclerk@co.adams.il.us</td>\n",
       "      <td>507 VERMONT\\nQUINCY, IL 62306</td>\n",
       "      <td>(217) 277-2150</td>\n",
       "      <td>(217) 277-2155</td>\n",
       "    </tr>\n",
       "    <tr>\n",
       "      <th>2</th>\n",
       "      <td>NaN</td>\n",
       "      <td>ALEXANDER</td>\n",
       "      <td>ELLEN HENDERSON-BIGHAM</td>\n",
       "      <td>COUNTY CLERK</td>\n",
       "      <td>acc@alexandercountyil.org</td>\n",
       "      <td>2000 WASHINGTON AVENUE\\nCAIRO, IL 62914</td>\n",
       "      <td>(618) 734-7000</td>\n",
       "      <td>(618) 734-7002</td>\n",
       "    </tr>\n",
       "    <tr>\n",
       "      <th>3</th>\n",
       "      <td>NaN</td>\n",
       "      <td>BOND</td>\n",
       "      <td>MEG A. SYBERT</td>\n",
       "      <td>COUNTY CLERK</td>\n",
       "      <td>bococlerk@bondcountyil.com</td>\n",
       "      <td>203 WEST COLLEGE\\nGREENVILLE, IL 62246</td>\n",
       "      <td>(618) 664-0449</td>\n",
       "      <td>(618) 664-9414</td>\n",
       "    </tr>\n",
       "    <tr>\n",
       "      <th>4</th>\n",
       "      <td>NaN</td>\n",
       "      <td>BOONE</td>\n",
       "      <td>JULIE A. STAPLER</td>\n",
       "      <td>COUNTY CLERK</td>\n",
       "      <td>jstapler@boonecountyil.org</td>\n",
       "      <td>1212 LOGAN AVENUE\\nSUITE 103\\nBELVIDERE, IL 61008</td>\n",
       "      <td>(815) 544-3103</td>\n",
       "      <td>(815) 547-8701</td>\n",
       "    </tr>\n",
       "  </tbody>\n",
       "</table>\n",
       "</div>"
      ],
      "text/plain": [
       "   Unnamed: 0 Jurisdiction                    Name              Title  \\\n",
       "0         NaN        ADAMS         RYAN A. NIEKAMP       COUNTY CLERK   \n",
       "1         NaN        ADAMS         RYAN A. NIEKAMP  ELECTION DIVISION   \n",
       "2         NaN    ALEXANDER  ELLEN HENDERSON-BIGHAM       COUNTY CLERK   \n",
       "3         NaN         BOND           MEG A. SYBERT       COUNTY CLERK   \n",
       "4         NaN        BOONE        JULIE A. STAPLER       COUNTY CLERK   \n",
       "\n",
       "                        Email  \\\n",
       "0     rniekamp@co.adams.il.us   \n",
       "1  countyclerk@co.adams.il.us   \n",
       "2   acc@alexandercountyil.org   \n",
       "3  bococlerk@bondcountyil.com   \n",
       "4  jstapler@boonecountyil.org   \n",
       "\n",
       "                                             Address           Phone  \\\n",
       "0                      507 VERMONT\\nQUINCY, IL 62306  (217) 277-2150   \n",
       "1                      507 VERMONT\\nQUINCY, IL 62306  (217) 277-2150   \n",
       "2            2000 WASHINGTON AVENUE\\nCAIRO, IL 62914  (618) 734-7000   \n",
       "3             203 WEST COLLEGE\\nGREENVILLE, IL 62246  (618) 664-0449   \n",
       "4  1212 LOGAN AVENUE\\nSUITE 103\\nBELVIDERE, IL 61008  (815) 544-3103   \n",
       "\n",
       "              Fax  \n",
       "0  (217) 277-2155  \n",
       "1  (217) 277-2155  \n",
       "2  (618) 734-7002  \n",
       "3  (618) 664-9414  \n",
       "4  (815) 547-8701  "
      ]
     },
     "execution_count": 196,
     "metadata": {},
     "output_type": "execute_result"
    }
   ],
   "source": [
    "juries_df.head()"
   ]
  },
  {
   "cell_type": "code",
   "execution_count": 197,
   "metadata": {
    "ExecuteTime": {
     "end_time": "2020-10-23T00:25:38.129482Z",
     "start_time": "2020-10-23T00:25:38.123775Z"
    }
   },
   "outputs": [],
   "source": [
    "juries_df = juries_df.drop(['Unnamed: 0', 'Name', 'Title'], axis=1)"
   ]
  },
  {
   "cell_type": "code",
   "execution_count": 198,
   "metadata": {
    "ExecuteTime": {
     "end_time": "2020-10-23T00:25:38.874132Z",
     "start_time": "2020-10-23T00:25:38.857862Z"
    }
   },
   "outputs": [
    {
     "data": {
      "text/html": [
       "<div>\n",
       "<style scoped>\n",
       "    .dataframe tbody tr th:only-of-type {\n",
       "        vertical-align: middle;\n",
       "    }\n",
       "\n",
       "    .dataframe tbody tr th {\n",
       "        vertical-align: top;\n",
       "    }\n",
       "\n",
       "    .dataframe thead th {\n",
       "        text-align: right;\n",
       "    }\n",
       "</style>\n",
       "<table border=\"1\" class=\"dataframe\">\n",
       "  <thead>\n",
       "    <tr style=\"text-align: right;\">\n",
       "      <th></th>\n",
       "      <th>Jurisdiction</th>\n",
       "      <th>Email</th>\n",
       "      <th>Address</th>\n",
       "      <th>Phone</th>\n",
       "      <th>Fax</th>\n",
       "    </tr>\n",
       "  </thead>\n",
       "  <tbody>\n",
       "    <tr>\n",
       "      <th>0</th>\n",
       "      <td>ADAMS</td>\n",
       "      <td>rniekamp@co.adams.il.us</td>\n",
       "      <td>507 VERMONT\\nQUINCY, IL 62306</td>\n",
       "      <td>(217) 277-2150</td>\n",
       "      <td>(217) 277-2155</td>\n",
       "    </tr>\n",
       "    <tr>\n",
       "      <th>1</th>\n",
       "      <td>ADAMS</td>\n",
       "      <td>countyclerk@co.adams.il.us</td>\n",
       "      <td>507 VERMONT\\nQUINCY, IL 62306</td>\n",
       "      <td>(217) 277-2150</td>\n",
       "      <td>(217) 277-2155</td>\n",
       "    </tr>\n",
       "    <tr>\n",
       "      <th>2</th>\n",
       "      <td>ALEXANDER</td>\n",
       "      <td>acc@alexandercountyil.org</td>\n",
       "      <td>2000 WASHINGTON AVENUE\\nCAIRO, IL 62914</td>\n",
       "      <td>(618) 734-7000</td>\n",
       "      <td>(618) 734-7002</td>\n",
       "    </tr>\n",
       "    <tr>\n",
       "      <th>3</th>\n",
       "      <td>BOND</td>\n",
       "      <td>bococlerk@bondcountyil.com</td>\n",
       "      <td>203 WEST COLLEGE\\nGREENVILLE, IL 62246</td>\n",
       "      <td>(618) 664-0449</td>\n",
       "      <td>(618) 664-9414</td>\n",
       "    </tr>\n",
       "    <tr>\n",
       "      <th>4</th>\n",
       "      <td>BOONE</td>\n",
       "      <td>jstapler@boonecountyil.org</td>\n",
       "      <td>1212 LOGAN AVENUE\\nSUITE 103\\nBELVIDERE, IL 61008</td>\n",
       "      <td>(815) 544-3103</td>\n",
       "      <td>(815) 547-8701</td>\n",
       "    </tr>\n",
       "  </tbody>\n",
       "</table>\n",
       "</div>"
      ],
      "text/plain": [
       "  Jurisdiction                       Email  \\\n",
       "0        ADAMS     rniekamp@co.adams.il.us   \n",
       "1        ADAMS  countyclerk@co.adams.il.us   \n",
       "2    ALEXANDER   acc@alexandercountyil.org   \n",
       "3         BOND  bococlerk@bondcountyil.com   \n",
       "4        BOONE  jstapler@boonecountyil.org   \n",
       "\n",
       "                                             Address           Phone  \\\n",
       "0                      507 VERMONT\\nQUINCY, IL 62306  (217) 277-2150   \n",
       "1                      507 VERMONT\\nQUINCY, IL 62306  (217) 277-2150   \n",
       "2            2000 WASHINGTON AVENUE\\nCAIRO, IL 62914  (618) 734-7000   \n",
       "3             203 WEST COLLEGE\\nGREENVILLE, IL 62246  (618) 664-0449   \n",
       "4  1212 LOGAN AVENUE\\nSUITE 103\\nBELVIDERE, IL 61008  (815) 544-3103   \n",
       "\n",
       "              Fax  \n",
       "0  (217) 277-2155  \n",
       "1  (217) 277-2155  \n",
       "2  (618) 734-7002  \n",
       "3  (618) 664-9414  \n",
       "4  (815) 547-8701  "
      ]
     },
     "execution_count": 198,
     "metadata": {},
     "output_type": "execute_result"
    }
   ],
   "source": [
    "juries_df.head()"
   ]
  },
  {
   "cell_type": "code",
   "execution_count": 199,
   "metadata": {
    "ExecuteTime": {
     "end_time": "2020-10-23T00:25:44.253153Z",
     "start_time": "2020-10-23T00:25:44.243846Z"
    }
   },
   "outputs": [],
   "source": [
    "juries_df.drop_duplicates('Jurisdiction', inplace=True)"
   ]
  },
  {
   "cell_type": "code",
   "execution_count": 200,
   "metadata": {
    "ExecuteTime": {
     "end_time": "2020-10-23T00:25:45.674037Z",
     "start_time": "2020-10-23T00:25:45.661318Z"
    }
   },
   "outputs": [
    {
     "name": "stdout",
     "output_type": "stream",
     "text": [
      "<class 'pandas.core.frame.DataFrame'>\n",
      "Int64Index: 108 entries, 0 to 139\n",
      "Data columns (total 5 columns):\n",
      " #   Column        Non-Null Count  Dtype \n",
      "---  ------        --------------  ----- \n",
      " 0   Jurisdiction  108 non-null    object\n",
      " 1   Email         108 non-null    object\n",
      " 2   Address       108 non-null    object\n",
      " 3   Phone         108 non-null    object\n",
      " 4   Fax           106 non-null    object\n",
      "dtypes: object(5)\n",
      "memory usage: 5.1+ KB\n"
     ]
    }
   ],
   "source": [
    "juries_df.info()"
   ]
  },
  {
   "cell_type": "code",
   "execution_count": 201,
   "metadata": {
    "ExecuteTime": {
     "end_time": "2020-10-23T00:25:47.985630Z",
     "start_time": "2020-10-23T00:25:47.979277Z"
    }
   },
   "outputs": [],
   "source": [
    "juries_df.rename(columns={'Jurisdiction':'county'}, inplace=True)"
   ]
  },
  {
   "cell_type": "code",
   "execution_count": 202,
   "metadata": {
    "ExecuteTime": {
     "end_time": "2020-10-23T00:25:49.240063Z",
     "start_time": "2020-10-23T00:25:49.233662Z"
    }
   },
   "outputs": [],
   "source": [
    "juries_df['county']=juries_df['county'].apply(lambda x: str.title(x))"
   ]
  },
  {
   "cell_type": "code",
   "execution_count": 203,
   "metadata": {
    "ExecuteTime": {
     "end_time": "2020-10-23T00:25:50.214632Z",
     "start_time": "2020-10-23T00:25:50.207687Z"
    }
   },
   "outputs": [],
   "source": [
    "juries_df['address_1'] = juries_df['Address'].apply(lambda x: x.splitlines()[0])"
   ]
  },
  {
   "cell_type": "code",
   "execution_count": 204,
   "metadata": {
    "ExecuteTime": {
     "end_time": "2020-10-23T00:25:50.697792Z",
     "start_time": "2020-10-23T00:25:50.688903Z"
    }
   },
   "outputs": [],
   "source": [
    "juries_df['zip']=juries_df['Address'].apply(lambda x: x.splitlines()[-1])"
   ]
  },
  {
   "cell_type": "code",
   "execution_count": 205,
   "metadata": {
    "ExecuteTime": {
     "end_time": "2020-10-23T00:25:51.045846Z",
     "start_time": "2020-10-23T00:25:51.038610Z"
    }
   },
   "outputs": [],
   "source": [
    "juries_df['city']=juries_df['zip'].apply(lambda x: x.split(',')[0])"
   ]
  },
  {
   "cell_type": "code",
   "execution_count": 206,
   "metadata": {
    "ExecuteTime": {
     "end_time": "2020-10-23T00:25:51.561416Z",
     "start_time": "2020-10-23T00:25:51.555064Z"
    }
   },
   "outputs": [],
   "source": [
    "juries_df['zip']=juries_df['zip'].apply(lambda x: x.split(' ')[-1])"
   ]
  },
  {
   "cell_type": "code",
   "execution_count": 207,
   "metadata": {
    "ExecuteTime": {
     "end_time": "2020-10-23T00:25:51.812603Z",
     "start_time": "2020-10-23T00:25:51.805177Z"
    }
   },
   "outputs": [],
   "source": [
    "juries_df['county']=juries_df['county'].apply(lambda x: x+' County' if x.split(' ')[0]!='City' else x) "
   ]
  },
  {
   "cell_type": "code",
   "execution_count": 208,
   "metadata": {
    "ExecuteTime": {
     "end_time": "2020-10-23T00:25:52.078711Z",
     "start_time": "2020-10-23T00:25:52.071709Z"
    }
   },
   "outputs": [],
   "source": [
    "juries_df.drop('Address', axis=1, inplace=True)"
   ]
  },
  {
   "cell_type": "code",
   "execution_count": 210,
   "metadata": {
    "ExecuteTime": {
     "end_time": "2020-10-23T00:26:07.160244Z",
     "start_time": "2020-10-23T00:26:07.152855Z"
    }
   },
   "outputs": [],
   "source": [
    "juries_df['address_2']=juries_df['address_1'].apply(lambda x: x.split(', ')[1] if re.search(',', x) else np.nan)"
   ]
  },
  {
   "cell_type": "code",
   "execution_count": 211,
   "metadata": {
    "ExecuteTime": {
     "end_time": "2020-10-23T00:26:11.543859Z",
     "start_time": "2020-10-23T00:26:11.537494Z"
    }
   },
   "outputs": [],
   "source": [
    "juries_df['address_1']=juries_df['address_1'].apply(lambda x: x.split(', ')[0])"
   ]
  },
  {
   "cell_type": "code",
   "execution_count": 212,
   "metadata": {
    "ExecuteTime": {
     "end_time": "2020-10-23T00:26:12.179588Z",
     "start_time": "2020-10-23T00:26:12.166768Z"
    }
   },
   "outputs": [
    {
     "name": "stdout",
     "output_type": "stream",
     "text": [
      "<class 'pandas.core.frame.DataFrame'>\n",
      "Int64Index: 108 entries, 0 to 139\n",
      "Data columns (total 8 columns):\n",
      " #   Column     Non-Null Count  Dtype \n",
      "---  ------     --------------  ----- \n",
      " 0   county     108 non-null    object\n",
      " 1   Email      108 non-null    object\n",
      " 2   Phone      108 non-null    object\n",
      " 3   Fax        106 non-null    object\n",
      " 4   address_1  108 non-null    object\n",
      " 5   zip        108 non-null    object\n",
      " 6   city       108 non-null    object\n",
      " 7   address_2  16 non-null     object\n",
      "dtypes: object(8)\n",
      "memory usage: 7.6+ KB\n"
     ]
    }
   ],
   "source": [
    "juries_df.info()"
   ]
  },
  {
   "cell_type": "markdown",
   "metadata": {},
   "source": [
    "# Write jurisdiciton data to csv file"
   ]
  },
  {
   "cell_type": "code",
   "execution_count": 215,
   "metadata": {
    "ExecuteTime": {
     "end_time": "2020-10-23T00:27:50.617385Z",
     "start_time": "2020-10-23T00:27:50.608554Z"
    }
   },
   "outputs": [],
   "source": [
    "juries_df.to_csv('Illinois_juries.csv', index=False)"
   ]
  },
  {
   "cell_type": "code",
   "execution_count": null,
   "metadata": {},
   "outputs": [],
   "source": []
  }
 ],
 "metadata": {
  "kernelspec": {
   "display_name": "Python 3",
   "language": "python",
   "name": "python3"
  },
  "language_info": {
   "codemirror_mode": {
    "name": "ipython",
    "version": 3
   },
   "file_extension": ".py",
   "mimetype": "text/x-python",
   "name": "python",
   "nbconvert_exporter": "python",
   "pygments_lexer": "ipython3",
   "version": "3.6.8"
  },
  "toc": {
   "base_numbering": 1,
   "nav_menu": {},
   "number_sections": true,
   "sideBar": true,
   "skip_h1_title": false,
   "title_cell": "Table of Contents",
   "title_sidebar": "Contents",
   "toc_cell": true,
   "toc_position": {
    "height": "708px",
    "left": "1395.40625px",
    "top": "140px",
    "width": "345.59375px"
   },
   "toc_section_display": true,
   "toc_window_display": true
  }
 },
 "nbformat": 4,
 "nbformat_minor": 4
}
