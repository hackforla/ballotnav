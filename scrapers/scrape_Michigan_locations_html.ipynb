{
 "cells": [
  {
   "cell_type": "markdown",
   "metadata": {
    "toc": true
   },
   "source": [
    "<h1>Table of Contents<span class=\"tocSkip\"></span></h1>\n",
    "<div class=\"toc\"><ul class=\"toc-item\"><li><span><a href=\"#Test--requests.post-on-Michigan's-site\" data-toc-modified-id=\"Test--requests.post-on-Michigan's-site-1\"><span class=\"toc-item-num\">1&nbsp;&nbsp;</span>Test  requests.post on Michigan's site</a></span><ul class=\"toc-item\"><li><span><a href=\"#First-test-county-look-up\" data-toc-modified-id=\"First-test-county-look-up-1.1\"><span class=\"toc-item-num\">1.1&nbsp;&nbsp;</span>First test county look-up</a></span></li><li><span><a href=\"#Then-test-township-look-up\" data-toc-modified-id=\"Then-test-township-look-up-1.2\"><span class=\"toc-item-num\">1.2&nbsp;&nbsp;</span>Then test township look-up</a></span></li></ul></li><li><span><a href=\"#Scrape-all-county-pages\" data-toc-modified-id=\"Scrape-all-county-pages-2\"><span class=\"toc-item-num\">2&nbsp;&nbsp;</span>Scrape all county pages</a></span></li><li><span><a href=\"#Analyze-the-county-pages\" data-toc-modified-id=\"Analyze-the-county-pages-3\"><span class=\"toc-item-num\">3&nbsp;&nbsp;</span>Analyze the county pages</a></span></li><li><span><a href=\"#Build-a-list-of-all-county-names\" data-toc-modified-id=\"Build-a-list-of-all-county-names-4\"><span class=\"toc-item-num\">4&nbsp;&nbsp;</span>Build a list of all county names</a></span></li><li><span><a href=\"#Build-a-list-of-all-jurisdictionCodes\" data-toc-modified-id=\"Build-a-list-of-all-jurisdictionCodes-5\"><span class=\"toc-item-num\">5&nbsp;&nbsp;</span>Build a list of all jurisdictionCodes</a></span></li><li><span><a href=\"#Build-a-list-of-all-township-names\" data-toc-modified-id=\"Build-a-list-of-all-township-names-6\"><span class=\"toc-item-num\">6&nbsp;&nbsp;</span>Build a list of all township names</a></span></li><li><span><a href=\"#Scrape-all-township-(jurisdictions)-pages\" data-toc-modified-id=\"Scrape-all-township-(jurisdictions)-pages-7\"><span class=\"toc-item-num\">7&nbsp;&nbsp;</span>Scrape all township (jurisdictions) pages</a></span></li><li><span><a href=\"#Analyze-the-township-pages\" data-toc-modified-id=\"Analyze-the-township-pages-8\"><span class=\"toc-item-num\">8&nbsp;&nbsp;</span>Analyze the township pages</a></span><ul class=\"toc-item\"><li><span><a href=\"#Isolate-the-textual-data-from-the-maps\" data-toc-modified-id=\"Isolate-the-textual-data-from-the-maps-8.1\"><span class=\"toc-item-num\">8.1&nbsp;&nbsp;</span>Isolate the textual data from the maps</a></span></li></ul></li><li><span><a href=\"#Disagregate-address-elements-into-separate-records\" data-toc-modified-id=\"Disagregate-address-elements-into-separate-records-9\"><span class=\"toc-item-num\">9&nbsp;&nbsp;</span>Disagregate address elements into separate records</a></span></li><li><span><a href=\"#Create-a-DataFrame-to-hold-township-address-data\" data-toc-modified-id=\"Create-a-DataFrame-to-hold-township-address-data-10\"><span class=\"toc-item-num\">10&nbsp;&nbsp;</span>Create a DataFrame to hold township address data</a></span></li><li><span><a href=\"#Write-township-data-to-csv-file\" data-toc-modified-id=\"Write-township-data-to-csv-file-11\"><span class=\"toc-item-num\">11&nbsp;&nbsp;</span>Write township data to csv file</a></span></li><li><span><a href=\"#Disagregate-dropbox-address-data\" data-toc-modified-id=\"Disagregate-dropbox-address-data-12\"><span class=\"toc-item-num\">12&nbsp;&nbsp;</span>Disagregate dropbox address data</a></span></li><li><span><a href=\"#Determine-patterns-of-data-in-dropbox-rows\" data-toc-modified-id=\"Determine-patterns-of-data-in-dropbox-rows-13\"><span class=\"toc-item-num\">13&nbsp;&nbsp;</span>Determine patterns of data in dropbox rows</a></span><ul class=\"toc-item\"><li><span><a href=\"#Analyze-first-set\" data-toc-modified-id=\"Analyze-first-set-13.1\"><span class=\"toc-item-num\">13.1&nbsp;&nbsp;</span>Analyze first set</a></span></li><li><span><a href=\"#Analyze-second-set\" data-toc-modified-id=\"Analyze-second-set-13.2\"><span class=\"toc-item-num\">13.2&nbsp;&nbsp;</span>Analyze second set</a></span></li></ul></li><li><span><a href=\"#Loop-thru-all-cases-to-get-dropbox-data\" data-toc-modified-id=\"Loop-thru-all-cases-to-get-dropbox-data-14\"><span class=\"toc-item-num\">14&nbsp;&nbsp;</span>Loop thru all cases to get dropbox data</a></span></li><li><span><a href=\"#Create-DataFrame-to-hold-drop-box-address-data\" data-toc-modified-id=\"Create-DataFrame-to-hold-drop-box-address-data-15\"><span class=\"toc-item-num\">15&nbsp;&nbsp;</span>Create DataFrame to hold drop box address data</a></span></li><li><span><a href=\"#Create-dropbox-Address-and-City\" data-toc-modified-id=\"Create-dropbox-Address-and-City-16\"><span class=\"toc-item-num\">16&nbsp;&nbsp;</span>Create dropbox Address and City</a></span></li><li><span><a href=\"#Create-dropbox-location_type\" data-toc-modified-id=\"Create-dropbox-location_type-17\"><span class=\"toc-item-num\">17&nbsp;&nbsp;</span>Create dropbox location_type</a></span></li><li><span><a href=\"#Create-dropbox-notes\" data-toc-modified-id=\"Create-dropbox-notes-18\"><span class=\"toc-item-num\">18&nbsp;&nbsp;</span>Create dropbox notes</a></span></li><li><span><a href=\"#Write-dropbox-file-to-csv-file\" data-toc-modified-id=\"Write-dropbox-file-to-csv-file-19\"><span class=\"toc-item-num\">19&nbsp;&nbsp;</span>Write dropbox file to csv file</a></span></li></ul></div>"
   ]
  },
  {
   "cell_type": "code",
   "execution_count": 1,
   "metadata": {
    "ExecuteTime": {
     "end_time": "2020-10-27T21:03:40.935732Z",
     "start_time": "2020-10-27T21:03:39.683158Z"
    }
   },
   "outputs": [],
   "source": [
    "import pandas as pd\n",
    "import numpy as np\n",
    "import requests\n",
    "from bs4 import BeautifulSoup\n",
    "import re\n",
    "import json"
   ]
  },
  {
   "cell_type": "markdown",
   "metadata": {},
   "source": [
    "# Test  requests.post on Michigan's site"
   ]
  },
  {
   "cell_type": "markdown",
   "metadata": {},
   "source": [
    "## First test county look-up"
   ]
  },
  {
   "cell_type": "code",
   "execution_count": 2,
   "metadata": {
    "ExecuteTime": {
     "end_time": "2020-10-27T21:03:41.488356Z",
     "start_time": "2020-10-27T21:03:40.941335Z"
    },
    "scrolled": false
   },
   "outputs": [
    {
     "name": "stderr",
     "output_type": "stream",
     "text": [
      "/Library/Frameworks/Python.framework/Versions/3.6/lib/python3.6/site-packages/urllib3/connectionpool.py:986: InsecureRequestWarning: Unverified HTTPS request is being made to host 'mvic.sos.state.mi.us'. Adding certificate verification is strongly advised. See: https://urllib3.readthedocs.io/en/latest/advanced-usage.html#ssl-warnings\n",
      "  InsecureRequestWarning,\n"
     ]
    }
   ],
   "source": [
    "payload = {'CountyID':'1'}\n",
    "res = requests.post(f'https://mvic.sos.state.mi.us/Voter/SearchByCounty', data=payload, verify=False)"
   ]
  },
  {
   "cell_type": "code",
   "execution_count": 3,
   "metadata": {
    "ExecuteTime": {
     "end_time": "2020-10-27T21:03:41.520434Z",
     "start_time": "2020-10-27T21:03:41.502023Z"
    }
   },
   "outputs": [
    {
     "data": {
      "text/plain": [
       "200"
      ]
     },
     "execution_count": 3,
     "metadata": {},
     "output_type": "execute_result"
    }
   ],
   "source": [
    "res.status_code"
   ]
  },
  {
   "cell_type": "code",
   "execution_count": 4,
   "metadata": {
    "ExecuteTime": {
     "end_time": "2020-10-27T21:03:41.533350Z",
     "start_time": "2020-10-27T21:03:41.525810Z"
    }
   },
   "outputs": [
    {
     "data": {
      "text/plain": [
       "requests.models.Response"
      ]
     },
     "execution_count": 4,
     "metadata": {},
     "output_type": "execute_result"
    }
   ],
   "source": [
    "type(res)"
   ]
  },
  {
   "cell_type": "code",
   "execution_count": 5,
   "metadata": {
    "ExecuteTime": {
     "end_time": "2020-10-27T21:03:41.576098Z",
     "start_time": "2020-10-27T21:03:41.540806Z"
    }
   },
   "outputs": [],
   "source": [
    "soup = BeautifulSoup(res.content, 'html.parser')"
   ]
  },
  {
   "cell_type": "code",
   "execution_count": 6,
   "metadata": {
    "ExecuteTime": {
     "end_time": "2020-10-27T21:03:41.638167Z",
     "start_time": "2020-10-27T21:03:41.593003Z"
    },
    "scrolled": false
   },
   "outputs": [
    {
     "data": {
      "text/plain": [
       "\n",
       "<input id=\"hfPageTitle\" name=\"hfPageTitle\" type=\"hidden\" value=\"County Clerk\"/><script async=\"\" defer=\"\" src=\"https://www.bing.com/api/maps/mapcontrol?callback=GetMap\" type=\"text/javascript\"></script>\n",
       "<script src=\"/bundles/BingMapJS?v=XgqZHpFMh6PgxqFv2EbFUE-JrwdZK88VAIk5Ee20hLA1\"></script>\n",
       "<input id=\"hfPageTitle\" name=\"hfPageTitle\" type=\"hidden\" value=\"Your city/township clerk\"/>\n",
       "<input id=\"hfPageName\" name=\"hfPageName\" type=\"hidden\" value=\"clerk\"/>\n",
       "<input id=\"hfClerkLatitude\" name=\"hfClerkLatitude\" type=\"hidden\" value=\"44.657546\"/>\n",
       "<input id=\"hfClerkLongitude\" name=\"hfClerkLongitude\" type=\"hidden\" value=\"-83.296131\"/>\n",
       "<input id=\"hfClerkRouteRequestTitle\" name=\"hfClerkRouteRequestTitle\" type=\"hidden\" value=\"Alcona County clerk\"/>\n",
       "<input id=\"hfClerkAddress\" name=\"hfClerkAddress\" type=\"hidden\" value=\"106 5th Street\"/>\n",
       "<input id=\"hfClerkCityStateZip\" name=\"hfClerkCityStateZip\" type=\"hidden\" value=\"Harrisville, Michigan  48740-0308\"/>\n",
       "<input id=\"hfCountyID\" name=\"hfCountyID\" type=\"hidden\" value=\"1\"/>\n",
       "<input id=\"hfMapType\" name=\"hfMapType\" type=\"hidden\" value=\"clerk\"/>\n",
       "<h1 class=\"ccd-page-heading\">Your county clerk</h1><br/> <div class=\"row localClerkLinkPanel\">\n",
       "<div class=\"col-12\">\n",
       "<div class=\"card\">\n",
       "<div class=\"card-header\">\n",
       "<h2 class=\"ccd-page-heading\" id=\"lblLocalClerkLinksHeader\">Alcona County city/township clerks </h2>\n",
       "</div>\n",
       "<div class=\"card-body\">\n",
       "<div class=\"row\"><div class=\"col-12 col-sm-6 col-md-4 col-lg-3 col-xl-2\"><a class=\"local-clerk-link\" href=\"/Clerk/LocalClerk?dummy=x&amp;jurisdictionCode=01040&amp;countyID=1&amp;jurisdictionName=Alcona%20Township\">Alcona Township</a></div><div class=\"col-12 col-sm-6 col-md-4 col-lg-3 col-xl-2\"><a class=\"local-clerk-link\" href=\"/Clerk/LocalClerk?dummy=x&amp;jurisdictionCode=12460&amp;countyID=1&amp;jurisdictionName=Caledonia%20Township\">Caledonia Township</a></div><div class=\"col-12 col-sm-6 col-md-4 col-lg-3 col-xl-2\"><a class=\"local-clerk-link\" href=\"/Clerk/LocalClerk?dummy=x&amp;jurisdictionCode=19320&amp;countyID=1&amp;jurisdictionName=Curtis%20Township\">Curtis Township</a></div><div class=\"col-12 col-sm-6 col-md-4 col-lg-3 col-xl-2\"><a class=\"local-clerk-link\" href=\"/Clerk/LocalClerk?dummy=x&amp;jurisdictionCode=34820&amp;countyID=1&amp;jurisdictionName=Greenbush%20Township\">Greenbush Township</a></div><div class=\"col-12 col-sm-6 col-md-4 col-lg-3 col-xl-2\"><a class=\"local-clerk-link\" href=\"/Clerk/LocalClerk?dummy=x&amp;jurisdictionCode=35740&amp;countyID=1&amp;jurisdictionName=Gustin%20Township\">Gustin Township</a></div><div class=\"col-12 col-sm-6 col-md-4 col-lg-3 col-xl-2\"><a class=\"local-clerk-link\" href=\"/Clerk/LocalClerk?dummy=x&amp;jurisdictionCode=36860&amp;countyID=1&amp;jurisdictionName=Harrisville%20City\">Harrisville City</a></div><div class=\"col-12 col-sm-6 col-md-4 col-lg-3 col-xl-2\"><a class=\"local-clerk-link\" href=\"/Clerk/LocalClerk?dummy=x&amp;jurisdictionCode=36880&amp;countyID=1&amp;jurisdictionName=Harrisville%20Township\">Harrisville Township</a></div><div class=\"col-12 col-sm-6 col-md-4 col-lg-3 col-xl-2\"><a class=\"local-clerk-link\" href=\"/Clerk/LocalClerk?dummy=x&amp;jurisdictionCode=37220&amp;countyID=1&amp;jurisdictionName=Hawes%20Township\">Hawes Township</a></div><div class=\"col-12 col-sm-6 col-md-4 col-lg-3 col-xl-2\"><a class=\"local-clerk-link\" href=\"/Clerk/LocalClerk?dummy=x&amp;jurisdictionCode=37380&amp;countyID=1&amp;jurisdictionName=Haynes%20Township\">Haynes Township</a></div><div class=\"col-12 col-sm-6 col-md-4 col-lg-3 col-xl-2\"><a class=\"local-clerk-link\" href=\"/Clerk/LocalClerk?dummy=x&amp;jurisdictionCode=53880&amp;countyID=1&amp;jurisdictionName=Mikado%20Township\">Mikado Township</a></div><div class=\"col-12 col-sm-6 col-md-4 col-lg-3 col-xl-2\"><a class=\"local-clerk-link\" href=\"/Clerk/LocalClerk?dummy=x&amp;jurisdictionCode=54060&amp;countyID=1&amp;jurisdictionName=Millen%20Township\">Millen Township</a></div><div class=\"col-12 col-sm-6 col-md-4 col-lg-3 col-xl-2\"><a class=\"local-clerk-link\" href=\"/Clerk/LocalClerk?dummy=x&amp;jurisdictionCode=54740&amp;countyID=1&amp;jurisdictionName=Mitchell%20Township\">Mitchell Township</a></div></div> </div>\n",
       "</div>\n",
       "</div>\n",
       "</div>\n",
       "<br/>\n",
       "<br/>\n",
       "<div id=\"pnlClerk\">\n",
       "<div class=\"row\">\n",
       "<div class=\"col-12 col-lg-4\">\n",
       "<div class=\"card\">\n",
       "<div class=\"card-header\">\n",
       "<h2 class=\"ccd-page-heading\">\n",
       "Alcona County\t\t\t\t\t</h2>\n",
       "</div>\n",
       "<div class=\"card-body\">\n",
       "\t\t\t\t\tStephany Eller, County Clerk\n",
       "\t\t\t\t\t<br/>\n",
       "<br/>\n",
       "\t\t\t\t\t106 5th Street\n",
       "\t\t\t\t\t<br/>\n",
       "PO Box 308\t\t\t\t\t\t<br/>\n",
       "\t\t\t\t\tHarrisville, Michigan  48740-0308\n",
       "\n",
       "\t\t\t\t\t<br/>\n",
       "<br/>\n",
       "<strong>Phone:  </strong>(989) 724-9410\n",
       "\t\t\t\t\t<br/>\n",
       "<strong>Fax:  </strong>(989) 724-9419\n",
       "\t\t\t\t\t<br/>\n",
       "<strong>Email:  </strong>\n",
       "<a href=\"mailto:clerk@alcona-county.net\">clerk@alcona-county.net</a>\n",
       "<br/>\n",
       "</div>\n",
       "</div>\n",
       "</div>\n",
       "<div class=\"col-12 col-lg-8 map-display\">\n",
       "<div class=\"card\">\n",
       "<div class=\"card-header\">\n",
       "<h2 class=\"ccd-page-heading\">\n",
       "Alcona County clerk's office\n",
       "\t\t\t\t\t</h2>\n",
       "</div>\n",
       "<div class=\"card-body\" id=\"map-panel\">\n",
       "<div class=\"theMap\" id=\"clerkMapArea\">\n",
       "<div id=\"clerkMap\"></div>\n",
       "</div>\n",
       "</div>\n",
       "</div>\n",
       "</div>\n",
       "</div>\n",
       "</div>\n",
       "<div aria-labelledby=\"RouteRequest\" class=\"modal fade custom-model-class\" id=\"RouteRequest\" role=\"dialog\" tabindex=\"-1\">\n",
       "<div class=\"modal-dialog modal-lg\" role=\"document\">\n",
       "<div class=\"modal-content\">\n",
       "<div class=\"modal-header route-request-title\">\n",
       "                Directions to <span id=\"RouteRequestTitle\"></span>\n",
       "</div>\n",
       "<div class=\"modal-body\">\n",
       "<div>\n",
       "<span class=\"route-description-area\" id=\"RouteRequestDetail1\"></span>\n",
       "<br/>\n",
       "<span class=\"route-description-area\" id=\"RouteRequestDetail2\"></span>\n",
       "</div>\n",
       "<br/>\n",
       "<div>\n",
       "<label for=\"StartingPoint\">Enter a starting point</label>\n",
       "</div>\n",
       "<input autofocus=\"\" id=\"StartingPoint\" type=\"text\"/>\n",
       "</div>\n",
       "<div class=\"modal-footer\">\n",
       "<button class=\"btn btn-primary\" formtarget=\"_self\" id=\"btnRouteRequest\" role=\"button\" type=\"button\">Get Route</button>\n",
       "<button class=\"btn btn-default\" data-dismiss=\"modal\" type=\"button\">CLOSE</button>\n",
       "</div>\n",
       "</div>\n",
       "</div>\n",
       "</div>\n",
       "<div aria-labelledby=\"RouteContainer\" class=\"modal fade custom-model-class\" id=\"RouteContainer\" role=\"dialog\" tabindex=\"-1\">\n",
       "<div class=\"modal-dialog modal-lg\" role=\"document\">\n",
       "<div class=\"modal-content\">\n",
       "<div class=\"modal-header\">\n",
       "<button class=\"btn btn-default\" data-dismiss=\"modal\" type=\"button\">CLOSE</button>\n",
       "</div>\n",
       "<div class=\"modal-body\">\n",
       "<div class=\"theMap\">\n",
       "<div id=\"routeMap\"></div>\n",
       "</div>\n",
       "<div class=\"panel\" id=\"routeDirectionsContainer\">\n",
       "<div class=\"panel-heading\">\n",
       "                        Directions to <span id=\"DirectionsTitle\"></span>\n",
       "</div>\n",
       "<div class=\"panel-body\">\n",
       "<div id=\"routeDirectionsItinerary\"></div>\n",
       "</div>\n",
       "</div>\n",
       "</div>\n",
       "</div>\n",
       "</div>\n",
       "</div>\n",
       "<script src=\"/bundles/clerkJS?v=ZzAGLBXHiEY2ZbKF9yBeGwFh-BUq5C5m5jGY23bcaQ01\"></script>"
      ]
     },
     "execution_count": 6,
     "metadata": {},
     "output_type": "execute_result"
    }
   ],
   "source": [
    "soup"
   ]
  },
  {
   "cell_type": "markdown",
   "metadata": {},
   "source": [
    "## Then test township look-up"
   ]
  },
  {
   "cell_type": "code",
   "execution_count": 7,
   "metadata": {
    "ExecuteTime": {
     "end_time": "2020-10-27T21:03:42.055867Z",
     "start_time": "2020-10-27T21:03:41.642782Z"
    },
    "scrolled": true
   },
   "outputs": [
    {
     "name": "stderr",
     "output_type": "stream",
     "text": [
      "/Library/Frameworks/Python.framework/Versions/3.6/lib/python3.6/site-packages/urllib3/connectionpool.py:986: InsecureRequestWarning: Unverified HTTPS request is being made to host 'mvic.sos.state.mi.us'. Adding certificate verification is strongly advised. See: https://urllib3.readthedocs.io/en/latest/advanced-usage.html#ssl-warnings\n",
      "  InsecureRequestWarning,\n"
     ]
    }
   ],
   "source": [
    "payload = {'jurisdictionCode':'01040'}\n",
    "res = requests.post('https://mvic.sos.state.mi.us/Voter/LocalClerk', data=payload, verify=False)"
   ]
  },
  {
   "cell_type": "code",
   "execution_count": 8,
   "metadata": {
    "ExecuteTime": {
     "end_time": "2020-10-27T21:03:42.070411Z",
     "start_time": "2020-10-27T21:03:42.064157Z"
    }
   },
   "outputs": [
    {
     "data": {
      "text/plain": [
       "200"
      ]
     },
     "execution_count": 8,
     "metadata": {},
     "output_type": "execute_result"
    }
   ],
   "source": [
    "res.status_code"
   ]
  },
  {
   "cell_type": "code",
   "execution_count": 9,
   "metadata": {
    "ExecuteTime": {
     "end_time": "2020-10-27T21:03:42.084982Z",
     "start_time": "2020-10-27T21:03:42.076580Z"
    }
   },
   "outputs": [
    {
     "data": {
      "text/plain": [
       "requests.models.Response"
      ]
     },
     "execution_count": 9,
     "metadata": {},
     "output_type": "execute_result"
    }
   ],
   "source": [
    "type(res)"
   ]
  },
  {
   "cell_type": "code",
   "execution_count": 10,
   "metadata": {
    "ExecuteTime": {
     "end_time": "2020-10-27T21:03:42.105514Z",
     "start_time": "2020-10-27T21:03:42.090897Z"
    }
   },
   "outputs": [],
   "source": [
    "soup = BeautifulSoup(res.content, 'html.parser')"
   ]
  },
  {
   "cell_type": "code",
   "execution_count": 11,
   "metadata": {
    "ExecuteTime": {
     "end_time": "2020-10-27T21:03:42.146762Z",
     "start_time": "2020-10-27T21:03:42.109596Z"
    },
    "scrolled": false
   },
   "outputs": [
    {
     "data": {
      "text/plain": [
       "\n",
       "<input id=\"hfPageTitle\" name=\"hfPageTitle\" type=\"hidden\" value=\"Your city/township clerk\"/><script async=\"\" defer=\"\" src=\"https://www.bing.com/api/maps/mapcontrol?callback=GetMap\" type=\"text/javascript\"></script>\n",
       "<script src=\"/bundles/BingMapJS?v=XgqZHpFMh6PgxqFv2EbFUE-JrwdZK88VAIk5Ee20hLA1\"></script>\n",
       "<input id=\"hfPageTitle\" name=\"hfPageTitle\" type=\"hidden\" value=\"Your city/township clerk\"/>\n",
       "<input id=\"hfPageName\" name=\"hfPageName\" type=\"hidden\" value=\"clerk\"/>\n",
       "<input id=\"hfClerkLatitude\" name=\"hfClerkLatitude\" type=\"hidden\" value=\"44.800836\"/>\n",
       "<input id=\"hfClerkLongitude\" name=\"hfClerkLongitude\" type=\"hidden\" value=\"-83.328997\"/>\n",
       "<input id=\"hfClerkRouteRequestTitle\" name=\"hfClerkRouteRequestTitle\" type=\"hidden\" value=\"Alcona Township clerk\"/>\n",
       "<input id=\"hfClerkAddress\" name=\"hfClerkAddress\" type=\"hidden\" value=\"4892 Lavergne Rd\"/>\n",
       "<input id=\"hfClerkCityStateZip\" name=\"hfClerkCityStateZip\" type=\"hidden\" value=\"Black River, Michigan  48721\"/>\n",
       "<input id=\"hfCountyID\" name=\"hfCountyID\" type=\"hidden\" value=\"1\"/>\n",
       "<input id=\"hfMapType\" name=\"hfMapType\" type=\"hidden\" value=\"clerk\"/>\n",
       "<h1 class=\"ccd-page-heading\">Your city/township clerk</h1>\n",
       "<br/>\n",
       "<br/>\n",
       "<div id=\"pnlClerk\">\n",
       "<div class=\"row\">\n",
       "<div class=\"col-12 col-lg-4\">\n",
       "<div class=\"card\">\n",
       "<div class=\"card-header\">\n",
       "<h2 class=\"ccd-page-heading\">\n",
       "Alcona Township\t\t\t\t\t</h2>\n",
       "</div>\n",
       "<div class=\"card-body\">\n",
       "\t\t\t\t\tDawn Lalonde, Township Clerk\n",
       "\t\t\t\t\t<br/>\n",
       "<br/>\n",
       "\t\t\t\t\t4892 Lavergne Rd\n",
       "\t\t\t\t\t<br/>\n",
       "\t\t\t\t\tBlack River, Michigan  48721\n",
       "\n",
       "\t\t\t\t\t<br/>\n",
       "<br/>\n",
       "<strong>Phone:  </strong>(989) 471-2948\n",
       "\t\t\t\t\t<br/>\n",
       "<strong>Fax:  </strong>(989) 471-2016\n",
       "\t\t\t\t\t<br/>\n",
       "<strong>Email:  </strong>\n",
       "<a href=\"mailto:alconaclerk@yahoo.com\">alconaclerk@yahoo.com</a>\n",
       "<br/>\n",
       "<strong>11/3/2020<br/></strong> <strong>Pre-election weekend hours:</strong><div class=\"clerk-hours\"><span style=\"font-weight:600\">Saturday, October 31, 2020</span><br/> 7:30am-3:30pm<br/></div> <br/>\n",
       "<span class=\"badge bg-gradient additional-location-badge\">Drop box locations</span>\n",
       "<br/>\n",
       "<br/>5576 Us 23<br/>Black River, Michigan 48721<br/><strong>Hours:</strong><div class=\"clerk-hours\">Available 24 Hours/7 Days a Week<br/></div>\n",
       "<br/><br/><a href=\"/Clerk/SearchByCounty?counties=1\" id=\"county-clerk-link\" style=\"font-size:1.2rem\">County clerk information</a>\n",
       "</div>\n",
       "</div>\n",
       "</div>\n",
       "<div class=\"col-12 col-lg-8 map-display\">\n",
       "<div class=\"card\">\n",
       "<div class=\"card-header\">\n",
       "<h2 class=\"ccd-page-heading\">\n",
       "Alcona Township clerk's office\n",
       "\t\t\t\t\t</h2>\n",
       "</div>\n",
       "<div class=\"card-body\" id=\"map-panel\">\n",
       "<div class=\"theMap\" id=\"clerkMapArea\">\n",
       "<div id=\"clerkMap\"></div>\n",
       "</div>\n",
       "</div>\n",
       "</div>\n",
       "</div>\n",
       "</div>\n",
       "</div>\n",
       "<div aria-labelledby=\"RouteRequest\" class=\"modal fade custom-model-class\" id=\"RouteRequest\" role=\"dialog\" tabindex=\"-1\">\n",
       "<div class=\"modal-dialog modal-lg\" role=\"document\">\n",
       "<div class=\"modal-content\">\n",
       "<div class=\"modal-header route-request-title\">\n",
       "                Directions to <span id=\"RouteRequestTitle\"></span>\n",
       "</div>\n",
       "<div class=\"modal-body\">\n",
       "<div>\n",
       "<span class=\"route-description-area\" id=\"RouteRequestDetail1\"></span>\n",
       "<br/>\n",
       "<span class=\"route-description-area\" id=\"RouteRequestDetail2\"></span>\n",
       "</div>\n",
       "<br/>\n",
       "<div>\n",
       "<label for=\"StartingPoint\">Enter a starting point</label>\n",
       "</div>\n",
       "<input autofocus=\"\" id=\"StartingPoint\" type=\"text\"/>\n",
       "</div>\n",
       "<div class=\"modal-footer\">\n",
       "<button class=\"btn btn-primary\" formtarget=\"_self\" id=\"btnRouteRequest\" role=\"button\" type=\"button\">Get Route</button>\n",
       "<button class=\"btn btn-default\" data-dismiss=\"modal\" type=\"button\">CLOSE</button>\n",
       "</div>\n",
       "</div>\n",
       "</div>\n",
       "</div>\n",
       "<div aria-labelledby=\"RouteContainer\" class=\"modal fade custom-model-class\" id=\"RouteContainer\" role=\"dialog\" tabindex=\"-1\">\n",
       "<div class=\"modal-dialog modal-lg\" role=\"document\">\n",
       "<div class=\"modal-content\">\n",
       "<div class=\"modal-header\">\n",
       "<button class=\"btn btn-default\" data-dismiss=\"modal\" type=\"button\">CLOSE</button>\n",
       "</div>\n",
       "<div class=\"modal-body\">\n",
       "<div class=\"theMap\">\n",
       "<div id=\"routeMap\"></div>\n",
       "</div>\n",
       "<div class=\"panel\" id=\"routeDirectionsContainer\">\n",
       "<div class=\"panel-heading\">\n",
       "                        Directions to <span id=\"DirectionsTitle\"></span>\n",
       "</div>\n",
       "<div class=\"panel-body\">\n",
       "<div id=\"routeDirectionsItinerary\"></div>\n",
       "</div>\n",
       "</div>\n",
       "</div>\n",
       "</div>\n",
       "</div>\n",
       "</div>\n",
       "<script src=\"/bundles/clerkJS?v=ZzAGLBXHiEY2ZbKF9yBeGwFh-BUq5C5m5jGY23bcaQ01\"></script>"
      ]
     },
     "execution_count": 11,
     "metadata": {},
     "output_type": "execute_result"
    }
   ],
   "source": [
    "soup"
   ]
  },
  {
   "cell_type": "markdown",
   "metadata": {},
   "source": [
    "# Scrape all county pages"
   ]
  },
  {
   "cell_type": "code",
   "execution_count": 12,
   "metadata": {
    "ExecuteTime": {
     "end_time": "2020-10-27T21:03:42.156729Z",
     "start_time": "2020-10-27T21:03:42.151131Z"
    }
   },
   "outputs": [],
   "source": [
    "tot_1 = str()"
   ]
  },
  {
   "cell_type": "code",
   "execution_count": 13,
   "metadata": {
    "ExecuteTime": {
     "end_time": "2020-10-27T21:04:14.307522Z",
     "start_time": "2020-10-27T21:03:42.161298Z"
    },
    "scrolled": true
   },
   "outputs": [
    {
     "name": "stderr",
     "output_type": "stream",
     "text": [
      "/Library/Frameworks/Python.framework/Versions/3.6/lib/python3.6/site-packages/urllib3/connectionpool.py:986: InsecureRequestWarning: Unverified HTTPS request is being made to host 'mvic.sos.state.mi.us'. Adding certificate verification is strongly advised. See: https://urllib3.readthedocs.io/en/latest/advanced-usage.html#ssl-warnings\n",
      "  InsecureRequestWarning,\n",
      "/Library/Frameworks/Python.framework/Versions/3.6/lib/python3.6/site-packages/urllib3/connectionpool.py:986: InsecureRequestWarning: Unverified HTTPS request is being made to host 'mvic.sos.state.mi.us'. Adding certificate verification is strongly advised. See: https://urllib3.readthedocs.io/en/latest/advanced-usage.html#ssl-warnings\n",
      "  InsecureRequestWarning,\n",
      "/Library/Frameworks/Python.framework/Versions/3.6/lib/python3.6/site-packages/urllib3/connectionpool.py:986: InsecureRequestWarning: Unverified HTTPS request is being made to host 'mvic.sos.state.mi.us'. Adding certificate verification is strongly advised. See: https://urllib3.readthedocs.io/en/latest/advanced-usage.html#ssl-warnings\n",
      "  InsecureRequestWarning,\n",
      "/Library/Frameworks/Python.framework/Versions/3.6/lib/python3.6/site-packages/urllib3/connectionpool.py:986: InsecureRequestWarning: Unverified HTTPS request is being made to host 'mvic.sos.state.mi.us'. Adding certificate verification is strongly advised. See: https://urllib3.readthedocs.io/en/latest/advanced-usage.html#ssl-warnings\n",
      "  InsecureRequestWarning,\n",
      "/Library/Frameworks/Python.framework/Versions/3.6/lib/python3.6/site-packages/urllib3/connectionpool.py:986: InsecureRequestWarning: Unverified HTTPS request is being made to host 'mvic.sos.state.mi.us'. Adding certificate verification is strongly advised. See: https://urllib3.readthedocs.io/en/latest/advanced-usage.html#ssl-warnings\n",
      "  InsecureRequestWarning,\n",
      "/Library/Frameworks/Python.framework/Versions/3.6/lib/python3.6/site-packages/urllib3/connectionpool.py:986: InsecureRequestWarning: Unverified HTTPS request is being made to host 'mvic.sos.state.mi.us'. Adding certificate verification is strongly advised. See: https://urllib3.readthedocs.io/en/latest/advanced-usage.html#ssl-warnings\n",
      "  InsecureRequestWarning,\n",
      "/Library/Frameworks/Python.framework/Versions/3.6/lib/python3.6/site-packages/urllib3/connectionpool.py:986: InsecureRequestWarning: Unverified HTTPS request is being made to host 'mvic.sos.state.mi.us'. Adding certificate verification is strongly advised. See: https://urllib3.readthedocs.io/en/latest/advanced-usage.html#ssl-warnings\n",
      "  InsecureRequestWarning,\n",
      "/Library/Frameworks/Python.framework/Versions/3.6/lib/python3.6/site-packages/urllib3/connectionpool.py:986: InsecureRequestWarning: Unverified HTTPS request is being made to host 'mvic.sos.state.mi.us'. Adding certificate verification is strongly advised. See: https://urllib3.readthedocs.io/en/latest/advanced-usage.html#ssl-warnings\n",
      "  InsecureRequestWarning,\n",
      "/Library/Frameworks/Python.framework/Versions/3.6/lib/python3.6/site-packages/urllib3/connectionpool.py:986: InsecureRequestWarning: Unverified HTTPS request is being made to host 'mvic.sos.state.mi.us'. Adding certificate verification is strongly advised. See: https://urllib3.readthedocs.io/en/latest/advanced-usage.html#ssl-warnings\n",
      "  InsecureRequestWarning,\n",
      "/Library/Frameworks/Python.framework/Versions/3.6/lib/python3.6/site-packages/urllib3/connectionpool.py:986: InsecureRequestWarning: Unverified HTTPS request is being made to host 'mvic.sos.state.mi.us'. Adding certificate verification is strongly advised. See: https://urllib3.readthedocs.io/en/latest/advanced-usage.html#ssl-warnings\n",
      "  InsecureRequestWarning,\n",
      "/Library/Frameworks/Python.framework/Versions/3.6/lib/python3.6/site-packages/urllib3/connectionpool.py:986: InsecureRequestWarning: Unverified HTTPS request is being made to host 'mvic.sos.state.mi.us'. Adding certificate verification is strongly advised. See: https://urllib3.readthedocs.io/en/latest/advanced-usage.html#ssl-warnings\n",
      "  InsecureRequestWarning,\n",
      "/Library/Frameworks/Python.framework/Versions/3.6/lib/python3.6/site-packages/urllib3/connectionpool.py:986: InsecureRequestWarning: Unverified HTTPS request is being made to host 'mvic.sos.state.mi.us'. Adding certificate verification is strongly advised. See: https://urllib3.readthedocs.io/en/latest/advanced-usage.html#ssl-warnings\n",
      "  InsecureRequestWarning,\n",
      "/Library/Frameworks/Python.framework/Versions/3.6/lib/python3.6/site-packages/urllib3/connectionpool.py:986: InsecureRequestWarning: Unverified HTTPS request is being made to host 'mvic.sos.state.mi.us'. Adding certificate verification is strongly advised. See: https://urllib3.readthedocs.io/en/latest/advanced-usage.html#ssl-warnings\n",
      "  InsecureRequestWarning,\n",
      "/Library/Frameworks/Python.framework/Versions/3.6/lib/python3.6/site-packages/urllib3/connectionpool.py:986: InsecureRequestWarning: Unverified HTTPS request is being made to host 'mvic.sos.state.mi.us'. Adding certificate verification is strongly advised. See: https://urllib3.readthedocs.io/en/latest/advanced-usage.html#ssl-warnings\n",
      "  InsecureRequestWarning,\n",
      "/Library/Frameworks/Python.framework/Versions/3.6/lib/python3.6/site-packages/urllib3/connectionpool.py:986: InsecureRequestWarning: Unverified HTTPS request is being made to host 'mvic.sos.state.mi.us'. Adding certificate verification is strongly advised. See: https://urllib3.readthedocs.io/en/latest/advanced-usage.html#ssl-warnings\n",
      "  InsecureRequestWarning,\n",
      "/Library/Frameworks/Python.framework/Versions/3.6/lib/python3.6/site-packages/urllib3/connectionpool.py:986: InsecureRequestWarning: Unverified HTTPS request is being made to host 'mvic.sos.state.mi.us'. Adding certificate verification is strongly advised. See: https://urllib3.readthedocs.io/en/latest/advanced-usage.html#ssl-warnings\n",
      "  InsecureRequestWarning,\n",
      "/Library/Frameworks/Python.framework/Versions/3.6/lib/python3.6/site-packages/urllib3/connectionpool.py:986: InsecureRequestWarning: Unverified HTTPS request is being made to host 'mvic.sos.state.mi.us'. Adding certificate verification is strongly advised. See: https://urllib3.readthedocs.io/en/latest/advanced-usage.html#ssl-warnings\n",
      "  InsecureRequestWarning,\n",
      "/Library/Frameworks/Python.framework/Versions/3.6/lib/python3.6/site-packages/urllib3/connectionpool.py:986: InsecureRequestWarning: Unverified HTTPS request is being made to host 'mvic.sos.state.mi.us'. Adding certificate verification is strongly advised. See: https://urllib3.readthedocs.io/en/latest/advanced-usage.html#ssl-warnings\n",
      "  InsecureRequestWarning,\n",
      "/Library/Frameworks/Python.framework/Versions/3.6/lib/python3.6/site-packages/urllib3/connectionpool.py:986: InsecureRequestWarning: Unverified HTTPS request is being made to host 'mvic.sos.state.mi.us'. Adding certificate verification is strongly advised. See: https://urllib3.readthedocs.io/en/latest/advanced-usage.html#ssl-warnings\n",
      "  InsecureRequestWarning,\n",
      "/Library/Frameworks/Python.framework/Versions/3.6/lib/python3.6/site-packages/urllib3/connectionpool.py:986: InsecureRequestWarning: Unverified HTTPS request is being made to host 'mvic.sos.state.mi.us'. Adding certificate verification is strongly advised. See: https://urllib3.readthedocs.io/en/latest/advanced-usage.html#ssl-warnings\n",
      "  InsecureRequestWarning,\n",
      "/Library/Frameworks/Python.framework/Versions/3.6/lib/python3.6/site-packages/urllib3/connectionpool.py:986: InsecureRequestWarning: Unverified HTTPS request is being made to host 'mvic.sos.state.mi.us'. Adding certificate verification is strongly advised. See: https://urllib3.readthedocs.io/en/latest/advanced-usage.html#ssl-warnings\n",
      "  InsecureRequestWarning,\n",
      "/Library/Frameworks/Python.framework/Versions/3.6/lib/python3.6/site-packages/urllib3/connectionpool.py:986: InsecureRequestWarning: Unverified HTTPS request is being made to host 'mvic.sos.state.mi.us'. Adding certificate verification is strongly advised. See: https://urllib3.readthedocs.io/en/latest/advanced-usage.html#ssl-warnings\n",
      "  InsecureRequestWarning,\n",
      "/Library/Frameworks/Python.framework/Versions/3.6/lib/python3.6/site-packages/urllib3/connectionpool.py:986: InsecureRequestWarning: Unverified HTTPS request is being made to host 'mvic.sos.state.mi.us'. Adding certificate verification is strongly advised. See: https://urllib3.readthedocs.io/en/latest/advanced-usage.html#ssl-warnings\n",
      "  InsecureRequestWarning,\n"
     ]
    },
    {
     "name": "stderr",
     "output_type": "stream",
     "text": [
      "/Library/Frameworks/Python.framework/Versions/3.6/lib/python3.6/site-packages/urllib3/connectionpool.py:986: InsecureRequestWarning: Unverified HTTPS request is being made to host 'mvic.sos.state.mi.us'. Adding certificate verification is strongly advised. See: https://urllib3.readthedocs.io/en/latest/advanced-usage.html#ssl-warnings\n",
      "  InsecureRequestWarning,\n",
      "/Library/Frameworks/Python.framework/Versions/3.6/lib/python3.6/site-packages/urllib3/connectionpool.py:986: InsecureRequestWarning: Unverified HTTPS request is being made to host 'mvic.sos.state.mi.us'. Adding certificate verification is strongly advised. See: https://urllib3.readthedocs.io/en/latest/advanced-usage.html#ssl-warnings\n",
      "  InsecureRequestWarning,\n",
      "/Library/Frameworks/Python.framework/Versions/3.6/lib/python3.6/site-packages/urllib3/connectionpool.py:986: InsecureRequestWarning: Unverified HTTPS request is being made to host 'mvic.sos.state.mi.us'. Adding certificate verification is strongly advised. See: https://urllib3.readthedocs.io/en/latest/advanced-usage.html#ssl-warnings\n",
      "  InsecureRequestWarning,\n",
      "/Library/Frameworks/Python.framework/Versions/3.6/lib/python3.6/site-packages/urllib3/connectionpool.py:986: InsecureRequestWarning: Unverified HTTPS request is being made to host 'mvic.sos.state.mi.us'. Adding certificate verification is strongly advised. See: https://urllib3.readthedocs.io/en/latest/advanced-usage.html#ssl-warnings\n",
      "  InsecureRequestWarning,\n",
      "/Library/Frameworks/Python.framework/Versions/3.6/lib/python3.6/site-packages/urllib3/connectionpool.py:986: InsecureRequestWarning: Unverified HTTPS request is being made to host 'mvic.sos.state.mi.us'. Adding certificate verification is strongly advised. See: https://urllib3.readthedocs.io/en/latest/advanced-usage.html#ssl-warnings\n",
      "  InsecureRequestWarning,\n",
      "/Library/Frameworks/Python.framework/Versions/3.6/lib/python3.6/site-packages/urllib3/connectionpool.py:986: InsecureRequestWarning: Unverified HTTPS request is being made to host 'mvic.sos.state.mi.us'. Adding certificate verification is strongly advised. See: https://urllib3.readthedocs.io/en/latest/advanced-usage.html#ssl-warnings\n",
      "  InsecureRequestWarning,\n",
      "/Library/Frameworks/Python.framework/Versions/3.6/lib/python3.6/site-packages/urllib3/connectionpool.py:986: InsecureRequestWarning: Unverified HTTPS request is being made to host 'mvic.sos.state.mi.us'. Adding certificate verification is strongly advised. See: https://urllib3.readthedocs.io/en/latest/advanced-usage.html#ssl-warnings\n",
      "  InsecureRequestWarning,\n",
      "/Library/Frameworks/Python.framework/Versions/3.6/lib/python3.6/site-packages/urllib3/connectionpool.py:986: InsecureRequestWarning: Unverified HTTPS request is being made to host 'mvic.sos.state.mi.us'. Adding certificate verification is strongly advised. See: https://urllib3.readthedocs.io/en/latest/advanced-usage.html#ssl-warnings\n",
      "  InsecureRequestWarning,\n",
      "/Library/Frameworks/Python.framework/Versions/3.6/lib/python3.6/site-packages/urllib3/connectionpool.py:986: InsecureRequestWarning: Unverified HTTPS request is being made to host 'mvic.sos.state.mi.us'. Adding certificate verification is strongly advised. See: https://urllib3.readthedocs.io/en/latest/advanced-usage.html#ssl-warnings\n",
      "  InsecureRequestWarning,\n",
      "/Library/Frameworks/Python.framework/Versions/3.6/lib/python3.6/site-packages/urllib3/connectionpool.py:986: InsecureRequestWarning: Unverified HTTPS request is being made to host 'mvic.sos.state.mi.us'. Adding certificate verification is strongly advised. See: https://urllib3.readthedocs.io/en/latest/advanced-usage.html#ssl-warnings\n",
      "  InsecureRequestWarning,\n",
      "/Library/Frameworks/Python.framework/Versions/3.6/lib/python3.6/site-packages/urllib3/connectionpool.py:986: InsecureRequestWarning: Unverified HTTPS request is being made to host 'mvic.sos.state.mi.us'. Adding certificate verification is strongly advised. See: https://urllib3.readthedocs.io/en/latest/advanced-usage.html#ssl-warnings\n",
      "  InsecureRequestWarning,\n",
      "/Library/Frameworks/Python.framework/Versions/3.6/lib/python3.6/site-packages/urllib3/connectionpool.py:986: InsecureRequestWarning: Unverified HTTPS request is being made to host 'mvic.sos.state.mi.us'. Adding certificate verification is strongly advised. See: https://urllib3.readthedocs.io/en/latest/advanced-usage.html#ssl-warnings\n",
      "  InsecureRequestWarning,\n",
      "/Library/Frameworks/Python.framework/Versions/3.6/lib/python3.6/site-packages/urllib3/connectionpool.py:986: InsecureRequestWarning: Unverified HTTPS request is being made to host 'mvic.sos.state.mi.us'. Adding certificate verification is strongly advised. See: https://urllib3.readthedocs.io/en/latest/advanced-usage.html#ssl-warnings\n",
      "  InsecureRequestWarning,\n",
      "/Library/Frameworks/Python.framework/Versions/3.6/lib/python3.6/site-packages/urllib3/connectionpool.py:986: InsecureRequestWarning: Unverified HTTPS request is being made to host 'mvic.sos.state.mi.us'. Adding certificate verification is strongly advised. See: https://urllib3.readthedocs.io/en/latest/advanced-usage.html#ssl-warnings\n",
      "  InsecureRequestWarning,\n",
      "/Library/Frameworks/Python.framework/Versions/3.6/lib/python3.6/site-packages/urllib3/connectionpool.py:986: InsecureRequestWarning: Unverified HTTPS request is being made to host 'mvic.sos.state.mi.us'. Adding certificate verification is strongly advised. See: https://urllib3.readthedocs.io/en/latest/advanced-usage.html#ssl-warnings\n",
      "  InsecureRequestWarning,\n",
      "/Library/Frameworks/Python.framework/Versions/3.6/lib/python3.6/site-packages/urllib3/connectionpool.py:986: InsecureRequestWarning: Unverified HTTPS request is being made to host 'mvic.sos.state.mi.us'. Adding certificate verification is strongly advised. See: https://urllib3.readthedocs.io/en/latest/advanced-usage.html#ssl-warnings\n",
      "  InsecureRequestWarning,\n",
      "/Library/Frameworks/Python.framework/Versions/3.6/lib/python3.6/site-packages/urllib3/connectionpool.py:986: InsecureRequestWarning: Unverified HTTPS request is being made to host 'mvic.sos.state.mi.us'. Adding certificate verification is strongly advised. See: https://urllib3.readthedocs.io/en/latest/advanced-usage.html#ssl-warnings\n",
      "  InsecureRequestWarning,\n",
      "/Library/Frameworks/Python.framework/Versions/3.6/lib/python3.6/site-packages/urllib3/connectionpool.py:986: InsecureRequestWarning: Unverified HTTPS request is being made to host 'mvic.sos.state.mi.us'. Adding certificate verification is strongly advised. See: https://urllib3.readthedocs.io/en/latest/advanced-usage.html#ssl-warnings\n",
      "  InsecureRequestWarning,\n",
      "/Library/Frameworks/Python.framework/Versions/3.6/lib/python3.6/site-packages/urllib3/connectionpool.py:986: InsecureRequestWarning: Unverified HTTPS request is being made to host 'mvic.sos.state.mi.us'. Adding certificate verification is strongly advised. See: https://urllib3.readthedocs.io/en/latest/advanced-usage.html#ssl-warnings\n",
      "  InsecureRequestWarning,\n",
      "/Library/Frameworks/Python.framework/Versions/3.6/lib/python3.6/site-packages/urllib3/connectionpool.py:986: InsecureRequestWarning: Unverified HTTPS request is being made to host 'mvic.sos.state.mi.us'. Adding certificate verification is strongly advised. See: https://urllib3.readthedocs.io/en/latest/advanced-usage.html#ssl-warnings\n",
      "  InsecureRequestWarning,\n",
      "/Library/Frameworks/Python.framework/Versions/3.6/lib/python3.6/site-packages/urllib3/connectionpool.py:986: InsecureRequestWarning: Unverified HTTPS request is being made to host 'mvic.sos.state.mi.us'. Adding certificate verification is strongly advised. See: https://urllib3.readthedocs.io/en/latest/advanced-usage.html#ssl-warnings\n",
      "  InsecureRequestWarning,\n",
      "/Library/Frameworks/Python.framework/Versions/3.6/lib/python3.6/site-packages/urllib3/connectionpool.py:986: InsecureRequestWarning: Unverified HTTPS request is being made to host 'mvic.sos.state.mi.us'. Adding certificate verification is strongly advised. See: https://urllib3.readthedocs.io/en/latest/advanced-usage.html#ssl-warnings\n",
      "  InsecureRequestWarning,\n",
      "/Library/Frameworks/Python.framework/Versions/3.6/lib/python3.6/site-packages/urllib3/connectionpool.py:986: InsecureRequestWarning: Unverified HTTPS request is being made to host 'mvic.sos.state.mi.us'. Adding certificate verification is strongly advised. See: https://urllib3.readthedocs.io/en/latest/advanced-usage.html#ssl-warnings\n",
      "  InsecureRequestWarning,\n"
     ]
    },
    {
     "name": "stderr",
     "output_type": "stream",
     "text": [
      "/Library/Frameworks/Python.framework/Versions/3.6/lib/python3.6/site-packages/urllib3/connectionpool.py:986: InsecureRequestWarning: Unverified HTTPS request is being made to host 'mvic.sos.state.mi.us'. Adding certificate verification is strongly advised. See: https://urllib3.readthedocs.io/en/latest/advanced-usage.html#ssl-warnings\n",
      "  InsecureRequestWarning,\n",
      "/Library/Frameworks/Python.framework/Versions/3.6/lib/python3.6/site-packages/urllib3/connectionpool.py:986: InsecureRequestWarning: Unverified HTTPS request is being made to host 'mvic.sos.state.mi.us'. Adding certificate verification is strongly advised. See: https://urllib3.readthedocs.io/en/latest/advanced-usage.html#ssl-warnings\n",
      "  InsecureRequestWarning,\n",
      "/Library/Frameworks/Python.framework/Versions/3.6/lib/python3.6/site-packages/urllib3/connectionpool.py:986: InsecureRequestWarning: Unverified HTTPS request is being made to host 'mvic.sos.state.mi.us'. Adding certificate verification is strongly advised. See: https://urllib3.readthedocs.io/en/latest/advanced-usage.html#ssl-warnings\n",
      "  InsecureRequestWarning,\n",
      "/Library/Frameworks/Python.framework/Versions/3.6/lib/python3.6/site-packages/urllib3/connectionpool.py:986: InsecureRequestWarning: Unverified HTTPS request is being made to host 'mvic.sos.state.mi.us'. Adding certificate verification is strongly advised. See: https://urllib3.readthedocs.io/en/latest/advanced-usage.html#ssl-warnings\n",
      "  InsecureRequestWarning,\n",
      "/Library/Frameworks/Python.framework/Versions/3.6/lib/python3.6/site-packages/urllib3/connectionpool.py:986: InsecureRequestWarning: Unverified HTTPS request is being made to host 'mvic.sos.state.mi.us'. Adding certificate verification is strongly advised. See: https://urllib3.readthedocs.io/en/latest/advanced-usage.html#ssl-warnings\n",
      "  InsecureRequestWarning,\n",
      "/Library/Frameworks/Python.framework/Versions/3.6/lib/python3.6/site-packages/urllib3/connectionpool.py:986: InsecureRequestWarning: Unverified HTTPS request is being made to host 'mvic.sos.state.mi.us'. Adding certificate verification is strongly advised. See: https://urllib3.readthedocs.io/en/latest/advanced-usage.html#ssl-warnings\n",
      "  InsecureRequestWarning,\n",
      "/Library/Frameworks/Python.framework/Versions/3.6/lib/python3.6/site-packages/urllib3/connectionpool.py:986: InsecureRequestWarning: Unverified HTTPS request is being made to host 'mvic.sos.state.mi.us'. Adding certificate verification is strongly advised. See: https://urllib3.readthedocs.io/en/latest/advanced-usage.html#ssl-warnings\n",
      "  InsecureRequestWarning,\n",
      "/Library/Frameworks/Python.framework/Versions/3.6/lib/python3.6/site-packages/urllib3/connectionpool.py:986: InsecureRequestWarning: Unverified HTTPS request is being made to host 'mvic.sos.state.mi.us'. Adding certificate verification is strongly advised. See: https://urllib3.readthedocs.io/en/latest/advanced-usage.html#ssl-warnings\n",
      "  InsecureRequestWarning,\n",
      "/Library/Frameworks/Python.framework/Versions/3.6/lib/python3.6/site-packages/urllib3/connectionpool.py:986: InsecureRequestWarning: Unverified HTTPS request is being made to host 'mvic.sos.state.mi.us'. Adding certificate verification is strongly advised. See: https://urllib3.readthedocs.io/en/latest/advanced-usage.html#ssl-warnings\n",
      "  InsecureRequestWarning,\n",
      "/Library/Frameworks/Python.framework/Versions/3.6/lib/python3.6/site-packages/urllib3/connectionpool.py:986: InsecureRequestWarning: Unverified HTTPS request is being made to host 'mvic.sos.state.mi.us'. Adding certificate verification is strongly advised. See: https://urllib3.readthedocs.io/en/latest/advanced-usage.html#ssl-warnings\n",
      "  InsecureRequestWarning,\n",
      "/Library/Frameworks/Python.framework/Versions/3.6/lib/python3.6/site-packages/urllib3/connectionpool.py:986: InsecureRequestWarning: Unverified HTTPS request is being made to host 'mvic.sos.state.mi.us'. Adding certificate verification is strongly advised. See: https://urllib3.readthedocs.io/en/latest/advanced-usage.html#ssl-warnings\n",
      "  InsecureRequestWarning,\n",
      "/Library/Frameworks/Python.framework/Versions/3.6/lib/python3.6/site-packages/urllib3/connectionpool.py:986: InsecureRequestWarning: Unverified HTTPS request is being made to host 'mvic.sos.state.mi.us'. Adding certificate verification is strongly advised. See: https://urllib3.readthedocs.io/en/latest/advanced-usage.html#ssl-warnings\n",
      "  InsecureRequestWarning,\n",
      "/Library/Frameworks/Python.framework/Versions/3.6/lib/python3.6/site-packages/urllib3/connectionpool.py:986: InsecureRequestWarning: Unverified HTTPS request is being made to host 'mvic.sos.state.mi.us'. Adding certificate verification is strongly advised. See: https://urllib3.readthedocs.io/en/latest/advanced-usage.html#ssl-warnings\n",
      "  InsecureRequestWarning,\n",
      "/Library/Frameworks/Python.framework/Versions/3.6/lib/python3.6/site-packages/urllib3/connectionpool.py:986: InsecureRequestWarning: Unverified HTTPS request is being made to host 'mvic.sos.state.mi.us'. Adding certificate verification is strongly advised. See: https://urllib3.readthedocs.io/en/latest/advanced-usage.html#ssl-warnings\n",
      "  InsecureRequestWarning,\n",
      "/Library/Frameworks/Python.framework/Versions/3.6/lib/python3.6/site-packages/urllib3/connectionpool.py:986: InsecureRequestWarning: Unverified HTTPS request is being made to host 'mvic.sos.state.mi.us'. Adding certificate verification is strongly advised. See: https://urllib3.readthedocs.io/en/latest/advanced-usage.html#ssl-warnings\n",
      "  InsecureRequestWarning,\n",
      "/Library/Frameworks/Python.framework/Versions/3.6/lib/python3.6/site-packages/urllib3/connectionpool.py:986: InsecureRequestWarning: Unverified HTTPS request is being made to host 'mvic.sos.state.mi.us'. Adding certificate verification is strongly advised. See: https://urllib3.readthedocs.io/en/latest/advanced-usage.html#ssl-warnings\n",
      "  InsecureRequestWarning,\n",
      "/Library/Frameworks/Python.framework/Versions/3.6/lib/python3.6/site-packages/urllib3/connectionpool.py:986: InsecureRequestWarning: Unverified HTTPS request is being made to host 'mvic.sos.state.mi.us'. Adding certificate verification is strongly advised. See: https://urllib3.readthedocs.io/en/latest/advanced-usage.html#ssl-warnings\n",
      "  InsecureRequestWarning,\n",
      "/Library/Frameworks/Python.framework/Versions/3.6/lib/python3.6/site-packages/urllib3/connectionpool.py:986: InsecureRequestWarning: Unverified HTTPS request is being made to host 'mvic.sos.state.mi.us'. Adding certificate verification is strongly advised. See: https://urllib3.readthedocs.io/en/latest/advanced-usage.html#ssl-warnings\n",
      "  InsecureRequestWarning,\n",
      "/Library/Frameworks/Python.framework/Versions/3.6/lib/python3.6/site-packages/urllib3/connectionpool.py:986: InsecureRequestWarning: Unverified HTTPS request is being made to host 'mvic.sos.state.mi.us'. Adding certificate verification is strongly advised. See: https://urllib3.readthedocs.io/en/latest/advanced-usage.html#ssl-warnings\n",
      "  InsecureRequestWarning,\n",
      "/Library/Frameworks/Python.framework/Versions/3.6/lib/python3.6/site-packages/urllib3/connectionpool.py:986: InsecureRequestWarning: Unverified HTTPS request is being made to host 'mvic.sos.state.mi.us'. Adding certificate verification is strongly advised. See: https://urllib3.readthedocs.io/en/latest/advanced-usage.html#ssl-warnings\n",
      "  InsecureRequestWarning,\n",
      "/Library/Frameworks/Python.framework/Versions/3.6/lib/python3.6/site-packages/urllib3/connectionpool.py:986: InsecureRequestWarning: Unverified HTTPS request is being made to host 'mvic.sos.state.mi.us'. Adding certificate verification is strongly advised. See: https://urllib3.readthedocs.io/en/latest/advanced-usage.html#ssl-warnings\n",
      "  InsecureRequestWarning,\n",
      "/Library/Frameworks/Python.framework/Versions/3.6/lib/python3.6/site-packages/urllib3/connectionpool.py:986: InsecureRequestWarning: Unverified HTTPS request is being made to host 'mvic.sos.state.mi.us'. Adding certificate verification is strongly advised. See: https://urllib3.readthedocs.io/en/latest/advanced-usage.html#ssl-warnings\n",
      "  InsecureRequestWarning,\n",
      "/Library/Frameworks/Python.framework/Versions/3.6/lib/python3.6/site-packages/urllib3/connectionpool.py:986: InsecureRequestWarning: Unverified HTTPS request is being made to host 'mvic.sos.state.mi.us'. Adding certificate verification is strongly advised. See: https://urllib3.readthedocs.io/en/latest/advanced-usage.html#ssl-warnings\n",
      "  InsecureRequestWarning,\n"
     ]
    },
    {
     "name": "stderr",
     "output_type": "stream",
     "text": [
      "/Library/Frameworks/Python.framework/Versions/3.6/lib/python3.6/site-packages/urllib3/connectionpool.py:986: InsecureRequestWarning: Unverified HTTPS request is being made to host 'mvic.sos.state.mi.us'. Adding certificate verification is strongly advised. See: https://urllib3.readthedocs.io/en/latest/advanced-usage.html#ssl-warnings\n",
      "  InsecureRequestWarning,\n",
      "/Library/Frameworks/Python.framework/Versions/3.6/lib/python3.6/site-packages/urllib3/connectionpool.py:986: InsecureRequestWarning: Unverified HTTPS request is being made to host 'mvic.sos.state.mi.us'. Adding certificate verification is strongly advised. See: https://urllib3.readthedocs.io/en/latest/advanced-usage.html#ssl-warnings\n",
      "  InsecureRequestWarning,\n",
      "/Library/Frameworks/Python.framework/Versions/3.6/lib/python3.6/site-packages/urllib3/connectionpool.py:986: InsecureRequestWarning: Unverified HTTPS request is being made to host 'mvic.sos.state.mi.us'. Adding certificate verification is strongly advised. See: https://urllib3.readthedocs.io/en/latest/advanced-usage.html#ssl-warnings\n",
      "  InsecureRequestWarning,\n",
      "/Library/Frameworks/Python.framework/Versions/3.6/lib/python3.6/site-packages/urllib3/connectionpool.py:986: InsecureRequestWarning: Unverified HTTPS request is being made to host 'mvic.sos.state.mi.us'. Adding certificate verification is strongly advised. See: https://urllib3.readthedocs.io/en/latest/advanced-usage.html#ssl-warnings\n",
      "  InsecureRequestWarning,\n",
      "/Library/Frameworks/Python.framework/Versions/3.6/lib/python3.6/site-packages/urllib3/connectionpool.py:986: InsecureRequestWarning: Unverified HTTPS request is being made to host 'mvic.sos.state.mi.us'. Adding certificate verification is strongly advised. See: https://urllib3.readthedocs.io/en/latest/advanced-usage.html#ssl-warnings\n",
      "  InsecureRequestWarning,\n",
      "/Library/Frameworks/Python.framework/Versions/3.6/lib/python3.6/site-packages/urllib3/connectionpool.py:986: InsecureRequestWarning: Unverified HTTPS request is being made to host 'mvic.sos.state.mi.us'. Adding certificate verification is strongly advised. See: https://urllib3.readthedocs.io/en/latest/advanced-usage.html#ssl-warnings\n",
      "  InsecureRequestWarning,\n",
      "/Library/Frameworks/Python.framework/Versions/3.6/lib/python3.6/site-packages/urllib3/connectionpool.py:986: InsecureRequestWarning: Unverified HTTPS request is being made to host 'mvic.sos.state.mi.us'. Adding certificate verification is strongly advised. See: https://urllib3.readthedocs.io/en/latest/advanced-usage.html#ssl-warnings\n",
      "  InsecureRequestWarning,\n",
      "/Library/Frameworks/Python.framework/Versions/3.6/lib/python3.6/site-packages/urllib3/connectionpool.py:986: InsecureRequestWarning: Unverified HTTPS request is being made to host 'mvic.sos.state.mi.us'. Adding certificate verification is strongly advised. See: https://urllib3.readthedocs.io/en/latest/advanced-usage.html#ssl-warnings\n",
      "  InsecureRequestWarning,\n",
      "/Library/Frameworks/Python.framework/Versions/3.6/lib/python3.6/site-packages/urllib3/connectionpool.py:986: InsecureRequestWarning: Unverified HTTPS request is being made to host 'mvic.sos.state.mi.us'. Adding certificate verification is strongly advised. See: https://urllib3.readthedocs.io/en/latest/advanced-usage.html#ssl-warnings\n",
      "  InsecureRequestWarning,\n",
      "/Library/Frameworks/Python.framework/Versions/3.6/lib/python3.6/site-packages/urllib3/connectionpool.py:986: InsecureRequestWarning: Unverified HTTPS request is being made to host 'mvic.sos.state.mi.us'. Adding certificate verification is strongly advised. See: https://urllib3.readthedocs.io/en/latest/advanced-usage.html#ssl-warnings\n",
      "  InsecureRequestWarning,\n",
      "/Library/Frameworks/Python.framework/Versions/3.6/lib/python3.6/site-packages/urllib3/connectionpool.py:986: InsecureRequestWarning: Unverified HTTPS request is being made to host 'mvic.sos.state.mi.us'. Adding certificate verification is strongly advised. See: https://urllib3.readthedocs.io/en/latest/advanced-usage.html#ssl-warnings\n",
      "  InsecureRequestWarning,\n",
      "/Library/Frameworks/Python.framework/Versions/3.6/lib/python3.6/site-packages/urllib3/connectionpool.py:986: InsecureRequestWarning: Unverified HTTPS request is being made to host 'mvic.sos.state.mi.us'. Adding certificate verification is strongly advised. See: https://urllib3.readthedocs.io/en/latest/advanced-usage.html#ssl-warnings\n",
      "  InsecureRequestWarning,\n",
      "/Library/Frameworks/Python.framework/Versions/3.6/lib/python3.6/site-packages/urllib3/connectionpool.py:986: InsecureRequestWarning: Unverified HTTPS request is being made to host 'mvic.sos.state.mi.us'. Adding certificate verification is strongly advised. See: https://urllib3.readthedocs.io/en/latest/advanced-usage.html#ssl-warnings\n",
      "  InsecureRequestWarning,\n",
      "/Library/Frameworks/Python.framework/Versions/3.6/lib/python3.6/site-packages/urllib3/connectionpool.py:986: InsecureRequestWarning: Unverified HTTPS request is being made to host 'mvic.sos.state.mi.us'. Adding certificate verification is strongly advised. See: https://urllib3.readthedocs.io/en/latest/advanced-usage.html#ssl-warnings\n",
      "  InsecureRequestWarning,\n"
     ]
    }
   ],
   "source": [
    "for i in range(1,84):\n",
    "    response = requests.post(f\"https://mvic.sos.state.mi.us/Voter/SearchByCounty?CountyID={i}\", verify=False)\n",
    "    tot_1 += response.text"
   ]
  },
  {
   "cell_type": "code",
   "execution_count": 14,
   "metadata": {
    "ExecuteTime": {
     "end_time": "2020-10-27T21:04:14.322576Z",
     "start_time": "2020-10-27T21:04:14.313538Z"
    }
   },
   "outputs": [
    {
     "data": {
      "text/plain": [
       "759742"
      ]
     },
     "execution_count": 14,
     "metadata": {},
     "output_type": "execute_result"
    }
   ],
   "source": [
    "len(tot_1)"
   ]
  },
  {
   "cell_type": "code",
   "execution_count": 15,
   "metadata": {
    "ExecuteTime": {
     "end_time": "2020-10-27T21:04:15.031153Z",
     "start_time": "2020-10-27T21:04:14.327240Z"
    }
   },
   "outputs": [],
   "source": [
    "soup = BeautifulSoup(tot_1, 'html.parser')"
   ]
  },
  {
   "cell_type": "markdown",
   "metadata": {},
   "source": [
    "# Analyze the county pages"
   ]
  },
  {
   "cell_type": "code",
   "execution_count": 16,
   "metadata": {
    "ExecuteTime": {
     "end_time": "2020-10-27T21:04:15.308279Z",
     "start_time": "2020-10-27T21:04:15.033994Z"
    }
   },
   "outputs": [
    {
     "data": {
      "text/plain": [
       "332"
      ]
     },
     "execution_count": 16,
     "metadata": {},
     "output_type": "execute_result"
    }
   ],
   "source": [
    "len(soup.find_all(class_ = [\"ccd-page-heading\"]))"
   ]
  },
  {
   "cell_type": "code",
   "execution_count": 17,
   "metadata": {
    "ExecuteTime": {
     "end_time": "2020-10-27T21:04:15.613190Z",
     "start_time": "2020-10-27T21:04:15.311624Z"
    }
   },
   "outputs": [
    {
     "data": {
      "text/plain": [
       "[<h1 class=\"ccd-page-heading\">Your county clerk</h1>,\n",
       " <h2 class=\"ccd-page-heading\" id=\"lblLocalClerkLinksHeader\">Alcona County city/township clerks </h2>,\n",
       " <h2 class=\"ccd-page-heading\">\n",
       " Alcona County\t\t\t\t\t</h2>,\n",
       " <h2 class=\"ccd-page-heading\">\n",
       " Alcona County clerk's office\n",
       " \t\t\t\t\t</h2>,\n",
       " <h1 class=\"ccd-page-heading\">Your county clerk</h1>,\n",
       " <h2 class=\"ccd-page-heading\" id=\"lblLocalClerkLinksHeader\">Alger County city/township clerks </h2>,\n",
       " <h2 class=\"ccd-page-heading\">\n",
       " Alger County\t\t\t\t\t</h2>,\n",
       " <h2 class=\"ccd-page-heading\">\n",
       " Alger County clerk's office\n",
       " \t\t\t\t\t</h2>,\n",
       " <h1 class=\"ccd-page-heading\">Your county clerk</h1>,\n",
       " <h2 class=\"ccd-page-heading\" id=\"lblLocalClerkLinksHeader\">Allegan County city/township clerks </h2>,\n",
       " <h2 class=\"ccd-page-heading\">\n",
       " Allegan County\t\t\t\t\t</h2>,\n",
       " <h2 class=\"ccd-page-heading\">\n",
       " Allegan County clerk's office\n",
       " \t\t\t\t\t</h2>,\n",
       " <h1 class=\"ccd-page-heading\">Your county clerk</h1>,\n",
       " <h2 class=\"ccd-page-heading\" id=\"lblLocalClerkLinksHeader\">Alpena County city/township clerks </h2>,\n",
       " <h2 class=\"ccd-page-heading\">\n",
       " Alpena County\t\t\t\t\t</h2>,\n",
       " <h2 class=\"ccd-page-heading\">\n",
       " Alpena County clerk's office\n",
       " \t\t\t\t\t</h2>,\n",
       " <h1 class=\"ccd-page-heading\">Your county clerk</h1>,\n",
       " <h2 class=\"ccd-page-heading\" id=\"lblLocalClerkLinksHeader\">Antrim County city/township clerks </h2>,\n",
       " <h2 class=\"ccd-page-heading\">\n",
       " Antrim County\t\t\t\t\t</h2>,\n",
       " <h2 class=\"ccd-page-heading\">\n",
       " Antrim County clerk's office\n",
       " \t\t\t\t\t</h2>]"
      ]
     },
     "execution_count": 17,
     "metadata": {},
     "output_type": "execute_result"
    }
   ],
   "source": [
    "soup.find_all(class_ = [\"ccd-page-heading\"])[:20]"
   ]
  },
  {
   "cell_type": "code",
   "execution_count": 18,
   "metadata": {
    "ExecuteTime": {
     "end_time": "2020-10-27T21:04:15.909044Z",
     "start_time": "2020-10-27T21:04:15.616796Z"
    }
   },
   "outputs": [
    {
     "data": {
      "text/plain": [
       "249"
      ]
     },
     "execution_count": 18,
     "metadata": {},
     "output_type": "execute_result"
    }
   ],
   "source": [
    "len(soup.find_all(class_ = [\"card-body\"]))"
   ]
  },
  {
   "cell_type": "code",
   "execution_count": 19,
   "metadata": {
    "ExecuteTime": {
     "end_time": "2020-10-27T21:04:16.205606Z",
     "start_time": "2020-10-27T21:04:15.912097Z"
    },
    "scrolled": false
   },
   "outputs": [
    {
     "data": {
      "text/plain": [
       "[<div class=\"card-body\">\n",
       " <div class=\"row\"><div class=\"col-12 col-sm-6 col-md-4 col-lg-3 col-xl-2\"><a class=\"local-clerk-link\" href=\"/Clerk/LocalClerk?dummy=x&amp;jurisdictionCode=01740&amp;countyID=4&amp;jurisdictionName=Alpena%20City\">Alpena City</a></div><div class=\"col-12 col-sm-6 col-md-4 col-lg-3 col-xl-2\"><a class=\"local-clerk-link\" href=\"/Clerk/LocalClerk?dummy=x&amp;jurisdictionCode=01760&amp;countyID=4&amp;jurisdictionName=Alpena%20Township\">Alpena Township</a></div><div class=\"col-12 col-sm-6 col-md-4 col-lg-3 col-xl-2\"><a class=\"local-clerk-link\" href=\"/Clerk/LocalClerk?dummy=x&amp;jurisdictionCode=34740&amp;countyID=4&amp;jurisdictionName=Green%20Township\">Green Township</a></div><div class=\"col-12 col-sm-6 col-md-4 col-lg-3 col-xl-2\"><a class=\"local-clerk-link\" href=\"/Clerk/LocalClerk?dummy=x&amp;jurisdictionCode=49360&amp;countyID=4&amp;jurisdictionName=Long%20Rapids%20Township\">Long Rapids Township</a></div><div class=\"col-12 col-sm-6 col-md-4 col-lg-3 col-xl-2\"><a class=\"local-clerk-link\" href=\"/Clerk/LocalClerk?dummy=x&amp;jurisdictionCode=51220&amp;countyID=4&amp;jurisdictionName=Maple%20Ridge%20Township\">Maple Ridge Township</a></div><div class=\"col-12 col-sm-6 col-md-4 col-lg-3 col-xl-2\"><a class=\"local-clerk-link\" href=\"/Clerk/LocalClerk?dummy=x&amp;jurisdictionCode=61520&amp;countyID=4&amp;jurisdictionName=Ossineke%20Township\">Ossineke Township</a></div><div class=\"col-12 col-sm-6 col-md-4 col-lg-3 col-xl-2\"><a class=\"local-clerk-link\" href=\"/Clerk/LocalClerk?dummy=x&amp;jurisdictionCode=71240&amp;countyID=4&amp;jurisdictionName=Sanborn%20Township\">Sanborn Township</a></div><div class=\"col-12 col-sm-6 col-md-4 col-lg-3 col-xl-2\"><a class=\"local-clerk-link\" href=\"/Clerk/LocalClerk?dummy=x&amp;jurisdictionCode=85180&amp;countyID=4&amp;jurisdictionName=Wellington%20Township\">Wellington Township</a></div><div class=\"col-12 col-sm-6 col-md-4 col-lg-3 col-xl-2\"><a class=\"local-clerk-link\" href=\"/Clerk/LocalClerk?dummy=x&amp;jurisdictionCode=87680&amp;countyID=4&amp;jurisdictionName=Wilson%20Township\">Wilson Township</a></div></div> </div>,\n",
       " <div class=\"card-body\">\n",
       " \t\t\t\t\tBonnie Friedrichs, Clerk\n",
       " \t\t\t\t\t<br/>\n",
       " <br/>\n",
       " \t\t\t\t\t720 West Chisholm\n",
       " \t\t\t\t\t<br/>\n",
       " \t\t\t\t\tAlpena, Michigan  49707\n",
       " \n",
       " \t\t\t\t\t<br/>\n",
       " <br/>\n",
       " <strong>Phone:  </strong>(989) 354-9520\n",
       " \t\t\t\t\t<br/>\n",
       " <strong>Fax:  </strong>(989) 354-9644\n",
       " \t\t\t\t\t<br/>\n",
       " <strong>Email:  </strong>\n",
       " <a href=\"mailto:friedrib@alpenacounty.org\">friedrib@alpenacounty.org</a>\n",
       " <br/>\n",
       " </div>,\n",
       " <div class=\"card-body\" id=\"map-panel\">\n",
       " <div class=\"theMap\" id=\"clerkMapArea\">\n",
       " <div id=\"clerkMap\"></div>\n",
       " </div>\n",
       " </div>,\n",
       " <div class=\"card-body\">\n",
       " <div class=\"row\"><div class=\"col-12 col-sm-6 col-md-4 col-lg-3 col-xl-2\"><a class=\"local-clerk-link\" href=\"/Clerk/LocalClerk?dummy=x&amp;jurisdictionCode=05240&amp;countyID=5&amp;jurisdictionName=Banks%20Township\">Banks Township</a></div><div class=\"col-12 col-sm-6 col-md-4 col-lg-3 col-xl-2\"><a class=\"local-clerk-link\" href=\"/Clerk/LocalClerk?dummy=x&amp;jurisdictionCode=14420&amp;countyID=5&amp;jurisdictionName=Central%20Lake%20Township\">Central Lake Township</a></div><div class=\"col-12 col-sm-6 col-md-4 col-lg-3 col-xl-2\"><a class=\"local-clerk-link\" href=\"/Clerk/LocalClerk?dummy=x&amp;jurisdictionCode=15380&amp;countyID=5&amp;jurisdictionName=Chestonia%20Township\">Chestonia Township</a></div><div class=\"col-12 col-sm-6 col-md-4 col-lg-3 col-xl-2\"><a class=\"local-clerk-link\" href=\"/Clerk/LocalClerk?dummy=x&amp;jurisdictionCode=19400&amp;countyID=5&amp;jurisdictionName=Custer%20Township\">Custer Township</a></div><div class=\"col-12 col-sm-6 col-md-4 col-lg-3 col-xl-2\"><a class=\"local-clerk-link\" href=\"/Clerk/LocalClerk?dummy=x&amp;jurisdictionCode=24640&amp;countyID=5&amp;jurisdictionName=Echo%20Township\">Echo Township</a></div><div class=\"col-12 col-sm-6 col-md-4 col-lg-3 col-xl-2\"><a class=\"local-clerk-link\" href=\"/Clerk/LocalClerk?dummy=x&amp;jurisdictionCode=25340&amp;countyID=5&amp;jurisdictionName=Elk%20Rapids%20Township\">Elk Rapids Township</a></div><div class=\"col-12 col-sm-6 col-md-4 col-lg-3 col-xl-2\"><a class=\"local-clerk-link\" href=\"/Clerk/LocalClerk?dummy=x&amp;jurisdictionCode=29600&amp;countyID=5&amp;jurisdictionName=Forest%20Home%20Township\">Forest Home Township</a></div><div class=\"col-12 col-sm-6 col-md-4 col-lg-3 col-xl-2\"><a class=\"local-clerk-link\" href=\"/Clerk/LocalClerk?dummy=x&amp;jurisdictionCode=37500&amp;countyID=5&amp;jurisdictionName=Helena%20Township\">Helena Township</a></div><div class=\"col-12 col-sm-6 col-md-4 col-lg-3 col-xl-2\"><a class=\"local-clerk-link\" href=\"/Clerk/LocalClerk?dummy=x&amp;jurisdictionCode=41960&amp;countyID=5&amp;jurisdictionName=Jordan%20Township\">Jordan Township</a></div><div class=\"col-12 col-sm-6 col-md-4 col-lg-3 col-xl-2\"><a class=\"local-clerk-link\" href=\"/Clerk/LocalClerk?dummy=x&amp;jurisdictionCode=42400&amp;countyID=5&amp;jurisdictionName=Kearney%20Township\">Kearney Township</a></div><div class=\"col-12 col-sm-6 col-md-4 col-lg-3 col-xl-2\"><a class=\"local-clerk-link\" href=\"/Clerk/LocalClerk?dummy=x&amp;jurisdictionCode=50640&amp;countyID=5&amp;jurisdictionName=Mancelona%20Township\">Mancelona Township</a></div><div class=\"col-12 col-sm-6 col-md-4 col-lg-3 col-xl-2\"><a class=\"local-clerk-link\" href=\"/Clerk/LocalClerk?dummy=x&amp;jurisdictionCode=54440&amp;countyID=5&amp;jurisdictionName=Milton%20Township\">Milton Township</a></div></div><div class=\"row\"><div class=\"col-12 col-sm-6 col-md-4 col-lg-3 col-xl-2\"><a class=\"local-clerk-link\" href=\"/Clerk/LocalClerk?dummy=x&amp;jurisdictionCode=76260&amp;countyID=5&amp;jurisdictionName=Star%20Township\">Star Township</a></div><div class=\"col-12 col-sm-6 col-md-4 col-lg-3 col-xl-2\"><a class=\"local-clerk-link\" href=\"/Clerk/LocalClerk?dummy=x&amp;jurisdictionCode=80100&amp;countyID=5&amp;jurisdictionName=Torch%20Lake%20Township\">Torch Lake Township</a></div><div class=\"col-12 col-sm-6 col-md-4 col-lg-3 col-xl-2\"><a class=\"local-clerk-link\" href=\"/Clerk/LocalClerk?dummy=x&amp;jurisdictionCode=83300&amp;countyID=5&amp;jurisdictionName=Warner%20Township\">Warner Township</a></div></div> </div>]"
      ]
     },
     "execution_count": 19,
     "metadata": {},
     "output_type": "execute_result"
    }
   ],
   "source": [
    "soup.find_all(class_ = [\"card-body\"])[9:13]"
   ]
  },
  {
   "cell_type": "markdown",
   "metadata": {},
   "source": [
    "It appears that there are 3 \"card-body\" classes on each county page:\n",
    "- a list of townships in that county\n",
    "- contact details for the county clerk\n",
    "- a map"
   ]
  },
  {
   "cell_type": "markdown",
   "metadata": {},
   "source": [
    "# Build a list of all county names"
   ]
  },
  {
   "cell_type": "code",
   "execution_count": 20,
   "metadata": {
    "ExecuteTime": {
     "end_time": "2020-10-27T21:04:16.395827Z",
     "start_time": "2020-10-27T21:04:16.210243Z"
    }
   },
   "outputs": [
    {
     "data": {
      "text/plain": [
       "[]"
      ]
     },
     "execution_count": 20,
     "metadata": {},
     "output_type": "execute_result"
    }
   ],
   "source": [
    "soup.find_all(id_=\"lblLocalClerkLinksHeader\")"
   ]
  },
  {
   "cell_type": "markdown",
   "metadata": {},
   "source": [
    "I wonder why soup doesn't find these id's?"
   ]
  },
  {
   "cell_type": "code",
   "execution_count": 21,
   "metadata": {
    "ExecuteTime": {
     "end_time": "2020-10-27T21:04:16.693203Z",
     "start_time": "2020-10-27T21:04:16.399613Z"
    }
   },
   "outputs": [],
   "source": [
    "divs = soup.find_all(class_ = [\"ccd-page-heading\"])"
   ]
  },
  {
   "cell_type": "code",
   "execution_count": 22,
   "metadata": {
    "ExecuteTime": {
     "end_time": "2020-10-27T21:04:16.707209Z",
     "start_time": "2020-10-27T21:04:16.696026Z"
    }
   },
   "outputs": [
    {
     "data": {
      "text/plain": [
       "[(0, <h1 class=\"ccd-page-heading\">Your county clerk</h1>),\n",
       " (1,\n",
       "  <h2 class=\"ccd-page-heading\" id=\"lblLocalClerkLinksHeader\">Alcona County city/township clerks </h2>),\n",
       " (2,\n",
       "  <h2 class=\"ccd-page-heading\">\n",
       "  Alcona County\t\t\t\t\t</h2>),\n",
       " (3,\n",
       "  <h2 class=\"ccd-page-heading\">\n",
       "  Alcona County clerk's office\n",
       "  \t\t\t\t\t</h2>),\n",
       " (4, <h1 class=\"ccd-page-heading\">Your county clerk</h1>),\n",
       " (5,\n",
       "  <h2 class=\"ccd-page-heading\" id=\"lblLocalClerkLinksHeader\">Alger County city/township clerks </h2>),\n",
       " (6,\n",
       "  <h2 class=\"ccd-page-heading\">\n",
       "  Alger County\t\t\t\t\t</h2>),\n",
       " (7,\n",
       "  <h2 class=\"ccd-page-heading\">\n",
       "  Alger County clerk's office\n",
       "  \t\t\t\t\t</h2>),\n",
       " (8, <h1 class=\"ccd-page-heading\">Your county clerk</h1>),\n",
       " (9,\n",
       "  <h2 class=\"ccd-page-heading\" id=\"lblLocalClerkLinksHeader\">Allegan County city/township clerks </h2>),\n",
       " (10,\n",
       "  <h2 class=\"ccd-page-heading\">\n",
       "  Allegan County\t\t\t\t\t</h2>),\n",
       " (11,\n",
       "  <h2 class=\"ccd-page-heading\">\n",
       "  Allegan County clerk's office\n",
       "  \t\t\t\t\t</h2>),\n",
       " (12, <h1 class=\"ccd-page-heading\">Your county clerk</h1>),\n",
       " (13,\n",
       "  <h2 class=\"ccd-page-heading\" id=\"lblLocalClerkLinksHeader\">Alpena County city/township clerks </h2>),\n",
       " (14,\n",
       "  <h2 class=\"ccd-page-heading\">\n",
       "  Alpena County\t\t\t\t\t</h2>),\n",
       " (15,\n",
       "  <h2 class=\"ccd-page-heading\">\n",
       "  Alpena County clerk's office\n",
       "  \t\t\t\t\t</h2>),\n",
       " (16, <h1 class=\"ccd-page-heading\">Your county clerk</h1>),\n",
       " (17,\n",
       "  <h2 class=\"ccd-page-heading\" id=\"lblLocalClerkLinksHeader\">Antrim County city/township clerks </h2>),\n",
       " (18,\n",
       "  <h2 class=\"ccd-page-heading\">\n",
       "  Antrim County\t\t\t\t\t</h2>),\n",
       " (19,\n",
       "  <h2 class=\"ccd-page-heading\">\n",
       "  Antrim County clerk's office\n",
       "  \t\t\t\t\t</h2>)]"
      ]
     },
     "execution_count": 22,
     "metadata": {},
     "output_type": "execute_result"
    }
   ],
   "source": [
    "[(num,row) for num,row in enumerate(divs[:20])]"
   ]
  },
  {
   "cell_type": "code",
   "execution_count": 23,
   "metadata": {
    "ExecuteTime": {
     "end_time": "2020-10-27T21:04:16.725493Z",
     "start_time": "2020-10-27T21:04:16.718309Z"
    }
   },
   "outputs": [
    {
     "data": {
      "text/plain": [
       "'Your county clerk'"
      ]
     },
     "execution_count": 23,
     "metadata": {},
     "output_type": "execute_result"
    }
   ],
   "source": [
    "divs[0].text"
   ]
  },
  {
   "cell_type": "code",
   "execution_count": 24,
   "metadata": {
    "ExecuteTime": {
     "end_time": "2020-10-27T21:04:16.740576Z",
     "start_time": "2020-10-27T21:04:16.733888Z"
    }
   },
   "outputs": [],
   "source": [
    "counties = []\n",
    "for county in range(int(len(divs)/4)):\n",
    "    county_name = divs[2+4*county].text\n",
    "    county_name = re.findall('\\n(.*?)\\t' ,county_name)[0]\n",
    "    counties.append(county_name)"
   ]
  },
  {
   "cell_type": "code",
   "execution_count": 25,
   "metadata": {
    "ExecuteTime": {
     "end_time": "2020-10-27T21:04:16.754068Z",
     "start_time": "2020-10-27T21:04:16.745114Z"
    }
   },
   "outputs": [
    {
     "data": {
      "text/plain": [
       "83"
      ]
     },
     "execution_count": 25,
     "metadata": {},
     "output_type": "execute_result"
    }
   ],
   "source": [
    "len(counties)"
   ]
  },
  {
   "cell_type": "code",
   "execution_count": 26,
   "metadata": {
    "ExecuteTime": {
     "end_time": "2020-10-27T21:04:16.767148Z",
     "start_time": "2020-10-27T21:04:16.758547Z"
    }
   },
   "outputs": [
    {
     "data": {
      "text/plain": [
       "['St. Clair County',\n",
       " 'St. Joseph County',\n",
       " 'Sanilac County',\n",
       " 'Schoolcraft County',\n",
       " 'Shiawassee County',\n",
       " 'Tuscola County',\n",
       " 'Van Buren County',\n",
       " 'Washtenaw County',\n",
       " 'Wayne County',\n",
       " 'Wexford County']"
      ]
     },
     "execution_count": 26,
     "metadata": {},
     "output_type": "execute_result"
    }
   ],
   "source": [
    "counties[-10:]"
   ]
  },
  {
   "cell_type": "markdown",
   "metadata": {},
   "source": [
    "# Build a list of all jurisdictionCodes"
   ]
  },
  {
   "cell_type": "code",
   "execution_count": 27,
   "metadata": {
    "ExecuteTime": {
     "end_time": "2020-10-27T21:04:17.074958Z",
     "start_time": "2020-10-27T21:04:16.771122Z"
    }
   },
   "outputs": [],
   "source": [
    "divs = soup.find_all(class_ = \"card-body\")\n",
    "# divs = soup.find_all(class_ = \"local-clerk-link\")"
   ]
  },
  {
   "cell_type": "code",
   "execution_count": 28,
   "metadata": {
    "ExecuteTime": {
     "end_time": "2020-10-27T21:04:17.088788Z",
     "start_time": "2020-10-27T21:04:17.082240Z"
    }
   },
   "outputs": [
    {
     "data": {
      "text/plain": [
       "249"
      ]
     },
     "execution_count": 28,
     "metadata": {},
     "output_type": "execute_result"
    }
   ],
   "source": [
    "len(divs)"
   ]
  },
  {
   "cell_type": "code",
   "execution_count": 29,
   "metadata": {
    "ExecuteTime": {
     "end_time": "2020-10-27T21:04:17.111357Z",
     "start_time": "2020-10-27T21:04:17.093228Z"
    }
   },
   "outputs": [
    {
     "data": {
      "text/plain": [
       "<div class=\"card-body\">\n",
       "<div class=\"row\"><div class=\"col-12 col-sm-6 col-md-4 col-lg-3 col-xl-2\"><a class=\"local-clerk-link\" href=\"/Clerk/LocalClerk?dummy=x&amp;jurisdictionCode=01040&amp;countyID=1&amp;jurisdictionName=Alcona%20Township\">Alcona Township</a></div><div class=\"col-12 col-sm-6 col-md-4 col-lg-3 col-xl-2\"><a class=\"local-clerk-link\" href=\"/Clerk/LocalClerk?dummy=x&amp;jurisdictionCode=12460&amp;countyID=1&amp;jurisdictionName=Caledonia%20Township\">Caledonia Township</a></div><div class=\"col-12 col-sm-6 col-md-4 col-lg-3 col-xl-2\"><a class=\"local-clerk-link\" href=\"/Clerk/LocalClerk?dummy=x&amp;jurisdictionCode=19320&amp;countyID=1&amp;jurisdictionName=Curtis%20Township\">Curtis Township</a></div><div class=\"col-12 col-sm-6 col-md-4 col-lg-3 col-xl-2\"><a class=\"local-clerk-link\" href=\"/Clerk/LocalClerk?dummy=x&amp;jurisdictionCode=34820&amp;countyID=1&amp;jurisdictionName=Greenbush%20Township\">Greenbush Township</a></div><div class=\"col-12 col-sm-6 col-md-4 col-lg-3 col-xl-2\"><a class=\"local-clerk-link\" href=\"/Clerk/LocalClerk?dummy=x&amp;jurisdictionCode=35740&amp;countyID=1&amp;jurisdictionName=Gustin%20Township\">Gustin Township</a></div><div class=\"col-12 col-sm-6 col-md-4 col-lg-3 col-xl-2\"><a class=\"local-clerk-link\" href=\"/Clerk/LocalClerk?dummy=x&amp;jurisdictionCode=36860&amp;countyID=1&amp;jurisdictionName=Harrisville%20City\">Harrisville City</a></div><div class=\"col-12 col-sm-6 col-md-4 col-lg-3 col-xl-2\"><a class=\"local-clerk-link\" href=\"/Clerk/LocalClerk?dummy=x&amp;jurisdictionCode=36880&amp;countyID=1&amp;jurisdictionName=Harrisville%20Township\">Harrisville Township</a></div><div class=\"col-12 col-sm-6 col-md-4 col-lg-3 col-xl-2\"><a class=\"local-clerk-link\" href=\"/Clerk/LocalClerk?dummy=x&amp;jurisdictionCode=37220&amp;countyID=1&amp;jurisdictionName=Hawes%20Township\">Hawes Township</a></div><div class=\"col-12 col-sm-6 col-md-4 col-lg-3 col-xl-2\"><a class=\"local-clerk-link\" href=\"/Clerk/LocalClerk?dummy=x&amp;jurisdictionCode=37380&amp;countyID=1&amp;jurisdictionName=Haynes%20Township\">Haynes Township</a></div><div class=\"col-12 col-sm-6 col-md-4 col-lg-3 col-xl-2\"><a class=\"local-clerk-link\" href=\"/Clerk/LocalClerk?dummy=x&amp;jurisdictionCode=53880&amp;countyID=1&amp;jurisdictionName=Mikado%20Township\">Mikado Township</a></div><div class=\"col-12 col-sm-6 col-md-4 col-lg-3 col-xl-2\"><a class=\"local-clerk-link\" href=\"/Clerk/LocalClerk?dummy=x&amp;jurisdictionCode=54060&amp;countyID=1&amp;jurisdictionName=Millen%20Township\">Millen Township</a></div><div class=\"col-12 col-sm-6 col-md-4 col-lg-3 col-xl-2\"><a class=\"local-clerk-link\" href=\"/Clerk/LocalClerk?dummy=x&amp;jurisdictionCode=54740&amp;countyID=1&amp;jurisdictionName=Mitchell%20Township\">Mitchell Township</a></div></div> </div>"
      ]
     },
     "execution_count": 29,
     "metadata": {},
     "output_type": "execute_result"
    }
   ],
   "source": [
    "divs[0]"
   ]
  },
  {
   "cell_type": "code",
   "execution_count": 30,
   "metadata": {
    "ExecuteTime": {
     "end_time": "2020-10-27T21:04:17.125789Z",
     "start_time": "2020-10-27T21:04:17.116169Z"
    },
    "scrolled": false
   },
   "outputs": [
    {
     "data": {
      "text/plain": [
       "[<a class=\"local-clerk-link\" href=\"/Clerk/LocalClerk?dummy=x&amp;jurisdictionCode=01040&amp;countyID=1&amp;jurisdictionName=Alcona%20Township\">Alcona Township</a>,\n",
       " <a class=\"local-clerk-link\" href=\"/Clerk/LocalClerk?dummy=x&amp;jurisdictionCode=12460&amp;countyID=1&amp;jurisdictionName=Caledonia%20Township\">Caledonia Township</a>,\n",
       " <a class=\"local-clerk-link\" href=\"/Clerk/LocalClerk?dummy=x&amp;jurisdictionCode=19320&amp;countyID=1&amp;jurisdictionName=Curtis%20Township\">Curtis Township</a>,\n",
       " <a class=\"local-clerk-link\" href=\"/Clerk/LocalClerk?dummy=x&amp;jurisdictionCode=34820&amp;countyID=1&amp;jurisdictionName=Greenbush%20Township\">Greenbush Township</a>,\n",
       " <a class=\"local-clerk-link\" href=\"/Clerk/LocalClerk?dummy=x&amp;jurisdictionCode=35740&amp;countyID=1&amp;jurisdictionName=Gustin%20Township\">Gustin Township</a>,\n",
       " <a class=\"local-clerk-link\" href=\"/Clerk/LocalClerk?dummy=x&amp;jurisdictionCode=36860&amp;countyID=1&amp;jurisdictionName=Harrisville%20City\">Harrisville City</a>,\n",
       " <a class=\"local-clerk-link\" href=\"/Clerk/LocalClerk?dummy=x&amp;jurisdictionCode=36880&amp;countyID=1&amp;jurisdictionName=Harrisville%20Township\">Harrisville Township</a>,\n",
       " <a class=\"local-clerk-link\" href=\"/Clerk/LocalClerk?dummy=x&amp;jurisdictionCode=37220&amp;countyID=1&amp;jurisdictionName=Hawes%20Township\">Hawes Township</a>,\n",
       " <a class=\"local-clerk-link\" href=\"/Clerk/LocalClerk?dummy=x&amp;jurisdictionCode=37380&amp;countyID=1&amp;jurisdictionName=Haynes%20Township\">Haynes Township</a>,\n",
       " <a class=\"local-clerk-link\" href=\"/Clerk/LocalClerk?dummy=x&amp;jurisdictionCode=53880&amp;countyID=1&amp;jurisdictionName=Mikado%20Township\">Mikado Township</a>,\n",
       " <a class=\"local-clerk-link\" href=\"/Clerk/LocalClerk?dummy=x&amp;jurisdictionCode=54060&amp;countyID=1&amp;jurisdictionName=Millen%20Township\">Millen Township</a>,\n",
       " <a class=\"local-clerk-link\" href=\"/Clerk/LocalClerk?dummy=x&amp;jurisdictionCode=54740&amp;countyID=1&amp;jurisdictionName=Mitchell%20Township\">Mitchell Township</a>]"
      ]
     },
     "execution_count": 30,
     "metadata": {},
     "output_type": "execute_result"
    }
   ],
   "source": [
    "divs[0].find_all(class_ = 'local-clerk-link')"
   ]
  },
  {
   "cell_type": "code",
   "execution_count": 31,
   "metadata": {
    "ExecuteTime": {
     "end_time": "2020-10-27T21:04:17.381013Z",
     "start_time": "2020-10-27T21:04:17.130132Z"
    }
   },
   "outputs": [],
   "source": [
    "juriCodes = []\n",
    "for div in divs:\n",
    "    if re.search('jurisdictionCode=(.*?)&amp', str(div)):\n",
    "        juriCode = re.findall('jurisdictionCode=(.*?)&amp', str(div))\n",
    "        juriCodes.append(juriCode)"
   ]
  },
  {
   "cell_type": "code",
   "execution_count": 32,
   "metadata": {
    "ExecuteTime": {
     "end_time": "2020-10-27T21:04:17.402852Z",
     "start_time": "2020-10-27T21:04:17.395733Z"
    }
   },
   "outputs": [
    {
     "data": {
      "text/plain": [
       "83"
      ]
     },
     "execution_count": 32,
     "metadata": {},
     "output_type": "execute_result"
    }
   ],
   "source": [
    "len(juriCodes)"
   ]
  },
  {
   "cell_type": "code",
   "execution_count": 33,
   "metadata": {
    "ExecuteTime": {
     "end_time": "2020-10-27T21:04:17.465743Z",
     "start_time": "2020-10-27T21:04:17.407552Z"
    }
   },
   "outputs": [
    {
     "data": {
      "text/plain": [
       "[['01040',\n",
       "  '12460',\n",
       "  '19320',\n",
       "  '34820',\n",
       "  '35740',\n",
       "  '36860',\n",
       "  '36880',\n",
       "  '37220',\n",
       "  '37380',\n",
       "  '53880',\n",
       "  '54060',\n",
       "  '54740'],\n",
       " ['04460',\n",
       "  '11960',\n",
       "  '33380',\n",
       "  '47540',\n",
       "  '52360',\n",
       "  '56200',\n",
       "  '56220',\n",
       "  '60820',\n",
       "  '69160'],\n",
       " ['01260',\n",
       "  '01280',\n",
       "  '13700',\n",
       "  '15200',\n",
       "  '16720',\n",
       "  '22680',\n",
       "  '27740',\n",
       "  '28120',\n",
       "  '31360',\n",
       "  '35720',\n",
       "  '37460',\n",
       "  '38640',\n",
       "  '39200',\n",
       "  '45180',\n",
       "  '46600',\n",
       "  '46760',\n",
       "  '50840',\n",
       "  '52000',\n",
       "  '55200',\n",
       "  '61620',\n",
       "  '61640',\n",
       "  '61820',\n",
       "  '64740',\n",
       "  '71100',\n",
       "  '71700',\n",
       "  '71720',\n",
       "  '74980',\n",
       "  '80620',\n",
       "  '81580',\n",
       "  '22740',\n",
       "  '84580',\n",
       "  '84880',\n",
       "  '84900'],\n",
       " ['01740',\n",
       "  '01760',\n",
       "  '34740',\n",
       "  '49360',\n",
       "  '51220',\n",
       "  '61520',\n",
       "  '71240',\n",
       "  '85180',\n",
       "  '87680'],\n",
       " ['05240',\n",
       "  '14420',\n",
       "  '15380',\n",
       "  '19400',\n",
       "  '24640',\n",
       "  '25340',\n",
       "  '29600',\n",
       "  '37500',\n",
       "  '41960',\n",
       "  '42400',\n",
       "  '50640',\n",
       "  '54440',\n",
       "  '76260',\n",
       "  '80100',\n",
       "  '83300'],\n",
       " ['00280',\n",
       "  '03360',\n",
       "  '04120',\n",
       "  '04140',\n",
       "  '16240',\n",
       "  '21120',\n",
       "  '47580',\n",
       "  '52120',\n",
       "  '54800',\n",
       "  '60660',\n",
       "  '74020',\n",
       "  '76120',\n",
       "  '76140',\n",
       "  '80840',\n",
       "  '87080'],\n",
       " ['03660', '05340', '18600', '45560', '76000'],\n",
       " ['03860',\n",
       "  '05020',\n",
       "  '05560',\n",
       "  '13340',\n",
       "  '13960',\n",
       "  '37120',\n",
       "  '37140',\n",
       "  '39120',\n",
       "  '41120',\n",
       "  '41860',\n",
       "  '50960',\n",
       "  '60980',\n",
       "  '66260',\n",
       "  '70420',\n",
       "  '79620',\n",
       "  '88440',\n",
       "  '89020'],\n",
       " ['04080',\n",
       "  '05120',\n",
       "  '06020',\n",
       "  '06540',\n",
       "  '26420',\n",
       "  '30180',\n",
       "  '30400',\n",
       "  '31540',\n",
       "  '32040',\n",
       "  '36260',\n",
       "  '42360',\n",
       "  '53220',\n",
       "  '53780',\n",
       "  '54980',\n",
       "  '55920',\n",
       "  '64160',\n",
       "  '64180',\n",
       "  '65980',\n",
       "  '87380'],\n",
       " ['01640',\n",
       "  '07600',\n",
       "  '08840',\n",
       "  '17120',\n",
       "  '19180',\n",
       "  '30260',\n",
       "  '32180',\n",
       "  '39000',\n",
       "  '40700',\n",
       "  '42000',\n",
       "  '44240',\n",
       "  '64760',\n",
       "  '85160'],\n",
       " ['04840',\n",
       "  '05520',\n",
       "  '07400',\n",
       "  '07520',\n",
       "  '07820',\n",
       "  '07920',\n",
       "  '10580',\n",
       "  '11400',\n",
       "  '11420',\n",
       "  '15480',\n",
       "  '17340',\n",
       "  '17320',\n",
       "  '31320',\n",
       "  '35860',\n",
       "  '44260',\n",
       "  '47600',\n",
       "  '57220',\n",
       "  '57230',\n",
       "  '57780',\n",
       "  '57760',\n",
       "  '61180',\n",
       "  '64480',\n",
       "  '70100',\n",
       "  '74440',\n",
       "  '70980',\n",
       "  '70960',\n",
       "  '79740',\n",
       "  '84520',\n",
       "  '84500',\n",
       "  '85120'],\n",
       " ['01120',\n",
       "  '05800',\n",
       "  '08060',\n",
       "  '10860',\n",
       "  '10880',\n",
       "  '12140',\n",
       "  '12560',\n",
       "  '17020',\n",
       "  '17040',\n",
       "  '32120',\n",
       "  '32280',\n",
       "  '43260',\n",
       "  '52400',\n",
       "  '57860',\n",
       "  '61840',\n",
       "  '66660',\n",
       "  '73440',\n",
       "  '81280'],\n",
       " ['00980',\n",
       "  '01000',\n",
       "  '03900',\n",
       "  '05920',\n",
       "  '06720',\n",
       "  '11820',\n",
       "  '15960',\n",
       "  '16020',\n",
       "  '17880',\n",
       "  '24700',\n",
       "  '25935',\n",
       "  '30500',\n",
       "  '38940',\n",
       "  '46620',\n",
       "  '47060',\n",
       "  '51520',\n",
       "  '51940',\n",
       "  '51960',\n",
       "  '57620',\n",
       "  '63440',\n",
       "  '72980',\n",
       "  '75700',\n",
       "  '79180'],\n",
       " ['12620',\n",
       "  '22880',\n",
       "  '39480',\n",
       "  '41600',\n",
       "  '44140',\n",
       "  '51480',\n",
       "  '52140',\n",
       "  '54460',\n",
       "  '57120',\n",
       "  '57760',\n",
       "  '60900',\n",
       "  '63380',\n",
       "  '65300',\n",
       "  '65720',\n",
       "  '73940',\n",
       "  '82580',\n",
       "  '84920'],\n",
       " ['06000',\n",
       "  '09820',\n",
       "  '09860',\n",
       "  '14560',\n",
       "  '14780',\n",
       "  '14800',\n",
       "  '24020',\n",
       "  '26580',\n",
       "  '26680',\n",
       "  '37320',\n",
       "  '39700',\n",
       "  '51620',\n",
       "  '52880',\n",
       "  '59340',\n",
       "  '63140',\n",
       "  '74680',\n",
       "  '70920',\n",
       "  '87700'],\n",
       " ['01720',\n",
       "  '06500',\n",
       "  '07420',\n",
       "  '11980',\n",
       "  '15000',\n",
       "  '25400',\n",
       "  '29400',\n",
       "  '34200',\n",
       "  '37480',\n",
       "  '40820',\n",
       "  '43820',\n",
       "  '50300',\n",
       "  '53100',\n",
       "  '56100',\n",
       "  '56280',\n",
       "  '59500',\n",
       "  '80880',\n",
       "  '82940',\n",
       "  '84760',\n",
       "  '87640'],\n",
       " ['06070',\n",
       "  '11280',\n",
       "  '15560',\n",
       "  '19540',\n",
       "  '21770',\n",
       "  '23080',\n",
       "  '39860',\n",
       "  '43480',\n",
       "  '63980',\n",
       "  '66760',\n",
       "  '70220',\n",
       "  '71740',\n",
       "  '74620',\n",
       "  '77020',\n",
       "  '77540',\n",
       "  '80600',\n",
       "  '86700'],\n",
       " ['03620',\n",
       "  '15920',\n",
       "  '30280',\n",
       "  '30560',\n",
       "  '30900',\n",
       "  '31560',\n",
       "  '34220',\n",
       "  '35120',\n",
       "  '36140',\n",
       "  '36800',\n",
       "  '37160',\n",
       "  '37340',\n",
       "  '47620',\n",
       "  '67600',\n",
       "  '73000',\n",
       "  '77120',\n",
       "  '77580',\n",
       "  '87980'],\n",
       " ['05900',\n",
       "  '07240',\n",
       "  '08400',\n",
       "  '19620',\n",
       "  '22120',\n",
       "  '22140',\n",
       "  '23460',\n",
       "  '23580',\n",
       "  '24120',\n",
       "  '26400',\n",
       "  '34840',\n",
       "  '46580',\n",
       "  '60440',\n",
       "  '61860',\n",
       "  '61880',\n",
       "  '68600',\n",
       "  '70940',\n",
       "  '82320',\n",
       "  '84400',\n",
       "  '86140'],\n",
       " ['06600', '30480', '34660', '34640', '49520', '50940', '74760'],\n",
       " ['04900',\n",
       "  '05420',\n",
       "  '06040',\n",
       "  '09980',\n",
       "  '18280',\n",
       "  '26140',\n",
       "  '26360',\n",
       "  '26380',\n",
       "  '26960',\n",
       "  '29380',\n",
       "  '31400',\n",
       "  '32300',\n",
       "  '51260',\n",
       "  '52220',\n",
       "  '56500',\n",
       "  '85240'],\n",
       " ['10200',\n",
       "  '10220',\n",
       "  '27660',\n",
       "  '40960',\n",
       "  '43300',\n",
       "  '59220',\n",
       "  '59240',\n",
       "  '70600',\n",
       "  '84700',\n",
       "  '85520'],\n",
       " ['07080',\n",
       "  '07440',\n",
       "  '10920',\n",
       "  '13380',\n",
       "  '14820',\n",
       "  '15260',\n",
       "  '21520',\n",
       "  '24540',\n",
       "  '24560',\n",
       "  '24520',\n",
       "  '33420',\n",
       "  '36200',\n",
       "  '42220',\n",
       "  '46000',\n",
       "  '60580',\n",
       "  '60700',\n",
       "  '66100',\n",
       "  '70020',\n",
       "  '77440',\n",
       "  '81980',\n",
       "  '83180',\n",
       "  '87840'],\n",
       " ['06380',\n",
       "  '08980',\n",
       "  '13500',\n",
       "  '14300',\n",
       "  '18900',\n",
       "  '30860',\n",
       "  '36560',\n",
       "  '48080',\n",
       "  '48020',\n",
       "  '51280',\n",
       "  '50340',\n",
       "  '63820',\n",
       "  '64960',\n",
       "  '67540',\n",
       "  '68060',\n",
       "  '75900',\n",
       "  '84840',\n",
       "  '86300'],\n",
       " ['03420',\n",
       "  '04000',\n",
       "  '12060',\n",
       "  '16260',\n",
       "  '16620',\n",
       "  '19880',\n",
       "  '19900',\n",
       "  '27760',\n",
       "  '27780',\n",
       "  '29000',\n",
       "  '29020',\n",
       "  '29200',\n",
       "  '29220',\n",
       "  '29420',\n",
       "  '31220',\n",
       "  '31800',\n",
       "  '33280',\n",
       "  '33300',\n",
       "  '47820',\n",
       "  '55280',\n",
       "  '55300',\n",
       "  '55960',\n",
       "  '55980',\n",
       "  '56160',\n",
       "  '68180',\n",
       "  '77700',\n",
       "  '79460',\n",
       "  '82380'],\n",
       " ['06660',\n",
       "  '06680',\n",
       "  '07360',\n",
       "  '08360',\n",
       "  '09720',\n",
       "  '11440',\n",
       "  '12180',\n",
       "  '16360',\n",
       "  '32320',\n",
       "  '32340',\n",
       "  '35340',\n",
       "  '35620',\n",
       "  '37300',\n",
       "  '70500',\n",
       "  '72240',\n",
       "  '73140',\n",
       "  '79860'],\n",
       " ['07960',\n",
       "  '07980',\n",
       "  '26340',\n",
       "  '41060',\n",
       "  '41080',\n",
       "  '51560',\n",
       "  '82780',\n",
       "  '82800',\n",
       "  '84380'],\n",
       " ['00200',\n",
       "  '08880',\n",
       "  '23800',\n",
       "  '28020',\n",
       "  '31580',\n",
       "  '34240',\n",
       "  '34960',\n",
       "  '49240',\n",
       "  '52480',\n",
       "  '62320',\n",
       "  '63340',\n",
       "  '80340',\n",
       "  '81320',\n",
       "  '87040'],\n",
       " ['01540',\n",
       "  '03260',\n",
       "  '08020',\n",
       "  '25120',\n",
       "  '25880',\n",
       "  '31080',\n",
       "  '36160',\n",
       "  '41340',\n",
       "  '44080',\n",
       "  '57360',\n",
       "  '57040',\n",
       "  '58800',\n",
       "  '58880',\n",
       "  '64360',\n",
       "  '72580',\n",
       "  '71000',\n",
       "  '77300',\n",
       "  '84080',\n",
       "  '86620'],\n",
       " ['00300',\n",
       "  '01320',\n",
       "  '02020',\n",
       "  '12700',\n",
       "  '12780',\n",
       "  '27580',\n",
       "  '38460',\n",
       "  '38480',\n",
       "  '41620',\n",
       "  '41920',\n",
       "  '47980',\n",
       "  '48000',\n",
       "  '55640',\n",
       "  '64620',\n",
       "  '67120',\n",
       "  '67500',\n",
       "  '67520',\n",
       "  '71980',\n",
       "  '74560',\n",
       "  '86540',\n",
       "  '88300',\n",
       "  '88780'],\n",
       " ['00320',\n",
       "  '12600',\n",
       "  '14920',\n",
       "  '23340',\n",
       "  '25660',\n",
       "  '30300',\n",
       "  '36300',\n",
       "  '36320',\n",
       "  '39360',\n",
       "  '44220',\n",
       "  '61260',\n",
       "  '65540',\n",
       "  '66680',\n",
       "  '71840',\n",
       "  '76200',\n",
       "  '80120'],\n",
       " ['04740',\n",
       "  '08420',\n",
       "  '09060',\n",
       "  '10940',\n",
       "  '13760',\n",
       "  '13780',\n",
       "  '14600',\n",
       "  '17140',\n",
       "  '23540',\n",
       "  '27120',\n",
       "  '33080',\n",
       "  '34260',\n",
       "  '36460',\n",
       "  '39960',\n",
       "  '40020',\n",
       "  '44300',\n",
       "  '47640',\n",
       "  '50360',\n",
       "  '52600',\n",
       "  '60520',\n",
       "  '62360',\n",
       "  '65180',\n",
       "  '65700',\n",
       "  '70140',\n",
       "  '71260',\n",
       "  '72200',\n",
       "  '73040',\n",
       "  '73160',\n",
       "  '73880',\n",
       "  '82140',\n",
       "  '87960'],\n",
       " ['00800',\n",
       "  '04240',\n",
       "  '11640',\n",
       "  '21420',\n",
       "  '24120',\n",
       "  '40640',\n",
       "  '46000',\n",
       "  '46020',\n",
       "  '47080',\n",
       "  '47180',\n",
       "  '47200',\n",
       "  '49040',\n",
       "  '52180',\n",
       "  '53140',\n",
       "  '60800',\n",
       "  '76580',\n",
       "  '82220',\n",
       "  '86520',\n",
       "  '86900',\n",
       "  '87420',\n",
       "  '87440'],\n",
       " ['06900',\n",
       "  '07700',\n",
       "  '09680',\n",
       "  '12840',\n",
       "  '19720',\n",
       "  '24220',\n",
       "  '40860',\n",
       "  '40880',\n",
       "  '42520',\n",
       "  '49920',\n",
       "  '58720',\n",
       "  '60200',\n",
       "  '60920',\n",
       "  '61160',\n",
       "  '61580',\n",
       "  '65860',\n",
       "  '65880',\n",
       "  '69440',\n",
       "  '72120'],\n",
       " ['00760',\n",
       "  '04300',\n",
       "  '04920',\n",
       "  '11740',\n",
       "  '24420',\n",
       "  '34280',\n",
       "  '61340',\n",
       "  '64640',\n",
       "  '67960',\n",
       "  '73180',\n",
       "  '78140',\n",
       "  '78100',\n",
       "  '87140',\n",
       "  '87180'],\n",
       " ['05860',\n",
       "  '13860',\n",
       "  '19140',\n",
       "  '19150',\n",
       "  '31160',\n",
       "  '37580',\n",
       "  '40980',\n",
       "  '41000',\n",
       "  '50860',\n",
       "  '52300',\n",
       "  '76080'],\n",
       " ['11140',\n",
       "  '15580',\n",
       "  '15920',\n",
       "  '16880',\n",
       "  '17060',\n",
       "  '21140',\n",
       "  '21680',\n",
       "  '30680',\n",
       "  '32200',\n",
       "  '41160',\n",
       "  '47660',\n",
       "  '56020',\n",
       "  '59360',\n",
       "  '69300',\n",
       "  '73200',\n",
       "  '81340',\n",
       "  '82000',\n",
       "  '88040'],\n",
       " ['08760',\n",
       "  '17400',\n",
       "  '17760',\n",
       "  '34500',\n",
       "  '36400',\n",
       "  '37700',\n",
       "  '41420',\n",
       "  '46980',\n",
       "  '47360',\n",
       "  '56640',\n",
       "  '59180',\n",
       "  '62760',\n",
       "  '66440',\n",
       "  '68920',\n",
       "  '71500',\n",
       "  '75640',\n",
       "  '75880',\n",
       "  '77200',\n",
       "  '79980',\n",
       "  '84300'],\n",
       " ['00840',\n",
       "  '09920',\n",
       "  '14720',\n",
       "  '16460',\n",
       "  '17680',\n",
       "  '17980',\n",
       "  '31260',\n",
       "  '42160',\n",
       "  '42180',\n",
       "  '61400',\n",
       "  '62340',\n",
       "  '62960',\n",
       "  '65560',\n",
       "  '66200',\n",
       "  '68260',\n",
       "  '69820',\n",
       "  '71880',\n",
       "  '79300',\n",
       "  '82840'],\n",
       " ['06440',\n",
       "  '09320',\n",
       "  '09440',\n",
       "  '16340',\n",
       "  '17000',\n",
       "  '26860',\n",
       "  '31600',\n",
       "  '42280',\n",
       "  '60540',\n",
       "  '60940',\n",
       "  '67180',\n",
       "  '75720'],\n",
       " ['00240',\n",
       "  '01160',\n",
       "  '01840',\n",
       "  '09780',\n",
       "  '12240',\n",
       "  '12500',\n",
       "  '13080',\n",
       "  '13660',\n",
       "  '14200',\n",
       "  '18500',\n",
       "  '23980',\n",
       "  '31240',\n",
       "  '34020',\n",
       "  '34000',\n",
       "  '34160',\n",
       "  '34560',\n",
       "  '42820',\n",
       "  '49540',\n",
       "  '49560',\n",
       "  '56920',\n",
       "  '59580',\n",
       "  '64660',\n",
       "  '69080',\n",
       "  '74460',\n",
       "  '75440',\n",
       "  '75560',\n",
       "  '81140',\n",
       "  '81920',\n",
       "  '82960',\n",
       "  '88940'],\n",
       " ['01520', '23620', '34300', '39380', '73220'],\n",
       " ['14880',\n",
       "  '15100',\n",
       "  '22800',\n",
       "  '24800',\n",
       "  '25260',\n",
       "  '25440',\n",
       "  '44320',\n",
       "  '57480',\n",
       "  '63120',\n",
       "  '64440',\n",
       "  '64880',\n",
       "  '71680',\n",
       "  '77740',\n",
       "  '85060',\n",
       "  '89040'],\n",
       " ['01680',\n",
       "  '03280',\n",
       "  '04040',\n",
       "  '11180',\n",
       "  '11840',\n",
       "  '11900',\n",
       "  '21160',\n",
       "  '23160',\n",
       "  '25160',\n",
       "  '32960',\n",
       "  '35840',\n",
       "  '40320',\n",
       "  '40300',\n",
       "  '46040',\n",
       "  '46060',\n",
       "  '51420',\n",
       "  '52500',\n",
       "  '53360',\n",
       "  '58090',\n",
       "  '61060',\n",
       "  '68160'],\n",
       " ['08440',\n",
       "  '14340',\n",
       "  '16400',\n",
       "  '25700',\n",
       "  '26000',\n",
       "  '32380',\n",
       "  '42320',\n",
       "  '46700',\n",
       "  '46820',\n",
       "  '74500',\n",
       "  '77620',\n",
       "  '80340'],\n",
       " ['00440',\n",
       "  '00460',\n",
       "  '09020',\n",
       "  '12720',\n",
       "  '16500',\n",
       "  '21200',\n",
       "  '22820',\n",
       "  '27020',\n",
       "  '30320',\n",
       "  '39720',\n",
       "  '39740',\n",
       "  '50520',\n",
       "  '50540',\n",
       "  '52820',\n",
       "  '55500',\n",
       "  '60260',\n",
       "  '62240',\n",
       "  '66840',\n",
       "  '68540',\n",
       "  '68580',\n",
       "  '69340',\n",
       "  '69360',\n",
       "  '72440',\n",
       "  '79120',\n",
       "  '79140',\n",
       "  '88640'],\n",
       " ['10640',\n",
       "  '10620',\n",
       "  '16920',\n",
       "  '17920',\n",
       "  '21220',\n",
       "  '31860',\n",
       "  '35060',\n",
       "  '36100',\n",
       "  '36340',\n",
       "  '37040',\n",
       "  '39540',\n",
       "  '39560',\n",
       "  '40900',\n",
       "  '51640',\n",
       "  '60120',\n",
       "  '66540',\n",
       "  '81160',\n",
       "  '81240'],\n",
       " ['17480', '44540', '50440', '63500'],\n",
       " ['09500',\n",
       "  '10360',\n",
       "  '16060',\n",
       "  '31620',\n",
       "  '37660',\n",
       "  '39760',\n",
       "  '50280',\n",
       "  '51880',\n",
       "  '55480',\n",
       "  '57640',\n",
       "  '65600',\n",
       "  '70840',\n",
       "  '70860'],\n",
       " ['03540',\n",
       "  '11300',\n",
       "  '14320',\n",
       "  '15340',\n",
       "  '16520',\n",
       "  '24290',\n",
       "  '30420',\n",
       "  '82453',\n",
       "  '36820',\n",
       "  '46900',\n",
       "  '50480',\n",
       "  '52960',\n",
       "  '55820',\n",
       "  '57100',\n",
       "  '67420',\n",
       "  '68380',\n",
       "  '68400',\n",
       "  '69800',\n",
       "  '72820',\n",
       "  '70760',\n",
       "  '76460',\n",
       "  '81540',\n",
       "  '84000',\n",
       "  '84120'],\n",
       " ['03320',\n",
       "  '06480',\n",
       "  '11160',\n",
       "  '16380',\n",
       "  '22320',\n",
       "  '28040',\n",
       "  '50720',\n",
       "  '50740',\n",
       "  '51000',\n",
       "  '51580',\n",
       "  '57900',\n",
       "  '60760',\n",
       "  '64860',\n",
       "  '75680',\n",
       "  '76840'],\n",
       " ['14540',\n",
       "  '15660',\n",
       "  '25820',\n",
       "  '26840',\n",
       "  '29720',\n",
       "  '39940',\n",
       "  '41220',\n",
       "  '41240',\n",
       "  '51900',\n",
       "  '51920',\n",
       "  '53540',\n",
       "  '56860',\n",
       "  '56880',\n",
       "  '66120',\n",
       "  '68000',\n",
       "  '68420',\n",
       "  '71460',\n",
       "  '74110',\n",
       "  '79780',\n",
       "  '80780',\n",
       "  '85260',\n",
       "  '85540'],\n",
       " ['01980',\n",
       "  '10020',\n",
       "  '19440',\n",
       "  '24820',\n",
       "  '30620',\n",
       "  '34320',\n",
       "  '36220',\n",
       "  '49140',\n",
       "  '49640',\n",
       "  '52640',\n",
       "  '63600',\n",
       "  '68860',\n",
       "  '72080',\n",
       "  '73060',\n",
       "  '73240',\n",
       "  '77220',\n",
       "  '82360'],\n",
       " ['00500',\n",
       "  '04380',\n",
       "  '08300',\n",
       "  '08320',\n",
       "  '15600',\n",
       "  '17160',\n",
       "  '21240',\n",
       "  '29680',\n",
       "  '34340',\n",
       "  '34760',\n",
       "  '38540',\n",
       "  '52060',\n",
       "  '52780',\n",
       "  '54020',\n",
       "  '55600',\n",
       "  '73080',\n",
       "  '86560'],\n",
       " ['14240',\n",
       "  '19580',\n",
       "  '27300',\n",
       "  '33160',\n",
       "  '36760',\n",
       "  '38760',\n",
       "  '40600',\n",
       "  '44360',\n",
       "  '52860',\n",
       "  '53020',\n",
       "  '53040',\n",
       "  '53460',\n",
       "  '56440',\n",
       "  '75350',\n",
       "  '76380',\n",
       "  '76400'],\n",
       " ['17100',\n",
       "  '24830',\n",
       "  '31820',\n",
       "  '34860',\n",
       "  '38980',\n",
       "  '39160',\n",
       "  '40620',\n",
       "  '41560',\n",
       "  '41760',\n",
       "  '46160',\n",
       "  '46640',\n",
       "  '47680',\n",
       "  '53780',\n",
       "  '53800',\n",
       "  '54320',\n",
       "  '55940',\n",
       "  '65740',\n",
       "  '84020'],\n",
       " ['00520',\n",
       "  '09080',\n",
       "  '12200',\n",
       "  '12440',\n",
       "  '15900',\n",
       "  '26200',\n",
       "  '29440',\n",
       "  '38620',\n",
       "  '44480',\n",
       "  '44380',\n",
       "  '49980',\n",
       "  '59280',\n",
       "  '64460',\n",
       "  '67840',\n",
       "  '68280',\n",
       "  '68820',\n",
       "  '85560'],\n",
       " ['03680',\n",
       "  '06740',\n",
       "  '07720',\n",
       "  '23400',\n",
       "  '26320',\n",
       "  '26880',\n",
       "  '30820',\n",
       "  '40260',\n",
       "  '46260',\n",
       "  '49180',\n",
       "  '49700',\n",
       "  '53920',\n",
       "  '53900',\n",
       "  '55020',\n",
       "  '55040',\n",
       "  '63800',\n",
       "  '66900',\n",
       "  '77140',\n",
       "  '86740'],\n",
       " ['07200',\n",
       "  '09040',\n",
       "  '12120',\n",
       "  '13600',\n",
       "  '14000',\n",
       "  '19080',\n",
       "  '19920',\n",
       "  '22760',\n",
       "  '26520',\n",
       "  '26720',\n",
       "  '27180',\n",
       "  '27900',\n",
       "  '35100',\n",
       "  '38840',\n",
       "  '51340',\n",
       "  '55140',\n",
       "  '64040',\n",
       "  '64200',\n",
       "  '68120',\n",
       "  '68300',\n",
       "  '73840',\n",
       "  '76220',\n",
       "  '87880'],\n",
       " ['00940', '04580', '10660', '38400', '49480', '55240', '70380', '82420'],\n",
       " ['09340',\n",
       "  '13840',\n",
       "  '14100',\n",
       "  '19660',\n",
       "  '25080',\n",
       "  '30980',\n",
       "  '31020',\n",
       "  '38820',\n",
       "  '45160',\n",
       "  '55100',\n",
       "  '55120',\n",
       "  '55440',\n",
       "  '56320',\n",
       "  '56360',\n",
       "  '56340',\n",
       "  '58640',\n",
       "  '59140',\n",
       "  '67300',\n",
       "  '69520',\n",
       "  '77100',\n",
       "  '86980',\n",
       "  '86780',\n",
       "  '86800'],\n",
       " ['03700',\n",
       "  '05620',\n",
       "  '06580',\n",
       "  '08280',\n",
       "  '10500',\n",
       "  '11060',\n",
       "  '18980',\n",
       "  '19960',\n",
       "  '21700',\n",
       "  '26160',\n",
       "  '26700',\n",
       "  '30700',\n",
       "  '31640',\n",
       "  '33000',\n",
       "  '34360',\n",
       "  '34380',\n",
       "  '38860',\n",
       "  '47440',\n",
       "  '47700',\n",
       "  '53160',\n",
       "  '55060',\n",
       "  '57080',\n",
       "  '59300',\n",
       "  '73120',\n",
       "  '73260',\n",
       "  '80680',\n",
       "  '86680',\n",
       "  '87200'],\n",
       " ['00400',\n",
       "  '04105',\n",
       "  '07660',\n",
       "  '08640',\n",
       "  '09180',\n",
       "  '09110',\n",
       "  '10040',\n",
       "  '16160',\n",
       "  '17640',\n",
       "  '27380',\n",
       "  '27440',\n",
       "  '27760',\n",
       "  '27880',\n",
       "  '35640',\n",
       "  '37420',\n",
       "  '38080',\n",
       "  '38720',\n",
       "  '40000',\n",
       "  '40400',\n",
       "  '42460',\n",
       "  '44440',\n",
       "  '46320',\n",
       "  '49820',\n",
       "  '50560',\n",
       "  '53980',\n",
       "  '58980',\n",
       "  '59440',\n",
       "  '59460',\n",
       "  '59920',\n",
       "  '59820',\n",
       "  '61020',\n",
       "  '61100',\n",
       "  '62040',\n",
       "  '64900',\n",
       "  '65440',\n",
       "  '69020',\n",
       "  '69035',\n",
       "  '69580',\n",
       "  '70040',\n",
       "  '70060',\n",
       "  '75100',\n",
       "  '74900',\n",
       "  '74920',\n",
       "  '75760',\n",
       "  '77860',\n",
       "  '80700',\n",
       "  '82450',\n",
       "  '83060',\n",
       "  '84240',\n",
       "  '85480',\n",
       "  '86860',\n",
       "  '88140'],\n",
       " ['07300',\n",
       "  '16200',\n",
       "  '17180',\n",
       "  '19100',\n",
       "  '25200',\n",
       "  '27940',\n",
       "  '32780',\n",
       "  '34400',\n",
       "  '35160',\n",
       "  '36920',\n",
       "  '36940',\n",
       "  '46560',\n",
       "  '57300',\n",
       "  '61780',\n",
       "  '63560',\n",
       "  '72860',\n",
       "  '85040'],\n",
       " ['15740',\n",
       "  '19260',\n",
       "  '25020',\n",
       "  '29860',\n",
       "  '32860',\n",
       "  '38300',\n",
       "  '39320',\n",
       "  '43640',\n",
       "  '49160',\n",
       "  '54340',\n",
       "  '60300',\n",
       "  '68320',\n",
       "  '69680',\n",
       "  '69600',\n",
       "  '85580',\n",
       "  '85600'],\n",
       " ['07640',\n",
       "  '09460',\n",
       "  '13520',\n",
       "  '35000',\n",
       "  '35960',\n",
       "  '40760',\n",
       "  '52320',\n",
       "  '50460',\n",
       "  '60880',\n",
       "  '69140',\n",
       "  '76180'],\n",
       " ['11680',\n",
       "  '14040',\n",
       "  '26640',\n",
       "  '26660',\n",
       "  '37060',\n",
       "  '37840',\n",
       "  '38100',\n",
       "  '47120',\n",
       "  '47720',\n",
       "  '51680',\n",
       "  '53660',\n",
       "  '61080',\n",
       "  '61280',\n",
       "  '67820',\n",
       "  '68440',\n",
       "  '69760',\n",
       "  '73280',\n",
       "  '77760'],\n",
       " ['08220', '16540', '17600', '25500', '35200', '53120'],\n",
       " ['04780',\n",
       "  '14840',\n",
       "  '15280',\n",
       "  '18320',\n",
       "  '22840',\n",
       "  '25620',\n",
       "  '31720',\n",
       "  '37360',\n",
       "  '48140',\n",
       "  '61680'],\n",
       " ['01360',\n",
       "  '08940',\n",
       "  '15300',\n",
       "  '18020',\n",
       "  '18800',\n",
       "  '27960',\n",
       "  '31880',\n",
       "  '33340',\n",
       "  '33360',\n",
       "  '38640',\n",
       "  '38660',\n",
       "  '39800',\n",
       "  '41520',\n",
       "  '60460',\n",
       "  '62460',\n",
       "  '65320',\n",
       "  '65940',\n",
       "  '69000',\n",
       "  '75840',\n",
       "  '77980',\n",
       "  '88820',\n",
       "  '89260',\n",
       "  '89280'],\n",
       " ['01480',\n",
       "  '06400',\n",
       "  '06920',\n",
       "  '08700',\n",
       "  '13740',\n",
       "  '43900',\n",
       "  '53440',\n",
       "  '54860',\n",
       "  '57940',\n",
       "  '60160',\n",
       "  '60680',\n",
       "  '66020',\n",
       "  '66340',\n",
       "  '66460',\n",
       "  '69260',\n",
       "  '69240'],\n",
       " ['04320',\n",
       "  '04720',\n",
       "  '21640',\n",
       "  '31960',\n",
       "  '38020',\n",
       "  '44400',\n",
       "  '49840',\n",
       "  '51780',\n",
       "  '56980',\n",
       "  '68200',\n",
       "  '69560'],\n",
       " ['00920',\n",
       "  '08560',\n",
       "  '09400',\n",
       "  '09940',\n",
       "  '10100',\n",
       "  '10460',\n",
       "  '11560',\n",
       "  '13540',\n",
       "  '14660',\n",
       "  '15160',\n",
       "  '30200',\n",
       "  '30220',\n",
       "  '30720',\n",
       "  '41480',\n",
       "  '41900',\n",
       "  '43800',\n",
       "  '44560',\n",
       "  '51060',\n",
       "  '51700',\n",
       "  '68340',\n",
       "  '70520',\n",
       "  '70540',\n",
       "  '75480',\n",
       "  '70660',\n",
       "  '77660',\n",
       "  '79100',\n",
       "  '79520',\n",
       "  '79840',\n",
       "  '89320',\n",
       "  '89340'],\n",
       " ['01180',\n",
       "  '07760',\n",
       "  '10820',\n",
       "  '12020',\n",
       "  '13720',\n",
       "  '15540',\n",
       "  '16180',\n",
       "  '16760',\n",
       "  '17520',\n",
       "  '18400',\n",
       "  '23820',\n",
       "  '25960',\n",
       "  '29760',\n",
       "  '34420',\n",
       "  '35220',\n",
       "  '40920',\n",
       "  '42740',\n",
       "  '43160',\n",
       "  '49800',\n",
       "  '51600',\n",
       "  '52080',\n",
       "  '52960',\n",
       "  '56380',\n",
       "  '65820',\n",
       "  '65840',\n",
       "  '68380',\n",
       "  '68620',\n",
       "  '70680',\n",
       "  '70700',\n",
       "  '82900',\n",
       "  '89000'],\n",
       " ['11940',\n",
       "  '17370',\n",
       "  '17860',\n",
       "  '26920',\n",
       "  '27540',\n",
       "  '29060',\n",
       "  '29140',\n",
       "  '47020',\n",
       "  '49060',\n",
       "  '53000',\n",
       "  '55780',\n",
       "  '59400',\n",
       "  '62480',\n",
       "  '73300',\n",
       "  '76960',\n",
       "  '76980',\n",
       "  '79760',\n",
       "  '86940'],\n",
       " ['03460',\n",
       "  '04400',\n",
       "  '10420',\n",
       "  '11180',\n",
       "  '11540',\n",
       "  '18920',\n",
       "  '19460',\n",
       "  '21380',\n",
       "  '25280',\n",
       "  '25540',\n",
       "  '26740',\n",
       "  '29240',\n",
       "  '29500',\n",
       "  '30740',\n",
       "  '35020',\n",
       "  '45460',\n",
       "  '47300',\n",
       "  '51380',\n",
       "  '51720',\n",
       "  '51820',\n",
       "  '51840',\n",
       "  '54540',\n",
       "  '55320',\n",
       "  '71540',\n",
       "  '71580',\n",
       "  '75500',\n",
       "  '84140',\n",
       "  '84440',\n",
       "  '86580',\n",
       "  '88760'],\n",
       " ['22960',\n",
       "  '31940',\n",
       "  '37940',\n",
       "  '40840',\n",
       "  '50760',\n",
       "  '50780',\n",
       "  '56060',\n",
       "  '72500',\n",
       "  '79580'],\n",
       " ['03120',\n",
       "  '07280',\n",
       "  '11880',\n",
       "  '12520',\n",
       "  '18300',\n",
       "  '23500',\n",
       "  '27040',\n",
       "  '37440',\n",
       "  '44200',\n",
       "  '53680',\n",
       "  '57400',\n",
       "  '61940',\n",
       "  '61960',\n",
       "  '63700',\n",
       "  '63720',\n",
       "  '70260',\n",
       "  '71960',\n",
       "  '73520',\n",
       "  '81880',\n",
       "  '82040',\n",
       "  '88400'],\n",
       " ['00720',\n",
       "  '01620',\n",
       "  '03220',\n",
       "  '13420',\n",
       "  '17420',\n",
       "  '19980',\n",
       "  '21600',\n",
       "  '25300',\n",
       "  '25380',\n",
       "  '25720',\n",
       "  '27100',\n",
       "  '30760',\n",
       "  '32160',\n",
       "  '40440',\n",
       "  '42140',\n",
       "  '43400',\n",
       "  '43880',\n",
       "  '54240',\n",
       "  '59420',\n",
       "  '80940',\n",
       "  '81840',\n",
       "  '81860',\n",
       "  '84460',\n",
       "  '85280',\n",
       "  '88080'],\n",
       " ['01600',\n",
       "  '03140',\n",
       "  '03500',\n",
       "  '05140',\n",
       "  '05160',\n",
       "  '09240',\n",
       "  '17440',\n",
       "  '18560',\n",
       "  '21060',\n",
       "  '31840',\n",
       "  '32640',\n",
       "  '36180',\n",
       "  '36960',\n",
       "  '36980',\n",
       "  '42500',\n",
       "  '46460',\n",
       "  '63000',\n",
       "  '64280',\n",
       "  '65760',\n",
       "  '74980',\n",
       "  '75000',\n",
       "  '84820'],\n",
       " ['03000',\n",
       "  '03020',\n",
       "  '04180',\n",
       "  '10560',\n",
       "  '15020',\n",
       "  '22160',\n",
       "  '22180',\n",
       "  '30520',\n",
       "  '47460',\n",
       "  '49120',\n",
       "  '49780',\n",
       "  '50680',\n",
       "  '53920',\n",
       "  '58280',\n",
       "  '64560',\n",
       "  '71130',\n",
       "  '71140',\n",
       "  '71160',\n",
       "  '71940',\n",
       "  '72760',\n",
       "  '77560',\n",
       "  '77800',\n",
       "  '85100',\n",
       "  '89100',\n",
       "  '89140',\n",
       "  '89160'],\n",
       " ['01380',\n",
       "  '07020',\n",
       "  '11220',\n",
       "  '13120',\n",
       "  '21000',\n",
       "  '21020',\n",
       "  '22000',\n",
       "  '24740',\n",
       "  '28360',\n",
       "  '31420',\n",
       "  '32020',\n",
       "  '35420',\n",
       "  '35480',\n",
       "  '35520',\n",
       "  '35540',\n",
       "  '82453',\n",
       "  '35580',\n",
       "  '36280',\n",
       "  '36700',\n",
       "  '38180',\n",
       "  '40040',\n",
       "  '40680',\n",
       "  '47800',\n",
       "  '49000',\n",
       "  '52940',\n",
       "  '58980',\n",
       "  '59000',\n",
       "  '65060',\n",
       "  '65080',\n",
       "  '67625',\n",
       "  '68760',\n",
       "  '68880',\n",
       "  '69180',\n",
       "  '69420',\n",
       "  '74960',\n",
       "  '77360',\n",
       "  '79000',\n",
       "  '80420',\n",
       "  '81660',\n",
       "  '84940',\n",
       "  '86000',\n",
       "  '88380',\n",
       "  '88900'],\n",
       " ['03060',\n",
       "  '09580',\n",
       "  '12320',\n",
       "  '14120',\n",
       "  '15060',\n",
       "  '15860',\n",
       "  '17200',\n",
       "  '35240',\n",
       "  '36420',\n",
       "  '36600',\n",
       "  '37640',\n",
       "  '47380',\n",
       "  '50880',\n",
       "  '72380',\n",
       "  '74220',\n",
       "  '74820',\n",
       "  '75940',\n",
       "  '86500']]"
      ]
     },
     "execution_count": 33,
     "metadata": {},
     "output_type": "execute_result"
    }
   ],
   "source": [
    "juriCodes"
   ]
  },
  {
   "cell_type": "markdown",
   "metadata": {},
   "source": [
    "# Build a list of all township names"
   ]
  },
  {
   "cell_type": "code",
   "execution_count": 34,
   "metadata": {
    "ExecuteTime": {
     "end_time": "2020-10-27T21:04:17.790072Z",
     "start_time": "2020-10-27T21:04:17.470861Z"
    }
   },
   "outputs": [],
   "source": [
    "townships = []\n",
    "for div in divs:\n",
    "    if re.search('jurisdictionCode=(.*?)&amp', str(div)):\n",
    "        township = re.findall('\\\">(.*?)</a', str(div.find_all(class_='local-clerk-link')))\n",
    "        townships.append(township)"
   ]
  },
  {
   "cell_type": "code",
   "execution_count": 35,
   "metadata": {
    "ExecuteTime": {
     "end_time": "2020-10-27T21:04:17.840650Z",
     "start_time": "2020-10-27T21:04:17.795849Z"
    }
   },
   "outputs": [
    {
     "data": {
      "text/plain": [
       "[['Alcona Township',\n",
       "  'Caledonia Township',\n",
       "  'Curtis Township',\n",
       "  'Greenbush Township',\n",
       "  'Gustin Township',\n",
       "  'Harrisville City',\n",
       "  'Harrisville Township',\n",
       "  'Hawes Township',\n",
       "  'Haynes Township',\n",
       "  'Mikado Township',\n",
       "  'Millen Township',\n",
       "  'Mitchell Township'],\n",
       " ['Au Train Township',\n",
       "  'Burt Township',\n",
       "  'Grand Island Township',\n",
       "  'Limestone Township',\n",
       "  'Mathias Township',\n",
       "  'Munising City',\n",
       "  'Munising Township',\n",
       "  'Onota Township',\n",
       "  'Rock River Township'],\n",
       " ['Allegan City',\n",
       "  'Allegan Township',\n",
       "  'Casco Township',\n",
       "  'Cheshire Township',\n",
       "  'Clyde Township',\n",
       "  'Dorr Township',\n",
       "  'Fennville City',\n",
       "  'Fillmore Township',\n",
       "  'Ganges Township',\n",
       "  'Gunplain Township',\n",
       "  'Heath Township',\n",
       "  'Holland City',\n",
       "  'Hopkins Township',\n",
       "  'Laketown Township',\n",
       "  'Lee Township',\n",
       "  'Leighton Township',\n",
       "  'Manlius Township',\n",
       "  'Martin Township',\n",
       "  'Monterey Township',\n",
       "  'Otsego City',\n",
       "  'Otsego Township',\n",
       "  'Overisel Township',\n",
       "  'Plainwell City',\n",
       "  'Salem Township',\n",
       "  'Saugatuck City',\n",
       "  'Saugatuck Township',\n",
       "  'South Haven City',\n",
       "  'Trowbridge Township',\n",
       "  'Valley Township',\n",
       "  'Village Of Douglas City',\n",
       "  'Watson Township',\n",
       "  'Wayland City',\n",
       "  'Wayland Township'],\n",
       " ['Alpena City',\n",
       "  'Alpena Township',\n",
       "  'Green Township',\n",
       "  'Long Rapids Township',\n",
       "  'Maple Ridge Township',\n",
       "  'Ossineke Township',\n",
       "  'Sanborn Township',\n",
       "  'Wellington Township',\n",
       "  'Wilson Township'],\n",
       " ['Banks Township',\n",
       "  'Central Lake Township',\n",
       "  'Chestonia Township',\n",
       "  'Custer Township',\n",
       "  'Echo Township',\n",
       "  'Elk Rapids Township',\n",
       "  'Forest Home Township',\n",
       "  'Helena Township',\n",
       "  'Jordan Township',\n",
       "  'Kearney Township',\n",
       "  'Mancelona Township',\n",
       "  'Milton Township',\n",
       "  'Star Township',\n",
       "  'Torch Lake Township',\n",
       "  'Warner Township'],\n",
       " ['Adams Township',\n",
       "  'Arenac Township',\n",
       "  'Au Gres City',\n",
       "  'Au Gres Township',\n",
       "  'Clayton Township',\n",
       "  'Deep River Township',\n",
       "  'Lincoln Township',\n",
       "  'Mason Township',\n",
       "  'Moffatt Township',\n",
       "  'Omer City',\n",
       "  'Sims Township',\n",
       "  'Standish City',\n",
       "  'Standish Township',\n",
       "  'Turner Township',\n",
       "  'Whitney Township'],\n",
       " ['Arvon Township',\n",
       "  'Baraga Township',\n",
       "  'Covington Township',\n",
       "  'Lanse Township',\n",
       "  'Spurr Township'],\n",
       " ['Assyria Township',\n",
       "  'Baltimore Township',\n",
       "  'Barry Township',\n",
       "  'Carlton Township',\n",
       "  'Castleton Township',\n",
       "  'Hastings City',\n",
       "  'Hastings Township',\n",
       "  'Hope Township',\n",
       "  'Irving Township',\n",
       "  'Johnstown Township',\n",
       "  'Maple Grove Township',\n",
       "  'Orangeville Township',\n",
       "  'Prairieville Township',\n",
       "  'Rutland Township',\n",
       "  'Thornapple Township',\n",
       "  'Woodland Township',\n",
       "  'Yankee Springs Township'],\n",
       " ['Auburn City',\n",
       "  'Bangor Township',\n",
       "  'Bay City City',\n",
       "  'Beaver Township',\n",
       "  'Essexville City',\n",
       "  'Frankenlust Township',\n",
       "  'Fraser Township',\n",
       "  'Garfield Township',\n",
       "  'Gibson Township',\n",
       "  'Hampton Township',\n",
       "  'Kawkawlin Township',\n",
       "  'Merritt Township',\n",
       "  'Midland City',\n",
       "  'Monitor Township',\n",
       "  'Mount Forest Township',\n",
       "  'Pinconning City',\n",
       "  'Pinconning Township',\n",
       "  'Portsmouth Township',\n",
       "  'Williams Township'],\n",
       " ['Almira Township',\n",
       "  'Benzonia Township',\n",
       "  'Blaine Township',\n",
       "  'Colfax Township',\n",
       "  'Crystal Lake Township',\n",
       "  'Frankfort City',\n",
       "  'Gilmore Township',\n",
       "  'Homestead Township',\n",
       "  'Inland Township',\n",
       "  'Joyfield Township',\n",
       "  'Lake Township',\n",
       "  'Platte Township',\n",
       "  'Weldon Township'],\n",
       " ['Bainbridge Township',\n",
       "  'Baroda Township',\n",
       "  'Benton Charter Township',\n",
       "  'Benton Harbor City',\n",
       "  'Berrien Township',\n",
       "  'Bertrand Township',\n",
       "  'Bridgman City',\n",
       "  'Buchanan City',\n",
       "  'Buchanan Township',\n",
       "  'Chikaming Township',\n",
       "  'Coloma Charter Township',\n",
       "  'Coloma City',\n",
       "  'Galien Township',\n",
       "  'Hagar Township',\n",
       "  'Lake Charter Township',\n",
       "  'Lincoln Charter Township',\n",
       "  'New Buffalo City',\n",
       "  'New Buffalo Township',\n",
       "  'Niles Charter Township',\n",
       "  'Niles City',\n",
       "  'Oronoko Charter Township',\n",
       "  'Pipestone Township',\n",
       "  'Royalton Township',\n",
       "  'Sodus Township',\n",
       "  'St Joseph Charter Township',\n",
       "  'St Joseph City',\n",
       "  'Three Oaks Township',\n",
       "  'Watervliet Charter Township',\n",
       "  'Watervliet City',\n",
       "  'Weesaw Township'],\n",
       " ['Algansee Township',\n",
       "  'Batavia Township',\n",
       "  'Bethel Township',\n",
       "  'Bronson City',\n",
       "  'Bronson Township',\n",
       "  'Butler Township',\n",
       "  'California Township',\n",
       "  'Coldwater City',\n",
       "  'Coldwater Township',\n",
       "  'Gilead Township',\n",
       "  'Girard Township',\n",
       "  'Kinderhook Township',\n",
       "  'Matteson Township',\n",
       "  'Noble Township',\n",
       "  'Ovid Township',\n",
       "  'Quincy Township',\n",
       "  'Sherwood Township',\n",
       "  'Union Township'],\n",
       " ['Albion City',\n",
       "  'Albion Township',\n",
       "  'Athens Township',\n",
       "  'Battle Creek City',\n",
       "  'Bedford Township',\n",
       "  'Burlington Township',\n",
       "  'Clarence Township',\n",
       "  'Clarendon Township',\n",
       "  'Convis Township',\n",
       "  'Eckford Township',\n",
       "  'Emmett Township',\n",
       "  'Fredonia Township',\n",
       "  'Homer Township',\n",
       "  'Lee Township',\n",
       "  'Leroy Township',\n",
       "  'Marengo Township',\n",
       "  'Marshall City',\n",
       "  'Marshall Township',\n",
       "  'Newton Township',\n",
       "  'Pennfield Township',\n",
       "  'Sheridan Township',\n",
       "  'Springfield City',\n",
       "  'Tekonsha Township'],\n",
       " ['Calvin Township',\n",
       "  'Dowagiac City',\n",
       "  'Howard Township',\n",
       "  'Jefferson Township',\n",
       "  'La Grange Township',\n",
       "  'Marcellus Township',\n",
       "  'Mason Township',\n",
       "  'Milton Township',\n",
       "  'Newberg Township',\n",
       "  'Niles City',\n",
       "  'Ontwa Township',\n",
       "  'Penn Township',\n",
       "  'Pokagon Township',\n",
       "  'Porter Township',\n",
       "  'Silver Creek Township',\n",
       "  'Volinia Township',\n",
       "  'Wayne Township'],\n",
       " ['Bay Township',\n",
       "  'Boyne City City',\n",
       "  'Boyne Valley Township',\n",
       "  'Chandler Township',\n",
       "  'Charlevoix City',\n",
       "  'Charlevoix Township',\n",
       "  'East Jordan City',\n",
       "  'Evangeline Township',\n",
       "  'Eveline Township',\n",
       "  'Hayes Township',\n",
       "  'Hudson Township',\n",
       "  'Marion Township',\n",
       "  'Melrose Township',\n",
       "  'Norwood Township',\n",
       "  'Peaine Township',\n",
       "  'South Arm Township',\n",
       "  'St James Township',\n",
       "  'Wilson Township'],\n",
       " ['Aloha Township',\n",
       "  'Beaugrand Township',\n",
       "  'Benton Township',\n",
       "  'Burt Township',\n",
       "  'Cheboygan City',\n",
       "  'Ellis Township',\n",
       "  'Forest Township',\n",
       "  'Grant Township',\n",
       "  'Hebron Township',\n",
       "  'Inverness Township',\n",
       "  'Koehler Township',\n",
       "  'Mackinaw Township',\n",
       "  'Mentor Township',\n",
       "  'Mullett Township',\n",
       "  'Munro Township',\n",
       "  'Nunda Township',\n",
       "  'Tuscarora Township',\n",
       "  'Walker Township',\n",
       "  'Waverly Township',\n",
       "  'Wilmot Township'],\n",
       " ['Bay Mills Township',\n",
       "  'Bruce Township',\n",
       "  'Chippewa Township',\n",
       "  'Dafter Township',\n",
       "  'Detour Township',\n",
       "  'Drummond Township',\n",
       "  'Hulbert Township',\n",
       "  'Kinross Township',\n",
       "  'Pickford Township',\n",
       "  'Raber Township',\n",
       "  'Rudyard Township',\n",
       "  'Sault Ste Marie City',\n",
       "  'Soo Township',\n",
       "  'Sugar Island Township',\n",
       "  'Superior Township',\n",
       "  'Trout Lake Township',\n",
       "  'Whitefish Township'],\n",
       " ['Arthur Township',\n",
       "  'Clare City',\n",
       "  'Franklin Township',\n",
       "  'Freeman Township',\n",
       "  'Frost Township',\n",
       "  'Garfield Township',\n",
       "  'Grant Township',\n",
       "  'Greenwood Township',\n",
       "  'Hamilton Township',\n",
       "  'Harrison City',\n",
       "  'Hatton Township',\n",
       "  'Hayes Township',\n",
       "  'Lincoln Township',\n",
       "  'Redding Township',\n",
       "  'Sheridan Township',\n",
       "  'Summerfield Township',\n",
       "  'Surrey Township',\n",
       "  'Winterfield Township'],\n",
       " ['Bath Township',\n",
       "  'Bengal Township',\n",
       "  'Bingham Township',\n",
       "  'Dallas Township',\n",
       "  'De Witt City',\n",
       "  'De Witt Township',\n",
       "  'Duplain Township',\n",
       "  'Eagle Township',\n",
       "  'East Lansing City',\n",
       "  'Essex Township',\n",
       "  'Greenbush Township',\n",
       "  'Lebanon Township',\n",
       "  'Olive Township',\n",
       "  'Ovid City',\n",
       "  'Ovid Township',\n",
       "  'Riley Township',\n",
       "  'St Johns City',\n",
       "  'Victor Township',\n",
       "  'Watertown Township',\n",
       "  'Westphalia Township'],\n",
       " ['Beaver Creek Township',\n",
       "  'Frederic Township',\n",
       "  'Grayling Charter Township',\n",
       "  'Grayling City',\n",
       "  'Lovells Township',\n",
       "  'Maple Forest Township',\n",
       "  'South Branch Township'],\n",
       " ['Baldwin Township',\n",
       "  'Bark River Township',\n",
       "  'Bay De Noc Township',\n",
       "  'Brampton Township',\n",
       "  'Cornell Township',\n",
       "  'Ensign Township',\n",
       "  'Escanaba City',\n",
       "  'Escanaba Township',\n",
       "  'Fairbanks Township',\n",
       "  'Ford River Township',\n",
       "  'Garden Township',\n",
       "  'Gladstone City',\n",
       "  'Maple Ridge Township',\n",
       "  'Masonville Township',\n",
       "  'Nahma Township',\n",
       "  'Wells Township'],\n",
       " ['Breen Township',\n",
       "  'Breitung Township',\n",
       "  'Felch Township',\n",
       "  'Iron Mountain City',\n",
       "  'Kingsford City',\n",
       "  'Norway City',\n",
       "  'Norway Township',\n",
       "  'Sagola Township',\n",
       "  'Waucedah Township',\n",
       "  'West Branch Township'],\n",
       " ['Bellevue Township',\n",
       "  'Benton Township',\n",
       "  'Brookfield Township',\n",
       "  'Carmel Township',\n",
       "  'Charlotte City',\n",
       "  'Chester Township',\n",
       "  'Delta Charter Township',\n",
       "  'Eaton Rapids City',\n",
       "  'Eaton Rapids Township',\n",
       "  'Eaton Township',\n",
       "  'Grand Ledge City',\n",
       "  'Hamlin Township',\n",
       "  'Kalamo Township',\n",
       "  'Lansing City',\n",
       "  'Olivet City',\n",
       "  'Oneida Charter Township',\n",
       "  'Potterville City',\n",
       "  'Roxand Township',\n",
       "  'Sunfield Township',\n",
       "  'Vermontville Township',\n",
       "  'Walton Township',\n",
       "  'Windsor Charter Township'],\n",
       " ['Bear Creek Township',\n",
       "  'Bliss Township',\n",
       "  'Carp Lake Township',\n",
       "  'Center Township',\n",
       "  'Cross Village Township',\n",
       "  'Friendship Township',\n",
       "  'Harbor Springs City',\n",
       "  'Little Traverse Township',\n",
       "  'Littlefield Township',\n",
       "  'Maple River Township',\n",
       "  'McKinley Township',\n",
       "  'Petoskey City',\n",
       "  'Pleasantview Township',\n",
       "  'Readmond Township',\n",
       "  'Resort Township',\n",
       "  'Springvale Township',\n",
       "  'Wawatam Township',\n",
       "  'West Traverse Township'],\n",
       " ['Argentine Township',\n",
       "  'Atlas Township',\n",
       "  'Burton City',\n",
       "  'Clayton Township',\n",
       "  'Clio City',\n",
       "  'Davison City',\n",
       "  'Davison Township',\n",
       "  'Fenton City',\n",
       "  'Fenton Township',\n",
       "  'Flint City',\n",
       "  'Flint Township',\n",
       "  'Flushing City',\n",
       "  'Flushing Township',\n",
       "  'Forest Township',\n",
       "  'Gaines Township',\n",
       "  'Genesee Township',\n",
       "  'Grand Blanc City',\n",
       "  'Grand Blanc Township',\n",
       "  'Linden City',\n",
       "  'Montrose City',\n",
       "  'Montrose Township',\n",
       "  'Mount Morris City',\n",
       "  'Mount Morris Township',\n",
       "  'Mundy Township',\n",
       "  'Richfield Township',\n",
       "  'Swartz Creek City',\n",
       "  'Thetford Township',\n",
       "  'Vienna Township'],\n",
       " ['Beaverton City',\n",
       "  'Beaverton Township',\n",
       "  'Bentley Township',\n",
       "  'Billings Township',\n",
       "  'Bourret Township',\n",
       "  'Buckeye Township',\n",
       "  'Butman Township',\n",
       "  'Clement Township',\n",
       "  'Gladwin City',\n",
       "  'Gladwin Township',\n",
       "  'Grim Township',\n",
       "  'Grout Township',\n",
       "  'Hay Township',\n",
       "  'Sage Township',\n",
       "  'Secord Township',\n",
       "  'Sherman Township',\n",
       "  'Tobacco Township'],\n",
       " ['Bessemer City',\n",
       "  'Bessemer Township',\n",
       "  'Erwin Township',\n",
       "  'Ironwood City',\n",
       "  'Ironwood Township',\n",
       "  'Marenisco Township',\n",
       "  'Wakefield City',\n",
       "  'Wakefield Township',\n",
       "  'Watersmeet Township'],\n",
       " ['Acme Township',\n",
       "  'Blair Township',\n",
       "  'East Bay Township',\n",
       "  'Fife Lake Township',\n",
       "  'Garfield Township',\n",
       "  'Grant Township',\n",
       "  'Green Lake Township',\n",
       "  'Long Lake Township',\n",
       "  'Mayfield Township',\n",
       "  'Paradise Township',\n",
       "  'Peninsula Township',\n",
       "  'Traverse City City',\n",
       "  'Union Township',\n",
       "  'Whitewater Township'],\n",
       " ['Alma City',\n",
       "  'Arcada Township',\n",
       "  'Bethany Township',\n",
       "  'Elba Township',\n",
       "  'Emerson Township',\n",
       "  'Fulton Township',\n",
       "  'Hamilton Township',\n",
       "  'Ithaca City',\n",
       "  'Lafayette Township',\n",
       "  'New Haven Township',\n",
       "  'Newark Township',\n",
       "  'North Shade Township',\n",
       "  'North Star Township',\n",
       "  'Pine River Township',\n",
       "  'Seville Township',\n",
       "  'St Louis City',\n",
       "  'Sumner Township',\n",
       "  'Washington Township',\n",
       "  'Wheeler Township'],\n",
       " ['Adams Township',\n",
       "  'Allen Township',\n",
       "  'Amboy Township',\n",
       "  'Cambria Township',\n",
       "  'Camden Township',\n",
       "  'Fayette Township',\n",
       "  'Hillsdale City',\n",
       "  'Hillsdale Township',\n",
       "  'Jefferson Township',\n",
       "  'Jonesville City',\n",
       "  'Litchfield City',\n",
       "  'Litchfield Township',\n",
       "  'Moscow Township',\n",
       "  'Pittsford Township',\n",
       "  'Ransom Township',\n",
       "  'Reading City',\n",
       "  'Reading Township',\n",
       "  'Scipio Township',\n",
       "  'Somerset Township',\n",
       "  'Wheatland Township',\n",
       "  'Woodbridge Township',\n",
       "  'Wright Township'],\n",
       " ['Adams Township',\n",
       "  'Calumet Township',\n",
       "  'Chassell Township',\n",
       "  'Duncan Township',\n",
       "  'Elm River Township',\n",
       "  'Franklin Township',\n",
       "  'Hancock City',\n",
       "  'Hancock Township',\n",
       "  'Houghton City',\n",
       "  'Laird Township',\n",
       "  'Osceola Township',\n",
       "  'Portage Township',\n",
       "  'Quincy Township',\n",
       "  'Schoolcraft Township',\n",
       "  'Stanton Township',\n",
       "  'Torch Lake Township'],\n",
       " ['Bad Axe City',\n",
       "  'Bingham Township',\n",
       "  'Bloomfield Township',\n",
       "  'Brookfield Township',\n",
       "  'Caseville City',\n",
       "  'Caseville Township',\n",
       "  'Chandler Township',\n",
       "  'Colfax Township',\n",
       "  'Dwight Township',\n",
       "  'Fairhaven Township',\n",
       "  'Gore Township',\n",
       "  'Grant Township',\n",
       "  'Harbor Beach City',\n",
       "  'Hume Township',\n",
       "  'Huron Township',\n",
       "  'Lake Township',\n",
       "  'Lincoln Township',\n",
       "  'McKinley Township',\n",
       "  'Meade Township',\n",
       "  'Oliver Township',\n",
       "  'Paris Township',\n",
       "  'Pointe Aux Barques Township',\n",
       "  'Port Austin Township',\n",
       "  'Rubicon Township',\n",
       "  'Sand Beach Township',\n",
       "  'Sebewaing Township',\n",
       "  'Sheridan Township',\n",
       "  'Sherman Township',\n",
       "  'Sigel Township',\n",
       "  'Verona Township',\n",
       "  'Winsor Township'],\n",
       " ['Alaiedon Township',\n",
       "  'Aurelius Township',\n",
       "  'Bunker Hill Township',\n",
       "  'Delhi Charter Township',\n",
       "  'East Lansing City',\n",
       "  'Ingham Township',\n",
       "  'Lansing City',\n",
       "  'Lansing Township',\n",
       "  'Leroy Township',\n",
       "  'Leslie City',\n",
       "  'Leslie Township',\n",
       "  'Locke Township',\n",
       "  'Mason City',\n",
       "  'Meridian Township',\n",
       "  'Onondaga Township',\n",
       "  'Stockbridge Township',\n",
       "  'Vevay Township',\n",
       "  'Wheatfield Township',\n",
       "  'White Oak Township',\n",
       "  'Williamston City',\n",
       "  'Williamstown Township'],\n",
       " ['Belding City',\n",
       "  'Berlin Township',\n",
       "  'Boston Township',\n",
       "  'Campbell Township',\n",
       "  'Danby Township',\n",
       "  'Easton Township',\n",
       "  'Ionia City',\n",
       "  'Ionia Township',\n",
       "  'Keene Township',\n",
       "  'Lyons Township',\n",
       "  'North Plains Township',\n",
       "  'Odessa Township',\n",
       "  'Orange Township',\n",
       "  'Orleans Township',\n",
       "  'Otisco Township',\n",
       "  'Portland City',\n",
       "  'Portland Township',\n",
       "  'Ronald Township',\n",
       "  'Sebewa Township'],\n",
       " ['Alabaster Township',\n",
       "  'Au Sable Township',\n",
       "  'Baldwin Township',\n",
       "  'Burleigh Township',\n",
       "  'East Tawas City',\n",
       "  'Grant Township',\n",
       "  'Oscoda Township',\n",
       "  'Plainfield Township',\n",
       "  'Reno Township',\n",
       "  'Sherman Township',\n",
       "  'Tawas City City',\n",
       "  'Tawas Township',\n",
       "  'Whittemore City',\n",
       "  'Wilber Township'],\n",
       " ['Bates Township',\n",
       "  'Caspian City',\n",
       "  'Crystal Falls City',\n",
       "  'Crystal Falls Township',\n",
       "  'Gaastra City',\n",
       "  'Hematite Township',\n",
       "  'Iron River City',\n",
       "  'Iron River Township',\n",
       "  'Mansfield Township',\n",
       "  'Mastodon Township',\n",
       "  'Stambaugh Township'],\n",
       " ['Broomfield Township',\n",
       "  'Chippewa Township',\n",
       "  'Clare City',\n",
       "  'Coe Township',\n",
       "  'Coldwater Township',\n",
       "  'Deerfield Township',\n",
       "  'Denver Township',\n",
       "  'Fremont Township',\n",
       "  'Gilmore Township',\n",
       "  'Isabella Township',\n",
       "  'Lincoln Township',\n",
       "  'Mount Pleasant City',\n",
       "  'Nottawa Township',\n",
       "  'Rolland Township',\n",
       "  'Sherman Township',\n",
       "  'Union Township',\n",
       "  'Vernon Township',\n",
       "  'Wise Township'],\n",
       " ['Blackman Township',\n",
       "  'Columbia Township',\n",
       "  'Concord Township',\n",
       "  'Grass Lake Charter Township',\n",
       "  'Hanover Township',\n",
       "  'Henrietta Township',\n",
       "  'Jackson City',\n",
       "  'Leoni Township',\n",
       "  'Liberty Township',\n",
       "  'Napoleon Township',\n",
       "  'Norvell Township',\n",
       "  'Parma Township',\n",
       "  'Pulaski Township',\n",
       "  'Rives Township',\n",
       "  'Sandstone Township',\n",
       "  'Spring Arbor Township',\n",
       "  'Springport Township',\n",
       "  'Summit Township',\n",
       "  'Tompkins Township',\n",
       "  'Waterloo Township'],\n",
       " ['Alamo Township',\n",
       "  'Brady Township',\n",
       "  'Charleston Township',\n",
       "  'Climax Township',\n",
       "  'Comstock Township',\n",
       "  'Cooper Township',\n",
       "  'Galesburg City',\n",
       "  'Kalamazoo City',\n",
       "  'Kalamazoo Township',\n",
       "  'Oshtemo Township',\n",
       "  'Parchment City',\n",
       "  'Pavilion Township',\n",
       "  'Portage City',\n",
       "  'Prairie Ronde Township',\n",
       "  'Richland Township',\n",
       "  'Ross Township',\n",
       "  'Schoolcraft Township',\n",
       "  'Texas Township',\n",
       "  'Wakeshma Township'],\n",
       " ['Bear Lake Township',\n",
       "  'Blue Lake Township',\n",
       "  'Boardman Township',\n",
       "  'Clearwater Township',\n",
       "  'Coldsprings Township',\n",
       "  'Excelsior Township',\n",
       "  'Garfield Township',\n",
       "  'Kalkaska Township',\n",
       "  'Oliver Township',\n",
       "  'Orange Township',\n",
       "  'Rapid River Township',\n",
       "  'Springfield Township'],\n",
       " ['Ada Township',\n",
       "  'Algoma Township',\n",
       "  'Alpine Township',\n",
       "  'Bowne Township',\n",
       "  'Byron Township',\n",
       "  'Caledonia Township',\n",
       "  'Cannon Township',\n",
       "  'Cascade Township',\n",
       "  'Cedar Springs City',\n",
       "  'Courtland Township',\n",
       "  'East Grand Rapids City',\n",
       "  'Gaines Township',\n",
       "  'Grand Rapids Charter Township',\n",
       "  'Grand Rapids City',\n",
       "  'Grandville City',\n",
       "  'Grattan Township',\n",
       "  'Kentwood City',\n",
       "  'Lowell City',\n",
       "  'Lowell Township',\n",
       "  'Nelson Township',\n",
       "  'Oakfield Township',\n",
       "  'Plainfield Township',\n",
       "  'Rockford City',\n",
       "  'Solon Township',\n",
       "  'Sparta Township',\n",
       "  'Spencer Township',\n",
       "  'Tyrone Township',\n",
       "  'Vergennes Township',\n",
       "  'Walker City',\n",
       "  'Wyoming City'],\n",
       " ['Allouez Township',\n",
       "  'Eagle Harbor Township',\n",
       "  'Grant Township',\n",
       "  'Houghton Township',\n",
       "  'Sherman Township'],\n",
       " ['Chase Township',\n",
       "  'Cherry Valley Township',\n",
       "  'Dover Township',\n",
       "  'Eden Township',\n",
       "  'Elk Township',\n",
       "  'Ellsworth Township',\n",
       "  'Lake Township',\n",
       "  'Newkirk Township',\n",
       "  'Peacock Township',\n",
       "  'Pinora Township',\n",
       "  'Pleasant Plains Township',\n",
       "  'Sauble Township',\n",
       "  'Sweetwater Township',\n",
       "  'Webber Township',\n",
       "  'Yates Township'],\n",
       " ['Almont Township',\n",
       "  'Arcadia Township',\n",
       "  'Attica Township',\n",
       "  'Brown City City',\n",
       "  'Burlington Township',\n",
       "  'Burnside Township',\n",
       "  'Deerfield Township',\n",
       "  'Dryden Township',\n",
       "  'Elba Township',\n",
       "  'Goodland Township',\n",
       "  'Hadley Township',\n",
       "  'Imlay City City',\n",
       "  'Imlay Township',\n",
       "  'Lapeer City',\n",
       "  'Lapeer Township',\n",
       "  'Marathon Township',\n",
       "  'Mayfield Township',\n",
       "  'Metamora Township',\n",
       "  'North Branch Township',\n",
       "  'Oregon Township',\n",
       "  'Rich Township'],\n",
       " ['Bingham Township',\n",
       "  'Centerville Township',\n",
       "  'Cleveland Township',\n",
       "  'Elmwood Township',\n",
       "  'Empire Township',\n",
       "  'Glen Arbor Township',\n",
       "  'Kasson Township',\n",
       "  'Leelanau Township',\n",
       "  'Leland Township',\n",
       "  'Solon Township',\n",
       "  'Suttons Bay Township',\n",
       "  'Traverse City City'],\n",
       " ['Adrian City',\n",
       "  'Adrian Township',\n",
       "  'Blissfield Township',\n",
       "  'Cambridge Township',\n",
       "  'Clinton Township',\n",
       "  'Deerfield Township',\n",
       "  'Dover Township',\n",
       "  'Fairfield Township',\n",
       "  'Franklin Township',\n",
       "  'Hudson City',\n",
       "  'Hudson Township',\n",
       "  'Macon Township',\n",
       "  'Madison Charter Township',\n",
       "  'Medina Township',\n",
       "  'Morenci City',\n",
       "  'Ogden Township',\n",
       "  'Palmyra Township',\n",
       "  'Raisin Township',\n",
       "  'Ridgeway Township',\n",
       "  'Riga Township',\n",
       "  'Rollin Township',\n",
       "  'Rome Township',\n",
       "  'Seneca Township',\n",
       "  'Tecumseh City',\n",
       "  'Tecumseh Township',\n",
       "  'Woodstock Township'],\n",
       " ['Brighton Charter Township',\n",
       "  'Brighton City',\n",
       "  'Cohoctah Township',\n",
       "  'Conway Township',\n",
       "  'Deerfield Township',\n",
       "  'Genoa Township',\n",
       "  'Green Oak Township',\n",
       "  'Hamburg Township',\n",
       "  'Handy Township',\n",
       "  'Hartland Township',\n",
       "  'Howell City',\n",
       "  'Howell Township',\n",
       "  'Iosco Township',\n",
       "  'Marion Township',\n",
       "  'Oceola Township',\n",
       "  'Putnam Township',\n",
       "  'Tyrone Township',\n",
       "  'Unadilla Township'],\n",
       " ['Columbus Township',\n",
       "  'Lakefield Township',\n",
       "  'McMillan Township',\n",
       "  'Pentland Township'],\n",
       " ['Bois Blanc Township',\n",
       "  'Brevort Township',\n",
       "  'Clark Township',\n",
       "  'Garfield Township',\n",
       "  'Hendricks Township',\n",
       "  'Hudson Township',\n",
       "  'Mackinac Island City',\n",
       "  'Marquette Township',\n",
       "  'Moran Township',\n",
       "  'Newton Township',\n",
       "  'Portage Township',\n",
       "  'St Ignace City',\n",
       "  'St Ignace Township'],\n",
       " ['Armada Township',\n",
       "  'Bruce Township',\n",
       "  'Center Line City',\n",
       "  'Chesterfield Township',\n",
       "  'Clinton Township',\n",
       "  'Eastpointe City',\n",
       "  'Fraser City',\n",
       "  'Grosse Pointe Shores City',\n",
       "  'Harrison Township',\n",
       "  'Lenox Township',\n",
       "  'Macomb Township',\n",
       "  'Memphis City',\n",
       "  'Mount Clemens City',\n",
       "  'New Baltimore City',\n",
       "  'Ray Township',\n",
       "  'Richmond City',\n",
       "  'Richmond Township',\n",
       "  'Roseville City',\n",
       "  'Shelby Charter Township',\n",
       "  'St Clair Shores City',\n",
       "  'Sterling Heights City',\n",
       "  'Utica City',\n",
       "  'Warren City',\n",
       "  'Washington Township'],\n",
       " ['Arcadia Township',\n",
       "  'Bear Lake Township',\n",
       "  'Brown Township',\n",
       "  'Cleon Township',\n",
       "  'Dickson Township',\n",
       "  'Filer Township',\n",
       "  'Manistee City',\n",
       "  'Manistee Township',\n",
       "  'Maple Grove Township',\n",
       "  'Marilla Township',\n",
       "  'Norman Township',\n",
       "  'Onekama Township',\n",
       "  'Pleasanton Township',\n",
       "  'Springdale Township',\n",
       "  'Stronach Township'],\n",
       " ['Champion Township',\n",
       "  'Chocolay Township',\n",
       "  'Ely Township',\n",
       "  'Ewing Township',\n",
       "  'Forsyth Township',\n",
       "  'Humboldt Township',\n",
       "  'Ishpeming City',\n",
       "  'Ishpeming Township',\n",
       "  'Marquette City',\n",
       "  'Marquette Township',\n",
       "  'Michigamme Township',\n",
       "  'Negaunee City',\n",
       "  'Negaunee Township',\n",
       "  'Powell Township',\n",
       "  'Republic Township',\n",
       "  'Richmond Township',\n",
       "  'Sands Township',\n",
       "  'Skandia Township',\n",
       "  'Tilden Township',\n",
       "  'Turin Township',\n",
       "  'Wells Township',\n",
       "  'West Branch Township'],\n",
       " ['Amber Township',\n",
       "  'Branch Township',\n",
       "  'Custer Township',\n",
       "  'Eden Township',\n",
       "  'Free Soil Township',\n",
       "  'Grant Township',\n",
       "  'Hamlin Township',\n",
       "  'Logan Township',\n",
       "  'Ludington City',\n",
       "  'Meade Township',\n",
       "  'Pere Marquette Charter Twp',\n",
       "  'Riverton Township',\n",
       "  'Scottville City',\n",
       "  'Sheridan Township',\n",
       "  'Sherman Township',\n",
       "  'Summit Township',\n",
       "  'Victory Township'],\n",
       " ['Aetna Township',\n",
       "  'Austin Township',\n",
       "  'Big Rapids City',\n",
       "  'Big Rapids Township',\n",
       "  'Chippewa Township',\n",
       "  'Colfax Township',\n",
       "  'Deerfield Township',\n",
       "  'Fork Township',\n",
       "  'Grant Township',\n",
       "  'Green Township',\n",
       "  'Hinton Township',\n",
       "  'Martiny Township',\n",
       "  'Mecosta Township',\n",
       "  'Millbrook Township',\n",
       "  'Morton Township',\n",
       "  'Sheridan Township',\n",
       "  'Wheatland Township'],\n",
       " ['Cedarville Township',\n",
       "  'Daggett Township',\n",
       "  'Faithorn Township',\n",
       "  'Gourley Township',\n",
       "  'Harris Township',\n",
       "  'Holmes Township',\n",
       "  'Ingallston Township',\n",
       "  'Lake Township',\n",
       "  'Mellen Township',\n",
       "  'Menominee City',\n",
       "  'Menominee Township',\n",
       "  'Meyer Township',\n",
       "  'Nadeau Township',\n",
       "  'Spalding Township',\n",
       "  'Stephenson City',\n",
       "  'Stephenson Township'],\n",
       " ['Coleman City',\n",
       "  'Edenville Township',\n",
       "  'Geneva Township',\n",
       "  'Greendale Township',\n",
       "  'Homer Township',\n",
       "  'Hope Township',\n",
       "  'Ingersoll Township',\n",
       "  'Jasper Township',\n",
       "  'Jerome Township',\n",
       "  'Larkin Township',\n",
       "  'Lee Township',\n",
       "  'Lincoln Township',\n",
       "  'Midland City',\n",
       "  'Midland Township',\n",
       "  'Mills Township',\n",
       "  'Mount Haley Township',\n",
       "  'Porter Township',\n",
       "  'Warren Township'],\n",
       " ['Aetna Township',\n",
       "  'Bloomfield Township',\n",
       "  'Butterfield Township',\n",
       "  'Caldwell Township',\n",
       "  'Clam Union Township',\n",
       "  'Enterprise Township',\n",
       "  'Forest Township',\n",
       "  'Holland Township',\n",
       "  'Lake City City',\n",
       "  'Lake Township',\n",
       "  'McBain City',\n",
       "  'Norwich Township',\n",
       "  'Pioneer Township',\n",
       "  'Reeder Township',\n",
       "  'Richland Township',\n",
       "  'Riverside Township',\n",
       "  'West Branch Township'],\n",
       " ['Ash Township',\n",
       "  'Bedford Township',\n",
       "  'Berlin Township',\n",
       "  'Dundee Township',\n",
       "  'Erie Township',\n",
       "  'Exeter Township',\n",
       "  'Frenchtown Township',\n",
       "  'Ida Township',\n",
       "  'La Salle Township',\n",
       "  'London Township',\n",
       "  'Luna Pier City',\n",
       "  'Milan City',\n",
       "  'Milan Township',\n",
       "  'Monroe City',\n",
       "  'Monroe Township',\n",
       "  'Petersburg City',\n",
       "  'Raisinville Township',\n",
       "  'Summerfield Township',\n",
       "  'Whiteford Township'],\n",
       " ['Belvidere Township',\n",
       "  'Bloomer Township',\n",
       "  'Bushnell Township',\n",
       "  'Carson City City',\n",
       "  'Cato Township',\n",
       "  'Crystal Township',\n",
       "  'Day Township',\n",
       "  'Douglass Township',\n",
       "  'Eureka Township',\n",
       "  'Evergreen Township',\n",
       "  'Fairplain Township',\n",
       "  'Ferris Township',\n",
       "  'Greenville City',\n",
       "  'Home Township',\n",
       "  'Maple Valley Township',\n",
       "  'Montcalm Township',\n",
       "  'Pierson Township',\n",
       "  'Pine Township',\n",
       "  'Reynolds Township',\n",
       "  'Richland Township',\n",
       "  'Sidney Township',\n",
       "  'Stanton City',\n",
       "  'Winfield Township'],\n",
       " ['Albert Township',\n",
       "  'Avery Township',\n",
       "  'Briley Township',\n",
       "  'Hillman Township',\n",
       "  'Loud Township',\n",
       "  'Montmorency Township',\n",
       "  'Rust Township',\n",
       "  'Vienna Township'],\n",
       " ['Blue Lake Township',\n",
       "  'Casnovia Township',\n",
       "  'Cedar Creek Township',\n",
       "  'Dalton Township',\n",
       "  'Egelston Township',\n",
       "  'Fruitland Township',\n",
       "  'Fruitport Township',\n",
       "  'Holton Township',\n",
       "  'Laketon Township',\n",
       "  'Montague City',\n",
       "  'Montague Township',\n",
       "  'Moorland Township',\n",
       "  'Muskegon City',\n",
       "  'Muskegon Heights City',\n",
       "  'Muskegon Township',\n",
       "  'North Muskegon City',\n",
       "  'Norton Shores City',\n",
       "  'Ravenna Township',\n",
       "  'Roosevelt Park City',\n",
       "  'Sullivan Township',\n",
       "  'White River Township',\n",
       "  'Whitehall City',\n",
       "  'Whitehall Township'],\n",
       " ['Ashland Township',\n",
       "  'Barton Township',\n",
       "  'Beaver Township',\n",
       "  'Big Prairie Township',\n",
       "  'Bridgeton Township',\n",
       "  'Brooks Township',\n",
       "  'Croton Township',\n",
       "  'Dayton Township',\n",
       "  'Denver Township',\n",
       "  'Ensley Township',\n",
       "  'Everett Township',\n",
       "  'Fremont City',\n",
       "  'Garfield Township',\n",
       "  'Goodwell Township',\n",
       "  'Grant City',\n",
       "  'Grant Township',\n",
       "  'Home Township',\n",
       "  'Lilley Township',\n",
       "  'Lincoln Township',\n",
       "  'Merrill Township',\n",
       "  'Monroe Township',\n",
       "  'Newaygo City',\n",
       "  'Norwich Township',\n",
       "  'Sheridan Charter Township',\n",
       "  'Sherman Township',\n",
       "  'Troy Township',\n",
       "  'White Cloud City',\n",
       "  'Wilcox Township'],\n",
       " ['Addison Township',\n",
       "  'Auburn Hills City',\n",
       "  'Berkley City',\n",
       "  'Birmingham City',\n",
       "  'Bloomfield Hills City',\n",
       "  'Bloomfield Township',\n",
       "  'Brandon Township',\n",
       "  'Clawson City',\n",
       "  'Commerce Township',\n",
       "  'Farmington City',\n",
       "  'Farmington Hills City',\n",
       "  'Fenton City',\n",
       "  'Ferndale City',\n",
       "  'Groveland Township',\n",
       "  'Hazel Park City',\n",
       "  'Highland Township',\n",
       "  'Holly Township',\n",
       "  'Huntington Woods City',\n",
       "  'Independence Township',\n",
       "  'Keego Harbor City',\n",
       "  'Lake Angelus City',\n",
       "  'Lathrup Village City',\n",
       "  'Lyon Township',\n",
       "  'Madison Heights City',\n",
       "  'Milford Township',\n",
       "  'Northville City',\n",
       "  'Novi City',\n",
       "  'Novi Township',\n",
       "  'Oak Park City',\n",
       "  'Oakland Charter Township',\n",
       "  'Orchard Lake Village City',\n",
       "  'Orion Township',\n",
       "  'Oxford Township',\n",
       "  'Pleasant Ridge City',\n",
       "  'Pontiac City',\n",
       "  'Rochester City',\n",
       "  'Rochester Hills City',\n",
       "  'Rose Township',\n",
       "  'Royal Oak City',\n",
       "  'Royal Oak Township',\n",
       "  'South Lyon City',\n",
       "  'Southfield City',\n",
       "  'Southfield Township',\n",
       "  'Springfield Township',\n",
       "  'Sylvan Lake City',\n",
       "  'Troy City',\n",
       "  'Village Of Clarkston City',\n",
       "  'Walled Lake City',\n",
       "  'Waterford Township',\n",
       "  'West Bloomfield Township',\n",
       "  'White Lake Township',\n",
       "  'Wixom City'],\n",
       " ['Benona Township',\n",
       "  'Claybanks Township',\n",
       "  'Colfax Township',\n",
       "  'Crystal Township',\n",
       "  'Elbridge Township',\n",
       "  'Ferry Township',\n",
       "  'Golden Township',\n",
       "  'Grant Township',\n",
       "  'Greenwood Township',\n",
       "  'Hart City',\n",
       "  'Hart Township',\n",
       "  'Leavitt Township',\n",
       "  'Newfield Township',\n",
       "  'Otto Township',\n",
       "  'Pentwater Township',\n",
       "  'Shelby Township',\n",
       "  'Weare Township'],\n",
       " ['Churchill Township',\n",
       "  'Cumming Township',\n",
       "  'Edwards Township',\n",
       "  'Foster Township',\n",
       "  'Goodar Township',\n",
       "  'Hill Township',\n",
       "  'Horton Township',\n",
       "  'Klacking Township',\n",
       "  'Logan Township',\n",
       "  'Mills Township',\n",
       "  'Ogemaw Township',\n",
       "  'Richland Township',\n",
       "  'Rose City City',\n",
       "  'Rose Township',\n",
       "  'West Branch City',\n",
       "  'West Branch Township'],\n",
       " ['Bergland Township',\n",
       "  'Bohemia Township',\n",
       "  'Carp Lake Township',\n",
       "  'Greenland Township',\n",
       "  'Haight Township',\n",
       "  'Interior Township',\n",
       "  'Matchwood Township',\n",
       "  'McMillan Township',\n",
       "  'Ontonagon Township',\n",
       "  'Rockland Township',\n",
       "  'Stannard Township'],\n",
       " ['Burdell Township',\n",
       "  'Cedar Township',\n",
       "  'Evart City',\n",
       "  'Evart Township',\n",
       "  'Hartwick Township',\n",
       "  'Hersey Township',\n",
       "  'Highland Township',\n",
       "  'Le Roy Township',\n",
       "  'Lincoln Township',\n",
       "  'Marion Township',\n",
       "  'Middle Branch Township',\n",
       "  'Orient Township',\n",
       "  'Osceola Township',\n",
       "  'Reed City City',\n",
       "  'Richmond Township',\n",
       "  'Rose Lake Township',\n",
       "  'Sherman Township',\n",
       "  'Sylvan Township'],\n",
       " ['Big Creek Township',\n",
       "  'Clinton Township',\n",
       "  'Comins Township',\n",
       "  'Elmer Township',\n",
       "  'Greenwood Township',\n",
       "  'Mentor Township'],\n",
       " ['Bagley Township',\n",
       "  'Charlton Township',\n",
       "  'Chester Township',\n",
       "  'Corwith Township',\n",
       "  'Dover Township',\n",
       "  'Elmira Township',\n",
       "  'Gaylord City',\n",
       "  'Hayes Township',\n",
       "  'Livingston Township',\n",
       "  'Otsego Lake Township'],\n",
       " ['Allendale Township',\n",
       "  'Blendon Township',\n",
       "  'Chester Township',\n",
       "  'Coopersville City',\n",
       "  'Crockery Township',\n",
       "  'Ferrysburg City',\n",
       "  'Georgetown Township',\n",
       "  'Grand Haven City',\n",
       "  'Grand Haven Township',\n",
       "  'Holland City',\n",
       "  'Holland Township',\n",
       "  'Hudsonville City',\n",
       "  'Jamestown Township',\n",
       "  'Olive Township',\n",
       "  'Park Township',\n",
       "  'Polkton Township',\n",
       "  'Port Sheldon Township',\n",
       "  'Robinson Township',\n",
       "  'Spring Lake Township',\n",
       "  'Tallmadge Township',\n",
       "  'Wright Township',\n",
       "  'Zeeland City',\n",
       "  'Zeeland Township'],\n",
       " ['Allis Township',\n",
       "  'Bearinger Township',\n",
       "  'Belknap Township',\n",
       "  'Bismarck Township',\n",
       "  'Case Township',\n",
       "  'Krakow Township',\n",
       "  'Metz Township',\n",
       "  'Moltke Township',\n",
       "  'North Allis Township',\n",
       "  'Ocqueoc Township',\n",
       "  'Onaway City',\n",
       "  'Posen Township',\n",
       "  'Presque Isle Township',\n",
       "  'Pulawski Township',\n",
       "  'Rogers City City',\n",
       "  'Rogers Township'],\n",
       " ['Au Sable Township',\n",
       "  'Backus Township',\n",
       "  'Denton Township',\n",
       "  'Gerrish Township',\n",
       "  'Higgins Township',\n",
       "  'Lake Township',\n",
       "  'Lyon Township',\n",
       "  'Markey Township',\n",
       "  'Nester Township',\n",
       "  'Richfield Township',\n",
       "  'Roscommon Township'],\n",
       " ['Albee Township',\n",
       "  'Birch Run Township',\n",
       "  'Blumfield Township',\n",
       "  'Brady Township',\n",
       "  'Brant Township',\n",
       "  'Bridgeport Township',\n",
       "  'Buena Vista Charter Township',\n",
       "  'Carrollton Township',\n",
       "  'Chapin Township',\n",
       "  'Chesaning Township',\n",
       "  'Frankenmuth City',\n",
       "  'Frankenmuth Township',\n",
       "  'Fremont Township',\n",
       "  'James Township',\n",
       "  'Jonesfield Township',\n",
       "  'Kochville Township',\n",
       "  'Lakefield Township',\n",
       "  'Maple Grove Township',\n",
       "  'Marion Township',\n",
       "  'Richland Township',\n",
       "  'Saginaw City',\n",
       "  'Saginaw Township',\n",
       "  'Spaulding Township',\n",
       "  'St Charles Township',\n",
       "  'Swan Creek Township',\n",
       "  'Taymouth Township',\n",
       "  'Thomas Township',\n",
       "  'Tittabawassee Township',\n",
       "  'Zilwaukee City',\n",
       "  'Zilwaukee Township'],\n",
       " ['Algonac City',\n",
       "  'Berlin Township',\n",
       "  'Brockway Township',\n",
       "  'Burtchville Township',\n",
       "  'Casco Township',\n",
       "  'China Township',\n",
       "  'Clay Township',\n",
       "  'Clyde Township',\n",
       "  'Columbus Township',\n",
       "  'Cottrellville Township',\n",
       "  'East China Township',\n",
       "  'Emmett Township',\n",
       "  'Fort Gratiot Township',\n",
       "  'Grant Township',\n",
       "  'Greenwood Township',\n",
       "  'Ira Township',\n",
       "  'Kenockee Township',\n",
       "  'Kimball Township',\n",
       "  'Lynn Township',\n",
       "  'Marine City City',\n",
       "  'Marysville City',\n",
       "  'Memphis City',\n",
       "  'Mussey Township',\n",
       "  'Port Huron City',\n",
       "  'Port Huron Township',\n",
       "  'Richmond City',\n",
       "  'Riley Township',\n",
       "  'St Clair City',\n",
       "  'St Clair Township',\n",
       "  'Wales Township',\n",
       "  'Yale City'],\n",
       " ['Burr Oak Township',\n",
       "  'Colon Township',\n",
       "  'Constantine Township',\n",
       "  'Fabius Township',\n",
       "  'Fawn River Township',\n",
       "  'Florence Township',\n",
       "  'Flowerfield Township',\n",
       "  'Leonidas Township',\n",
       "  'Lockport Township',\n",
       "  'Mendon Township',\n",
       "  'Mottville Township',\n",
       "  'Nottawa Township',\n",
       "  'Park Township',\n",
       "  'Sherman Township',\n",
       "  'Sturgis City',\n",
       "  'Sturgis Township',\n",
       "  'Three Rivers City',\n",
       "  'White Pigeon Township'],\n",
       " ['Argyle Township',\n",
       "  'Austin Township',\n",
       "  'Bridgehampton Township',\n",
       "  'Brown City City',\n",
       "  'Buel Township',\n",
       "  'Croswell City',\n",
       "  'Custer Township',\n",
       "  'Delaware Township',\n",
       "  'Elk Township',\n",
       "  'Elmer Township',\n",
       "  'Evergreen Township',\n",
       "  'Flynn Township',\n",
       "  'Forester Township',\n",
       "  'Fremont Township',\n",
       "  'Greenleaf Township',\n",
       "  'Lamotte Township',\n",
       "  'Lexington Township',\n",
       "  'Maple Valley Township',\n",
       "  'Marion Township',\n",
       "  'Marlette City',\n",
       "  'Marlette Township',\n",
       "  'Minden Township',\n",
       "  'Moore Township',\n",
       "  'Sandusky City',\n",
       "  'Sanilac Township',\n",
       "  'Speaker Township',\n",
       "  'Washington Township',\n",
       "  'Watertown Township',\n",
       "  'Wheatland Township',\n",
       "  'Worth Township'],\n",
       " ['Doyle Township',\n",
       "  'Germfask Township',\n",
       "  'Hiawatha Township',\n",
       "  'Inwood Township',\n",
       "  'Manistique City',\n",
       "  'Manistique Township',\n",
       "  'Mueller Township',\n",
       "  'Seney Township',\n",
       "  'Thompson Township'],\n",
       " ['Antrim Township',\n",
       "  'Bennington Township',\n",
       "  'Burns Township',\n",
       "  'Caledonia Charter Township',\n",
       "  'Corunna City',\n",
       "  'Durand City',\n",
       "  'Fairfield Township',\n",
       "  'Hazelton Township',\n",
       "  'Laingsburg City',\n",
       "  'Middlebury Township',\n",
       "  'New Haven Township',\n",
       "  'Owosso City',\n",
       "  'Owosso Township',\n",
       "  'Perry City',\n",
       "  'Perry Township',\n",
       "  'Rush Township',\n",
       "  'Sciota Township',\n",
       "  'Shiawassee Township',\n",
       "  'Venice Township',\n",
       "  'Vernon Township',\n",
       "  'Woodhull Township'],\n",
       " ['Akron Township',\n",
       "  'Almer Township',\n",
       "  'Arbela Township',\n",
       "  'Caro City',\n",
       "  'Columbia Township',\n",
       "  'Dayton Township',\n",
       "  'Denmark Township',\n",
       "  'Elkland Township',\n",
       "  'Ellington Township',\n",
       "  'Elmwood Township',\n",
       "  'Fairgrove Township',\n",
       "  'Fremont Township',\n",
       "  'Gilford Township',\n",
       "  'Indianfields Township',\n",
       "  'Juniata Township',\n",
       "  'Kingston Township',\n",
       "  'Koylton Township',\n",
       "  'Millington Township',\n",
       "  'Novesta Township',\n",
       "  'Tuscola Township',\n",
       "  'Vassar City',\n",
       "  'Vassar Township',\n",
       "  'Watertown Township',\n",
       "  'Wells Township',\n",
       "  'Wisner Township'],\n",
       " ['Almena Township',\n",
       "  'Antwerp Township',\n",
       "  'Arlington Township',\n",
       "  'Bangor City',\n",
       "  'Bangor Township',\n",
       "  'Bloomingdale Township',\n",
       "  'Columbia Township',\n",
       "  'Covert Township',\n",
       "  'Decatur Township',\n",
       "  'Geneva Township',\n",
       "  'Gobles City',\n",
       "  'Hamilton Township',\n",
       "  'Hartford City',\n",
       "  'Hartford Township',\n",
       "  'Keeler Township',\n",
       "  'Lawrence Township',\n",
       "  'Paw Paw Township',\n",
       "  'Pine Grove Township',\n",
       "  'Porter Township',\n",
       "  'South Haven City',\n",
       "  'South Haven Township',\n",
       "  'Waverly Township'],\n",
       " ['Ann Arbor City',\n",
       "  'Ann Arbor Township',\n",
       "  'Augusta Township',\n",
       "  'Bridgewater Township',\n",
       "  'Chelsea City',\n",
       "  'Dexter City',\n",
       "  'Dexter Township',\n",
       "  'Freedom Township',\n",
       "  'Lima Township',\n",
       "  'Lodi Township',\n",
       "  'Lyndon Township',\n",
       "  'Manchester Township',\n",
       "  'Milan City',\n",
       "  'Northfield Township',\n",
       "  'Pittsfield Charter Township',\n",
       "  'Salem Township',\n",
       "  'Saline City',\n",
       "  'Saline Township',\n",
       "  'Scio Township',\n",
       "  'Sharon Township',\n",
       "  'Superior Township',\n",
       "  'Sylvan Township',\n",
       "  'Webster Township',\n",
       "  'York Township',\n",
       "  'Ypsilanti City',\n",
       "  'Ypsilanti Township'],\n",
       " ['Allen Park City',\n",
       "  'Belleville City',\n",
       "  'Brownstown Township',\n",
       "  'Canton Township',\n",
       "  'Dearborn City',\n",
       "  'Dearborn Heights City',\n",
       "  'Detroit City',\n",
       "  'Ecorse City',\n",
       "  'Flat Rock City',\n",
       "  'Garden City City',\n",
       "  'Gibraltar City',\n",
       "  'Grosse Ile Township',\n",
       "  'Grosse Pointe City',\n",
       "  'Grosse Pointe Farms City',\n",
       "  'Grosse Pointe Park City',\n",
       "  'Grosse Pointe Shores City',\n",
       "  'Grosse Pointe Woods City',\n",
       "  'Hamtramck City',\n",
       "  'Harper Woods City',\n",
       "  'Highland Park City',\n",
       "  'Huron Township',\n",
       "  'Inkster City',\n",
       "  'Lincoln Park City',\n",
       "  'Livonia City',\n",
       "  'Melvindale City',\n",
       "  'Northville City',\n",
       "  'Northville Township',\n",
       "  'Plymouth City',\n",
       "  'Plymouth Township',\n",
       "  'Redford Township',\n",
       "  'River Rouge City',\n",
       "  'Riverview City',\n",
       "  'Rockwood City',\n",
       "  'Romulus City',\n",
       "  'Southgate City',\n",
       "  'Sumpter Township',\n",
       "  'Taylor City',\n",
       "  'Trenton City',\n",
       "  'Van Buren Township',\n",
       "  'Wayne City',\n",
       "  'Westland City',\n",
       "  'Woodhaven City',\n",
       "  'Wyandotte City'],\n",
       " ['Antioch Township',\n",
       "  'Boon Township',\n",
       "  'Cadillac City',\n",
       "  'Cedar Creek Township',\n",
       "  'Cherry Grove Township',\n",
       "  'Clam Lake Township',\n",
       "  'Colfax Township',\n",
       "  'Greenwood Township',\n",
       "  'Hanover Township',\n",
       "  'Haring Township',\n",
       "  'Henderson Township',\n",
       "  'Liberty Township',\n",
       "  'Manton City',\n",
       "  'Selma Township',\n",
       "  'Slagle Township',\n",
       "  'South Branch Township',\n",
       "  'Springville Township',\n",
       "  'Wexford Township']]"
      ]
     },
     "execution_count": 35,
     "metadata": {},
     "output_type": "execute_result"
    }
   ],
   "source": [
    "townships"
   ]
  },
  {
   "cell_type": "code",
   "execution_count": 36,
   "metadata": {
    "ExecuteTime": {
     "end_time": "2020-10-27T21:04:17.863611Z",
     "start_time": "2020-10-27T21:04:17.845028Z"
    }
   },
   "outputs": [
    {
     "data": {
      "text/plain": [
       "83"
      ]
     },
     "execution_count": 36,
     "metadata": {},
     "output_type": "execute_result"
    }
   ],
   "source": [
    "len(townships)"
   ]
  },
  {
   "cell_type": "markdown",
   "metadata": {},
   "source": [
    "# Scrape all township (jurisdictions) pages"
   ]
  },
  {
   "cell_type": "code",
   "execution_count": 38,
   "metadata": {
    "ExecuteTime": {
     "end_time": "2020-10-27T21:31:47.251131Z",
     "start_time": "2020-10-27T21:20:08.290098Z"
    },
    "scrolled": true
   },
   "outputs": [],
   "source": [
    "import warnings\n",
    "warnings.simplefilter('ignore')\n",
    "\n",
    "tot_2 = str()\n",
    "for juriCode_list in juriCodes:\n",
    "    for juriCode in juriCode_list:\n",
    "        response = requests.post(f\"https://mvic.sos.state.mi.us/Voter/LocalClerk?jurisdictionCode={juriCode}\", verify=False)\n",
    "        tot_2 += response.text"
   ]
  },
  {
   "cell_type": "code",
   "execution_count": 39,
   "metadata": {
    "ExecuteTime": {
     "end_time": "2020-10-27T21:31:53.402462Z",
     "start_time": "2020-10-27T21:31:53.396155Z"
    }
   },
   "outputs": [
    {
     "name": "stdout",
     "output_type": "stream",
     "text": [
      "8,171,034\n"
     ]
    }
   ],
   "source": [
    "print(\"{:,.0f}\".format(len(tot_2)))"
   ]
  },
  {
   "cell_type": "code",
   "execution_count": 40,
   "metadata": {
    "ExecuteTime": {
     "end_time": "2020-10-27T21:32:18.402228Z",
     "start_time": "2020-10-27T21:32:18.394306Z"
    }
   },
   "outputs": [],
   "source": [
    "# with open(\"Michigan_town.html\", \"w\") as file:\n",
    "#     file.write(tot_2)"
   ]
  },
  {
   "cell_type": "code",
   "execution_count": 41,
   "metadata": {
    "ExecuteTime": {
     "end_time": "2020-10-27T21:32:24.976931Z",
     "start_time": "2020-10-27T21:32:18.409088Z"
    }
   },
   "outputs": [],
   "source": [
    "township_data = BeautifulSoup(tot_2)"
   ]
  },
  {
   "cell_type": "markdown",
   "metadata": {},
   "source": [
    "# Analyze the township pages"
   ]
  },
  {
   "cell_type": "code",
   "execution_count": 42,
   "metadata": {
    "ExecuteTime": {
     "end_time": "2020-10-27T21:32:24.988143Z",
     "start_time": "2020-10-27T21:32:24.980708Z"
    }
   },
   "outputs": [
    {
     "data": {
      "text/plain": [
       "1"
      ]
     },
     "execution_count": 42,
     "metadata": {},
     "output_type": "execute_result"
    }
   ],
   "source": [
    "len(township_data)"
   ]
  },
  {
   "cell_type": "code",
   "execution_count": 43,
   "metadata": {
    "ExecuteTime": {
     "end_time": "2020-10-27T21:32:25.000672Z",
     "start_time": "2020-10-27T21:32:24.992881Z"
    }
   },
   "outputs": [
    {
     "data": {
      "text/plain": [
       "bs4.BeautifulSoup"
      ]
     },
     "execution_count": 43,
     "metadata": {},
     "output_type": "execute_result"
    }
   ],
   "source": [
    "type(township_data)"
   ]
  },
  {
   "cell_type": "code",
   "execution_count": 44,
   "metadata": {
    "ExecuteTime": {
     "end_time": "2020-10-27T21:32:26.924197Z",
     "start_time": "2020-10-27T21:32:25.005006Z"
    }
   },
   "outputs": [],
   "source": [
    "township_cards = township_data.find_all(class_='card-body')"
   ]
  },
  {
   "cell_type": "code",
   "execution_count": 45,
   "metadata": {
    "ExecuteTime": {
     "end_time": "2020-10-27T21:32:26.933680Z",
     "start_time": "2020-10-27T21:32:26.926196Z"
    }
   },
   "outputs": [
    {
     "data": {
      "text/plain": [
       "3070"
      ]
     },
     "execution_count": 45,
     "metadata": {},
     "output_type": "execute_result"
    }
   ],
   "source": [
    "len(township_cards)"
   ]
  },
  {
   "cell_type": "markdown",
   "metadata": {},
   "source": [
    "There are 3070 containers with class=\"card-body\" over 1535 township pages, 2 per township. One is for text data, and the other is for a map."
   ]
  },
  {
   "cell_type": "code",
   "execution_count": 46,
   "metadata": {
    "ExecuteTime": {
     "end_time": "2020-10-27T21:32:26.947968Z",
     "start_time": "2020-10-27T21:32:26.940287Z"
    }
   },
   "outputs": [
    {
     "data": {
      "text/plain": [
       "[<br/>,\n",
       " <br/>,\n",
       " <br/>,\n",
       " <br/>,\n",
       " <strong>Hours:</strong>,\n",
       " <div class=\"clerk-hours\">Available 24 Hours/7 Days a Week<br/></div>,\n",
       " <br/>,\n",
       " <br/>,\n",
       " <a href=\"/Clerk/SearchByCounty?counties=1\" id=\"county-clerk-link\" style=\"font-size:1.2rem\">County clerk information</a>]"
      ]
     },
     "execution_count": 46,
     "metadata": {},
     "output_type": "execute_result"
    }
   ],
   "source": [
    "township_data.find(class_='additional-location-badge').find_next_siblings()"
   ]
  },
  {
   "cell_type": "markdown",
   "metadata": {},
   "source": [
    "## Isolate the textual data from the maps"
   ]
  },
  {
   "cell_type": "code",
   "execution_count": 47,
   "metadata": {
    "ExecuteTime": {
     "end_time": "2020-10-27T21:32:26.961707Z",
     "start_time": "2020-10-27T21:32:26.953624Z"
    }
   },
   "outputs": [],
   "source": [
    "township_dets = []\n",
    "for x in range(0,len(township_cards), 2):\n",
    "    township_dets.append(township_cards[x])"
   ]
  },
  {
   "cell_type": "code",
   "execution_count": 48,
   "metadata": {
    "ExecuteTime": {
     "end_time": "2020-10-27T21:32:26.973757Z",
     "start_time": "2020-10-27T21:32:26.966187Z"
    }
   },
   "outputs": [
    {
     "data": {
      "text/plain": [
       "1535"
      ]
     },
     "execution_count": 48,
     "metadata": {},
     "output_type": "execute_result"
    }
   ],
   "source": [
    "len(township_dets)"
   ]
  },
  {
   "cell_type": "code",
   "execution_count": 49,
   "metadata": {
    "ExecuteTime": {
     "end_time": "2020-10-27T21:32:27.001962Z",
     "start_time": "2020-10-27T21:32:26.977882Z"
    }
   },
   "outputs": [
    {
     "data": {
      "text/plain": [
       "<div class=\"card-body\">\n",
       "\t\t\t\t\tDawn Lalonde, Township Clerk\n",
       "\t\t\t\t\t<br/>\n",
       "<br/>\n",
       "\t\t\t\t\t4892 Lavergne Rd\n",
       "\t\t\t\t\t<br/>\n",
       "\t\t\t\t\tBlack River, Michigan  48721\n",
       "\n",
       "\t\t\t\t\t<br/>\n",
       "<br/>\n",
       "<strong>Phone:  </strong>(989) 471-2948\n",
       "\t\t\t\t\t<br/>\n",
       "<strong>Fax:  </strong>(989) 471-2016\n",
       "\t\t\t\t\t<br/>\n",
       "<strong>Email:  </strong>\n",
       "<a href=\"mailto:alconaclerk@yahoo.com\">alconaclerk@yahoo.com</a>\n",
       "<br/>\n",
       "<strong>11/3/2020<br/></strong> <strong>Pre-election weekend hours:</strong><div class=\"clerk-hours\"><span style=\"font-weight:600\">Saturday, October 31, 2020</span><br/> 7:30am-3:30pm<br/></div> <br/>\n",
       "<span class=\"badge bg-gradient additional-location-badge\">Drop box locations</span>\n",
       "<br/>\n",
       "<br/>5576 Us 23<br/>Black River, Michigan 48721<br/><strong>Hours:</strong><div class=\"clerk-hours\">Available 24 Hours/7 Days a Week<br/></div>\n",
       "<br/><br/><a href=\"/Clerk/SearchByCounty?counties=1\" id=\"county-clerk-link\" style=\"font-size:1.2rem\">County clerk information</a>\n",
       "</div>"
      ]
     },
     "execution_count": 49,
     "metadata": {},
     "output_type": "execute_result"
    }
   ],
   "source": [
    "township_dets[0]"
   ]
  },
  {
   "cell_type": "code",
   "execution_count": 50,
   "metadata": {
    "ExecuteTime": {
     "end_time": "2020-10-27T21:32:27.014666Z",
     "start_time": "2020-10-27T21:32:27.006527Z"
    }
   },
   "outputs": [
    {
     "data": {
      "text/plain": [
       "'\\r\\n\\t\\t\\t\\t\\tDawn Lalonde, Township Clerk\\r\\n\\t\\t\\t\\t\\t\\n\\r\\n\\t\\t\\t\\t\\t4892 Lavergne Rd\\r\\n\\t\\t\\t\\t\\t\\r\\n\\t\\t\\t\\t\\tBlack River, Michigan  48721\\r\\n\\r\\n\\t\\t\\t\\t\\t\\n\\nPhone:\\xa0\\xa0(989) 471-2948\\r\\n\\t\\t\\t\\t\\t\\nFax:\\xa0\\xa0(989) 471-2016\\r\\n\\t\\t\\t\\t\\t\\nEmail:\\xa0\\xa0\\nalconaclerk@yahoo.com\\n\\n11/3/2020 Pre-election weekend hours:Saturday, October 31, 2020 7:30am-3:30pm \\nDrop box locations\\n\\n5576 Us 23Black River, Michigan\\xa048721Hours:Available 24 Hours/7 Days a Week\\nCounty clerk information\\n'"
      ]
     },
     "execution_count": 50,
     "metadata": {},
     "output_type": "execute_result"
    }
   ],
   "source": [
    "township_dets[0].text"
   ]
  },
  {
   "cell_type": "code",
   "execution_count": 51,
   "metadata": {
    "ExecuteTime": {
     "end_time": "2020-10-27T21:32:27.038944Z",
     "start_time": "2020-10-27T21:32:27.024164Z"
    }
   },
   "outputs": [
    {
     "data": {
      "text/plain": [
       "bs4.element.Tag"
      ]
     },
     "execution_count": 51,
     "metadata": {},
     "output_type": "execute_result"
    }
   ],
   "source": [
    "type(township_dets[0])"
   ]
  },
  {
   "cell_type": "code",
   "execution_count": 52,
   "metadata": {
    "ExecuteTime": {
     "end_time": "2020-10-27T21:32:27.096967Z",
     "start_time": "2020-10-27T21:32:27.053145Z"
    }
   },
   "outputs": [
    {
     "data": {
      "text/plain": [
       "[<div class=\"card-body\">\n",
       " \t\t\t\t\tDawn Lalonde, Township Clerk\n",
       " \t\t\t\t\t<br/>\n",
       " <br/>\n",
       " \t\t\t\t\t4892 Lavergne Rd\n",
       " \t\t\t\t\t<br/>\n",
       " \t\t\t\t\tBlack River, Michigan  48721\n",
       " \n",
       " \t\t\t\t\t<br/>\n",
       " <br/>\n",
       " <strong>Phone:  </strong>(989) 471-2948\n",
       " \t\t\t\t\t<br/>\n",
       " <strong>Fax:  </strong>(989) 471-2016\n",
       " \t\t\t\t\t<br/>\n",
       " <strong>Email:  </strong>\n",
       " <a href=\"mailto:alconaclerk@yahoo.com\">alconaclerk@yahoo.com</a>\n",
       " <br/>\n",
       " <strong>11/3/2020<br/></strong> <strong>Pre-election weekend hours:</strong><div class=\"clerk-hours\"><span style=\"font-weight:600\">Saturday, October 31, 2020</span><br/> 7:30am-3:30pm<br/></div> <br/>\n",
       " <span class=\"badge bg-gradient additional-location-badge\">Drop box locations</span>\n",
       " <br/>\n",
       " <br/>5576 Us 23<br/>Black River, Michigan 48721<br/><strong>Hours:</strong><div class=\"clerk-hours\">Available 24 Hours/7 Days a Week<br/></div>\n",
       " <br/><br/><a href=\"/Clerk/SearchByCounty?counties=1\" id=\"county-clerk-link\" style=\"font-size:1.2rem\">County clerk information</a>\n",
       " </div>,\n",
       " <br/>,\n",
       " <br/>,\n",
       " <br/>,\n",
       " <br/>,\n",
       " <strong>Phone:  </strong>,\n",
       " <strong>Fax:  </strong>,\n",
       " <a href=\"mailto:alconaclerk@yahoo.com\">alconaclerk@yahoo.com</a>,\n",
       " <strong>11/3/2020<br/></strong>,\n",
       " <span style=\"font-weight:600\">Saturday, October 31, 2020</span>,\n",
       " <br/>,\n",
       " <br/>,\n",
       " <span class=\"badge bg-gradient additional-location-badge\">Drop box locations</span>,\n",
       " <br/>,\n",
       " <br/>,\n",
       " <br/>,\n",
       " <div class=\"clerk-hours\">Available 24 Hours/7 Days a Week<br/></div>,\n",
       " <br/>,\n",
       " <br/>]"
      ]
     },
     "execution_count": 52,
     "metadata": {},
     "output_type": "execute_result"
    }
   ],
   "source": [
    "[x.find_previous() for x in township_dets[0].find_all('br')]"
   ]
  },
  {
   "cell_type": "code",
   "execution_count": 53,
   "metadata": {
    "ExecuteTime": {
     "end_time": "2020-10-27T21:32:27.111611Z",
     "start_time": "2020-10-27T21:32:27.101317Z"
    },
    "scrolled": false
   },
   "outputs": [
    {
     "data": {
      "text/plain": [
       "'<div class=\"card-body\">\\r\\n\\t\\t\\t\\t\\tDawn Lalonde, Township Clerk\\r\\n\\t\\t\\t\\t\\t<br/>\\n<br/>\\r\\n\\t\\t\\t\\t\\t4892 Lavergne Rd\\r\\n\\t\\t\\t\\t\\t<br/>\\r\\n\\t\\t\\t\\t\\tBlack River, Michigan  48721\\r\\n\\r\\n\\t\\t\\t\\t\\t<br/>\\n<br/>\\n<strong>Phone:\\xa0\\xa0</strong>(989) 471-2948\\r\\n\\t\\t\\t\\t\\t<br/>\\n<strong>Fax:\\xa0\\xa0</strong>(989) 471-2016\\r\\n\\t\\t\\t\\t\\t<br/>\\n<strong>Email:\\xa0\\xa0</strong>\\n<a href=\"mailto:alconaclerk@yahoo.com\">alconaclerk@yahoo.com</a>\\n<br/>\\n<strong>11/3/2020<br/></strong> <strong>Pre-election weekend hours:</strong><div class=\"clerk-hours\"><span style=\"font-weight:600\">Saturday, October 31, 2020</span><br/> 7:30am-3:30pm<br/></div> <br/>\\n<span class=\"badge bg-gradient additional-location-badge\">Drop box locations</span>\\n<br/>\\n<br/>5576 Us 23<br/>Black River, Michigan\\xa048721<br/><strong>Hours:</strong><div class=\"clerk-hours\">Available 24 Hours/7 Days a Week<br/></div>\\n<br/><br/><a href=\"/Clerk/SearchByCounty?counties=1\" id=\"county-clerk-link\" style=\"font-size:1.2rem\">County clerk information</a>\\n</div>'"
      ]
     },
     "execution_count": 53,
     "metadata": {},
     "output_type": "execute_result"
    }
   ],
   "source": [
    "str(township_dets[0])"
   ]
  },
  {
   "cell_type": "code",
   "execution_count": 54,
   "metadata": {
    "ExecuteTime": {
     "end_time": "2020-10-27T21:32:27.124708Z",
     "start_time": "2020-10-27T21:32:27.115982Z"
    },
    "scrolled": false
   },
   "outputs": [
    {
     "name": "stdout",
     "output_type": "stream",
     "text": [
      "<div class=\"card-body\">\r\n",
      "\t\t\t\t\tDawn Lalonde, Township Clerk\r\n",
      "\t\t\t\t\t<br/>\n",
      "<br/>\r\n",
      "\t\t\t\t\t4892 Lavergne Rd\r\n",
      "\t\t\t\t\t<br/>\r\n",
      "\t\t\t\t\tBlack River, Michigan  48721\r\n",
      "\r\n",
      "\t\t\t\t\t<br/>\n",
      "<br/>\n",
      "<strong>Phone:  </strong>(989) 471-2948\r\n",
      "\t\t\t\t\t<br/>\n",
      "<strong>Fax:  </strong>(989) 471-2016\r\n",
      "\t\t\t\t\t<br/>\n",
      "<strong>Email:  </strong>\n",
      "<a href=\"mailto:alconaclerk@yahoo.com\">alconaclerk@yahoo.com</a>\n",
      "<br/>\n",
      "<strong>11/3/2020<br/></strong> <strong>Pre-election weekend hours:</strong><div class=\"clerk-hours\"><span style=\"font-weight:600\">Saturday, October 31, 2020</span><br/> 7:30am-3:30pm<br/></div> <br/>\n",
      "<span class=\"badge bg-gradient additional-location-badge\">Drop box locations</span>\n",
      "<br/>\n",
      "<br/>5576 Us 23<br/>Black River, Michigan 48721<br/><strong>Hours:</strong><div class=\"clerk-hours\">Available 24 Hours/7 Days a Week<br/></div>\n",
      "<br/><br/><a href=\"/Clerk/SearchByCounty?counties=1\" id=\"county-clerk-link\" style=\"font-size:1.2rem\">County clerk information</a>\n",
      "</div>\n"
     ]
    }
   ],
   "source": [
    "print(township_dets[0])"
   ]
  },
  {
   "cell_type": "code",
   "execution_count": 55,
   "metadata": {
    "ExecuteTime": {
     "end_time": "2020-10-27T21:32:27.141879Z",
     "start_time": "2020-10-27T21:32:27.130476Z"
    }
   },
   "outputs": [
    {
     "data": {
      "text/plain": [
       "['<div class=\"card-body\">',\n",
       " '\\t\\t\\t\\t\\tDawn Lalonde, Township Clerk',\n",
       " '\\t\\t\\t\\t\\t<br/>',\n",
       " '<br/>',\n",
       " '\\t\\t\\t\\t\\t4892 Lavergne Rd',\n",
       " '\\t\\t\\t\\t\\t<br/>',\n",
       " '\\t\\t\\t\\t\\tBlack River, Michigan  48721',\n",
       " '',\n",
       " '\\t\\t\\t\\t\\t<br/>',\n",
       " '<br/>',\n",
       " '<strong>Phone:\\xa0\\xa0</strong>(989) 471-2948',\n",
       " '\\t\\t\\t\\t\\t<br/>',\n",
       " '<strong>Fax:\\xa0\\xa0</strong>(989) 471-2016',\n",
       " '\\t\\t\\t\\t\\t<br/>',\n",
       " '<strong>Email:\\xa0\\xa0</strong>',\n",
       " '<a href=\"mailto:alconaclerk@yahoo.com\">alconaclerk@yahoo.com</a>',\n",
       " '<br/>',\n",
       " '<strong>11/3/2020<br/></strong> <strong>Pre-election weekend hours:</strong><div class=\"clerk-hours\"><span style=\"font-weight:600\">Saturday, October 31, 2020</span><br/> 7:30am-3:30pm<br/></div> <br/>',\n",
       " '<span class=\"badge bg-gradient additional-location-badge\">Drop box locations</span>',\n",
       " '<br/>',\n",
       " '<br/>5576 Us 23<br/>Black River, Michigan\\xa048721<br/><strong>Hours:</strong><div class=\"clerk-hours\">Available 24 Hours/7 Days a Week<br/></div>',\n",
       " '<br/><br/><a href=\"/Clerk/SearchByCounty?counties=1\" id=\"county-clerk-link\" style=\"font-size:1.2rem\">County clerk information</a>',\n",
       " '</div>']"
      ]
     },
     "execution_count": 55,
     "metadata": {},
     "output_type": "execute_result"
    }
   ],
   "source": [
    "str(township_dets[0]).splitlines()"
   ]
  },
  {
   "cell_type": "code",
   "execution_count": 56,
   "metadata": {
    "ExecuteTime": {
     "end_time": "2020-10-27T21:32:27.160393Z",
     "start_time": "2020-10-27T21:32:27.148795Z"
    }
   },
   "outputs": [
    {
     "data": {
      "text/plain": [
       "['',\n",
       " '\\tDawn Lalonde, Township Clerk',\n",
       " '\\t\\n',\n",
       " '\\t4892 Lavergne Rd',\n",
       " '\\t',\n",
       " '\\tBlack River, Michigan  48721\\r\\n',\n",
       " '\\t\\n\\nPhone:\\xa0\\xa0(989) 471-2948',\n",
       " '\\t\\nFax:\\xa0\\xa0(989) 471-2016',\n",
       " '\\t\\nEmail:\\xa0\\xa0\\nalconaclerk@yahoo.com\\n\\n11/3/2020 Pre-election weekend hours:Saturday, October 31, 2020 7:30am-3:30pm \\nDrop box locations\\n\\n5576 Us 23Black River, Michigan\\xa048721Hours:Available 24 Hours/7 Days a Week\\nCounty clerk information\\n']"
      ]
     },
     "execution_count": 56,
     "metadata": {},
     "output_type": "execute_result"
    }
   ],
   "source": [
    "township_dets[0].text.split('\\r\\n\\t\\t\\t\\t')"
   ]
  },
  {
   "cell_type": "code",
   "execution_count": 57,
   "metadata": {
    "ExecuteTime": {
     "end_time": "2020-10-27T21:32:27.291603Z",
     "start_time": "2020-10-27T21:32:27.165175Z"
    }
   },
   "outputs": [],
   "source": [
    "township_data = [township_det.text.split('\\r\\n\\t\\t\\t\\t') for township_det in township_dets]"
   ]
  },
  {
   "cell_type": "code",
   "execution_count": 58,
   "metadata": {
    "ExecuteTime": {
     "end_time": "2020-10-27T21:32:27.310080Z",
     "start_time": "2020-10-27T21:32:27.302450Z"
    }
   },
   "outputs": [
    {
     "data": {
      "text/plain": [
       "1535"
      ]
     },
     "execution_count": 58,
     "metadata": {},
     "output_type": "execute_result"
    }
   ],
   "source": [
    "len(township_data)"
   ]
  },
  {
   "cell_type": "markdown",
   "metadata": {},
   "source": [
    "# Disagregate address elements into separate records"
   ]
  },
  {
   "cell_type": "code",
   "execution_count": 59,
   "metadata": {
    "ExecuteTime": {
     "end_time": "2020-10-27T21:32:27.348679Z",
     "start_time": "2020-10-27T21:32:27.322281Z"
    }
   },
   "outputs": [],
   "source": [
    "township_data_df = pd.DataFrame(township_data)"
   ]
  },
  {
   "cell_type": "code",
   "execution_count": 60,
   "metadata": {
    "ExecuteTime": {
     "end_time": "2020-10-27T21:32:27.411229Z",
     "start_time": "2020-10-27T21:32:27.361135Z"
    }
   },
   "outputs": [
    {
     "name": "stdout",
     "output_type": "stream",
     "text": [
      "<class 'pandas.core.frame.DataFrame'>\n",
      "RangeIndex: 1535 entries, 0 to 1534\n",
      "Data columns (total 9 columns):\n",
      " #   Column  Non-Null Count  Dtype \n",
      "---  ------  --------------  ----- \n",
      " 0   0       1535 non-null   object\n",
      " 1   1       1535 non-null   object\n",
      " 2   2       1535 non-null   object\n",
      " 3   3       1535 non-null   object\n",
      " 4   4       1535 non-null   object\n",
      " 5   5       1535 non-null   object\n",
      " 6   6       1535 non-null   object\n",
      " 7   7       1535 non-null   object\n",
      " 8   8       1044 non-null   object\n",
      "dtypes: object(9)\n",
      "memory usage: 108.1+ KB\n"
     ]
    }
   ],
   "source": [
    "township_data_df.info()"
   ]
  },
  {
   "cell_type": "code",
   "execution_count": 61,
   "metadata": {
    "ExecuteTime": {
     "end_time": "2020-10-27T21:32:27.459093Z",
     "start_time": "2020-10-27T21:32:27.415608Z"
    }
   },
   "outputs": [
    {
     "data": {
      "text/html": [
       "<div>\n",
       "<style scoped>\n",
       "    .dataframe tbody tr th:only-of-type {\n",
       "        vertical-align: middle;\n",
       "    }\n",
       "\n",
       "    .dataframe tbody tr th {\n",
       "        vertical-align: top;\n",
       "    }\n",
       "\n",
       "    .dataframe thead th {\n",
       "        text-align: right;\n",
       "    }\n",
       "</style>\n",
       "<table border=\"1\" class=\"dataframe\">\n",
       "  <thead>\n",
       "    <tr style=\"text-align: right;\">\n",
       "      <th></th>\n",
       "      <th>0</th>\n",
       "      <th>1</th>\n",
       "      <th>2</th>\n",
       "      <th>3</th>\n",
       "      <th>4</th>\n",
       "      <th>5</th>\n",
       "      <th>6</th>\n",
       "      <th>7</th>\n",
       "      <th>8</th>\n",
       "    </tr>\n",
       "  </thead>\n",
       "  <tbody>\n",
       "    <tr>\n",
       "      <th>0</th>\n",
       "      <td></td>\n",
       "      <td>\\tDawn Lalonde, Township Clerk</td>\n",
       "      <td>\\t\\n</td>\n",
       "      <td>\\t4892 Lavergne Rd</td>\n",
       "      <td>\\t</td>\n",
       "      <td>\\tBlack River, Michigan  48721\\r\\n</td>\n",
       "      <td>\\t\\n\\nPhone:  (989) 471-2948</td>\n",
       "      <td>\\t\\nFax:  (989) 471-2016</td>\n",
       "      <td>\\t\\nEmail:  \\nalconaclerk@yahoo.com\\n\\n11/3/20...</td>\n",
       "    </tr>\n",
       "    <tr>\n",
       "      <th>1</th>\n",
       "      <td></td>\n",
       "      <td>\\tKerry Scott, Township Clerk</td>\n",
       "      <td>\\t\\n</td>\n",
       "      <td>\\t6252 Hansen Road</td>\n",
       "      <td>\\t\\r\\nP.o. Box 7\\t\\t\\t\\t\\t\\t</td>\n",
       "      <td>\\tSpruce, Michigan  48762\\r\\n</td>\n",
       "      <td>\\t\\t\\n\\nMailing address:\\n\\n6461 Gillard Rd.\\n...</td>\n",
       "      <td>\\t\\nFax:  \\n\\nEmail:  \\nkerryscottclerk@gmail....</td>\n",
       "      <td>None</td>\n",
       "    </tr>\n",
       "    <tr>\n",
       "      <th>2</th>\n",
       "      <td></td>\n",
       "      <td>\\tTeresa Perkins, Township Clerk</td>\n",
       "      <td>\\t\\n</td>\n",
       "      <td>\\t4875 F-30</td>\n",
       "      <td>\\t\\r\\nPO Box 90\\t\\t\\t\\t\\t\\t</td>\n",
       "      <td>\\tGlennie, Michigan  48737\\r\\n</td>\n",
       "      <td>\\t\\t\\n\\nMailing address:\\n\\nPO Box 90\\n\\nGlenn...</td>\n",
       "      <td>\\t\\nFax:  \\n\\nEmail:  \\ncurtistownshipclerk@ho...</td>\n",
       "      <td>None</td>\n",
       "    </tr>\n",
       "    <tr>\n",
       "      <th>3</th>\n",
       "      <td></td>\n",
       "      <td>\\tShannon Story, Township Clerk</td>\n",
       "      <td>\\t\\n</td>\n",
       "      <td>\\t5070 Woodland Drive</td>\n",
       "      <td>\\t\\r\\nPO Box 9\\t\\t\\t\\t\\t\\t</td>\n",
       "      <td>\\tGreenbush, Michigan  48738\\r\\n</td>\n",
       "      <td>\\t\\t\\n\\nMailing address:\\n\\nP.o. Box 9\\n\\nGree...</td>\n",
       "      <td>\\t\\nFax:  \\n\\nEmail:  \\nshannonstory@charter.n...</td>\n",
       "      <td>None</td>\n",
       "    </tr>\n",
       "    <tr>\n",
       "      <th>4</th>\n",
       "      <td></td>\n",
       "      <td>\\tRenee Lavergne, Township Clerk</td>\n",
       "      <td>\\t\\n</td>\n",
       "      <td>\\t113 S. Second</td>\n",
       "      <td>\\t\\r\\nPO Box 25\\t\\t\\t\\t\\t\\t</td>\n",
       "      <td>\\tLincoln, Michigan  48742\\r\\n</td>\n",
       "      <td>\\t\\t\\n\\nMailing address:\\n\\n935 N. Somers Rd.\\...</td>\n",
       "      <td>\\t\\nFax:  \\n\\nEmail:  \\ngustintownshipclerk@gm...</td>\n",
       "      <td>None</td>\n",
       "    </tr>\n",
       "  </tbody>\n",
       "</table>\n",
       "</div>"
      ],
      "text/plain": [
       "  0                                 1     2                      3  \\\n",
       "0      \\tDawn Lalonde, Township Clerk  \\t\\n     \\t4892 Lavergne Rd   \n",
       "1       \\tKerry Scott, Township Clerk  \\t\\n     \\t6252 Hansen Road   \n",
       "2    \\tTeresa Perkins, Township Clerk  \\t\\n            \\t4875 F-30   \n",
       "3     \\tShannon Story, Township Clerk  \\t\\n  \\t5070 Woodland Drive   \n",
       "4    \\tRenee Lavergne, Township Clerk  \\t\\n        \\t113 S. Second   \n",
       "\n",
       "                              4                                   5  \\\n",
       "0                            \\t  \\tBlack River, Michigan  48721\\r\\n   \n",
       "1  \\t\\r\\nP.o. Box 7\\t\\t\\t\\t\\t\\t       \\tSpruce, Michigan  48762\\r\\n   \n",
       "2   \\t\\r\\nPO Box 90\\t\\t\\t\\t\\t\\t      \\tGlennie, Michigan  48737\\r\\n   \n",
       "3    \\t\\r\\nPO Box 9\\t\\t\\t\\t\\t\\t    \\tGreenbush, Michigan  48738\\r\\n   \n",
       "4   \\t\\r\\nPO Box 25\\t\\t\\t\\t\\t\\t      \\tLincoln, Michigan  48742\\r\\n   \n",
       "\n",
       "                                                   6  \\\n",
       "0                       \\t\\n\\nPhone:  (989) 471-2948   \n",
       "1  \\t\\t\\n\\nMailing address:\\n\\n6461 Gillard Rd.\\n...   \n",
       "2  \\t\\t\\n\\nMailing address:\\n\\nPO Box 90\\n\\nGlenn...   \n",
       "3  \\t\\t\\n\\nMailing address:\\n\\nP.o. Box 9\\n\\nGree...   \n",
       "4  \\t\\t\\n\\nMailing address:\\n\\n935 N. Somers Rd.\\...   \n",
       "\n",
       "                                                   7  \\\n",
       "0                           \\t\\nFax:  (989) 471-2016   \n",
       "1  \\t\\nFax:  \\n\\nEmail:  \\nkerryscottclerk@gmail....   \n",
       "2  \\t\\nFax:  \\n\\nEmail:  \\ncurtistownshipclerk@ho...   \n",
       "3  \\t\\nFax:  \\n\\nEmail:  \\nshannonstory@charter.n...   \n",
       "4  \\t\\nFax:  \\n\\nEmail:  \\ngustintownshipclerk@gm...   \n",
       "\n",
       "                                                   8  \n",
       "0  \\t\\nEmail:  \\nalconaclerk@yahoo.com\\n\\n11/3/20...  \n",
       "1                                               None  \n",
       "2                                               None  \n",
       "3                                               None  \n",
       "4                                               None  "
      ]
     },
     "execution_count": 61,
     "metadata": {},
     "output_type": "execute_result"
    }
   ],
   "source": [
    "township_data_df.head()"
   ]
  },
  {
   "cell_type": "code",
   "execution_count": 62,
   "metadata": {
    "ExecuteTime": {
     "end_time": "2020-10-27T21:32:27.500908Z",
     "start_time": "2020-10-27T21:32:27.464765Z"
    },
    "scrolled": true
   },
   "outputs": [
    {
     "data": {
      "text/plain": [
       "0            Dawn Lalonde\n",
       "1             Kerry Scott\n",
       "2          Teresa Perkins\n",
       "3           Shannon Story\n",
       "4          Renee Lavergne\n",
       "              ...        \n",
       "1530         Carol Perrin\n",
       "1531    Tammy Porterfield\n",
       "1532        Julie Cieslak\n",
       "1533     Jessica Boonstra\n",
       "1534       Teresa Hankins\n",
       "Name: 1, Length: 1535, dtype: object"
      ]
     },
     "execution_count": 62,
     "metadata": {},
     "output_type": "execute_result"
    }
   ],
   "source": [
    "township_data_df[1].apply(lambda x: x.replace('\\t', '').split(',')[0])"
   ]
  },
  {
   "cell_type": "code",
   "execution_count": 63,
   "metadata": {
    "ExecuteTime": {
     "end_time": "2020-10-27T21:32:27.513985Z",
     "start_time": "2020-10-27T21:32:27.506554Z"
    }
   },
   "outputs": [],
   "source": [
    "def fix_clerk(x):\n",
    "    try:\n",
    "        return x.replace('\\t', '').split(',')[1].strip()\n",
    "    except IndexError:\n",
    "        return np.nan"
   ]
  },
  {
   "cell_type": "code",
   "execution_count": 64,
   "metadata": {
    "ExecuteTime": {
     "end_time": "2020-10-27T21:32:27.535373Z",
     "start_time": "2020-10-27T21:32:27.518428Z"
    }
   },
   "outputs": [
    {
     "data": {
      "text/plain": [
       "0       Township Clerk\n",
       "1       Township Clerk\n",
       "2       Township Clerk\n",
       "3       Township Clerk\n",
       "4       Township Clerk\n",
       "             ...      \n",
       "1530             Clerk\n",
       "1531             Clerk\n",
       "1532             Clerk\n",
       "1533             Clerk\n",
       "1534             Clerk\n",
       "Name: 1, Length: 1535, dtype: object"
      ]
     },
     "execution_count": 64,
     "metadata": {},
     "output_type": "execute_result"
    }
   ],
   "source": [
    "township_data_df[1].apply(fix_clerk)"
   ]
  },
  {
   "cell_type": "code",
   "execution_count": 65,
   "metadata": {
    "ExecuteTime": {
     "end_time": "2020-10-27T21:32:27.551702Z",
     "start_time": "2020-10-27T21:32:27.539561Z"
    }
   },
   "outputs": [
    {
     "data": {
      "text/plain": [
       "0          4892 Lavergne Rd\n",
       "1          6252 Hansen Road\n",
       "2                 4875 F-30\n",
       "3       5070 Woodland Drive\n",
       "4             113 S. Second\n",
       "               ...         \n",
       "1530           3577 S 31 Rd\n",
       "1531            4627 S 1 Rd\n",
       "1532           7257 W 48 Rd\n",
       "1533           4785 N. M-37\n",
       "1534            6941 W 6 Rd\n",
       "Name: 3, Length: 1535, dtype: object"
      ]
     },
     "execution_count": 65,
     "metadata": {},
     "output_type": "execute_result"
    }
   ],
   "source": [
    "township_data_df[3].apply(lambda x: x.replace('\\t', ''))"
   ]
  },
  {
   "cell_type": "code",
   "execution_count": 66,
   "metadata": {
    "ExecuteTime": {
     "end_time": "2020-10-27T21:32:27.578013Z",
     "start_time": "2020-10-27T21:32:27.558588Z"
    }
   },
   "outputs": [
    {
     "data": {
      "text/plain": [
       "0                 []\n",
       "1       [P.o. Box 7]\n",
       "2        [PO Box 90]\n",
       "3         [PO Box 9]\n",
       "4        [PO Box 25]\n",
       "            ...     \n",
       "1530              []\n",
       "1531              []\n",
       "1532              []\n",
       "1533    [PO Box 323]\n",
       "1534              []\n",
       "Name: 4, Length: 1535, dtype: object"
      ]
     },
     "execution_count": 66,
     "metadata": {},
     "output_type": "execute_result"
    }
   ],
   "source": [
    "township_data_df[4].apply(lambda x: re.findall('\\n(.*?)\\t', x))"
   ]
  },
  {
   "cell_type": "code",
   "execution_count": 67,
   "metadata": {
    "ExecuteTime": {
     "end_time": "2020-10-27T21:32:27.591386Z",
     "start_time": "2020-10-27T21:32:27.581765Z"
    }
   },
   "outputs": [],
   "source": [
    "def fix_address_2(x):\n",
    "    try:\n",
    "        return re.findall('\\n(.*?)\\t', x)[0]\n",
    "    except IndexError:\n",
    "        return np.nan"
   ]
  },
  {
   "cell_type": "code",
   "execution_count": 68,
   "metadata": {
    "ExecuteTime": {
     "end_time": "2020-10-27T21:32:27.627050Z",
     "start_time": "2020-10-27T21:32:27.599692Z"
    }
   },
   "outputs": [
    {
     "data": {
      "text/plain": [
       "0              NaN\n",
       "1       P.o. Box 7\n",
       "2        PO Box 90\n",
       "3         PO Box 9\n",
       "4        PO Box 25\n",
       "           ...    \n",
       "1530           NaN\n",
       "1531           NaN\n",
       "1532           NaN\n",
       "1533    PO Box 323\n",
       "1534           NaN\n",
       "Name: 4, Length: 1535, dtype: object"
      ]
     },
     "execution_count": 68,
     "metadata": {},
     "output_type": "execute_result"
    }
   ],
   "source": [
    "township_data_df[4].apply(fix_address_2)"
   ]
  },
  {
   "cell_type": "code",
   "execution_count": 69,
   "metadata": {
    "ExecuteTime": {
     "end_time": "2020-10-27T21:32:27.661130Z",
     "start_time": "2020-10-27T21:32:27.630811Z"
    }
   },
   "outputs": [
    {
     "data": {
      "text/plain": [
       "0       Black River\n",
       "1            Spruce\n",
       "2           Glennie\n",
       "3         Greenbush\n",
       "4           Lincoln\n",
       "           ...     \n",
       "1530       Cadillac\n",
       "1531      Harrietta\n",
       "1532       Wellston\n",
       "1533         Mesick\n",
       "1534         Mesick\n",
       "Name: 5, Length: 1535, dtype: object"
      ]
     },
     "execution_count": 69,
     "metadata": {},
     "output_type": "execute_result"
    }
   ],
   "source": [
    "township_data_df[5].apply(lambda x: re.findall('\\t(.*?)\\r\\n', x)[0].split(',')[0])"
   ]
  },
  {
   "cell_type": "code",
   "execution_count": 70,
   "metadata": {
    "ExecuteTime": {
     "end_time": "2020-10-27T21:32:27.682615Z",
     "start_time": "2020-10-27T21:32:27.665378Z"
    }
   },
   "outputs": [
    {
     "data": {
      "text/plain": [
       "0       Michigan\n",
       "1       Michigan\n",
       "2       Michigan\n",
       "3       Michigan\n",
       "4       Michigan\n",
       "          ...   \n",
       "1530    Michigan\n",
       "1531    Michigan\n",
       "1532    Michigan\n",
       "1533    Michigan\n",
       "1534    Michigan\n",
       "Name: 5, Length: 1535, dtype: object"
      ]
     },
     "execution_count": 70,
     "metadata": {},
     "output_type": "execute_result"
    }
   ],
   "source": [
    "township_data_df[5].apply(lambda x: re.findall('\\t(.*?)\\r\\n', x)[0].split(',')[1].split('  ')[0].strip())"
   ]
  },
  {
   "cell_type": "code",
   "execution_count": 71,
   "metadata": {
    "ExecuteTime": {
     "end_time": "2020-10-27T21:32:27.704257Z",
     "start_time": "2020-10-27T21:32:27.685812Z"
    }
   },
   "outputs": [
    {
     "data": {
      "text/plain": [
       "0            48721\n",
       "1            48762\n",
       "2            48737\n",
       "3            48738\n",
       "4            48742\n",
       "           ...    \n",
       "1530         49601\n",
       "1531         49638\n",
       "1532         49689\n",
       "1533         49668\n",
       "1534    49668-9103\n",
       "Name: 5, Length: 1535, dtype: object"
      ]
     },
     "execution_count": 71,
     "metadata": {},
     "output_type": "execute_result"
    }
   ],
   "source": [
    "township_data_df[5].apply(lambda x: re.findall('\\t(.*?)\\r\\n', x)[0].split(',')[1].split('  ')[1].strip())"
   ]
  },
  {
   "cell_type": "code",
   "execution_count": 72,
   "metadata": {
    "ExecuteTime": {
     "end_time": "2020-10-27T21:32:27.721993Z",
     "start_time": "2020-10-27T21:32:27.708087Z"
    }
   },
   "outputs": [
    {
     "data": {
      "text/plain": [
       "0       (989) 471-2948\n",
       "1       (989) 471-5377\n",
       "2       (989) 370-8855\n",
       "3       (989) 569-3519\n",
       "4       (989) 335-0635\n",
       "             ...      \n",
       "1530    (231) 920-8525\n",
       "1531    (231) 389-0610\n",
       "1532    (231) 862-3671\n",
       "1533    (231) 885-1392\n",
       "1534    (231) 269-3293\n",
       "Name: 6, Length: 1535, dtype: object"
      ]
     },
     "execution_count": 72,
     "metadata": {},
     "output_type": "execute_result"
    }
   ],
   "source": [
    "township_data_df[6].apply(lambda x: re.findall('Phone:(.*)', x)[0].strip())"
   ]
  },
  {
   "cell_type": "code",
   "execution_count": 73,
   "metadata": {
    "ExecuteTime": {
     "end_time": "2020-10-27T21:32:27.738146Z",
     "start_time": "2020-10-27T21:32:27.725321Z"
    }
   },
   "outputs": [
    {
     "data": {
      "text/plain": [
       "<bound method IndexOpsMixin.value_counts of 0       None\n",
       "1       None\n",
       "2       None\n",
       "3       None\n",
       "4       None\n",
       "        ... \n",
       "1530    None\n",
       "1531    None\n",
       "1532    None\n",
       "1533    None\n",
       "1534    None\n",
       "Name: 6, Length: 1535, dtype: object>"
      ]
     },
     "execution_count": 73,
     "metadata": {},
     "output_type": "execute_result"
    }
   ],
   "source": [
    "township_data_df[6].apply(lambda x: re.search('Fax:(.*)', x)).value_counts"
   ]
  },
  {
   "cell_type": "code",
   "execution_count": 74,
   "metadata": {
    "ExecuteTime": {
     "end_time": "2020-10-27T21:32:27.755940Z",
     "start_time": "2020-10-27T21:32:27.742439Z"
    }
   },
   "outputs": [
    {
     "data": {
      "text/plain": [
       "0                                      []\n",
       "1             [kerryscottclerk@gmail.com]\n",
       "2       [curtistownshipclerk@hotmail.com]\n",
       "3              [shannonstory@charter.net]\n",
       "4         [gustintownshipclerk@gmail.com]\n",
       "                      ...                \n",
       "1530                                   []\n",
       "1531           [slagletwpclerk@gmail.com]\n",
       "1532              [thecieslaks@yahoo.com]\n",
       "1533                                   []\n",
       "1534        [wexfordtwpclerk@acegroup.cc]\n",
       "Name: 7, Length: 1535, dtype: object"
      ]
     },
     "execution_count": 74,
     "metadata": {},
     "output_type": "execute_result"
    }
   ],
   "source": [
    "township_data_df[7].apply(lambda x: re.findall('Email:\\xa0\\xa0\\n(.*)\\n', x))"
   ]
  },
  {
   "cell_type": "code",
   "execution_count": 75,
   "metadata": {
    "ExecuteTime": {
     "end_time": "2020-10-27T21:32:27.767051Z",
     "start_time": "2020-10-27T21:32:27.759755Z"
    }
   },
   "outputs": [],
   "source": [
    "def fix_email(x):\n",
    "    try:\n",
    "        return re.findall('Email:\\xa0\\xa0\\n(.*)\\n', x)[0]\n",
    "    except IndexError:\n",
    "        return np.nan"
   ]
  },
  {
   "cell_type": "code",
   "execution_count": 76,
   "metadata": {
    "ExecuteTime": {
     "end_time": "2020-10-27T21:32:27.784413Z",
     "start_time": "2020-10-27T21:32:27.770258Z"
    }
   },
   "outputs": [
    {
     "data": {
      "text/plain": [
       "0                                   NaN\n",
       "1             kerryscottclerk@gmail.com\n",
       "2       curtistownshipclerk@hotmail.com\n",
       "3              shannonstory@charter.net\n",
       "4         gustintownshipclerk@gmail.com\n",
       "                     ...               \n",
       "1530                                NaN\n",
       "1531           slagletwpclerk@gmail.com\n",
       "1532              thecieslaks@yahoo.com\n",
       "1533                                NaN\n",
       "1534        wexfordtwpclerk@acegroup.cc\n",
       "Name: 7, Length: 1535, dtype: object"
      ]
     },
     "execution_count": 76,
     "metadata": {},
     "output_type": "execute_result"
    }
   ],
   "source": [
    "township_data_df[7].apply(fix_email)"
   ]
  },
  {
   "cell_type": "code",
   "execution_count": 77,
   "metadata": {
    "ExecuteTime": {
     "end_time": "2020-10-27T21:32:27.797999Z",
     "start_time": "2020-10-27T21:32:27.788330Z"
    }
   },
   "outputs": [
    {
     "data": {
      "text/plain": [
       "0       \\t\\nEmail:  \\nalconaclerk@yahoo.com\\n\\n11/3/20...\n",
       "1                                                    None\n",
       "2                                                    None\n",
       "3                                                    None\n",
       "4                                                    None\n",
       "                              ...                        \n",
       "1530    \\t\\nEmail:  \\nyttpkh@yahoo.com\\n\\n\\nDrop box l...\n",
       "1531                                                 None\n",
       "1532                                                 None\n",
       "1533    \\t\\nEmail:  \\nspringvilleclerk@goacentek.net\\n...\n",
       "1534                                                 None\n",
       "Name: 8, Length: 1535, dtype: object"
      ]
     },
     "execution_count": 77,
     "metadata": {},
     "output_type": "execute_result"
    }
   ],
   "source": [
    "township_data_df[8]"
   ]
  },
  {
   "cell_type": "code",
   "execution_count": 78,
   "metadata": {
    "ExecuteTime": {
     "end_time": "2020-10-27T21:32:27.810580Z",
     "start_time": "2020-10-27T21:32:27.801323Z"
    }
   },
   "outputs": [
    {
     "data": {
      "text/plain": [
       "'0       \\\\t\\\\nEmail:\\xa0\\xa0\\\\nalconaclerk@yahoo.com\\\\n\\\\n11/3/20...\\n1                                                    None\\n2                                                    None\\n3                                                    None\\n4                                                    None\\n                              ...                        \\n1530    \\\\t\\\\nEmail:\\xa0\\xa0\\\\nyttpkh@yahoo.com\\\\n\\\\n\\\\nDrop box l...\\n1531                                                 None\\n1532                                                 None\\n1533    \\\\t\\\\nEmail:\\xa0\\xa0\\\\nspringvilleclerk@goacentek.net\\\\n...\\n1534                                                 None\\nName: 8, Length: 1535, dtype: object'"
      ]
     },
     "execution_count": 78,
     "metadata": {},
     "output_type": "execute_result"
    }
   ],
   "source": [
    "str(township_data_df[8])"
   ]
  },
  {
   "cell_type": "code",
   "execution_count": 79,
   "metadata": {
    "ExecuteTime": {
     "end_time": "2020-10-27T21:32:27.825651Z",
     "start_time": "2020-10-27T21:32:27.814087Z"
    }
   },
   "outputs": [
    {
     "data": {
      "text/plain": [
       "'\\t\\nEmail:\\xa0\\xa0\\nalconaclerk@yahoo.com\\n\\n11/3/2020 Pre-election weekend hours:Saturday, October 31, 2020 7:30am-3:30pm \\nDrop box locations\\n\\n5576 Us 23Black River, Michigan\\xa048721Hours:Available 24 Hours/7 Days a Week\\nCounty clerk information\\n'"
      ]
     },
     "execution_count": 79,
     "metadata": {},
     "output_type": "execute_result"
    }
   ],
   "source": [
    "str(township_data_df[8][0])"
   ]
  },
  {
   "cell_type": "code",
   "execution_count": 80,
   "metadata": {
    "ExecuteTime": {
     "end_time": "2020-10-27T21:32:27.846452Z",
     "start_time": "2020-10-27T21:32:27.829170Z"
    }
   },
   "outputs": [
    {
     "data": {
      "text/plain": [
       "0       []\n",
       "1       []\n",
       "2       []\n",
       "3       []\n",
       "4       []\n",
       "        ..\n",
       "1530    []\n",
       "1531    []\n",
       "1532    []\n",
       "1533    []\n",
       "1534    []\n",
       "Name: 8, Length: 1535, dtype: object"
      ]
     },
     "execution_count": 80,
     "metadata": {},
     "output_type": "execute_result"
    }
   ],
   "source": [
    "township_data_df[8].apply(lambda x: re.findall('Email(.*?)', str(x)))"
   ]
  },
  {
   "cell_type": "code",
   "execution_count": 81,
   "metadata": {
    "ExecuteTime": {
     "end_time": "2020-10-27T21:32:27.866658Z",
     "start_time": "2020-10-27T21:32:27.851057Z"
    }
   },
   "outputs": [
    {
     "data": {
      "text/plain": [
       "0       \\t\\nEmail:  \\nalconaclerk@yahoo.com\\n\\n11/3/20...\n",
       "1                                                    None\n",
       "2                                                    None\n",
       "3                                                    None\n",
       "4                                                    None\n",
       "                              ...                        \n",
       "1530    \\t\\nEmail:  \\nyttpkh@yahoo.com\\n\\n\\nDrop box l...\n",
       "1531                                                 None\n",
       "1532                                                 None\n",
       "1533    \\t\\nEmail:  \\nspringvilleclerk@goacentek.net\\n...\n",
       "1534                                                 None\n",
       "Name: 8, Length: 1535, dtype: object"
      ]
     },
     "execution_count": 81,
     "metadata": {},
     "output_type": "execute_result"
    }
   ],
   "source": [
    "township_data_df[8].apply(lambda x: str(x).split('Email:  ')[0])"
   ]
  },
  {
   "cell_type": "code",
   "execution_count": 82,
   "metadata": {
    "ExecuteTime": {
     "end_time": "2020-10-27T21:32:27.915188Z",
     "start_time": "2020-10-27T21:32:27.875027Z"
    }
   },
   "outputs": [
    {
     "data": {
      "text/plain": [
       "0                [alconaclerk@yahoo.com]\n",
       "1                                     []\n",
       "2                                     []\n",
       "3                                     []\n",
       "4                                     []\n",
       "                      ...               \n",
       "1530                  [yttpkh@yahoo.com]\n",
       "1531                                  []\n",
       "1532                                  []\n",
       "1533    [springvilleclerk@goacentek.net]\n",
       "1534                                  []\n",
       "Name: 8, Length: 1535, dtype: object"
      ]
     },
     "execution_count": 82,
     "metadata": {},
     "output_type": "execute_result"
    }
   ],
   "source": [
    "township_data_df[8].apply(lambda x: re.findall('Email:\\xa0\\xa0\\n(.*?)\\n', str(x).split('Email:  ')[0]))"
   ]
  },
  {
   "cell_type": "markdown",
   "metadata": {},
   "source": [
    "# Create a DataFrame to hold township address data"
   ]
  },
  {
   "cell_type": "code",
   "execution_count": 83,
   "metadata": {
    "ExecuteTime": {
     "end_time": "2020-10-27T21:32:27.947450Z",
     "start_time": "2020-10-27T21:32:27.930740Z"
    }
   },
   "outputs": [],
   "source": [
    "county_town = []\n",
    "for county_num,township in enumerate(townships):\n",
    "    county_name = counties[county_num]\n",
    "    for town in township:\n",
    "        town_name = town\n",
    "        data = {'county_name': county_name, 'town_name': town_name}\n",
    "        county_town.append(data)"
   ]
  },
  {
   "cell_type": "code",
   "execution_count": 84,
   "metadata": {
    "ExecuteTime": {
     "end_time": "2020-10-27T21:32:27.959746Z",
     "start_time": "2020-10-27T21:32:27.951627Z"
    }
   },
   "outputs": [
    {
     "data": {
      "text/plain": [
       "1535"
      ]
     },
     "execution_count": 84,
     "metadata": {},
     "output_type": "execute_result"
    }
   ],
   "source": [
    "len(county_town)"
   ]
  },
  {
   "cell_type": "code",
   "execution_count": 85,
   "metadata": {
    "ExecuteTime": {
     "end_time": "2020-10-27T21:32:27.976531Z",
     "start_time": "2020-10-27T21:32:27.968681Z"
    }
   },
   "outputs": [],
   "source": [
    "all_data_df = pd.DataFrame(county_town)"
   ]
  },
  {
   "cell_type": "code",
   "execution_count": 86,
   "metadata": {
    "ExecuteTime": {
     "end_time": "2020-10-27T21:32:27.998567Z",
     "start_time": "2020-10-27T21:32:27.980540Z"
    }
   },
   "outputs": [
    {
     "data": {
      "text/html": [
       "<div>\n",
       "<style scoped>\n",
       "    .dataframe tbody tr th:only-of-type {\n",
       "        vertical-align: middle;\n",
       "    }\n",
       "\n",
       "    .dataframe tbody tr th {\n",
       "        vertical-align: top;\n",
       "    }\n",
       "\n",
       "    .dataframe thead th {\n",
       "        text-align: right;\n",
       "    }\n",
       "</style>\n",
       "<table border=\"1\" class=\"dataframe\">\n",
       "  <thead>\n",
       "    <tr style=\"text-align: right;\">\n",
       "      <th></th>\n",
       "      <th>county_name</th>\n",
       "      <th>town_name</th>\n",
       "    </tr>\n",
       "  </thead>\n",
       "  <tbody>\n",
       "    <tr>\n",
       "      <th>0</th>\n",
       "      <td>Alcona County</td>\n",
       "      <td>Alcona Township</td>\n",
       "    </tr>\n",
       "    <tr>\n",
       "      <th>1</th>\n",
       "      <td>Alcona County</td>\n",
       "      <td>Caledonia Township</td>\n",
       "    </tr>\n",
       "    <tr>\n",
       "      <th>2</th>\n",
       "      <td>Alcona County</td>\n",
       "      <td>Curtis Township</td>\n",
       "    </tr>\n",
       "    <tr>\n",
       "      <th>3</th>\n",
       "      <td>Alcona County</td>\n",
       "      <td>Greenbush Township</td>\n",
       "    </tr>\n",
       "    <tr>\n",
       "      <th>4</th>\n",
       "      <td>Alcona County</td>\n",
       "      <td>Gustin Township</td>\n",
       "    </tr>\n",
       "    <tr>\n",
       "      <th>...</th>\n",
       "      <td>...</td>\n",
       "      <td>...</td>\n",
       "    </tr>\n",
       "    <tr>\n",
       "      <th>1530</th>\n",
       "      <td>Wexford County</td>\n",
       "      <td>Selma Township</td>\n",
       "    </tr>\n",
       "    <tr>\n",
       "      <th>1531</th>\n",
       "      <td>Wexford County</td>\n",
       "      <td>Slagle Township</td>\n",
       "    </tr>\n",
       "    <tr>\n",
       "      <th>1532</th>\n",
       "      <td>Wexford County</td>\n",
       "      <td>South Branch Township</td>\n",
       "    </tr>\n",
       "    <tr>\n",
       "      <th>1533</th>\n",
       "      <td>Wexford County</td>\n",
       "      <td>Springville Township</td>\n",
       "    </tr>\n",
       "    <tr>\n",
       "      <th>1534</th>\n",
       "      <td>Wexford County</td>\n",
       "      <td>Wexford Township</td>\n",
       "    </tr>\n",
       "  </tbody>\n",
       "</table>\n",
       "<p>1535 rows × 2 columns</p>\n",
       "</div>"
      ],
      "text/plain": [
       "         county_name              town_name\n",
       "0      Alcona County        Alcona Township\n",
       "1      Alcona County     Caledonia Township\n",
       "2      Alcona County        Curtis Township\n",
       "3      Alcona County     Greenbush Township\n",
       "4      Alcona County        Gustin Township\n",
       "...              ...                    ...\n",
       "1530  Wexford County         Selma Township\n",
       "1531  Wexford County        Slagle Township\n",
       "1532  Wexford County  South Branch Township\n",
       "1533  Wexford County   Springville Township\n",
       "1534  Wexford County       Wexford Township\n",
       "\n",
       "[1535 rows x 2 columns]"
      ]
     },
     "execution_count": 86,
     "metadata": {},
     "output_type": "execute_result"
    }
   ],
   "source": [
    "all_data_df"
   ]
  },
  {
   "cell_type": "code",
   "execution_count": 87,
   "metadata": {
    "ExecuteTime": {
     "end_time": "2020-10-27T21:32:28.063561Z",
     "start_time": "2020-10-27T21:32:28.002854Z"
    }
   },
   "outputs": [],
   "source": [
    "all_data_df['name'] = township_data_df[1].apply(lambda x: x.replace('\\t', '').split(',')[0])\n",
    "all_data_df['position'] = township_data_df[1].apply(fix_clerk)\n",
    "all_data_df['address_1'] = township_data_df[3].apply(lambda x: x.replace('\\t', ''))\n",
    "all_data_df['address_2'] = township_data_df[4].apply(fix_address_2)\n",
    "all_data_df['city'] = township_data_df[5].apply(lambda x: re.findall('\\t(.*?)\\r\\n', x)[0].split(',')[0])\n",
    "all_data_df['state'] = 'MI'\n",
    "all_data_df['zip'] = township_data_df[5].apply(lambda x: re.findall('\\t(.*?)\\r\\n', x)[0].split(',')[1].split('  ')[1].strip())\n",
    "all_data_df['phone'] = township_data_df[6].apply(lambda x: re.findall('Phone:(.*)', x)[0].strip())\n",
    "all_data_df['email'] = township_data_df[7].apply(fix_email)\n",
    "all_data_df['email_2'] = township_data_df[8].apply(lambda x: re.findall('Email:\\xa0\\xa0\\n(.*?)\\n', str(x).split('Email:  ')[0]))"
   ]
  },
  {
   "cell_type": "code",
   "execution_count": 88,
   "metadata": {
    "ExecuteTime": {
     "end_time": "2020-10-27T21:32:28.107646Z",
     "start_time": "2020-10-27T21:32:28.067891Z"
    }
   },
   "outputs": [
    {
     "data": {
      "text/html": [
       "<div>\n",
       "<style scoped>\n",
       "    .dataframe tbody tr th:only-of-type {\n",
       "        vertical-align: middle;\n",
       "    }\n",
       "\n",
       "    .dataframe tbody tr th {\n",
       "        vertical-align: top;\n",
       "    }\n",
       "\n",
       "    .dataframe thead th {\n",
       "        text-align: right;\n",
       "    }\n",
       "</style>\n",
       "<table border=\"1\" class=\"dataframe\">\n",
       "  <thead>\n",
       "    <tr style=\"text-align: right;\">\n",
       "      <th></th>\n",
       "      <th>county_name</th>\n",
       "      <th>town_name</th>\n",
       "      <th>name</th>\n",
       "      <th>position</th>\n",
       "      <th>address_1</th>\n",
       "      <th>address_2</th>\n",
       "      <th>city</th>\n",
       "      <th>state</th>\n",
       "      <th>zip</th>\n",
       "      <th>phone</th>\n",
       "      <th>email</th>\n",
       "      <th>email_2</th>\n",
       "    </tr>\n",
       "  </thead>\n",
       "  <tbody>\n",
       "    <tr>\n",
       "      <th>0</th>\n",
       "      <td>Alcona County</td>\n",
       "      <td>Alcona Township</td>\n",
       "      <td>Dawn Lalonde</td>\n",
       "      <td>Township Clerk</td>\n",
       "      <td>4892 Lavergne Rd</td>\n",
       "      <td>NaN</td>\n",
       "      <td>Black River</td>\n",
       "      <td>MI</td>\n",
       "      <td>48721</td>\n",
       "      <td>(989) 471-2948</td>\n",
       "      <td>NaN</td>\n",
       "      <td>[alconaclerk@yahoo.com]</td>\n",
       "    </tr>\n",
       "    <tr>\n",
       "      <th>1</th>\n",
       "      <td>Alcona County</td>\n",
       "      <td>Caledonia Township</td>\n",
       "      <td>Kerry Scott</td>\n",
       "      <td>Township Clerk</td>\n",
       "      <td>6252 Hansen Road</td>\n",
       "      <td>P.o. Box 7</td>\n",
       "      <td>Spruce</td>\n",
       "      <td>MI</td>\n",
       "      <td>48762</td>\n",
       "      <td>(989) 471-5377</td>\n",
       "      <td>kerryscottclerk@gmail.com</td>\n",
       "      <td>[]</td>\n",
       "    </tr>\n",
       "    <tr>\n",
       "      <th>2</th>\n",
       "      <td>Alcona County</td>\n",
       "      <td>Curtis Township</td>\n",
       "      <td>Teresa Perkins</td>\n",
       "      <td>Township Clerk</td>\n",
       "      <td>4875 F-30</td>\n",
       "      <td>PO Box 90</td>\n",
       "      <td>Glennie</td>\n",
       "      <td>MI</td>\n",
       "      <td>48737</td>\n",
       "      <td>(989) 370-8855</td>\n",
       "      <td>curtistownshipclerk@hotmail.com</td>\n",
       "      <td>[]</td>\n",
       "    </tr>\n",
       "    <tr>\n",
       "      <th>3</th>\n",
       "      <td>Alcona County</td>\n",
       "      <td>Greenbush Township</td>\n",
       "      <td>Shannon Story</td>\n",
       "      <td>Township Clerk</td>\n",
       "      <td>5070 Woodland Drive</td>\n",
       "      <td>PO Box 9</td>\n",
       "      <td>Greenbush</td>\n",
       "      <td>MI</td>\n",
       "      <td>48738</td>\n",
       "      <td>(989) 569-3519</td>\n",
       "      <td>shannonstory@charter.net</td>\n",
       "      <td>[]</td>\n",
       "    </tr>\n",
       "    <tr>\n",
       "      <th>4</th>\n",
       "      <td>Alcona County</td>\n",
       "      <td>Gustin Township</td>\n",
       "      <td>Renee Lavergne</td>\n",
       "      <td>Township Clerk</td>\n",
       "      <td>113 S. Second</td>\n",
       "      <td>PO Box 25</td>\n",
       "      <td>Lincoln</td>\n",
       "      <td>MI</td>\n",
       "      <td>48742</td>\n",
       "      <td>(989) 335-0635</td>\n",
       "      <td>gustintownshipclerk@gmail.com</td>\n",
       "      <td>[]</td>\n",
       "    </tr>\n",
       "    <tr>\n",
       "      <th>...</th>\n",
       "      <td>...</td>\n",
       "      <td>...</td>\n",
       "      <td>...</td>\n",
       "      <td>...</td>\n",
       "      <td>...</td>\n",
       "      <td>...</td>\n",
       "      <td>...</td>\n",
       "      <td>...</td>\n",
       "      <td>...</td>\n",
       "      <td>...</td>\n",
       "      <td>...</td>\n",
       "      <td>...</td>\n",
       "    </tr>\n",
       "    <tr>\n",
       "      <th>1530</th>\n",
       "      <td>Wexford County</td>\n",
       "      <td>Selma Township</td>\n",
       "      <td>Carol Perrin</td>\n",
       "      <td>Clerk</td>\n",
       "      <td>3577 S 31 Rd</td>\n",
       "      <td>NaN</td>\n",
       "      <td>Cadillac</td>\n",
       "      <td>MI</td>\n",
       "      <td>49601</td>\n",
       "      <td>(231) 920-8525</td>\n",
       "      <td>NaN</td>\n",
       "      <td>[yttpkh@yahoo.com]</td>\n",
       "    </tr>\n",
       "    <tr>\n",
       "      <th>1531</th>\n",
       "      <td>Wexford County</td>\n",
       "      <td>Slagle Township</td>\n",
       "      <td>Tammy Porterfield</td>\n",
       "      <td>Clerk</td>\n",
       "      <td>4627 S 1 Rd</td>\n",
       "      <td>NaN</td>\n",
       "      <td>Harrietta</td>\n",
       "      <td>MI</td>\n",
       "      <td>49638</td>\n",
       "      <td>(231) 389-0610</td>\n",
       "      <td>slagletwpclerk@gmail.com</td>\n",
       "      <td>[]</td>\n",
       "    </tr>\n",
       "    <tr>\n",
       "      <th>1532</th>\n",
       "      <td>Wexford County</td>\n",
       "      <td>South Branch Township</td>\n",
       "      <td>Julie Cieslak</td>\n",
       "      <td>Clerk</td>\n",
       "      <td>7257 W 48 Rd</td>\n",
       "      <td>NaN</td>\n",
       "      <td>Wellston</td>\n",
       "      <td>MI</td>\n",
       "      <td>49689</td>\n",
       "      <td>(231) 862-3671</td>\n",
       "      <td>thecieslaks@yahoo.com</td>\n",
       "      <td>[]</td>\n",
       "    </tr>\n",
       "    <tr>\n",
       "      <th>1533</th>\n",
       "      <td>Wexford County</td>\n",
       "      <td>Springville Township</td>\n",
       "      <td>Jessica Boonstra</td>\n",
       "      <td>Clerk</td>\n",
       "      <td>4785 N. M-37</td>\n",
       "      <td>PO Box 323</td>\n",
       "      <td>Mesick</td>\n",
       "      <td>MI</td>\n",
       "      <td>49668</td>\n",
       "      <td>(231) 885-1392</td>\n",
       "      <td>NaN</td>\n",
       "      <td>[springvilleclerk@goacentek.net]</td>\n",
       "    </tr>\n",
       "    <tr>\n",
       "      <th>1534</th>\n",
       "      <td>Wexford County</td>\n",
       "      <td>Wexford Township</td>\n",
       "      <td>Teresa Hankins</td>\n",
       "      <td>Clerk</td>\n",
       "      <td>6941 W 6 Rd</td>\n",
       "      <td>NaN</td>\n",
       "      <td>Mesick</td>\n",
       "      <td>MI</td>\n",
       "      <td>49668-9103</td>\n",
       "      <td>(231) 269-3293</td>\n",
       "      <td>wexfordtwpclerk@acegroup.cc</td>\n",
       "      <td>[]</td>\n",
       "    </tr>\n",
       "  </tbody>\n",
       "</table>\n",
       "<p>1535 rows × 12 columns</p>\n",
       "</div>"
      ],
      "text/plain": [
       "         county_name              town_name               name  \\\n",
       "0      Alcona County        Alcona Township       Dawn Lalonde   \n",
       "1      Alcona County     Caledonia Township        Kerry Scott   \n",
       "2      Alcona County        Curtis Township     Teresa Perkins   \n",
       "3      Alcona County     Greenbush Township      Shannon Story   \n",
       "4      Alcona County        Gustin Township     Renee Lavergne   \n",
       "...              ...                    ...                ...   \n",
       "1530  Wexford County         Selma Township       Carol Perrin   \n",
       "1531  Wexford County        Slagle Township  Tammy Porterfield   \n",
       "1532  Wexford County  South Branch Township      Julie Cieslak   \n",
       "1533  Wexford County   Springville Township   Jessica Boonstra   \n",
       "1534  Wexford County       Wexford Township     Teresa Hankins   \n",
       "\n",
       "            position            address_1   address_2         city state  \\\n",
       "0     Township Clerk     4892 Lavergne Rd         NaN  Black River    MI   \n",
       "1     Township Clerk     6252 Hansen Road  P.o. Box 7       Spruce    MI   \n",
       "2     Township Clerk            4875 F-30   PO Box 90      Glennie    MI   \n",
       "3     Township Clerk  5070 Woodland Drive    PO Box 9    Greenbush    MI   \n",
       "4     Township Clerk        113 S. Second   PO Box 25      Lincoln    MI   \n",
       "...              ...                  ...         ...          ...   ...   \n",
       "1530           Clerk         3577 S 31 Rd         NaN     Cadillac    MI   \n",
       "1531           Clerk          4627 S 1 Rd         NaN    Harrietta    MI   \n",
       "1532           Clerk         7257 W 48 Rd         NaN     Wellston    MI   \n",
       "1533           Clerk         4785 N. M-37  PO Box 323       Mesick    MI   \n",
       "1534           Clerk          6941 W 6 Rd         NaN       Mesick    MI   \n",
       "\n",
       "             zip           phone                            email  \\\n",
       "0          48721  (989) 471-2948                              NaN   \n",
       "1          48762  (989) 471-5377        kerryscottclerk@gmail.com   \n",
       "2          48737  (989) 370-8855  curtistownshipclerk@hotmail.com   \n",
       "3          48738  (989) 569-3519         shannonstory@charter.net   \n",
       "4          48742  (989) 335-0635    gustintownshipclerk@gmail.com   \n",
       "...          ...             ...                              ...   \n",
       "1530       49601  (231) 920-8525                              NaN   \n",
       "1531       49638  (231) 389-0610         slagletwpclerk@gmail.com   \n",
       "1532       49689  (231) 862-3671            thecieslaks@yahoo.com   \n",
       "1533       49668  (231) 885-1392                              NaN   \n",
       "1534  49668-9103  (231) 269-3293      wexfordtwpclerk@acegroup.cc   \n",
       "\n",
       "                               email_2  \n",
       "0              [alconaclerk@yahoo.com]  \n",
       "1                                   []  \n",
       "2                                   []  \n",
       "3                                   []  \n",
       "4                                   []  \n",
       "...                                ...  \n",
       "1530                [yttpkh@yahoo.com]  \n",
       "1531                                []  \n",
       "1532                                []  \n",
       "1533  [springvilleclerk@goacentek.net]  \n",
       "1534                                []  \n",
       "\n",
       "[1535 rows x 12 columns]"
      ]
     },
     "execution_count": 88,
     "metadata": {},
     "output_type": "execute_result"
    }
   ],
   "source": [
    "all_data_df"
   ]
  },
  {
   "cell_type": "code",
   "execution_count": 89,
   "metadata": {
    "ExecuteTime": {
     "end_time": "2020-10-27T21:32:28.118824Z",
     "start_time": "2020-10-27T21:32:28.112988Z"
    }
   },
   "outputs": [],
   "source": [
    "def fix_email_2(x):\n",
    "    try:\n",
    "        return x[0]\n",
    "    except IndexError:\n",
    "        return np.nan"
   ]
  },
  {
   "cell_type": "code",
   "execution_count": 90,
   "metadata": {
    "ExecuteTime": {
     "end_time": "2020-10-27T21:32:28.133038Z",
     "start_time": "2020-10-27T21:32:28.124461Z"
    }
   },
   "outputs": [],
   "source": [
    "all_data_df['email_2'] = all_data_df['email_2'].apply(fix_email_2)"
   ]
  },
  {
   "cell_type": "code",
   "execution_count": 91,
   "metadata": {
    "ExecuteTime": {
     "end_time": "2020-10-27T21:32:28.380599Z",
     "start_time": "2020-10-27T21:32:28.137564Z"
    }
   },
   "outputs": [],
   "source": [
    "for x in range(len(all_data_df['email'])):\n",
    "    if pd.isnull(all_data_df['email'][x]):\n",
    "        all_data_df['email'][x]=all_data_df['email_2'][x]"
   ]
  },
  {
   "cell_type": "code",
   "execution_count": 92,
   "metadata": {
    "ExecuteTime": {
     "end_time": "2020-10-27T21:32:28.398540Z",
     "start_time": "2020-10-27T21:32:28.384656Z"
    }
   },
   "outputs": [],
   "source": [
    "all_data_df = all_data_df.drop('email_2', axis=1)"
   ]
  },
  {
   "cell_type": "code",
   "execution_count": 93,
   "metadata": {
    "ExecuteTime": {
     "end_time": "2020-10-27T21:32:28.428027Z",
     "start_time": "2020-10-27T21:32:28.401299Z"
    }
   },
   "outputs": [
    {
     "data": {
      "text/html": [
       "<div>\n",
       "<style scoped>\n",
       "    .dataframe tbody tr th:only-of-type {\n",
       "        vertical-align: middle;\n",
       "    }\n",
       "\n",
       "    .dataframe tbody tr th {\n",
       "        vertical-align: top;\n",
       "    }\n",
       "\n",
       "    .dataframe thead th {\n",
       "        text-align: right;\n",
       "    }\n",
       "</style>\n",
       "<table border=\"1\" class=\"dataframe\">\n",
       "  <thead>\n",
       "    <tr style=\"text-align: right;\">\n",
       "      <th></th>\n",
       "      <th>county_name</th>\n",
       "      <th>town_name</th>\n",
       "      <th>name</th>\n",
       "      <th>position</th>\n",
       "      <th>address_1</th>\n",
       "      <th>address_2</th>\n",
       "      <th>city</th>\n",
       "      <th>state</th>\n",
       "      <th>zip</th>\n",
       "      <th>phone</th>\n",
       "      <th>email</th>\n",
       "    </tr>\n",
       "  </thead>\n",
       "  <tbody>\n",
       "    <tr>\n",
       "      <th>0</th>\n",
       "      <td>Alcona County</td>\n",
       "      <td>Alcona Township</td>\n",
       "      <td>Dawn Lalonde</td>\n",
       "      <td>Township Clerk</td>\n",
       "      <td>4892 Lavergne Rd</td>\n",
       "      <td>NaN</td>\n",
       "      <td>Black River</td>\n",
       "      <td>MI</td>\n",
       "      <td>48721</td>\n",
       "      <td>(989) 471-2948</td>\n",
       "      <td>alconaclerk@yahoo.com</td>\n",
       "    </tr>\n",
       "    <tr>\n",
       "      <th>1</th>\n",
       "      <td>Alcona County</td>\n",
       "      <td>Caledonia Township</td>\n",
       "      <td>Kerry Scott</td>\n",
       "      <td>Township Clerk</td>\n",
       "      <td>6252 Hansen Road</td>\n",
       "      <td>P.o. Box 7</td>\n",
       "      <td>Spruce</td>\n",
       "      <td>MI</td>\n",
       "      <td>48762</td>\n",
       "      <td>(989) 471-5377</td>\n",
       "      <td>kerryscottclerk@gmail.com</td>\n",
       "    </tr>\n",
       "    <tr>\n",
       "      <th>2</th>\n",
       "      <td>Alcona County</td>\n",
       "      <td>Curtis Township</td>\n",
       "      <td>Teresa Perkins</td>\n",
       "      <td>Township Clerk</td>\n",
       "      <td>4875 F-30</td>\n",
       "      <td>PO Box 90</td>\n",
       "      <td>Glennie</td>\n",
       "      <td>MI</td>\n",
       "      <td>48737</td>\n",
       "      <td>(989) 370-8855</td>\n",
       "      <td>curtistownshipclerk@hotmail.com</td>\n",
       "    </tr>\n",
       "    <tr>\n",
       "      <th>3</th>\n",
       "      <td>Alcona County</td>\n",
       "      <td>Greenbush Township</td>\n",
       "      <td>Shannon Story</td>\n",
       "      <td>Township Clerk</td>\n",
       "      <td>5070 Woodland Drive</td>\n",
       "      <td>PO Box 9</td>\n",
       "      <td>Greenbush</td>\n",
       "      <td>MI</td>\n",
       "      <td>48738</td>\n",
       "      <td>(989) 569-3519</td>\n",
       "      <td>shannonstory@charter.net</td>\n",
       "    </tr>\n",
       "    <tr>\n",
       "      <th>4</th>\n",
       "      <td>Alcona County</td>\n",
       "      <td>Gustin Township</td>\n",
       "      <td>Renee Lavergne</td>\n",
       "      <td>Township Clerk</td>\n",
       "      <td>113 S. Second</td>\n",
       "      <td>PO Box 25</td>\n",
       "      <td>Lincoln</td>\n",
       "      <td>MI</td>\n",
       "      <td>48742</td>\n",
       "      <td>(989) 335-0635</td>\n",
       "      <td>gustintownshipclerk@gmail.com</td>\n",
       "    </tr>\n",
       "    <tr>\n",
       "      <th>...</th>\n",
       "      <td>...</td>\n",
       "      <td>...</td>\n",
       "      <td>...</td>\n",
       "      <td>...</td>\n",
       "      <td>...</td>\n",
       "      <td>...</td>\n",
       "      <td>...</td>\n",
       "      <td>...</td>\n",
       "      <td>...</td>\n",
       "      <td>...</td>\n",
       "      <td>...</td>\n",
       "    </tr>\n",
       "    <tr>\n",
       "      <th>1530</th>\n",
       "      <td>Wexford County</td>\n",
       "      <td>Selma Township</td>\n",
       "      <td>Carol Perrin</td>\n",
       "      <td>Clerk</td>\n",
       "      <td>3577 S 31 Rd</td>\n",
       "      <td>NaN</td>\n",
       "      <td>Cadillac</td>\n",
       "      <td>MI</td>\n",
       "      <td>49601</td>\n",
       "      <td>(231) 920-8525</td>\n",
       "      <td>yttpkh@yahoo.com</td>\n",
       "    </tr>\n",
       "    <tr>\n",
       "      <th>1531</th>\n",
       "      <td>Wexford County</td>\n",
       "      <td>Slagle Township</td>\n",
       "      <td>Tammy Porterfield</td>\n",
       "      <td>Clerk</td>\n",
       "      <td>4627 S 1 Rd</td>\n",
       "      <td>NaN</td>\n",
       "      <td>Harrietta</td>\n",
       "      <td>MI</td>\n",
       "      <td>49638</td>\n",
       "      <td>(231) 389-0610</td>\n",
       "      <td>slagletwpclerk@gmail.com</td>\n",
       "    </tr>\n",
       "    <tr>\n",
       "      <th>1532</th>\n",
       "      <td>Wexford County</td>\n",
       "      <td>South Branch Township</td>\n",
       "      <td>Julie Cieslak</td>\n",
       "      <td>Clerk</td>\n",
       "      <td>7257 W 48 Rd</td>\n",
       "      <td>NaN</td>\n",
       "      <td>Wellston</td>\n",
       "      <td>MI</td>\n",
       "      <td>49689</td>\n",
       "      <td>(231) 862-3671</td>\n",
       "      <td>thecieslaks@yahoo.com</td>\n",
       "    </tr>\n",
       "    <tr>\n",
       "      <th>1533</th>\n",
       "      <td>Wexford County</td>\n",
       "      <td>Springville Township</td>\n",
       "      <td>Jessica Boonstra</td>\n",
       "      <td>Clerk</td>\n",
       "      <td>4785 N. M-37</td>\n",
       "      <td>PO Box 323</td>\n",
       "      <td>Mesick</td>\n",
       "      <td>MI</td>\n",
       "      <td>49668</td>\n",
       "      <td>(231) 885-1392</td>\n",
       "      <td>springvilleclerk@goacentek.net</td>\n",
       "    </tr>\n",
       "    <tr>\n",
       "      <th>1534</th>\n",
       "      <td>Wexford County</td>\n",
       "      <td>Wexford Township</td>\n",
       "      <td>Teresa Hankins</td>\n",
       "      <td>Clerk</td>\n",
       "      <td>6941 W 6 Rd</td>\n",
       "      <td>NaN</td>\n",
       "      <td>Mesick</td>\n",
       "      <td>MI</td>\n",
       "      <td>49668-9103</td>\n",
       "      <td>(231) 269-3293</td>\n",
       "      <td>wexfordtwpclerk@acegroup.cc</td>\n",
       "    </tr>\n",
       "  </tbody>\n",
       "</table>\n",
       "<p>1535 rows × 11 columns</p>\n",
       "</div>"
      ],
      "text/plain": [
       "         county_name              town_name               name  \\\n",
       "0      Alcona County        Alcona Township       Dawn Lalonde   \n",
       "1      Alcona County     Caledonia Township        Kerry Scott   \n",
       "2      Alcona County        Curtis Township     Teresa Perkins   \n",
       "3      Alcona County     Greenbush Township      Shannon Story   \n",
       "4      Alcona County        Gustin Township     Renee Lavergne   \n",
       "...              ...                    ...                ...   \n",
       "1530  Wexford County         Selma Township       Carol Perrin   \n",
       "1531  Wexford County        Slagle Township  Tammy Porterfield   \n",
       "1532  Wexford County  South Branch Township      Julie Cieslak   \n",
       "1533  Wexford County   Springville Township   Jessica Boonstra   \n",
       "1534  Wexford County       Wexford Township     Teresa Hankins   \n",
       "\n",
       "            position            address_1   address_2         city state  \\\n",
       "0     Township Clerk     4892 Lavergne Rd         NaN  Black River    MI   \n",
       "1     Township Clerk     6252 Hansen Road  P.o. Box 7       Spruce    MI   \n",
       "2     Township Clerk            4875 F-30   PO Box 90      Glennie    MI   \n",
       "3     Township Clerk  5070 Woodland Drive    PO Box 9    Greenbush    MI   \n",
       "4     Township Clerk        113 S. Second   PO Box 25      Lincoln    MI   \n",
       "...              ...                  ...         ...          ...   ...   \n",
       "1530           Clerk         3577 S 31 Rd         NaN     Cadillac    MI   \n",
       "1531           Clerk          4627 S 1 Rd         NaN    Harrietta    MI   \n",
       "1532           Clerk         7257 W 48 Rd         NaN     Wellston    MI   \n",
       "1533           Clerk         4785 N. M-37  PO Box 323       Mesick    MI   \n",
       "1534           Clerk          6941 W 6 Rd         NaN       Mesick    MI   \n",
       "\n",
       "             zip           phone                            email  \n",
       "0          48721  (989) 471-2948            alconaclerk@yahoo.com  \n",
       "1          48762  (989) 471-5377        kerryscottclerk@gmail.com  \n",
       "2          48737  (989) 370-8855  curtistownshipclerk@hotmail.com  \n",
       "3          48738  (989) 569-3519         shannonstory@charter.net  \n",
       "4          48742  (989) 335-0635    gustintownshipclerk@gmail.com  \n",
       "...          ...             ...                              ...  \n",
       "1530       49601  (231) 920-8525                 yttpkh@yahoo.com  \n",
       "1531       49638  (231) 389-0610         slagletwpclerk@gmail.com  \n",
       "1532       49689  (231) 862-3671            thecieslaks@yahoo.com  \n",
       "1533       49668  (231) 885-1392   springvilleclerk@goacentek.net  \n",
       "1534  49668-9103  (231) 269-3293      wexfordtwpclerk@acegroup.cc  \n",
       "\n",
       "[1535 rows x 11 columns]"
      ]
     },
     "execution_count": 93,
     "metadata": {},
     "output_type": "execute_result"
    }
   ],
   "source": [
    "all_data_df"
   ]
  },
  {
   "cell_type": "markdown",
   "metadata": {},
   "source": [
    "# Write township data to csv file"
   ]
  },
  {
   "cell_type": "code",
   "execution_count": 94,
   "metadata": {
    "ExecuteTime": {
     "end_time": "2020-10-27T21:32:28.467821Z",
     "start_time": "2020-10-27T21:32:28.446093Z"
    }
   },
   "outputs": [],
   "source": [
    "all_data_df.to_csv(\"Michigan_towns.csv\", index=False)"
   ]
  },
  {
   "cell_type": "markdown",
   "metadata": {},
   "source": [
    "# Disagregate dropbox address data"
   ]
  },
  {
   "cell_type": "code",
   "execution_count": 95,
   "metadata": {
    "ExecuteTime": {
     "end_time": "2020-10-27T21:32:28.488637Z",
     "start_time": "2020-10-27T21:32:28.475330Z"
    }
   },
   "outputs": [],
   "source": [
    "drop_box_data = township_data_df[8].apply(lambda x: re.findall('\\n(.*?)\\n', str(x).split('Email:  ')[0]))"
   ]
  },
  {
   "cell_type": "code",
   "execution_count": 96,
   "metadata": {
    "ExecuteTime": {
     "end_time": "2020-10-27T21:32:28.498780Z",
     "start_time": "2020-10-27T21:32:28.492337Z"
    }
   },
   "outputs": [
    {
     "data": {
      "text/plain": [
       "pandas.core.series.Series"
      ]
     },
     "execution_count": 96,
     "metadata": {},
     "output_type": "execute_result"
    }
   ],
   "source": [
    "type(drop_box_data)"
   ]
  },
  {
   "cell_type": "code",
   "execution_count": 97,
   "metadata": {
    "ExecuteTime": {
     "end_time": "2020-10-27T21:32:28.513787Z",
     "start_time": "2020-10-27T21:32:28.502237Z"
    }
   },
   "outputs": [
    {
     "data": {
      "text/plain": [
       "0     [Email:  , , Drop box locations, 5576 Us 23Bla...\n",
       "1                                                    []\n",
       "2                                                    []\n",
       "3                                                    []\n",
       "4                                                    []\n",
       "5     [Email:  , , 11/3/2020 Pre-election weekend ho...\n",
       "6                                          [Email:  , ]\n",
       "7                                                    []\n",
       "8                                                    []\n",
       "9                                                    []\n",
       "10                                                   []\n",
       "11                                                   []\n",
       "12    [Email:  , , 11/3/2020 Pre-election weekend ho...\n",
       "13    [Email:  , , 11/3/2020 Pre-election weekend ho...\n",
       "14                                                   []\n",
       "15    [Email:  , , 11/3/2020 Pre-election weekend ho...\n",
       "16                                                   []\n",
       "17    [Email:  , , 11/3/2020 Pre-election weekend ho...\n",
       "18    [Email:  , , 11/3/2020 Pre-election weekend ho...\n",
       "19    [Email:  , , Drop box locations, E1461 Deerton...\n",
       "Name: 8, dtype: object"
      ]
     },
     "execution_count": 97,
     "metadata": {},
     "output_type": "execute_result"
    }
   ],
   "source": [
    "drop_box_data[:20]"
   ]
  },
  {
   "cell_type": "code",
   "execution_count": 98,
   "metadata": {
    "ExecuteTime": {
     "end_time": "2020-10-27T21:32:28.525129Z",
     "start_time": "2020-10-27T21:32:28.517668Z"
    }
   },
   "outputs": [
    {
     "data": {
      "text/plain": [
       "'\\t\\nFax:\\xa0\\xa0\\n\\nEmail:\\xa0\\xa0\\ncurtistownshipclerk@hotmail.com\\n\\nBusiness hours:Mon. By AppointmentTue. By AppointmentWed. By AppointmentThu. By AppointmentFri. By Appointment\\n11/3/2020 Pre-election weekend hours:Saturday, October 31, 2020 8am-4pm \\nDrop box locations\\n\\n4875 F30Glennie, Michigan\\xa048737Hours:Available 24 Hours/7 Days a Week\\nCounty clerk information\\n'"
      ]
     },
     "execution_count": 98,
     "metadata": {},
     "output_type": "execute_result"
    }
   ],
   "source": [
    "township_data_df.loc[2,7]"
   ]
  },
  {
   "cell_type": "code",
   "execution_count": 99,
   "metadata": {
    "ExecuteTime": {
     "end_time": "2020-10-27T21:32:28.539464Z",
     "start_time": "2020-10-27T21:32:28.530428Z"
    }
   },
   "outputs": [
    {
     "data": {
      "text/plain": [
       "'\\t\\nEmail:\\xa0\\xa0\\nalconaclerk@yahoo.com\\n\\n11/3/2020 Pre-election weekend hours:Saturday, October 31, 2020 7:30am-3:30pm \\nDrop box locations\\n\\n5576 Us 23Black River, Michigan\\xa048721Hours:Available 24 Hours/7 Days a Week\\nCounty clerk information\\n'"
      ]
     },
     "execution_count": 99,
     "metadata": {},
     "output_type": "execute_result"
    }
   ],
   "source": [
    "township_data_df.loc[0,8]"
   ]
  },
  {
   "cell_type": "code",
   "execution_count": 100,
   "metadata": {
    "ExecuteTime": {
     "end_time": "2020-10-27T21:32:28.553939Z",
     "start_time": "2020-10-27T21:32:28.544083Z"
    }
   },
   "outputs": [
    {
     "data": {
      "text/plain": [
       "['\\t',\n",
       " 'Email:\\xa0\\xa0',\n",
       " 'alconaclerk@yahoo.com',\n",
       " '',\n",
       " '11/3/2020 Pre-election weekend hours:Saturday, October 31, 2020 7:30am-3:30pm ',\n",
       " 'Drop box locations',\n",
       " '',\n",
       " '5576 Us 23Black River, Michigan\\xa048721Hours:Available 24 Hours/7 Days a Week',\n",
       " 'County clerk information']"
      ]
     },
     "execution_count": 100,
     "metadata": {},
     "output_type": "execute_result"
    }
   ],
   "source": [
    "township_data_df.loc[0,8].splitlines()"
   ]
  },
  {
   "cell_type": "markdown",
   "metadata": {},
   "source": [
    "# Determine patterns of data in dropbox rows"
   ]
  },
  {
   "cell_type": "code",
   "execution_count": 101,
   "metadata": {
    "ExecuteTime": {
     "end_time": "2020-10-27T21:32:28.716494Z",
     "start_time": "2020-10-27T21:32:28.558522Z"
    }
   },
   "outputs": [
    {
     "name": "stdout",
     "output_type": "stream",
     "text": [
      "0 5\n",
      "12 6\n",
      "15 6\n",
      "18 6\n",
      "19 5\n",
      "26 6\n",
      "27 6\n",
      "28 6\n",
      "30 6\n",
      "31 6\n",
      "34 6\n",
      "35 6\n",
      "37 6\n",
      "38 6\n",
      "40 6\n",
      "42 6\n",
      "43 6\n",
      "45 6\n",
      "47 6\n",
      "49 6\n",
      "51 6\n",
      "52 6\n",
      "53 6\n",
      "54 6\n",
      "55 6\n",
      "56 6\n",
      "60 6\n",
      "63 6\n",
      "64 6\n",
      "68 6\n",
      "69 6\n",
      "70 6\n",
      "72 5\n",
      "76 6\n",
      "80 9\n",
      "88 6\n",
      "92 6\n",
      "96 6\n",
      "97 6\n",
      "101 6\n",
      "103 6\n",
      "104 6\n",
      "105 6\n",
      "106 6\n",
      "107 6\n",
      "109 6\n",
      "111 6\n",
      "112 6\n",
      "113 6\n",
      "114 6\n",
      "117 6\n",
      "118 6\n",
      "119 6\n",
      "121 5\n",
      "124 6\n",
      "126 6\n",
      "128 6\n",
      "130 5\n",
      "131 5\n",
      "132 6\n",
      "138 6\n",
      "141 6\n",
      "142 6\n",
      "147 6\n",
      "149 6\n",
      "150 6\n",
      "151 6\n",
      "152 6\n",
      "153 6\n",
      "154 6\n",
      "155 6\n",
      "156 6\n",
      "157 5\n",
      "158 5\n",
      "159 6\n",
      "160 6\n",
      "161 6\n",
      "162 6\n",
      "163 6\n",
      "164 6\n",
      "166 6\n",
      "169 6\n",
      "170 6\n",
      "171 5\n",
      "172 6\n",
      "173 6\n",
      "176 6\n",
      "179 6\n",
      "180 6\n",
      "184 6\n",
      "185 6\n",
      "195 6\n",
      "196 6\n",
      "197 6\n",
      "198 6\n",
      "199 6\n",
      "200 6\n",
      "201 6\n",
      "202 6\n",
      "203 6\n",
      "205 6\n",
      "206 6\n",
      "207 6\n",
      "208 6\n",
      "209 6\n",
      "210 6\n",
      "211 6\n",
      "212 6\n",
      "213 6\n",
      "214 6\n",
      "215 6\n",
      "216 6\n",
      "217 6\n",
      "221 5\n",
      "227 6\n",
      "228 6\n",
      "229 5\n",
      "232 6\n",
      "234 6\n",
      "237 5\n",
      "240 5\n",
      "241 5\n",
      "243 6\n",
      "244 5\n",
      "247 5\n",
      "252 6\n",
      "254 6\n",
      "255 6\n",
      "262 6\n",
      "263 5\n",
      "274 6\n",
      "277 5\n",
      "278 6\n",
      "281 9\n",
      "283 6\n",
      "284 6\n",
      "285 6\n",
      "287 6\n",
      "291 6\n",
      "293 6\n",
      "294 6\n",
      "295 6\n",
      "299 6\n",
      "301 6\n",
      "306 6\n",
      "308 6\n",
      "311 5\n",
      "312 6\n",
      "313 6\n",
      "316 9\n",
      "320 6\n",
      "321 6\n",
      "324 6\n",
      "326 6\n",
      "330 6\n",
      "331 6\n",
      "333 5\n",
      "334 6\n",
      "335 5\n",
      "346 6\n",
      "350 6\n",
      "352 6\n",
      "353 6\n",
      "354 6\n",
      "355 5\n",
      "356 6\n",
      "357 6\n",
      "358 6\n",
      "362 6\n",
      "365 6\n",
      "367 6\n",
      "368 6\n",
      "370 6\n",
      "371 6\n",
      "372 6\n",
      "374 9\n",
      "375 9\n",
      "376 6\n",
      "377 6\n",
      "378 6\n",
      "382 6\n",
      "383 6\n",
      "386 6\n",
      "388 9\n",
      "389 6\n",
      "390 6\n",
      "394 6\n",
      "395 6\n",
      "397 5\n",
      "398 6\n",
      "401 6\n",
      "402 6\n",
      "403 6\n",
      "404 6\n",
      "405 6\n",
      "406 6\n",
      "407 6\n",
      "408 6\n",
      "409 6\n",
      "410 6\n",
      "411 6\n",
      "412 6\n",
      "413 6\n",
      "414 6\n",
      "416 6\n",
      "417 6\n",
      "419 6\n",
      "421 6\n",
      "423 6\n",
      "424 6\n",
      "425 6\n",
      "426 6\n",
      "427 6\n",
      "428 6\n",
      "435 6\n",
      "446 6\n",
      "447 6\n",
      "449 6\n",
      "455 6\n",
      "456 6\n",
      "457 6\n",
      "459 6\n",
      "462 6\n",
      "464 6\n",
      "466 6\n",
      "468 6\n",
      "469 6\n",
      "472 5\n",
      "474 6\n",
      "476 6\n",
      "482 5\n",
      "484 6\n",
      "485 6\n",
      "487 6\n",
      "489 6\n",
      "491 6\n",
      "493 6\n",
      "494 6\n",
      "496 6\n",
      "497 6\n",
      "503 6\n",
      "506 6\n",
      "510 6\n",
      "512 6\n",
      "514 6\n",
      "515 6\n",
      "516 6\n",
      "518 6\n",
      "520 6\n",
      "521 5\n",
      "524 6\n",
      "525 6\n",
      "527 6\n",
      "533 6\n",
      "541 6\n",
      "548 6\n",
      "551 5\n",
      "557 6\n",
      "558 6\n",
      "560 6\n",
      "561 9\n",
      "562 6\n",
      "563 9\n",
      "564 6\n",
      "565 6\n",
      "566 6\n",
      "567 6\n",
      "568 6\n",
      "569 6\n",
      "570 6\n",
      "571 6\n",
      "573 6\n",
      "574 6\n",
      "575 6\n",
      "576 6\n",
      "577 6\n",
      "578 6\n",
      "579 6\n",
      "580 5\n",
      "581 6\n",
      "591 5\n",
      "593 6\n",
      "597 6\n",
      "601 6\n",
      "603 6\n",
      "604 6\n",
      "605 6\n",
      "607 6\n",
      "608 6\n",
      "611 6\n",
      "613 6\n",
      "614 6\n",
      "615 6\n",
      "618 6\n",
      "619 6\n",
      "623 6\n",
      "624 6\n",
      "629 6\n",
      "633 6\n",
      "637 5\n",
      "640 6\n",
      "642 6\n",
      "643 6\n",
      "645 6\n",
      "646 6\n",
      "648 6\n",
      "649 6\n",
      "650 6\n",
      "651 6\n",
      "654 6\n",
      "655 6\n",
      "657 6\n",
      "658 6\n",
      "659 9\n",
      "661 6\n",
      "662 6\n",
      "663 6\n",
      "664 6\n",
      "665 6\n",
      "667 9\n",
      "668 6\n",
      "669 6\n",
      "670 6\n",
      "672 6\n",
      "674 6\n",
      "675 6\n",
      "676 6\n",
      "677 6\n",
      "680 6\n",
      "682 6\n",
      "683 6\n",
      "686 6\n",
      "689 6\n",
      "691 6\n",
      "693 6\n",
      "694 6\n",
      "695 6\n",
      "696 6\n",
      "700 6\n",
      "701 6\n",
      "703 6\n",
      "704 9\n",
      "705 6\n",
      "707 6\n",
      "709 6\n",
      "711 6\n",
      "712 6\n",
      "714 6\n",
      "715 6\n",
      "716 6\n",
      "717 6\n",
      "718 6\n",
      "719 6\n",
      "720 6\n",
      "721 6\n",
      "722 6\n",
      "730 9\n",
      "739 6\n",
      "741 6\n",
      "742 6\n",
      "743 6\n",
      "744 6\n",
      "747 6\n",
      "749 6\n",
      "751 6\n",
      "752 6\n",
      "754 6\n",
      "755 6\n",
      "756 6\n",
      "757 6\n",
      "758 6\n",
      "759 6\n",
      "760 6\n",
      "762 6\n",
      "764 6\n",
      "765 6\n",
      "766 6\n",
      "770 6\n",
      "771 6\n",
      "772 6\n",
      "773 6\n",
      "774 6\n",
      "775 6\n",
      "776 6\n",
      "777 6\n",
      "778 6\n",
      "781 6\n",
      "782 6\n",
      "783 6\n",
      "786 5\n",
      "789 6\n",
      "791 6\n",
      "794 6\n",
      "799 6\n",
      "800 6\n",
      "802 6\n",
      "803 6\n",
      "805 6\n",
      "806 6\n",
      "807 6\n",
      "808 6\n",
      "809 6\n",
      "810 6\n",
      "811 6\n",
      "813 9\n",
      "814 6\n",
      "815 6\n",
      "816 6\n",
      "817 6\n",
      "822 6\n",
      "824 6\n",
      "825 6\n",
      "832 6\n",
      "833 6\n",
      "835 6\n",
      "837 6\n",
      "838 6\n",
      "839 6\n",
      "840 6\n",
      "843 6\n",
      "844 6\n",
      "845 6\n",
      "847 6\n",
      "848 6\n",
      "849 6\n",
      "850 6\n",
      "851 6\n",
      "852 6\n",
      "853 6\n",
      "854 6\n",
      "855 9\n",
      "856 6\n",
      "857 6\n",
      "858 6\n",
      "860 6\n",
      "862 6\n",
      "863 6\n",
      "864 6\n",
      "865 6\n",
      "866 6\n",
      "867 6\n",
      "870 6\n",
      "875 6\n",
      "878 6\n",
      "879 5\n",
      "882 6\n",
      "883 6\n",
      "885 6\n",
      "886 5\n",
      "892 5\n",
      "896 9\n",
      "898 6\n",
      "904 6\n",
      "906 6\n",
      "911 6\n",
      "913 6\n",
      "915 6\n",
      "916 6\n",
      "918 6\n",
      "924 6\n",
      "925 6\n",
      "927 6\n",
      "928 6\n",
      "929 6\n",
      "946 6\n",
      "947 6\n",
      "950 6\n",
      "951 6\n",
      "952 6\n",
      "953 6\n",
      "954 6\n",
      "955 6\n",
      "960 6\n",
      "967 6\n",
      "973 6\n",
      "981 6\n",
      "982 6\n",
      "984 9\n",
      "985 6\n",
      "986 6\n",
      "987 6\n",
      "988 6\n",
      "989 6\n",
      "991 5\n",
      "994 6\n",
      "995 5\n",
      "996 6\n",
      "997 6\n",
      "999 6\n",
      "1000 9\n",
      "1003 5\n",
      "1007 6\n",
      "1009 6\n",
      "1012 5\n",
      "1014 5\n",
      "1018 6\n",
      "1021 6\n",
      "1023 6\n",
      "1025 6\n",
      "1026 5\n",
      "1031 6\n",
      "1032 6\n",
      "1034 6\n",
      "1035 6\n",
      "1037 6\n",
      "1038 6\n",
      "1040 6\n",
      "1043 6\n",
      "1045 6\n",
      "1046 6\n",
      "1047 6\n",
      "1049 6\n",
      "1050 6\n",
      "1051 6\n",
      "1052 6\n",
      "1053 6\n",
      "1060 6\n",
      "1061 5\n",
      "1063 6\n",
      "1064 6\n",
      "1065 6\n",
      "1075 6\n",
      "1077 6\n",
      "1078 6\n",
      "1080 6\n",
      "1081 6\n",
      "1082 6\n",
      "1083 6\n",
      "1084 6\n",
      "1085 6\n",
      "1087 6\n",
      "1088 6\n",
      "1089 6\n",
      "1090 6\n",
      "1091 6\n",
      "1092 6\n",
      "1093 6\n",
      "1094 6\n",
      "1095 6\n",
      "1096 6\n",
      "1097 6\n",
      "1098 6\n",
      "1099 6\n",
      "1100 6\n",
      "1103 6\n",
      "1104 5\n",
      "1105 6\n",
      "1106 6\n",
      "1107 6\n",
      "1108 6\n",
      "1110 6\n",
      "1111 6\n",
      "1112 6\n",
      "1113 6\n",
      "1115 6\n",
      "1116 6\n",
      "1117 6\n",
      "1118 6\n",
      "1119 6\n",
      "1120 6\n",
      "1122 6\n",
      "1123 6\n",
      "1124 5\n",
      "1125 6\n",
      "1126 6\n",
      "1127 6\n",
      "1128 6\n",
      "1129 6\n",
      "1130 6\n",
      "1131 6\n",
      "1132 6\n",
      "1133 6\n",
      "1134 6\n",
      "1135 6\n",
      "1138 6\n",
      "1140 6\n",
      "1141 6\n",
      "1142 6\n",
      "1143 6\n",
      "1148 6\n",
      "1149 6\n",
      "1153 6\n",
      "1165 6\n",
      "1174 5\n",
      "1177 6\n",
      "1178 6\n",
      "1180 6\n",
      "1184 6\n",
      "1196 6\n",
      "1200 6\n",
      "1201 6\n",
      "1202 6\n",
      "1203 5\n",
      "1207 5\n",
      "1208 6\n",
      "1211 6\n",
      "1213 6\n",
      "1214 6\n",
      "1218 6\n",
      "1219 6\n",
      "1222 6\n",
      "1223 6\n",
      "1224 6\n",
      "1225 6\n",
      "1226 6\n",
      "1233 6\n",
      "1234 6\n",
      "1239 6\n",
      "1247 6\n",
      "1249 6\n",
      "1253 6\n",
      "1254 6\n",
      "1258 6\n",
      "1260 6\n",
      "1261 6\n",
      "1262 5\n",
      "1263 6\n",
      "1264 6\n",
      "1267 6\n",
      "1271 6\n",
      "1272 6\n",
      "1273 6\n",
      "1276 6\n",
      "1277 6\n",
      "1281 6\n",
      "1282 6\n",
      "1283 6\n",
      "1285 6\n",
      "1286 6\n",
      "1287 6\n",
      "1288 6\n",
      "1289 6\n",
      "1290 6\n",
      "1292 6\n",
      "1293 6\n",
      "1294 5\n",
      "1295 6\n",
      "1296 6\n",
      "1298 6\n",
      "1299 6\n",
      "1300 6\n",
      "1302 6\n",
      "1304 6\n",
      "1305 6\n",
      "1306 6\n",
      "1307 6\n",
      "1311 9\n",
      "1312 6\n",
      "1314 6\n",
      "1315 6\n",
      "1316 6\n",
      "1317 6\n",
      "1319 6\n",
      "1320 6\n",
      "1321 6\n",
      "1322 6\n",
      "1324 6\n",
      "1326 5\n",
      "1331 6\n",
      "1332 6\n",
      "1334 6\n",
      "1337 6\n",
      "1339 6\n",
      "1340 6\n",
      "1344 6\n",
      "1349 6\n",
      "1353 9\n",
      "1357 6\n",
      "1360 6\n",
      "1364 6\n",
      "1365 6\n",
      "1380 6\n",
      "1381 6\n",
      "1382 6\n",
      "1383 6\n",
      "1384 6\n",
      "1385 6\n",
      "1388 6\n",
      "1391 6\n",
      "1392 5\n",
      "1394 6\n",
      "1397 6\n",
      "1398 6\n",
      "1399 5\n",
      "1400 6\n",
      "1407 6\n",
      "1412 6\n",
      "1413 6\n",
      "1414 6\n",
      "1418 6\n",
      "1420 6\n",
      "1423 6\n",
      "1426 6\n",
      "1427 6\n",
      "1429 6\n",
      "1430 6\n",
      "1432 6\n",
      "1433 6\n",
      "1435 6\n",
      "1436 6\n",
      "1439 6\n",
      "1441 6\n",
      "1442 6\n",
      "1443 6\n",
      "1445 6\n",
      "1446 6\n",
      "1448 9\n",
      "1449 6\n",
      "1452 6\n",
      "1454 6\n",
      "1455 6\n",
      "1456 6\n",
      "1457 6\n",
      "1458 6\n",
      "1459 6\n",
      "1461 6\n",
      "1462 6\n",
      "1464 6\n",
      "1465 5\n",
      "1466 6\n",
      "1468 6\n",
      "1469 6\n",
      "1470 6\n",
      "1472 6\n",
      "1473 6\n",
      "1475 5\n",
      "1476 6\n",
      "1477 6\n",
      "1478 6\n",
      "1479 6\n",
      "1480 9\n",
      "1482 6\n",
      "1483 6\n",
      "1485 6\n",
      "1486 5\n",
      "1487 6\n",
      "1488 5\n",
      "1490 6\n",
      "1491 6\n",
      "1492 6\n",
      "1493 6\n",
      "1496 6\n",
      "1497 6\n",
      "1498 6\n",
      "1499 6\n",
      "1500 9\n",
      "1501 6\n",
      "1506 6\n",
      "1507 6\n",
      "1508 6\n",
      "1509 6\n",
      "1510 6\n",
      "1511 6\n",
      "1513 6\n",
      "1514 6\n",
      "1515 6\n",
      "1516 6\n",
      "1519 6\n",
      "1521 5\n",
      "1522 6\n",
      "1526 6\n",
      "1529 6\n",
      "1530 5\n"
     ]
    }
   ],
   "source": [
    "list_col_8 = []\n",
    "for num,row in enumerate(township_data_df[8]):\n",
    "    for r,s in enumerate(str(row).splitlines()):\n",
    "        if re.search('Drop box locations', s):\n",
    "            print(num, r)\n",
    "            list_col_8.append(r)"
   ]
  },
  {
   "cell_type": "code",
   "execution_count": 102,
   "metadata": {
    "ExecuteTime": {
     "end_time": "2020-10-27T21:32:28.734383Z",
     "start_time": "2020-10-27T21:32:28.721220Z"
    }
   },
   "outputs": [
    {
     "data": {
      "text/plain": [
       "6    684\n",
       "5     57\n",
       "9     22\n",
       "dtype: int64"
      ]
     },
     "execution_count": 102,
     "metadata": {},
     "output_type": "execute_result"
    }
   ],
   "source": [
    "pd.Series(list_col_8).value_counts()"
   ]
  },
  {
   "cell_type": "code",
   "execution_count": null,
   "metadata": {},
   "outputs": [],
   "source": []
  },
  {
   "cell_type": "code",
   "execution_count": 103,
   "metadata": {
    "ExecuteTime": {
     "end_time": "2020-10-27T21:32:28.874746Z",
     "start_time": "2020-10-27T21:32:28.745860Z"
    }
   },
   "outputs": [
    {
     "name": "stdout",
     "output_type": "stream",
     "text": [
      "1 7\n",
      "2 8\n",
      "7 7\n",
      "9 7\n",
      "10 7\n",
      "11 8\n",
      "16 8\n",
      "21 10\n",
      "23 8\n",
      "24 8\n",
      "29 8\n",
      "32 8\n",
      "33 8\n",
      "48 7\n",
      "62 8\n",
      "66 8\n",
      "78 7\n",
      "82 7\n",
      "87 8\n",
      "93 8\n",
      "94 11\n",
      "98 8\n",
      "120 8\n",
      "123 7\n",
      "127 8\n",
      "129 8\n",
      "136 8\n",
      "140 8\n",
      "143 8\n",
      "187 8\n",
      "191 8\n",
      "204 8\n",
      "222 8\n",
      "233 8\n",
      "235 7\n",
      "238 8\n",
      "239 8\n",
      "242 8\n",
      "253 7\n",
      "264 11\n",
      "268 8\n",
      "270 11\n",
      "271 8\n",
      "275 8\n",
      "296 8\n",
      "298 8\n",
      "300 8\n",
      "302 8\n",
      "305 8\n",
      "310 8\n",
      "315 8\n",
      "317 8\n",
      "318 7\n",
      "323 7\n",
      "332 8\n",
      "342 8\n",
      "344 8\n",
      "359 7\n",
      "361 8\n",
      "364 8\n",
      "366 8\n",
      "373 8\n",
      "379 7\n",
      "380 8\n",
      "381 8\n",
      "384 8\n",
      "391 8\n",
      "392 8\n",
      "393 8\n",
      "396 8\n",
      "399 10\n",
      "400 8\n",
      "415 8\n",
      "418 8\n",
      "434 7\n",
      "436 8\n",
      "440 7\n",
      "441 7\n",
      "442 7\n",
      "443 7\n",
      "460 8\n",
      "463 8\n",
      "465 8\n",
      "467 8\n",
      "470 7\n",
      "471 7\n",
      "479 8\n",
      "483 8\n",
      "486 8\n",
      "501 8\n",
      "504 8\n",
      "505 8\n",
      "508 8\n",
      "517 7\n",
      "528 7\n",
      "539 7\n",
      "543 11\n",
      "549 7\n",
      "550 8\n",
      "555 7\n",
      "582 7\n",
      "585 10\n",
      "587 8\n",
      "594 7\n",
      "600 8\n",
      "610 7\n",
      "620 8\n",
      "625 8\n",
      "628 8\n",
      "634 8\n",
      "647 8\n",
      "652 8\n",
      "653 8\n",
      "656 8\n",
      "660 8\n",
      "679 8\n",
      "684 8\n",
      "692 8\n",
      "699 8\n",
      "702 8\n",
      "713 8\n",
      "727 8\n",
      "734 8\n",
      "736 8\n",
      "738 11\n",
      "748 8\n",
      "753 8\n",
      "763 8\n",
      "785 7\n",
      "787 8\n",
      "790 7\n",
      "792 8\n",
      "793 8\n",
      "812 8\n",
      "826 8\n",
      "859 8\n",
      "861 8\n",
      "869 8\n",
      "873 8\n",
      "900 11\n",
      "905 8\n",
      "907 8\n",
      "912 8\n",
      "921 8\n",
      "941 7\n",
      "958 8\n",
      "964 8\n",
      "970 8\n",
      "977 8\n",
      "979 8\n",
      "993 8\n",
      "998 8\n",
      "1004 8\n",
      "1005 8\n",
      "1008 7\n",
      "1011 8\n",
      "1016 8\n",
      "1020 7\n",
      "1024 8\n",
      "1055 8\n",
      "1062 8\n",
      "1073 8\n",
      "1076 8\n",
      "1102 8\n",
      "1147 8\n",
      "1151 8\n",
      "1158 8\n",
      "1169 8\n",
      "1175 8\n",
      "1179 8\n",
      "1186 8\n",
      "1187 7\n",
      "1190 7\n",
      "1192 8\n",
      "1194 11\n",
      "1199 8\n",
      "1209 11\n",
      "1221 8\n",
      "1228 8\n",
      "1238 8\n",
      "1240 8\n",
      "1241 8\n",
      "1243 8\n",
      "1250 8\n",
      "1252 8\n",
      "1256 8\n",
      "1274 8\n",
      "1278 8\n",
      "1279 8\n",
      "1284 7\n",
      "1336 7\n",
      "1347 8\n",
      "1348 8\n",
      "1351 8\n",
      "1358 8\n",
      "1362 8\n",
      "1366 8\n",
      "1367 8\n",
      "1373 7\n",
      "1378 8\n",
      "1390 8\n",
      "1396 8\n",
      "1401 8\n",
      "1404 8\n",
      "1405 8\n",
      "1408 8\n",
      "1419 8\n",
      "1424 8\n",
      "1434 8\n",
      "1440 8\n",
      "1447 8\n",
      "1451 8\n",
      "1453 8\n",
      "1467 8\n",
      "1471 8\n",
      "1531 10\n"
     ]
    }
   ],
   "source": [
    "list_col_7=[]\n",
    "for num,row in enumerate(township_data_df[7]):\n",
    "    for r,s in enumerate(str(row).splitlines()):\n",
    "        if re.search('Drop box locations', s):\n",
    "            print(num, r)\n",
    "            list_col_7.append(r)"
   ]
  },
  {
   "cell_type": "code",
   "execution_count": 104,
   "metadata": {
    "ExecuteTime": {
     "end_time": "2020-10-27T21:32:28.894595Z",
     "start_time": "2020-10-27T21:32:28.878407Z"
    }
   },
   "outputs": [
    {
     "data": {
      "text/plain": [
       "8     165\n",
       "7      39\n",
       "11      8\n",
       "10      4\n",
       "dtype: int64"
      ]
     },
     "execution_count": 104,
     "metadata": {},
     "output_type": "execute_result"
    }
   ],
   "source": [
    "pd.Series(list_col_7).value_counts()"
   ]
  },
  {
   "cell_type": "code",
   "execution_count": 105,
   "metadata": {
    "ExecuteTime": {
     "end_time": "2020-10-27T21:32:28.919682Z",
     "start_time": "2020-10-27T21:32:28.903171Z"
    },
    "scrolled": true
   },
   "outputs": [
    {
     "data": {
      "text/plain": [
       "['5576 Us 23Black River, Michigan\\xa048721',\n",
       " 'Available 24 Hours/7 Days a Week']"
      ]
     },
     "execution_count": 105,
     "metadata": {},
     "output_type": "execute_result"
    }
   ],
   "source": [
    "township_data_df.loc[0,8].splitlines()[7].split('Hours:')"
   ]
  },
  {
   "cell_type": "code",
   "execution_count": 106,
   "metadata": {
    "ExecuteTime": {
     "end_time": "2020-10-27T21:32:28.939890Z",
     "start_time": "2020-10-27T21:32:28.928143Z"
    }
   },
   "outputs": [
    {
     "data": {
      "text/plain": [
       "['Limestone Township HallN 3010 State Highway 67Limestone, Michigan\\xa049816',\n",
       " 'Available 24 Hours/7 Days a WeekLimestone Township HallN 3010 State Highway 67Limestone, Michigan\\xa049816',\n",
       " 'Available 24 Hours/7 Days a Week']"
      ]
     },
     "execution_count": 106,
     "metadata": {},
     "output_type": "execute_result"
    }
   ],
   "source": [
    "township_data_df.loc[15,8].splitlines()[8].split('Hours:')"
   ]
  },
  {
   "cell_type": "code",
   "execution_count": 107,
   "metadata": {
    "ExecuteTime": {
     "end_time": "2020-10-27T21:32:28.965672Z",
     "start_time": "2020-10-27T21:32:28.950432Z"
    }
   },
   "outputs": [
    {
     "data": {
      "text/plain": [
       "['\\t',\n",
       " 'Fax:\\xa0\\xa0',\n",
       " '',\n",
       " 'Email:\\xa0\\xa0',\n",
       " 'curtistownshipclerk@hotmail.com',\n",
       " '',\n",
       " 'Business hours:Mon. By AppointmentTue. By AppointmentWed. By AppointmentThu. By AppointmentFri. By Appointment',\n",
       " '11/3/2020 Pre-election weekend hours:Saturday, October 31, 2020 8am-4pm ',\n",
       " 'Drop box locations',\n",
       " '',\n",
       " '4875 F30Glennie, Michigan\\xa048737Hours:Available 24 Hours/7 Days a Week',\n",
       " 'County clerk information']"
      ]
     },
     "execution_count": 107,
     "metadata": {},
     "output_type": "execute_result"
    }
   ],
   "source": [
    "township_data_df.loc[2,7].splitlines()"
   ]
  },
  {
   "cell_type": "code",
   "execution_count": 108,
   "metadata": {
    "ExecuteTime": {
     "end_time": "2020-10-27T21:32:28.995886Z",
     "start_time": "2020-10-27T21:32:28.980453Z"
    }
   },
   "outputs": [
    {
     "data": {
      "text/plain": [
       "['4875 F30Glennie, Michigan\\xa048737', 'Available 24 Hours/7 Days a Week']"
      ]
     },
     "execution_count": 108,
     "metadata": {},
     "output_type": "execute_result"
    }
   ],
   "source": [
    "township_data_df.loc[2,7].splitlines()[10].split('Hours:')"
   ]
  },
  {
   "cell_type": "code",
   "execution_count": 109,
   "metadata": {
    "ExecuteTime": {
     "end_time": "2020-10-27T21:32:29.019025Z",
     "start_time": "2020-10-27T21:32:29.007124Z"
    }
   },
   "outputs": [
    {
     "data": {
      "text/plain": [
       "['1341 N Fawn StLincoln, Michigan\\xa048742',\n",
       " 'Mon. 10am-9pmTue. 10am-9pmWed. 10am-9pmThu. 10am-9pmFri. 10am-9pmSat. 10am-9pmSun. 12pm-9pm']"
      ]
     },
     "execution_count": 109,
     "metadata": {},
     "output_type": "execute_result"
    }
   ],
   "source": [
    "township_data_df.loc[7,7].splitlines()[9].split('Hours:')"
   ]
  },
  {
   "cell_type": "markdown",
   "metadata": {},
   "source": [
    "## Analyze first set"
   ]
  },
  {
   "cell_type": "code",
   "execution_count": 110,
   "metadata": {
    "ExecuteTime": {
     "end_time": "2020-10-27T21:32:29.033161Z",
     "start_time": "2020-10-27T21:32:29.024489Z"
    }
   },
   "outputs": [
    {
     "data": {
      "text/plain": [
       "'5576 Us 23Black River, Michigan\\xa048721Hours:Available 24 Hours/7 Days a Week'"
      ]
     },
     "execution_count": 110,
     "metadata": {},
     "output_type": "execute_result"
    }
   ],
   "source": [
    "township_data_df.loc[0,8].splitlines()[7]"
   ]
  },
  {
   "cell_type": "code",
   "execution_count": 111,
   "metadata": {
    "ExecuteTime": {
     "end_time": "2020-10-27T21:32:29.048290Z",
     "start_time": "2020-10-27T21:32:29.038643Z"
    }
   },
   "outputs": [
    {
     "data": {
      "text/plain": [
       "['5576 Us 23Black River', '48721']"
      ]
     },
     "execution_count": 111,
     "metadata": {},
     "output_type": "execute_result"
    }
   ],
   "source": [
    "township_data_df.loc[0,8].splitlines()[7].split('Hours:')[0].split(', Michigan\\xa0')"
   ]
  },
  {
   "cell_type": "code",
   "execution_count": 112,
   "metadata": {
    "ExecuteTime": {
     "end_time": "2020-10-27T21:32:29.064846Z",
     "start_time": "2020-10-27T21:32:29.053329Z"
    }
   },
   "outputs": [
    {
     "data": {
      "text/plain": [
       "'5576 Us 23Black River'"
      ]
     },
     "execution_count": 112,
     "metadata": {},
     "output_type": "execute_result"
    }
   ],
   "source": [
    "township_data_df.loc[0,8].splitlines()[7].split('Hours:')[0].split(', Michigan\\xa0')[0]"
   ]
  },
  {
   "cell_type": "code",
   "execution_count": 113,
   "metadata": {
    "ExecuteTime": {
     "end_time": "2020-10-27T21:32:29.079995Z",
     "start_time": "2020-10-27T21:32:29.070463Z"
    }
   },
   "outputs": [
    {
     "data": {
      "text/plain": [
       "'Limestone Township HallN 3010 State Highway 67Limestone'"
      ]
     },
     "execution_count": 113,
     "metadata": {},
     "output_type": "execute_result"
    }
   ],
   "source": [
    "township_data_df.loc[15,8].splitlines()[8].split('Hours:')[0].split(', Michigan\\xa0')[0]"
   ]
  },
  {
   "cell_type": "code",
   "execution_count": 114,
   "metadata": {
    "ExecuteTime": {
     "end_time": "2020-10-27T21:32:29.095373Z",
     "start_time": "2020-10-27T21:32:29.085138Z"
    }
   },
   "outputs": [
    {
     "data": {
      "text/plain": [
       "'48721'"
      ]
     },
     "execution_count": 114,
     "metadata": {},
     "output_type": "execute_result"
    }
   ],
   "source": [
    "township_data_df.loc[0,8].splitlines()[7].split('Hours:')[0].split(', Michigan\\xa0')[1]"
   ]
  },
  {
   "cell_type": "code",
   "execution_count": 115,
   "metadata": {
    "ExecuteTime": {
     "end_time": "2020-10-27T21:32:29.111630Z",
     "start_time": "2020-10-27T21:32:29.100367Z"
    }
   },
   "outputs": [
    {
     "data": {
      "text/plain": [
       "'49816'"
      ]
     },
     "execution_count": 115,
     "metadata": {},
     "output_type": "execute_result"
    }
   ],
   "source": [
    "township_data_df.loc[15,8].splitlines()[8].split('Hours:')[0].split(', Michigan\\xa0')[1]"
   ]
  },
  {
   "cell_type": "code",
   "execution_count": 116,
   "metadata": {
    "ExecuteTime": {
     "end_time": "2020-10-27T21:32:29.128149Z",
     "start_time": "2020-10-27T21:32:29.119513Z"
    }
   },
   "outputs": [
    {
     "data": {
      "text/plain": [
       "'Available 24 Hours/7 Days a Week'"
      ]
     },
     "execution_count": 116,
     "metadata": {},
     "output_type": "execute_result"
    }
   ],
   "source": [
    "township_data_df.loc[0,8].splitlines()[7].split('Hours:')[1]"
   ]
  },
  {
   "cell_type": "markdown",
   "metadata": {},
   "source": [
    "## Analyze second set"
   ]
  },
  {
   "cell_type": "code",
   "execution_count": 117,
   "metadata": {
    "ExecuteTime": {
     "end_time": "2020-10-27T21:32:29.153595Z",
     "start_time": "2020-10-27T21:32:29.131250Z"
    }
   },
   "outputs": [
    {
     "data": {
      "text/html": [
       "<div>\n",
       "<style scoped>\n",
       "    .dataframe tbody tr th:only-of-type {\n",
       "        vertical-align: middle;\n",
       "    }\n",
       "\n",
       "    .dataframe tbody tr th {\n",
       "        vertical-align: top;\n",
       "    }\n",
       "\n",
       "    .dataframe thead th {\n",
       "        text-align: right;\n",
       "    }\n",
       "</style>\n",
       "<table border=\"1\" class=\"dataframe\">\n",
       "  <thead>\n",
       "    <tr style=\"text-align: right;\">\n",
       "      <th></th>\n",
       "      <th>0</th>\n",
       "      <th>1</th>\n",
       "      <th>2</th>\n",
       "      <th>3</th>\n",
       "      <th>4</th>\n",
       "      <th>5</th>\n",
       "      <th>6</th>\n",
       "      <th>7</th>\n",
       "      <th>8</th>\n",
       "    </tr>\n",
       "  </thead>\n",
       "  <tbody>\n",
       "    <tr>\n",
       "      <th>0</th>\n",
       "      <td></td>\n",
       "      <td>\\tDawn Lalonde, Township Clerk</td>\n",
       "      <td>\\t\\n</td>\n",
       "      <td>\\t4892 Lavergne Rd</td>\n",
       "      <td>\\t</td>\n",
       "      <td>\\tBlack River, Michigan  48721\\r\\n</td>\n",
       "      <td>\\t\\n\\nPhone:  (989) 471-2948</td>\n",
       "      <td>\\t\\nFax:  (989) 471-2016</td>\n",
       "      <td>\\t\\nEmail:  \\nalconaclerk@yahoo.com\\n\\n11/3/20...</td>\n",
       "    </tr>\n",
       "    <tr>\n",
       "      <th>1</th>\n",
       "      <td></td>\n",
       "      <td>\\tKerry Scott, Township Clerk</td>\n",
       "      <td>\\t\\n</td>\n",
       "      <td>\\t6252 Hansen Road</td>\n",
       "      <td>\\t\\r\\nP.o. Box 7\\t\\t\\t\\t\\t\\t</td>\n",
       "      <td>\\tSpruce, Michigan  48762\\r\\n</td>\n",
       "      <td>\\t\\t\\n\\nMailing address:\\n\\n6461 Gillard Rd.\\n...</td>\n",
       "      <td>\\t\\nFax:  \\n\\nEmail:  \\nkerryscottclerk@gmail....</td>\n",
       "      <td>None</td>\n",
       "    </tr>\n",
       "    <tr>\n",
       "      <th>2</th>\n",
       "      <td></td>\n",
       "      <td>\\tTeresa Perkins, Township Clerk</td>\n",
       "      <td>\\t\\n</td>\n",
       "      <td>\\t4875 F-30</td>\n",
       "      <td>\\t\\r\\nPO Box 90\\t\\t\\t\\t\\t\\t</td>\n",
       "      <td>\\tGlennie, Michigan  48737\\r\\n</td>\n",
       "      <td>\\t\\t\\n\\nMailing address:\\n\\nPO Box 90\\n\\nGlenn...</td>\n",
       "      <td>\\t\\nFax:  \\n\\nEmail:  \\ncurtistownshipclerk@ho...</td>\n",
       "      <td>None</td>\n",
       "    </tr>\n",
       "    <tr>\n",
       "      <th>3</th>\n",
       "      <td></td>\n",
       "      <td>\\tShannon Story, Township Clerk</td>\n",
       "      <td>\\t\\n</td>\n",
       "      <td>\\t5070 Woodland Drive</td>\n",
       "      <td>\\t\\r\\nPO Box 9\\t\\t\\t\\t\\t\\t</td>\n",
       "      <td>\\tGreenbush, Michigan  48738\\r\\n</td>\n",
       "      <td>\\t\\t\\n\\nMailing address:\\n\\nP.o. Box 9\\n\\nGree...</td>\n",
       "      <td>\\t\\nFax:  \\n\\nEmail:  \\nshannonstory@charter.n...</td>\n",
       "      <td>None</td>\n",
       "    </tr>\n",
       "    <tr>\n",
       "      <th>4</th>\n",
       "      <td></td>\n",
       "      <td>\\tRenee Lavergne, Township Clerk</td>\n",
       "      <td>\\t\\n</td>\n",
       "      <td>\\t113 S. Second</td>\n",
       "      <td>\\t\\r\\nPO Box 25\\t\\t\\t\\t\\t\\t</td>\n",
       "      <td>\\tLincoln, Michigan  48742\\r\\n</td>\n",
       "      <td>\\t\\t\\n\\nMailing address:\\n\\n935 N. Somers Rd.\\...</td>\n",
       "      <td>\\t\\nFax:  \\n\\nEmail:  \\ngustintownshipclerk@gm...</td>\n",
       "      <td>None</td>\n",
       "    </tr>\n",
       "    <tr>\n",
       "      <th>...</th>\n",
       "      <td>...</td>\n",
       "      <td>...</td>\n",
       "      <td>...</td>\n",
       "      <td>...</td>\n",
       "      <td>...</td>\n",
       "      <td>...</td>\n",
       "      <td>...</td>\n",
       "      <td>...</td>\n",
       "      <td>...</td>\n",
       "    </tr>\n",
       "    <tr>\n",
       "      <th>1530</th>\n",
       "      <td></td>\n",
       "      <td>\\tCarol Perrin, Clerk</td>\n",
       "      <td>\\t\\n</td>\n",
       "      <td>\\t3577 S 31 Rd</td>\n",
       "      <td>\\t</td>\n",
       "      <td>\\tCadillac, Michigan  49601\\r\\n</td>\n",
       "      <td>\\t\\n\\nPhone:  (231) 920-8525</td>\n",
       "      <td>\\t\\nFax:  (231) 775-5071</td>\n",
       "      <td>\\t\\nEmail:  \\nyttpkh@yahoo.com\\n\\n\\nDrop box l...</td>\n",
       "    </tr>\n",
       "    <tr>\n",
       "      <th>1531</th>\n",
       "      <td></td>\n",
       "      <td>\\tTammy Porterfield, Clerk</td>\n",
       "      <td>\\t\\n</td>\n",
       "      <td>\\t4627 S 1 Rd</td>\n",
       "      <td>\\t</td>\n",
       "      <td>\\tHarrietta, Michigan  49638\\r\\n</td>\n",
       "      <td>\\t\\n\\nPhone:  (231) 389-0610</td>\n",
       "      <td>\\t\\nFax:  \\n\\nEmail:  \\nslagletwpclerk@gmail.c...</td>\n",
       "      <td>None</td>\n",
       "    </tr>\n",
       "    <tr>\n",
       "      <th>1532</th>\n",
       "      <td></td>\n",
       "      <td>\\tJulie Cieslak, Clerk</td>\n",
       "      <td>\\t\\n</td>\n",
       "      <td>\\t7257 W 48 Rd</td>\n",
       "      <td>\\t</td>\n",
       "      <td>\\tWellston, Michigan  49689\\r\\n</td>\n",
       "      <td>\\t\\n\\nPhone:  (231) 862-3671</td>\n",
       "      <td>\\t\\nFax:  \\n\\nEmail:  \\nthecieslaks@yahoo.com\\...</td>\n",
       "      <td>None</td>\n",
       "    </tr>\n",
       "    <tr>\n",
       "      <th>1533</th>\n",
       "      <td></td>\n",
       "      <td>\\tJessica Boonstra, Clerk</td>\n",
       "      <td>\\t\\n</td>\n",
       "      <td>\\t4785 N. M-37</td>\n",
       "      <td>\\t\\r\\nPO Box 323\\t\\t\\t\\t\\t\\t</td>\n",
       "      <td>\\tMesick, Michigan  49668\\r\\n</td>\n",
       "      <td>\\t\\n\\nPhone:  (231) 885-1392</td>\n",
       "      <td>\\t\\nFax:  (231) 885-1909</td>\n",
       "      <td>\\t\\nEmail:  \\nspringvilleclerk@goacentek.net\\n...</td>\n",
       "    </tr>\n",
       "    <tr>\n",
       "      <th>1534</th>\n",
       "      <td></td>\n",
       "      <td>\\tTeresa Hankins, Clerk</td>\n",
       "      <td>\\t\\n</td>\n",
       "      <td>\\t6941 W 6 Rd</td>\n",
       "      <td>\\t</td>\n",
       "      <td>\\tMesick, Michigan  49668-9103\\r\\n</td>\n",
       "      <td>\\t\\n\\nPhone:  (231) 269-3293</td>\n",
       "      <td>\\t\\nFax:  \\n\\nEmail:  \\nwexfordtwpclerk@acegro...</td>\n",
       "      <td>None</td>\n",
       "    </tr>\n",
       "  </tbody>\n",
       "</table>\n",
       "<p>1535 rows × 9 columns</p>\n",
       "</div>"
      ],
      "text/plain": [
       "     0                                  1     2                      3  \\\n",
       "0          \\tDawn Lalonde, Township Clerk  \\t\\n     \\t4892 Lavergne Rd   \n",
       "1           \\tKerry Scott, Township Clerk  \\t\\n     \\t6252 Hansen Road   \n",
       "2        \\tTeresa Perkins, Township Clerk  \\t\\n            \\t4875 F-30   \n",
       "3         \\tShannon Story, Township Clerk  \\t\\n  \\t5070 Woodland Drive   \n",
       "4        \\tRenee Lavergne, Township Clerk  \\t\\n        \\t113 S. Second   \n",
       "...  ..                               ...   ...                    ...   \n",
       "1530                \\tCarol Perrin, Clerk  \\t\\n         \\t3577 S 31 Rd   \n",
       "1531           \\tTammy Porterfield, Clerk  \\t\\n          \\t4627 S 1 Rd   \n",
       "1532               \\tJulie Cieslak, Clerk  \\t\\n         \\t7257 W 48 Rd   \n",
       "1533            \\tJessica Boonstra, Clerk  \\t\\n         \\t4785 N. M-37   \n",
       "1534              \\tTeresa Hankins, Clerk  \\t\\n          \\t6941 W 6 Rd   \n",
       "\n",
       "                                 4                                   5  \\\n",
       "0                               \\t  \\tBlack River, Michigan  48721\\r\\n   \n",
       "1     \\t\\r\\nP.o. Box 7\\t\\t\\t\\t\\t\\t       \\tSpruce, Michigan  48762\\r\\n   \n",
       "2      \\t\\r\\nPO Box 90\\t\\t\\t\\t\\t\\t      \\tGlennie, Michigan  48737\\r\\n   \n",
       "3       \\t\\r\\nPO Box 9\\t\\t\\t\\t\\t\\t    \\tGreenbush, Michigan  48738\\r\\n   \n",
       "4      \\t\\r\\nPO Box 25\\t\\t\\t\\t\\t\\t      \\tLincoln, Michigan  48742\\r\\n   \n",
       "...                            ...                                 ...   \n",
       "1530                            \\t     \\tCadillac, Michigan  49601\\r\\n   \n",
       "1531                            \\t    \\tHarrietta, Michigan  49638\\r\\n   \n",
       "1532                            \\t     \\tWellston, Michigan  49689\\r\\n   \n",
       "1533  \\t\\r\\nPO Box 323\\t\\t\\t\\t\\t\\t       \\tMesick, Michigan  49668\\r\\n   \n",
       "1534                            \\t  \\tMesick, Michigan  49668-9103\\r\\n   \n",
       "\n",
       "                                                      6  \\\n",
       "0                          \\t\\n\\nPhone:  (989) 471-2948   \n",
       "1     \\t\\t\\n\\nMailing address:\\n\\n6461 Gillard Rd.\\n...   \n",
       "2     \\t\\t\\n\\nMailing address:\\n\\nPO Box 90\\n\\nGlenn...   \n",
       "3     \\t\\t\\n\\nMailing address:\\n\\nP.o. Box 9\\n\\nGree...   \n",
       "4     \\t\\t\\n\\nMailing address:\\n\\n935 N. Somers Rd.\\...   \n",
       "...                                                 ...   \n",
       "1530                       \\t\\n\\nPhone:  (231) 920-8525   \n",
       "1531                       \\t\\n\\nPhone:  (231) 389-0610   \n",
       "1532                       \\t\\n\\nPhone:  (231) 862-3671   \n",
       "1533                       \\t\\n\\nPhone:  (231) 885-1392   \n",
       "1534                       \\t\\n\\nPhone:  (231) 269-3293   \n",
       "\n",
       "                                                      7  \\\n",
       "0                              \\t\\nFax:  (989) 471-2016   \n",
       "1     \\t\\nFax:  \\n\\nEmail:  \\nkerryscottclerk@gmail....   \n",
       "2     \\t\\nFax:  \\n\\nEmail:  \\ncurtistownshipclerk@ho...   \n",
       "3     \\t\\nFax:  \\n\\nEmail:  \\nshannonstory@charter.n...   \n",
       "4     \\t\\nFax:  \\n\\nEmail:  \\ngustintownshipclerk@gm...   \n",
       "...                                                 ...   \n",
       "1530                           \\t\\nFax:  (231) 775-5071   \n",
       "1531  \\t\\nFax:  \\n\\nEmail:  \\nslagletwpclerk@gmail.c...   \n",
       "1532  \\t\\nFax:  \\n\\nEmail:  \\nthecieslaks@yahoo.com\\...   \n",
       "1533                           \\t\\nFax:  (231) 885-1909   \n",
       "1534  \\t\\nFax:  \\n\\nEmail:  \\nwexfordtwpclerk@acegro...   \n",
       "\n",
       "                                                      8  \n",
       "0     \\t\\nEmail:  \\nalconaclerk@yahoo.com\\n\\n11/3/20...  \n",
       "1                                                  None  \n",
       "2                                                  None  \n",
       "3                                                  None  \n",
       "4                                                  None  \n",
       "...                                                 ...  \n",
       "1530  \\t\\nEmail:  \\nyttpkh@yahoo.com\\n\\n\\nDrop box l...  \n",
       "1531                                               None  \n",
       "1532                                               None  \n",
       "1533  \\t\\nEmail:  \\nspringvilleclerk@goacentek.net\\n...  \n",
       "1534                                               None  \n",
       "\n",
       "[1535 rows x 9 columns]"
      ]
     },
     "execution_count": 117,
     "metadata": {},
     "output_type": "execute_result"
    }
   ],
   "source": [
    "township_data_df"
   ]
  },
  {
   "cell_type": "code",
   "execution_count": 118,
   "metadata": {
    "ExecuteTime": {
     "end_time": "2020-10-27T21:32:29.168018Z",
     "start_time": "2020-10-27T21:32:29.158796Z"
    }
   },
   "outputs": [
    {
     "data": {
      "text/plain": [
       "['4875 F30Glennie', '48737']"
      ]
     },
     "execution_count": 118,
     "metadata": {},
     "output_type": "execute_result"
    }
   ],
   "source": [
    "township_data_df.loc[2,7].splitlines()[10].split('Hours:')[0].split(', Michigan\\xa0')"
   ]
  },
  {
   "cell_type": "code",
   "execution_count": 119,
   "metadata": {
    "ExecuteTime": {
     "end_time": "2020-10-27T21:32:29.184073Z",
     "start_time": "2020-10-27T21:32:29.173750Z"
    }
   },
   "outputs": [
    {
     "data": {
      "text/plain": [
       "'4875 F30Glennie'"
      ]
     },
     "execution_count": 119,
     "metadata": {},
     "output_type": "execute_result"
    }
   ],
   "source": [
    "township_data_df.loc[2,7].splitlines()[10].split('Hours:')[0].split(', Michigan\\xa0')[0]"
   ]
  },
  {
   "cell_type": "code",
   "execution_count": 120,
   "metadata": {
    "ExecuteTime": {
     "end_time": "2020-10-27T21:32:29.199460Z",
     "start_time": "2020-10-27T21:32:29.189315Z"
    }
   },
   "outputs": [
    {
     "data": {
      "text/plain": [
       "'48737'"
      ]
     },
     "execution_count": 120,
     "metadata": {},
     "output_type": "execute_result"
    }
   ],
   "source": [
    "township_data_df.loc[2,7].splitlines()[10].split('Hours:')[0].split(', Michigan\\xa0')[1]"
   ]
  },
  {
   "cell_type": "code",
   "execution_count": 121,
   "metadata": {
    "ExecuteTime": {
     "end_time": "2020-10-27T21:32:29.214718Z",
     "start_time": "2020-10-27T21:32:29.203877Z"
    }
   },
   "outputs": [
    {
     "data": {
      "text/plain": [
       "'Available 24 Hours/7 Days a Week'"
      ]
     },
     "execution_count": 121,
     "metadata": {},
     "output_type": "execute_result"
    }
   ],
   "source": [
    "township_data_df.loc[2,7].splitlines()[10].split('Hours:')[1]"
   ]
  },
  {
   "cell_type": "markdown",
   "metadata": {},
   "source": [
    "# Loop thru all cases to get dropbox data"
   ]
  },
  {
   "cell_type": "code",
   "execution_count": 122,
   "metadata": {
    "ExecuteTime": {
     "end_time": "2020-10-27T21:32:29.228667Z",
     "start_time": "2020-10-27T21:32:29.219019Z"
    }
   },
   "outputs": [
    {
     "data": {
      "text/plain": [
       "True"
      ]
     },
     "execution_count": 122,
     "metadata": {},
     "output_type": "execute_result"
    }
   ],
   "source": [
    "bool(re.search('Drop box locations', township_data_df[8][0]))"
   ]
  },
  {
   "cell_type": "code",
   "execution_count": 123,
   "metadata": {
    "ExecuteTime": {
     "end_time": "2020-10-27T21:32:29.245332Z",
     "start_time": "2020-10-27T21:32:29.233766Z"
    }
   },
   "outputs": [
    {
     "data": {
      "text/plain": [
       "False"
      ]
     },
     "execution_count": 123,
     "metadata": {},
     "output_type": "execute_result"
    }
   ],
   "source": [
    "bool(re.search('Drop box locations', township_data_df[7][0]))"
   ]
  },
  {
   "cell_type": "code",
   "execution_count": 124,
   "metadata": {
    "ExecuteTime": {
     "end_time": "2020-10-27T21:32:29.668979Z",
     "start_time": "2020-10-27T21:32:29.251811Z"
    }
   },
   "outputs": [],
   "source": [
    "dropBox = []\n",
    "for i in range(len(township_data_df)):\n",
    "    if bool(re.search('Drop box locations', str(township_data_df[7][i]))) or bool(re.search('Drop box locations', str(township_data_df[8][i]))):\n",
    "        has_dropBox = 'Yes'\n",
    "        \n",
    "        \n",
    "        if bool(re.search('Drop box locations', str(township_data_df[7][i]))):\n",
    "            if bool(re.search('Michigan', township_data_df[7][i].splitlines()[10])):\n",
    "                address_1 = township_data_df[7][i].splitlines()[10].split('Hours:')[0].split(', Michigan\\xa0')[0]\n",
    "                zip_code = township_data_df[7][i].splitlines()[10].split('Hours:')[0].split(', Michigan\\xa0')[1]\n",
    "                try:\n",
    "                    hours = township_data_df[7][i].splitlines()[10].split('Hours:')[1]\n",
    "                except IndexError:\n",
    "                    hours = np.nan\n",
    "            elif bool(re.search('Michigan', township_data_df[7][i].splitlines()[9])):\n",
    "                address_1 = township_data_df[7][i].splitlines()[9].split('Hours:')[0].split(', Michigan\\xa0')[0]\n",
    "                zip_code = township_data_df[7][i].splitlines()[9].split('Hours:')[0].split(', Michigan\\xa0')[1]\n",
    "                try:\n",
    "                    hours = township_data_df[7][i].splitlines()[9].split('Hours:')[1]\n",
    "                except IndexError:\n",
    "                    hours=np.nan\n",
    "        \n",
    "        \n",
    "        elif bool(re.search('Drop box locations', str(township_data_df[8][i]))):\n",
    "            if bool(re.search('Michigan', township_data_df[8][i].splitlines()[7])):\n",
    "                address_1 = township_data_df[8][i].splitlines()[7].split('Hours:')[0].split(', Michigan\\xa0')[0]\n",
    "                zip_code = township_data_df[8][i].splitlines()[7].split('Hours:')[0].split(', Michigan\\xa0')[1]\n",
    "                try:\n",
    "                    hours = township_data_df[8][i].splitlines()[7].split('Hours:')[1]\n",
    "                except IndexError:\n",
    "                    hours = np.nan\n",
    "            elif bool(re.search('Michigan', township_data_df[8][i].splitlines()[8])):\n",
    "                address_1 = township_data_df[8][i].splitlines()[8].split('Hours:')[0].split(', Michigan\\xa0')[0]\n",
    "                zip_code = township_data_df[8][i].splitlines()[8].split('Hours:')[0].split(', Michigan\\xa0')[1]\n",
    "                try:\n",
    "                    hours = township_data_df[8][i].splitlines()[8].split('Hours:')[1]\n",
    "                except IndexError:\n",
    "                    hours = np.nan\n",
    "            \n",
    "    else:\n",
    "        has_dropBox = 'No'\n",
    "        address_1 = np.nan\n",
    "        zip_code = np.nan\n",
    "        hours = np.nan\n",
    "    \n",
    "    data = {'has_dropBox': has_dropBox, 'address_1':address_1, 'zip': zip_code, 'hours': hours}\n",
    "    dropBox.append(data)"
   ]
  },
  {
   "cell_type": "code",
   "execution_count": 125,
   "metadata": {
    "ExecuteTime": {
     "end_time": "2020-10-27T21:32:29.683860Z",
     "start_time": "2020-10-27T21:32:29.675976Z"
    }
   },
   "outputs": [
    {
     "data": {
      "text/plain": [
       "1535"
      ]
     },
     "execution_count": 125,
     "metadata": {},
     "output_type": "execute_result"
    }
   ],
   "source": [
    "len(dropBox)"
   ]
  },
  {
   "cell_type": "code",
   "execution_count": 126,
   "metadata": {
    "ExecuteTime": {
     "end_time": "2020-10-27T21:32:29.703101Z",
     "start_time": "2020-10-27T21:32:29.692302Z"
    }
   },
   "outputs": [
    {
     "data": {
      "text/plain": [
       "[{'has_dropBox': 'Yes',\n",
       "  'address_1': '5576 Us 23Black River',\n",
       "  'zip': '48721',\n",
       "  'hours': 'Available 24 Hours/7 Days a Week'},\n",
       " {'has_dropBox': 'Yes',\n",
       "  'address_1': '6461 Gillard RdSpruce',\n",
       "  'zip': '48762',\n",
       "  'hours': '24/7'},\n",
       " {'has_dropBox': 'Yes',\n",
       "  'address_1': '4875 F30Glennie',\n",
       "  'zip': '48737',\n",
       "  'hours': 'Available 24 Hours/7 Days a Week'},\n",
       " {'has_dropBox': 'No', 'address_1': nan, 'zip': nan, 'hours': nan},\n",
       " {'has_dropBox': 'No', 'address_1': nan, 'zip': nan, 'hours': nan},\n",
       " {'has_dropBox': 'No', 'address_1': nan, 'zip': nan, 'hours': nan},\n",
       " {'has_dropBox': 'No', 'address_1': nan, 'zip': nan, 'hours': nan},\n",
       " {'has_dropBox': 'Yes',\n",
       "  'address_1': '1341 N Fawn StLincoln',\n",
       "  'zip': '48742',\n",
       "  'hours': 'Mon. 10am-9pmTue. 10am-9pmWed. 10am-9pmThu. 10am-9pmFri. 10am-9pmSat. 10am-9pmSun. 12pm-9pm'},\n",
       " {'has_dropBox': 'No', 'address_1': nan, 'zip': nan, 'hours': nan},\n",
       " {'has_dropBox': 'Yes',\n",
       "  'address_1': '2268 Hamilton RdBlack Box By Garage Door.Mikado',\n",
       "  'zip': '48745',\n",
       "  'hours': '24/7'}]"
      ]
     },
     "execution_count": 126,
     "metadata": {},
     "output_type": "execute_result"
    }
   ],
   "source": [
    "dropBox[:10]"
   ]
  },
  {
   "cell_type": "markdown",
   "metadata": {},
   "source": [
    "# Create DataFrame to hold drop box address data"
   ]
  },
  {
   "cell_type": "code",
   "execution_count": 127,
   "metadata": {
    "ExecuteTime": {
     "end_time": "2020-10-27T21:32:29.722918Z",
     "start_time": "2020-10-27T21:32:29.710432Z"
    }
   },
   "outputs": [],
   "source": [
    "dropBox_df = pd.DataFrame(dropBox)"
   ]
  },
  {
   "cell_type": "code",
   "execution_count": 128,
   "metadata": {
    "ExecuteTime": {
     "end_time": "2020-10-27T21:32:29.743498Z",
     "start_time": "2020-10-27T21:32:29.731471Z"
    }
   },
   "outputs": [],
   "source": [
    "dropBox_df['county_name']=all_data_df['county_name']\n",
    "dropBox_df['town_name']= all_data_df['town_name']"
   ]
  },
  {
   "cell_type": "code",
   "execution_count": 129,
   "metadata": {
    "ExecuteTime": {
     "end_time": "2020-10-27T21:32:29.770298Z",
     "start_time": "2020-10-27T21:32:29.750752Z"
    },
    "scrolled": true
   },
   "outputs": [
    {
     "name": "stdout",
     "output_type": "stream",
     "text": [
      "<class 'pandas.core.frame.DataFrame'>\n",
      "RangeIndex: 1535 entries, 0 to 1534\n",
      "Data columns (total 6 columns):\n",
      " #   Column       Non-Null Count  Dtype \n",
      "---  ------       --------------  ----- \n",
      " 0   has_dropBox  1535 non-null   object\n",
      " 1   address_1    979 non-null    object\n",
      " 2   zip          979 non-null    object\n",
      " 3   hours        929 non-null    object\n",
      " 4   county_name  1535 non-null   object\n",
      " 5   town_name    1535 non-null   object\n",
      "dtypes: object(6)\n",
      "memory usage: 72.1+ KB\n"
     ]
    }
   ],
   "source": [
    "dropBox_df.info()"
   ]
  },
  {
   "cell_type": "code",
   "execution_count": 130,
   "metadata": {
    "ExecuteTime": {
     "end_time": "2020-10-27T21:32:29.792651Z",
     "start_time": "2020-10-27T21:32:29.779442Z"
    }
   },
   "outputs": [],
   "source": [
    "# dropBox_df=pd.read_csv('Michigan_dropBox.csv')"
   ]
  },
  {
   "cell_type": "code",
   "execution_count": 131,
   "metadata": {
    "ExecuteTime": {
     "end_time": "2020-10-27T21:32:29.852138Z",
     "start_time": "2020-10-27T21:32:29.809165Z"
    }
   },
   "outputs": [
    {
     "data": {
      "text/html": [
       "<div>\n",
       "<style scoped>\n",
       "    .dataframe tbody tr th:only-of-type {\n",
       "        vertical-align: middle;\n",
       "    }\n",
       "\n",
       "    .dataframe tbody tr th {\n",
       "        vertical-align: top;\n",
       "    }\n",
       "\n",
       "    .dataframe thead th {\n",
       "        text-align: right;\n",
       "    }\n",
       "</style>\n",
       "<table border=\"1\" class=\"dataframe\">\n",
       "  <thead>\n",
       "    <tr style=\"text-align: right;\">\n",
       "      <th></th>\n",
       "      <th>has_dropBox</th>\n",
       "      <th>address_1</th>\n",
       "      <th>zip</th>\n",
       "      <th>hours</th>\n",
       "      <th>county_name</th>\n",
       "      <th>town_name</th>\n",
       "    </tr>\n",
       "  </thead>\n",
       "  <tbody>\n",
       "    <tr>\n",
       "      <th>0</th>\n",
       "      <td>Yes</td>\n",
       "      <td>5576 Us 23Black River</td>\n",
       "      <td>48721</td>\n",
       "      <td>Available 24 Hours/7 Days a Week</td>\n",
       "      <td>Alcona County</td>\n",
       "      <td>Alcona Township</td>\n",
       "    </tr>\n",
       "    <tr>\n",
       "      <th>1</th>\n",
       "      <td>Yes</td>\n",
       "      <td>6461 Gillard RdSpruce</td>\n",
       "      <td>48762</td>\n",
       "      <td>24/7</td>\n",
       "      <td>Alcona County</td>\n",
       "      <td>Caledonia Township</td>\n",
       "    </tr>\n",
       "    <tr>\n",
       "      <th>2</th>\n",
       "      <td>Yes</td>\n",
       "      <td>4875 F30Glennie</td>\n",
       "      <td>48737</td>\n",
       "      <td>Available 24 Hours/7 Days a Week</td>\n",
       "      <td>Alcona County</td>\n",
       "      <td>Curtis Township</td>\n",
       "    </tr>\n",
       "    <tr>\n",
       "      <th>3</th>\n",
       "      <td>No</td>\n",
       "      <td>NaN</td>\n",
       "      <td>NaN</td>\n",
       "      <td>NaN</td>\n",
       "      <td>Alcona County</td>\n",
       "      <td>Greenbush Township</td>\n",
       "    </tr>\n",
       "    <tr>\n",
       "      <th>4</th>\n",
       "      <td>No</td>\n",
       "      <td>NaN</td>\n",
       "      <td>NaN</td>\n",
       "      <td>NaN</td>\n",
       "      <td>Alcona County</td>\n",
       "      <td>Gustin Township</td>\n",
       "    </tr>\n",
       "    <tr>\n",
       "      <th>...</th>\n",
       "      <td>...</td>\n",
       "      <td>...</td>\n",
       "      <td>...</td>\n",
       "      <td>...</td>\n",
       "      <td>...</td>\n",
       "      <td>...</td>\n",
       "    </tr>\n",
       "    <tr>\n",
       "      <th>1530</th>\n",
       "      <td>Yes</td>\n",
       "      <td>4101 S 35 RdI Can Be Contacted At 231-920-8525...</td>\n",
       "      <td>49601</td>\n",
       "      <td>24/7</td>\n",
       "      <td>Wexford County</td>\n",
       "      <td>Selma Township</td>\n",
       "    </tr>\n",
       "    <tr>\n",
       "      <th>1531</th>\n",
       "      <td>Yes</td>\n",
       "      <td>Tammy Porterfield4627 S 1 RdHarrietta</td>\n",
       "      <td>49638Business hours:Mon. By AppointmentTue. By...</td>\n",
       "      <td>NaN</td>\n",
       "      <td>Wexford County</td>\n",
       "      <td>Slagle Township</td>\n",
       "    </tr>\n",
       "    <tr>\n",
       "      <th>1532</th>\n",
       "      <td>No</td>\n",
       "      <td>NaN</td>\n",
       "      <td>NaN</td>\n",
       "      <td>NaN</td>\n",
       "      <td>Wexford County</td>\n",
       "      <td>South Branch Township</td>\n",
       "    </tr>\n",
       "    <tr>\n",
       "      <th>1533</th>\n",
       "      <td>No</td>\n",
       "      <td>NaN</td>\n",
       "      <td>NaN</td>\n",
       "      <td>NaN</td>\n",
       "      <td>Wexford County</td>\n",
       "      <td>Springville Township</td>\n",
       "    </tr>\n",
       "    <tr>\n",
       "      <th>1534</th>\n",
       "      <td>No</td>\n",
       "      <td>NaN</td>\n",
       "      <td>NaN</td>\n",
       "      <td>NaN</td>\n",
       "      <td>Wexford County</td>\n",
       "      <td>Wexford Township</td>\n",
       "    </tr>\n",
       "  </tbody>\n",
       "</table>\n",
       "<p>1535 rows × 6 columns</p>\n",
       "</div>"
      ],
      "text/plain": [
       "     has_dropBox                                          address_1  \\\n",
       "0            Yes                              5576 Us 23Black River   \n",
       "1            Yes                              6461 Gillard RdSpruce   \n",
       "2            Yes                                    4875 F30Glennie   \n",
       "3             No                                                NaN   \n",
       "4             No                                                NaN   \n",
       "...          ...                                                ...   \n",
       "1530         Yes  4101 S 35 RdI Can Be Contacted At 231-920-8525...   \n",
       "1531         Yes              Tammy Porterfield4627 S 1 RdHarrietta   \n",
       "1532          No                                                NaN   \n",
       "1533          No                                                NaN   \n",
       "1534          No                                                NaN   \n",
       "\n",
       "                                                    zip  \\\n",
       "0                                                 48721   \n",
       "1                                                 48762   \n",
       "2                                                 48737   \n",
       "3                                                   NaN   \n",
       "4                                                   NaN   \n",
       "...                                                 ...   \n",
       "1530                                              49601   \n",
       "1531  49638Business hours:Mon. By AppointmentTue. By...   \n",
       "1532                                                NaN   \n",
       "1533                                                NaN   \n",
       "1534                                                NaN   \n",
       "\n",
       "                                 hours     county_name              town_name  \n",
       "0     Available 24 Hours/7 Days a Week   Alcona County        Alcona Township  \n",
       "1                                 24/7   Alcona County     Caledonia Township  \n",
       "2     Available 24 Hours/7 Days a Week   Alcona County        Curtis Township  \n",
       "3                                  NaN   Alcona County     Greenbush Township  \n",
       "4                                  NaN   Alcona County        Gustin Township  \n",
       "...                                ...             ...                    ...  \n",
       "1530                              24/7  Wexford County         Selma Township  \n",
       "1531                               NaN  Wexford County        Slagle Township  \n",
       "1532                               NaN  Wexford County  South Branch Township  \n",
       "1533                               NaN  Wexford County   Springville Township  \n",
       "1534                               NaN  Wexford County       Wexford Township  \n",
       "\n",
       "[1535 rows x 6 columns]"
      ]
     },
     "execution_count": 131,
     "metadata": {},
     "output_type": "execute_result"
    }
   ],
   "source": [
    "dropBox_df"
   ]
  },
  {
   "cell_type": "code",
   "execution_count": 132,
   "metadata": {
    "ExecuteTime": {
     "end_time": "2020-10-27T21:32:29.874108Z",
     "start_time": "2020-10-27T21:32:29.861874Z"
    }
   },
   "outputs": [],
   "source": [
    "dropBox_df=dropBox_df.rename(columns={'address_1':'address'})"
   ]
  },
  {
   "cell_type": "markdown",
   "metadata": {},
   "source": [
    "# Create dropbox Address and City "
   ]
  },
  {
   "cell_type": "code",
   "execution_count": 133,
   "metadata": {
    "ExecuteTime": {
     "end_time": "2020-10-27T21:32:29.891315Z",
     "start_time": "2020-10-27T21:32:29.880695Z"
    }
   },
   "outputs": [],
   "source": [
    "def fix_dropBox_street(address):\n",
    "    try:\n",
    "        if re.search(\"\\B[0-9][A-Z]{1}\", address):\n",
    "            x = re.findall(\"\\B[0-9][A-Z]{1}\", address)\n",
    "            y = re.split(\"\\B[0-9][A-Z]{1}\", address, 1)\n",
    "        elif re.search(\"\\B[a-z][A-Z]{1}\", address):\n",
    "            x = re.findall(\"\\B[a-z][A-Z]{1}\", address)\n",
    "            y = re.split(\"\\B[a-z][A-Z]{1}\", address, 1)\n",
    "            \n",
    "        street = y[0]+x[0][0]\n",
    "#         city = x[0][1]+y[1]\n",
    "        \n",
    "        return street\n",
    "    except:\n",
    "        pass"
   ]
  },
  {
   "cell_type": "code",
   "execution_count": 134,
   "metadata": {
    "ExecuteTime": {
     "end_time": "2020-10-27T21:32:29.910095Z",
     "start_time": "2020-10-27T21:32:29.898785Z"
    }
   },
   "outputs": [],
   "source": [
    "def fix_dropBox_city(address):\n",
    "    try:\n",
    "        if re.search(\"\\B[0-9][A-Z]{1}\", address):\n",
    "            x = re.findall(\"\\B[0-9][A-Z]{1}\", address)\n",
    "            y = re.split(\"\\B[0-9][A-Z]{1}\", address, 1)\n",
    "        elif re.search(\"\\B[a-z][A-Z]{1}\", address):\n",
    "            x = re.findall(\"\\B[a-z][A-Z]{1}\", address)\n",
    "            y = re.split(\"\\B[a-z][A-Z]{1}\", address, 1)\n",
    "            \n",
    "#         street = y[0]+x[0][0]\n",
    "        city = x[0][1]+y[1]\n",
    "        \n",
    "        return city\n",
    "    except:\n",
    "        pass"
   ]
  },
  {
   "cell_type": "code",
   "execution_count": 204,
   "metadata": {
    "ExecuteTime": {
     "end_time": "2020-10-27T22:19:31.387820Z",
     "start_time": "2020-10-27T22:19:31.351198Z"
    }
   },
   "outputs": [],
   "source": [
    "dropBox_df['address_1'] = dropBox_df['address'].apply(fix_dropBox_street)"
   ]
  },
  {
   "cell_type": "code",
   "execution_count": 136,
   "metadata": {
    "ExecuteTime": {
     "end_time": "2020-10-27T21:32:29.997926Z",
     "start_time": "2020-10-27T21:32:29.962461Z"
    }
   },
   "outputs": [],
   "source": [
    "dropBox_df['city'] = dropBox_df['address'].apply(fix_dropBox_city)"
   ]
  },
  {
   "cell_type": "markdown",
   "metadata": {},
   "source": [
    "# Create dropbox location_type"
   ]
  },
  {
   "cell_type": "code",
   "execution_count": 153,
   "metadata": {
    "ExecuteTime": {
     "end_time": "2020-10-27T21:43:17.883587Z",
     "start_time": "2020-10-27T21:43:17.875592Z"
    }
   },
   "outputs": [],
   "source": [
    "def loc_type(address):\n",
    "    try:\n",
    "        x = re.findall(\"\\B[a-z][0-9]{1}\", address)\n",
    "        y = re.split(\"\\B[a-z][0-9]{1}\", address, 1)\n",
    "        location_type = y[0]+x[0][0]\n",
    "#         notes = x[0][1]+y[1]\n",
    "        \n",
    "        return location_type\n",
    "    \n",
    "    except:\n",
    "        pass"
   ]
  },
  {
   "cell_type": "code",
   "execution_count": 205,
   "metadata": {
    "ExecuteTime": {
     "end_time": "2020-10-27T22:20:10.482961Z",
     "start_time": "2020-10-27T22:20:10.458451Z"
    }
   },
   "outputs": [
    {
     "data": {
      "text/plain": [
       "0                    None\n",
       "1                    None\n",
       "2                    None\n",
       "3                    None\n",
       "4                    None\n",
       "              ...        \n",
       "1530                 None\n",
       "1531    Tammy Porterfield\n",
       "1532                 None\n",
       "1533                 None\n",
       "1534                 None\n",
       "Name: address_1, Length: 1535, dtype: object"
      ]
     },
     "execution_count": 205,
     "metadata": {},
     "output_type": "execute_result"
    }
   ],
   "source": [
    "dropBox_df['address_1'].apply(loc_type)"
   ]
  },
  {
   "cell_type": "code",
   "execution_count": 206,
   "metadata": {
    "ExecuteTime": {
     "end_time": "2020-10-27T22:20:14.282772Z",
     "start_time": "2020-10-27T22:20:14.269592Z"
    }
   },
   "outputs": [],
   "source": [
    "dropBox_df['location_type']=dropBox_df['address_1'].apply(loc_type)"
   ]
  },
  {
   "cell_type": "code",
   "execution_count": 162,
   "metadata": {
    "ExecuteTime": {
     "end_time": "2020-10-27T21:45:16.046376Z",
     "start_time": "2020-10-27T21:45:16.036681Z"
    }
   },
   "outputs": [],
   "source": [
    "def add_1(address):\n",
    "    try:\n",
    "        x = re.findall(\"\\B[a-z][0-9]{1}\", address)\n",
    "        y = re.split(\"\\B[a-z][0-9]{1}\", address, 1)\n",
    "        address_1 = x[0][1]+y[1]\n",
    "        \n",
    "        return address_1\n",
    "        \n",
    "    except:\n",
    "        return address"
   ]
  },
  {
   "cell_type": "code",
   "execution_count": 207,
   "metadata": {
    "ExecuteTime": {
     "end_time": "2020-10-27T22:20:26.300498Z",
     "start_time": "2020-10-27T22:20:26.287103Z"
    }
   },
   "outputs": [],
   "source": [
    "dropBox_df['address_1']=dropBox_df['address_1'].apply(add_1)"
   ]
  },
  {
   "cell_type": "markdown",
   "metadata": {},
   "source": [
    "# Create dropbox notes"
   ]
  },
  {
   "cell_type": "code",
   "execution_count": 183,
   "metadata": {
    "ExecuteTime": {
     "end_time": "2020-10-27T21:59:48.286091Z",
     "start_time": "2020-10-27T21:59:48.279253Z"
    }
   },
   "outputs": [],
   "source": [
    "def notes(address):\n",
    "    try:\n",
    "        x = re.findall(\"\\.[A-Z]{1}\", address)\n",
    "        y = re.split(\"\\.[A-Z]{1}\", address, 1)\n",
    "#         location_type = y[0]+x[0][0]\n",
    "        notes = x[0][1]+y[1]\n",
    "        \n",
    "        return notes\n",
    "    \n",
    "    except:\n",
    "        pass"
   ]
  },
  {
   "cell_type": "code",
   "execution_count": 208,
   "metadata": {
    "ExecuteTime": {
     "end_time": "2020-10-27T22:20:36.201420Z",
     "start_time": "2020-10-27T22:20:36.191262Z"
    }
   },
   "outputs": [],
   "source": [
    "dropBox_df['notes']=dropBox_df['address_1'].apply(notes)"
   ]
  },
  {
   "cell_type": "code",
   "execution_count": 197,
   "metadata": {
    "ExecuteTime": {
     "end_time": "2020-10-27T22:07:03.991152Z",
     "start_time": "2020-10-27T22:07:03.984805Z"
    }
   },
   "outputs": [],
   "source": [
    "def add_2(address):\n",
    "    try:\n",
    "        x = re.findall(\"\\.[A-Z]{1}\", address)\n",
    "        y = re.split(\"\\.[A-Z]{1}\", address, 1)\n",
    "        add_2 = y[0]+x[0][0]\n",
    "        \n",
    "        return add_2\n",
    "    \n",
    "    except:\n",
    "        return address"
   ]
  },
  {
   "cell_type": "code",
   "execution_count": 209,
   "metadata": {
    "ExecuteTime": {
     "end_time": "2020-10-27T22:20:42.747857Z",
     "start_time": "2020-10-27T22:20:42.733593Z"
    }
   },
   "outputs": [],
   "source": [
    "dropBox_df['address_1']=dropBox_df['address_1'].apply(add_2)"
   ]
  },
  {
   "cell_type": "markdown",
   "metadata": {},
   "source": [
    "# Write dropbox file to csv file"
   ]
  },
  {
   "cell_type": "code",
   "execution_count": 210,
   "metadata": {
    "ExecuteTime": {
     "end_time": "2020-10-27T22:20:43.887177Z",
     "start_time": "2020-10-27T22:20:43.857917Z"
    }
   },
   "outputs": [],
   "source": [
    "dropBox_df.to_csv('Michigan_dropBox.csv', index=False)"
   ]
  },
  {
   "cell_type": "code",
   "execution_count": null,
   "metadata": {},
   "outputs": [],
   "source": []
  }
 ],
 "metadata": {
  "kernelspec": {
   "display_name": "Python 3",
   "language": "python",
   "name": "python3"
  },
  "language_info": {
   "codemirror_mode": {
    "name": "ipython",
    "version": 3
   },
   "file_extension": ".py",
   "mimetype": "text/x-python",
   "name": "python",
   "nbconvert_exporter": "python",
   "pygments_lexer": "ipython3",
   "version": "3.6.8"
  },
  "toc": {
   "base_numbering": 1,
   "nav_menu": {},
   "number_sections": true,
   "sideBar": true,
   "skip_h1_title": false,
   "title_cell": "Table of Contents",
   "title_sidebar": "Contents",
   "toc_cell": true,
   "toc_position": {
    "height": "calc(100% - 180px)",
    "left": "10px",
    "top": "150px",
    "width": "352.390625px"
   },
   "toc_section_display": true,
   "toc_window_display": true
  }
 },
 "nbformat": 4,
 "nbformat_minor": 4
}
