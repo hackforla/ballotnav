{
 "cells": [
  {
   "cell_type": "markdown",
   "metadata": {
    "toc": true
   },
   "source": [
    "<h1>Table of Contents<span class=\"tocSkip\"></span></h1>\n",
    "<div class=\"toc\"><ul class=\"toc-item\"><li><span><a href=\"#Scrape-Minnesota---County-Dropoff-Locations\" data-toc-modified-id=\"Scrape-Minnesota---County-Dropoff-Locations-1\"><span class=\"toc-item-num\">1&nbsp;&nbsp;</span>Scrape Minnesota - County Dropoff Locations</a></span></li><li><span><a href=\"#Analyze-the-format-of-the-text\" data-toc-modified-id=\"Analyze-the-format-of-the-text-2\"><span class=\"toc-item-num\">2&nbsp;&nbsp;</span>Analyze the format of the text</a></span></li><li><span><a href=\"#Create-a-DataFrame-to-hold-the-data\" data-toc-modified-id=\"Create-a-DataFrame-to-hold-the-data-3\"><span class=\"toc-item-num\">3&nbsp;&nbsp;</span>Create a DataFrame to hold the data</a></span></li><li><span><a href=\"#Scrape-county-names-from-class=&quot;contentpage-h2&quot;\" data-toc-modified-id=\"Scrape-county-names-from-class=&quot;contentpage-h2&quot;-4\"><span class=\"toc-item-num\">4&nbsp;&nbsp;</span>Scrape county names from <em>class=\"contentpage-h2\"</em></a></span></li><li><span><a href=\"#Scrape-address-info-from-class=&quot;collapse&quot;\" data-toc-modified-id=\"Scrape-address-info-from-class=&quot;collapse&quot;-5\"><span class=\"toc-item-num\">5&nbsp;&nbsp;</span>Scrape address info from <em>class=\"collapse\"</em></a></span><ul class=\"toc-item\"><li><span><a href=\"#Scrape-websites-via-&quot;a&quot;-tags\" data-toc-modified-id=\"Scrape-websites-via-&quot;a&quot;-tags-5.1\"><span class=\"toc-item-num\">5.1&nbsp;&nbsp;</span>Scrape websites via \"a\" tags</a></span></li></ul></li><li><span><a href=\"#Scrape-email,-phone,-city-from-'br'-tags\" data-toc-modified-id=\"Scrape-email,-phone,-city-from-'br'-tags-6\"><span class=\"toc-item-num\">6&nbsp;&nbsp;</span>Scrape email, phone, city from 'br' tags</a></span></li><li><span><a href=\"#Scrape-location_type\" data-toc-modified-id=\"Scrape-location_type-7\"><span class=\"toc-item-num\">7&nbsp;&nbsp;</span>Scrape location_type</a></span><ul class=\"toc-item\"><li><span><a href=\"#Examine-every-address-line-to-determine-consistency-of-formating\" data-toc-modified-id=\"Examine-every-address-line-to-determine-consistency-of-formating-7.1\"><span class=\"toc-item-num\">7.1&nbsp;&nbsp;</span>Examine every address line to determine consistency of formating</a></span></li><li><span><a href=\"#Parse-location_type-in-address-lines\" data-toc-modified-id=\"Parse-location_type-in-address-lines-7.2\"><span class=\"toc-item-num\">7.2&nbsp;&nbsp;</span>Parse location_type in address lines</a></span></li></ul></li><li><span><a href=\"#Correct-Winona--and-spot-check-a-few-counties\" data-toc-modified-id=\"Correct-Winona--and-spot-check-a-few-counties-8\"><span class=\"toc-item-num\">8&nbsp;&nbsp;</span>Correct Winona  and spot check a few counties</a></span></li><li><span><a href=\"#Write-DataFrame-to-csv\" data-toc-modified-id=\"Write-DataFrame-to-csv-9\"><span class=\"toc-item-num\">9&nbsp;&nbsp;</span>Write DataFrame to csv</a></span></li></ul></div>"
   ]
  },
  {
   "cell_type": "markdown",
   "metadata": {},
   "source": [
    "# Scrape Minnesota - County Dropoff Locations"
   ]
  },
  {
   "cell_type": "code",
   "execution_count": 1,
   "metadata": {
    "ExecuteTime": {
     "end_time": "2020-09-16T16:55:07.497682Z",
     "start_time": "2020-09-16T16:55:06.247218Z"
    }
   },
   "outputs": [],
   "source": [
    "import pandas as pd\n",
    "import numpy as np\n",
    "import requests\n",
    "from bs4 import BeautifulSoup\n",
    "import re"
   ]
  },
  {
   "cell_type": "code",
   "execution_count": 2,
   "metadata": {
    "ExecuteTime": {
     "end_time": "2020-09-16T16:55:07.506786Z",
     "start_time": "2020-09-16T16:55:07.500881Z"
    }
   },
   "outputs": [],
   "source": [
    "url = 'https://www.sos.state.mn.us/elections-voting/find-county-election-office/#'"
   ]
  },
  {
   "cell_type": "code",
   "execution_count": 3,
   "metadata": {
    "ExecuteTime": {
     "end_time": "2020-09-16T16:55:08.033605Z",
     "start_time": "2020-09-16T16:55:07.513343Z"
    }
   },
   "outputs": [],
   "source": [
    "res = requests.get(url)"
   ]
  },
  {
   "cell_type": "code",
   "execution_count": 4,
   "metadata": {
    "ExecuteTime": {
     "end_time": "2020-09-16T16:55:08.059335Z",
     "start_time": "2020-09-16T16:55:08.038969Z"
    }
   },
   "outputs": [
    {
     "data": {
      "text/plain": [
       "200"
      ]
     },
     "execution_count": 4,
     "metadata": {},
     "output_type": "execute_result"
    }
   ],
   "source": [
    "res.status_code"
   ]
  },
  {
   "cell_type": "code",
   "execution_count": 5,
   "metadata": {
    "ExecuteTime": {
     "end_time": "2020-09-16T16:55:08.179479Z",
     "start_time": "2020-09-16T16:55:08.064783Z"
    }
   },
   "outputs": [],
   "source": [
    "soup = BeautifulSoup(res.text) #can do just ...(re.text)"
   ]
  },
  {
   "cell_type": "markdown",
   "metadata": {},
   "source": [
    "# Analyze the format of the text"
   ]
  },
  {
   "cell_type": "code",
   "execution_count": 6,
   "metadata": {
    "ExecuteTime": {
     "end_time": "2020-09-16T16:55:08.190433Z",
     "start_time": "2020-09-16T16:55:08.182212Z"
    }
   },
   "outputs": [
    {
     "data": {
      "text/plain": [
       "3"
      ]
     },
     "execution_count": 6,
     "metadata": {},
     "output_type": "execute_result"
    }
   ],
   "source": [
    "len(soup)"
   ]
  },
  {
   "cell_type": "markdown",
   "metadata": {},
   "source": [
    "This page is divided into two columns of data. In each column there is a list of counties, and then the data in each list is collapsed.\n",
    "\n",
    "- The county names are h3 and tagged with a class=\"contentpage-h3\".\n",
    "- The URL's can be scraped via the \"a\", or anchor, tags.\n",
    "- The details of the addresses only have tags for the section titles, e.g. \"ADDRESS\" or \"Absentee voting contact\". Othewise the detailed information is only separated with \"br\" tags.\n"
   ]
  },
  {
   "cell_type": "markdown",
   "metadata": {},
   "source": [
    "# Create a DataFrame to hold the data"
   ]
  },
  {
   "cell_type": "code",
   "execution_count": 7,
   "metadata": {
    "ExecuteTime": {
     "end_time": "2020-09-16T16:55:08.202719Z",
     "start_time": "2020-09-16T16:55:08.195455Z"
    }
   },
   "outputs": [],
   "source": [
    "data_schema = ['county',\n",
    "        'location_type',\n",
    "        'address_1',\n",
    "        'address_2',\n",
    "        'city',\n",
    "        'state',\n",
    "        'zip',\n",
    "        'phone', \n",
    "        'latitude', \n",
    "        'longitude', \n",
    "        'has_droppff', \n",
    "        'has_phone', \n",
    "        'county_website_url', \n",
    "        'validate_url', \n",
    "        'email', \n",
    "        'fax', \n",
    "        'social', \n",
    "        'inactive', \n",
    "        'hours']"
   ]
  },
  {
   "cell_type": "code",
   "execution_count": 8,
   "metadata": {
    "ExecuteTime": {
     "end_time": "2020-09-16T16:55:08.222179Z",
     "start_time": "2020-09-16T16:55:08.213449Z"
    }
   },
   "outputs": [
    {
     "data": {
      "text/plain": [
       "['county',\n",
       " 'location_type',\n",
       " 'address_1',\n",
       " 'address_2',\n",
       " 'city',\n",
       " 'state',\n",
       " 'zip',\n",
       " 'phone',\n",
       " 'latitude',\n",
       " 'longitude',\n",
       " 'has_droppff',\n",
       " 'has_phone',\n",
       " 'county_website_url',\n",
       " 'validate_url',\n",
       " 'email',\n",
       " 'fax',\n",
       " 'social',\n",
       " 'inactive',\n",
       " 'hours']"
      ]
     },
     "execution_count": 8,
     "metadata": {},
     "output_type": "execute_result"
    }
   ],
   "source": [
    "data_schema"
   ]
  },
  {
   "cell_type": "code",
   "execution_count": 9,
   "metadata": {
    "ExecuteTime": {
     "end_time": "2020-09-16T16:55:08.250409Z",
     "start_time": "2020-09-16T16:55:08.231642Z"
    }
   },
   "outputs": [],
   "source": [
    "all_data_df = pd.DataFrame(columns=data_schema)"
   ]
  },
  {
   "cell_type": "code",
   "execution_count": 10,
   "metadata": {
    "ExecuteTime": {
     "end_time": "2020-09-16T16:55:08.277611Z",
     "start_time": "2020-09-16T16:55:08.255417Z"
    }
   },
   "outputs": [
    {
     "name": "stdout",
     "output_type": "stream",
     "text": [
      "<class 'pandas.core.frame.DataFrame'>\n",
      "Index: 0 entries\n",
      "Data columns (total 19 columns):\n",
      " #   Column              Non-Null Count  Dtype \n",
      "---  ------              --------------  ----- \n",
      " 0   county              0 non-null      object\n",
      " 1   location_type       0 non-null      object\n",
      " 2   address_1           0 non-null      object\n",
      " 3   address_2           0 non-null      object\n",
      " 4   city                0 non-null      object\n",
      " 5   state               0 non-null      object\n",
      " 6   zip                 0 non-null      object\n",
      " 7   phone               0 non-null      object\n",
      " 8   latitude            0 non-null      object\n",
      " 9   longitude           0 non-null      object\n",
      " 10  has_droppff         0 non-null      object\n",
      " 11  has_phone           0 non-null      object\n",
      " 12  county_website_url  0 non-null      object\n",
      " 13  validate_url        0 non-null      object\n",
      " 14  email               0 non-null      object\n",
      " 15  fax                 0 non-null      object\n",
      " 16  social              0 non-null      object\n",
      " 17  inactive            0 non-null      object\n",
      " 18  hours               0 non-null      object\n",
      "dtypes: object(19)\n",
      "memory usage: 0.0+ bytes\n"
     ]
    }
   ],
   "source": [
    "all_data_df.info()"
   ]
  },
  {
   "cell_type": "markdown",
   "metadata": {},
   "source": [
    "# Scrape county names from _class=\"contentpage-h2\"_"
   ]
  },
  {
   "cell_type": "code",
   "execution_count": 11,
   "metadata": {
    "ExecuteTime": {
     "end_time": "2020-09-16T16:55:08.342723Z",
     "start_time": "2020-09-16T16:55:08.284122Z"
    }
   },
   "outputs": [],
   "source": [
    "counties = soup.find_all(class_='contentpage-h2')"
   ]
  },
  {
   "cell_type": "code",
   "execution_count": 12,
   "metadata": {
    "ExecuteTime": {
     "end_time": "2020-09-16T16:55:08.372114Z",
     "start_time": "2020-09-16T16:55:08.351020Z"
    }
   },
   "outputs": [
    {
     "data": {
      "text/plain": [
       "88"
      ]
     },
     "execution_count": 12,
     "metadata": {},
     "output_type": "execute_result"
    }
   ],
   "source": [
    "len(counties)"
   ]
  },
  {
   "cell_type": "code",
   "execution_count": 13,
   "metadata": {
    "ExecuteTime": {
     "end_time": "2020-09-16T16:55:08.396586Z",
     "start_time": "2020-09-16T16:55:08.383498Z"
    }
   },
   "outputs": [
    {
     "data": {
      "text/plain": [
       "[<span class=\"contentpage-h2\"><span>Click on your county in the election official directory below to get elections contact information</span></span>,\n",
       " <h2 class=\"contentpage-h2\"><a aria-expanded=\"false\" data-target=\"#1\" data-toggle=\"collapse\" href=\"#\">Aitkin County</a></h2>,\n",
       " <h2 class=\"contentpage-h2\"><a aria-expanded=\"false\" data-target=\"#2\" data-toggle=\"collapse\" href=\"#\">Anoka County</a></h2>]"
      ]
     },
     "execution_count": 13,
     "metadata": {},
     "output_type": "execute_result"
    }
   ],
   "source": [
    "[county for county in counties[:3]]"
   ]
  },
  {
   "cell_type": "markdown",
   "metadata": {},
   "source": [
    "**Remove the first record from the scrape - it doesn't contain a county name - total number of counties is 87**"
   ]
  },
  {
   "cell_type": "code",
   "execution_count": 14,
   "metadata": {
    "ExecuteTime": {
     "end_time": "2020-09-16T16:55:08.413135Z",
     "start_time": "2020-09-16T16:55:08.402837Z"
    },
    "scrolled": true
   },
   "outputs": [
    {
     "data": {
      "text/plain": [
       "[<h2 class=\"contentpage-h2\"><a aria-expanded=\"false\" data-target=\"#85\" data-toggle=\"collapse\" href=\"#\">Winona County</a></h2>,\n",
       " <h2 class=\"contentpage-h2\"><a aria-expanded=\"false\" data-target=\"#86\" data-toggle=\"collapse\" href=\"#\">Wright County</a></h2>,\n",
       " <h2 class=\"contentpage-h2\"><a aria-expanded=\"false\" data-target=\"#87\" data-toggle=\"collapse\" href=\"#\">Yellow Medicine County</a></h2>]"
      ]
     },
     "execution_count": 14,
     "metadata": {},
     "output_type": "execute_result"
    }
   ],
   "source": [
    "[county for county in counties[85:]]"
   ]
  },
  {
   "cell_type": "code",
   "execution_count": 15,
   "metadata": {
    "ExecuteTime": {
     "end_time": "2020-09-16T16:55:08.426203Z",
     "start_time": "2020-09-16T16:55:08.417561Z"
    }
   },
   "outputs": [],
   "source": [
    "counties_list = [county.text for county in counties[1:]]"
   ]
  },
  {
   "cell_type": "code",
   "execution_count": 16,
   "metadata": {
    "ExecuteTime": {
     "end_time": "2020-09-16T16:55:08.441440Z",
     "start_time": "2020-09-16T16:55:08.430606Z"
    }
   },
   "outputs": [
    {
     "data": {
      "text/plain": [
       "87"
      ]
     },
     "execution_count": 16,
     "metadata": {},
     "output_type": "execute_result"
    }
   ],
   "source": [
    "len(counties_list)"
   ]
  },
  {
   "cell_type": "code",
   "execution_count": 17,
   "metadata": {
    "ExecuteTime": {
     "end_time": "2020-09-16T16:55:08.470098Z",
     "start_time": "2020-09-16T16:55:08.446986Z"
    },
    "scrolled": false
   },
   "outputs": [
    {
     "data": {
      "text/plain": [
       "[[0, 'Aitkin County'],\n",
       " [1, 'Anoka County'],\n",
       " [2, 'Becker County'],\n",
       " [3, 'Beltrami County'],\n",
       " [4, 'Benton County'],\n",
       " [5, 'Big Stone County'],\n",
       " [6, 'Blue Earth County'],\n",
       " [7, 'Brown County'],\n",
       " [8, 'Carlton County'],\n",
       " [9, 'Carver County'],\n",
       " [10, 'Cass County'],\n",
       " [11, 'Chippewa County'],\n",
       " [12, 'Chisago County'],\n",
       " [13, 'Clay County'],\n",
       " [14, 'Clearwater County'],\n",
       " [15, 'Cook County'],\n",
       " [16, 'Cottonwood County'],\n",
       " [17, 'Crow Wing County'],\n",
       " [18, 'Dakota County'],\n",
       " [19, 'Dodge County'],\n",
       " [20, 'Douglas County'],\n",
       " [21, 'Faribault County'],\n",
       " [22, 'Fillmore County'],\n",
       " [23, 'Freeborn County'],\n",
       " [24, 'Goodhue County'],\n",
       " [25, 'Grant County'],\n",
       " [26, 'Hennepin County'],\n",
       " [27, 'Houston County'],\n",
       " [28, 'Hubbard County'],\n",
       " [29, 'Isanti County'],\n",
       " [30, 'Itasca County'],\n",
       " [31, 'Jackson County'],\n",
       " [32, 'Kanabec County'],\n",
       " [33, 'Kandiyohi County'],\n",
       " [34, 'Kittson County'],\n",
       " [35, 'Koochiching County'],\n",
       " [36, 'Lac qui Parle County'],\n",
       " [37, 'Lake County'],\n",
       " [38, 'Lake of the Woods County'],\n",
       " [39, 'Le Sueur County'],\n",
       " [40, 'Lincoln County'],\n",
       " [41, 'Lyon County'],\n",
       " [42, 'Mahnomen County'],\n",
       " [43, 'Marshall County'],\n",
       " [44, 'Martin County'],\n",
       " [45, 'McLeod County'],\n",
       " [46, 'Meeker County'],\n",
       " [47, 'Mille Lacs County'],\n",
       " [48, 'Morrison County'],\n",
       " [49, 'Mower County'],\n",
       " [50, 'Murray County'],\n",
       " [51, 'Nicollet County'],\n",
       " [52, 'Nobles County'],\n",
       " [53, 'Norman County'],\n",
       " [54, 'Olmsted County'],\n",
       " [55, 'Otter Tail County'],\n",
       " [56, 'Pennington County'],\n",
       " [57, 'Pine County'],\n",
       " [58, 'Pipestone County'],\n",
       " [59, 'Polk County'],\n",
       " [60, 'Pope County'],\n",
       " [61, 'Ramsey County'],\n",
       " [62, 'Red Lake County'],\n",
       " [63, 'Redwood County'],\n",
       " [64, 'Renville County'],\n",
       " [65, 'Rice County'],\n",
       " [66, 'Rock County'],\n",
       " [67, 'Roseau County'],\n",
       " [68, 'Saint Louis County'],\n",
       " [69, 'Scott County'],\n",
       " [70, 'Sherburne County'],\n",
       " [71, 'Sibley County'],\n",
       " [72, 'Stearns County'],\n",
       " [73, 'Steele County'],\n",
       " [74, 'Stevens County'],\n",
       " [75, 'Swift County'],\n",
       " [76, 'Todd County'],\n",
       " [77, 'Traverse County'],\n",
       " [78, 'Wabasha County'],\n",
       " [79, 'Wadena County'],\n",
       " [80, 'Waseca County'],\n",
       " [81, 'Washington County'],\n",
       " [82, 'Watonwan County'],\n",
       " [83, 'Wilkin County'],\n",
       " [84, 'Winona County'],\n",
       " [85, 'Wright County'],\n",
       " [86, 'Yellow Medicine County']]"
      ]
     },
     "execution_count": 17,
     "metadata": {},
     "output_type": "execute_result"
    }
   ],
   "source": [
    "[[num, row] for num,row in enumerate(counties_list)]"
   ]
  },
  {
   "cell_type": "code",
   "execution_count": 18,
   "metadata": {
    "ExecuteTime": {
     "end_time": "2020-09-16T16:55:08.487529Z",
     "start_time": "2020-09-16T16:55:08.475417Z"
    }
   },
   "outputs": [],
   "source": [
    "all_data_df['county'] = counties_list"
   ]
  },
  {
   "cell_type": "code",
   "execution_count": 19,
   "metadata": {
    "ExecuteTime": {
     "end_time": "2020-09-16T16:55:08.559383Z",
     "start_time": "2020-09-16T16:55:08.492481Z"
    }
   },
   "outputs": [
    {
     "data": {
      "text/html": [
       "<div>\n",
       "<style scoped>\n",
       "    .dataframe tbody tr th:only-of-type {\n",
       "        vertical-align: middle;\n",
       "    }\n",
       "\n",
       "    .dataframe tbody tr th {\n",
       "        vertical-align: top;\n",
       "    }\n",
       "\n",
       "    .dataframe thead th {\n",
       "        text-align: right;\n",
       "    }\n",
       "</style>\n",
       "<table border=\"1\" class=\"dataframe\">\n",
       "  <thead>\n",
       "    <tr style=\"text-align: right;\">\n",
       "      <th></th>\n",
       "      <th>county</th>\n",
       "      <th>location_type</th>\n",
       "      <th>address_1</th>\n",
       "      <th>address_2</th>\n",
       "      <th>city</th>\n",
       "      <th>state</th>\n",
       "      <th>zip</th>\n",
       "      <th>phone</th>\n",
       "      <th>latitude</th>\n",
       "      <th>longitude</th>\n",
       "      <th>has_droppff</th>\n",
       "      <th>has_phone</th>\n",
       "      <th>county_website_url</th>\n",
       "      <th>validate_url</th>\n",
       "      <th>email</th>\n",
       "      <th>fax</th>\n",
       "      <th>social</th>\n",
       "      <th>inactive</th>\n",
       "      <th>hours</th>\n",
       "    </tr>\n",
       "  </thead>\n",
       "  <tbody>\n",
       "    <tr>\n",
       "      <th>0</th>\n",
       "      <td>Aitkin County</td>\n",
       "      <td>NaN</td>\n",
       "      <td>NaN</td>\n",
       "      <td>NaN</td>\n",
       "      <td>NaN</td>\n",
       "      <td>NaN</td>\n",
       "      <td>NaN</td>\n",
       "      <td>NaN</td>\n",
       "      <td>NaN</td>\n",
       "      <td>NaN</td>\n",
       "      <td>NaN</td>\n",
       "      <td>NaN</td>\n",
       "      <td>NaN</td>\n",
       "      <td>NaN</td>\n",
       "      <td>NaN</td>\n",
       "      <td>NaN</td>\n",
       "      <td>NaN</td>\n",
       "      <td>NaN</td>\n",
       "      <td>NaN</td>\n",
       "    </tr>\n",
       "    <tr>\n",
       "      <th>1</th>\n",
       "      <td>Anoka County</td>\n",
       "      <td>NaN</td>\n",
       "      <td>NaN</td>\n",
       "      <td>NaN</td>\n",
       "      <td>NaN</td>\n",
       "      <td>NaN</td>\n",
       "      <td>NaN</td>\n",
       "      <td>NaN</td>\n",
       "      <td>NaN</td>\n",
       "      <td>NaN</td>\n",
       "      <td>NaN</td>\n",
       "      <td>NaN</td>\n",
       "      <td>NaN</td>\n",
       "      <td>NaN</td>\n",
       "      <td>NaN</td>\n",
       "      <td>NaN</td>\n",
       "      <td>NaN</td>\n",
       "      <td>NaN</td>\n",
       "      <td>NaN</td>\n",
       "    </tr>\n",
       "    <tr>\n",
       "      <th>2</th>\n",
       "      <td>Becker County</td>\n",
       "      <td>NaN</td>\n",
       "      <td>NaN</td>\n",
       "      <td>NaN</td>\n",
       "      <td>NaN</td>\n",
       "      <td>NaN</td>\n",
       "      <td>NaN</td>\n",
       "      <td>NaN</td>\n",
       "      <td>NaN</td>\n",
       "      <td>NaN</td>\n",
       "      <td>NaN</td>\n",
       "      <td>NaN</td>\n",
       "      <td>NaN</td>\n",
       "      <td>NaN</td>\n",
       "      <td>NaN</td>\n",
       "      <td>NaN</td>\n",
       "      <td>NaN</td>\n",
       "      <td>NaN</td>\n",
       "      <td>NaN</td>\n",
       "    </tr>\n",
       "    <tr>\n",
       "      <th>3</th>\n",
       "      <td>Beltrami County</td>\n",
       "      <td>NaN</td>\n",
       "      <td>NaN</td>\n",
       "      <td>NaN</td>\n",
       "      <td>NaN</td>\n",
       "      <td>NaN</td>\n",
       "      <td>NaN</td>\n",
       "      <td>NaN</td>\n",
       "      <td>NaN</td>\n",
       "      <td>NaN</td>\n",
       "      <td>NaN</td>\n",
       "      <td>NaN</td>\n",
       "      <td>NaN</td>\n",
       "      <td>NaN</td>\n",
       "      <td>NaN</td>\n",
       "      <td>NaN</td>\n",
       "      <td>NaN</td>\n",
       "      <td>NaN</td>\n",
       "      <td>NaN</td>\n",
       "    </tr>\n",
       "    <tr>\n",
       "      <th>4</th>\n",
       "      <td>Benton County</td>\n",
       "      <td>NaN</td>\n",
       "      <td>NaN</td>\n",
       "      <td>NaN</td>\n",
       "      <td>NaN</td>\n",
       "      <td>NaN</td>\n",
       "      <td>NaN</td>\n",
       "      <td>NaN</td>\n",
       "      <td>NaN</td>\n",
       "      <td>NaN</td>\n",
       "      <td>NaN</td>\n",
       "      <td>NaN</td>\n",
       "      <td>NaN</td>\n",
       "      <td>NaN</td>\n",
       "      <td>NaN</td>\n",
       "      <td>NaN</td>\n",
       "      <td>NaN</td>\n",
       "      <td>NaN</td>\n",
       "      <td>NaN</td>\n",
       "    </tr>\n",
       "    <tr>\n",
       "      <th>...</th>\n",
       "      <td>...</td>\n",
       "      <td>...</td>\n",
       "      <td>...</td>\n",
       "      <td>...</td>\n",
       "      <td>...</td>\n",
       "      <td>...</td>\n",
       "      <td>...</td>\n",
       "      <td>...</td>\n",
       "      <td>...</td>\n",
       "      <td>...</td>\n",
       "      <td>...</td>\n",
       "      <td>...</td>\n",
       "      <td>...</td>\n",
       "      <td>...</td>\n",
       "      <td>...</td>\n",
       "      <td>...</td>\n",
       "      <td>...</td>\n",
       "      <td>...</td>\n",
       "      <td>...</td>\n",
       "    </tr>\n",
       "    <tr>\n",
       "      <th>82</th>\n",
       "      <td>Watonwan County</td>\n",
       "      <td>NaN</td>\n",
       "      <td>NaN</td>\n",
       "      <td>NaN</td>\n",
       "      <td>NaN</td>\n",
       "      <td>NaN</td>\n",
       "      <td>NaN</td>\n",
       "      <td>NaN</td>\n",
       "      <td>NaN</td>\n",
       "      <td>NaN</td>\n",
       "      <td>NaN</td>\n",
       "      <td>NaN</td>\n",
       "      <td>NaN</td>\n",
       "      <td>NaN</td>\n",
       "      <td>NaN</td>\n",
       "      <td>NaN</td>\n",
       "      <td>NaN</td>\n",
       "      <td>NaN</td>\n",
       "      <td>NaN</td>\n",
       "    </tr>\n",
       "    <tr>\n",
       "      <th>83</th>\n",
       "      <td>Wilkin County</td>\n",
       "      <td>NaN</td>\n",
       "      <td>NaN</td>\n",
       "      <td>NaN</td>\n",
       "      <td>NaN</td>\n",
       "      <td>NaN</td>\n",
       "      <td>NaN</td>\n",
       "      <td>NaN</td>\n",
       "      <td>NaN</td>\n",
       "      <td>NaN</td>\n",
       "      <td>NaN</td>\n",
       "      <td>NaN</td>\n",
       "      <td>NaN</td>\n",
       "      <td>NaN</td>\n",
       "      <td>NaN</td>\n",
       "      <td>NaN</td>\n",
       "      <td>NaN</td>\n",
       "      <td>NaN</td>\n",
       "      <td>NaN</td>\n",
       "    </tr>\n",
       "    <tr>\n",
       "      <th>84</th>\n",
       "      <td>Winona County</td>\n",
       "      <td>NaN</td>\n",
       "      <td>NaN</td>\n",
       "      <td>NaN</td>\n",
       "      <td>NaN</td>\n",
       "      <td>NaN</td>\n",
       "      <td>NaN</td>\n",
       "      <td>NaN</td>\n",
       "      <td>NaN</td>\n",
       "      <td>NaN</td>\n",
       "      <td>NaN</td>\n",
       "      <td>NaN</td>\n",
       "      <td>NaN</td>\n",
       "      <td>NaN</td>\n",
       "      <td>NaN</td>\n",
       "      <td>NaN</td>\n",
       "      <td>NaN</td>\n",
       "      <td>NaN</td>\n",
       "      <td>NaN</td>\n",
       "    </tr>\n",
       "    <tr>\n",
       "      <th>85</th>\n",
       "      <td>Wright County</td>\n",
       "      <td>NaN</td>\n",
       "      <td>NaN</td>\n",
       "      <td>NaN</td>\n",
       "      <td>NaN</td>\n",
       "      <td>NaN</td>\n",
       "      <td>NaN</td>\n",
       "      <td>NaN</td>\n",
       "      <td>NaN</td>\n",
       "      <td>NaN</td>\n",
       "      <td>NaN</td>\n",
       "      <td>NaN</td>\n",
       "      <td>NaN</td>\n",
       "      <td>NaN</td>\n",
       "      <td>NaN</td>\n",
       "      <td>NaN</td>\n",
       "      <td>NaN</td>\n",
       "      <td>NaN</td>\n",
       "      <td>NaN</td>\n",
       "    </tr>\n",
       "    <tr>\n",
       "      <th>86</th>\n",
       "      <td>Yellow Medicine County</td>\n",
       "      <td>NaN</td>\n",
       "      <td>NaN</td>\n",
       "      <td>NaN</td>\n",
       "      <td>NaN</td>\n",
       "      <td>NaN</td>\n",
       "      <td>NaN</td>\n",
       "      <td>NaN</td>\n",
       "      <td>NaN</td>\n",
       "      <td>NaN</td>\n",
       "      <td>NaN</td>\n",
       "      <td>NaN</td>\n",
       "      <td>NaN</td>\n",
       "      <td>NaN</td>\n",
       "      <td>NaN</td>\n",
       "      <td>NaN</td>\n",
       "      <td>NaN</td>\n",
       "      <td>NaN</td>\n",
       "      <td>NaN</td>\n",
       "    </tr>\n",
       "  </tbody>\n",
       "</table>\n",
       "<p>87 rows × 19 columns</p>\n",
       "</div>"
      ],
      "text/plain": [
       "                    county location_type address_1 address_2 city state  zip  \\\n",
       "0            Aitkin County           NaN       NaN       NaN  NaN   NaN  NaN   \n",
       "1             Anoka County           NaN       NaN       NaN  NaN   NaN  NaN   \n",
       "2            Becker County           NaN       NaN       NaN  NaN   NaN  NaN   \n",
       "3          Beltrami County           NaN       NaN       NaN  NaN   NaN  NaN   \n",
       "4            Benton County           NaN       NaN       NaN  NaN   NaN  NaN   \n",
       "..                     ...           ...       ...       ...  ...   ...  ...   \n",
       "82         Watonwan County           NaN       NaN       NaN  NaN   NaN  NaN   \n",
       "83           Wilkin County           NaN       NaN       NaN  NaN   NaN  NaN   \n",
       "84           Winona County           NaN       NaN       NaN  NaN   NaN  NaN   \n",
       "85           Wright County           NaN       NaN       NaN  NaN   NaN  NaN   \n",
       "86  Yellow Medicine County           NaN       NaN       NaN  NaN   NaN  NaN   \n",
       "\n",
       "   phone latitude longitude has_droppff has_phone county_website_url  \\\n",
       "0    NaN      NaN       NaN         NaN       NaN                NaN   \n",
       "1    NaN      NaN       NaN         NaN       NaN                NaN   \n",
       "2    NaN      NaN       NaN         NaN       NaN                NaN   \n",
       "3    NaN      NaN       NaN         NaN       NaN                NaN   \n",
       "4    NaN      NaN       NaN         NaN       NaN                NaN   \n",
       "..   ...      ...       ...         ...       ...                ...   \n",
       "82   NaN      NaN       NaN         NaN       NaN                NaN   \n",
       "83   NaN      NaN       NaN         NaN       NaN                NaN   \n",
       "84   NaN      NaN       NaN         NaN       NaN                NaN   \n",
       "85   NaN      NaN       NaN         NaN       NaN                NaN   \n",
       "86   NaN      NaN       NaN         NaN       NaN                NaN   \n",
       "\n",
       "   validate_url email  fax social inactive hours  \n",
       "0           NaN   NaN  NaN    NaN      NaN   NaN  \n",
       "1           NaN   NaN  NaN    NaN      NaN   NaN  \n",
       "2           NaN   NaN  NaN    NaN      NaN   NaN  \n",
       "3           NaN   NaN  NaN    NaN      NaN   NaN  \n",
       "4           NaN   NaN  NaN    NaN      NaN   NaN  \n",
       "..          ...   ...  ...    ...      ...   ...  \n",
       "82          NaN   NaN  NaN    NaN      NaN   NaN  \n",
       "83          NaN   NaN  NaN    NaN      NaN   NaN  \n",
       "84          NaN   NaN  NaN    NaN      NaN   NaN  \n",
       "85          NaN   NaN  NaN    NaN      NaN   NaN  \n",
       "86          NaN   NaN  NaN    NaN      NaN   NaN  \n",
       "\n",
       "[87 rows x 19 columns]"
      ]
     },
     "execution_count": 19,
     "metadata": {},
     "output_type": "execute_result"
    }
   ],
   "source": [
    "all_data_df"
   ]
  },
  {
   "cell_type": "markdown",
   "metadata": {},
   "source": [
    "# Scrape address info from _class=\"collapse\"_"
   ]
  },
  {
   "cell_type": "code",
   "execution_count": 20,
   "metadata": {
    "ExecuteTime": {
     "end_time": "2020-09-16T16:55:08.609434Z",
     "start_time": "2020-09-16T16:55:08.566951Z"
    }
   },
   "outputs": [],
   "source": [
    "divs = soup.find_all(class_='collapse')"
   ]
  },
  {
   "cell_type": "code",
   "execution_count": 21,
   "metadata": {
    "ExecuteTime": {
     "end_time": "2020-09-16T16:55:08.619263Z",
     "start_time": "2020-09-16T16:55:08.611923Z"
    }
   },
   "outputs": [
    {
     "data": {
      "text/plain": [
       "88"
      ]
     },
     "execution_count": 21,
     "metadata": {},
     "output_type": "execute_result"
    }
   ],
   "source": [
    "len(divs)"
   ]
  },
  {
   "cell_type": "code",
   "execution_count": 22,
   "metadata": {
    "ExecuteTime": {
     "end_time": "2020-09-16T16:55:08.634854Z",
     "start_time": "2020-09-16T16:55:08.622625Z"
    },
    "scrolled": true
   },
   "outputs": [
    {
     "data": {
      "text/plain": [
       "<div class=\"collapse\" id=\"38\">\n",
       "<div>Election official: Linda Libal <br/>General phone: 218-834-8316 <br/>Fax: 218-834-8358 <br/>Website: <a href=\"http://www.co.lake.mn.us/\">http://www.co.lake.mn.us/</a> <br/>Email: LakeCo.Elections@co.lake.mn.us\n",
       "<h3 class=\"contentpage-h3\">Address</h3>\n",
       "Lake County Courthouse <br/>601 3rd Ave <br/>Two Harbors, MN 55616\n",
       "<h3 class=\"contentpage-h3\">Absentee voting contact</h3>\n",
       "Lola Haus <br/>Phone: 218-834-8473 <br/>Fax: 218-834-8358 <br/>Email: LakeCo.Elections@co.lake.mn.us<br/>\n",
       "<h3 class=\"contentpage-h3\">Military and overseas absentee voting contact</h3>\n",
       "Lola Haus <br/>Phone: 218-834-8473 <br/>Fax: 218-834-8358 <br/>Email: LakeCo.Elections@co.lake.mn.us<br/><hr/></div>\n",
       "</div>"
      ]
     },
     "execution_count": 22,
     "metadata": {},
     "output_type": "execute_result"
    }
   ],
   "source": [
    "divs[38]"
   ]
  },
  {
   "cell_type": "markdown",
   "metadata": {
    "ExecuteTime": {
     "end_time": "2020-09-11T16:17:51.412140Z",
     "start_time": "2020-09-11T16:17:51.407806Z"
    }
   },
   "source": [
    "**Remove the first div in the scrape - it doesn't contain county info**"
   ]
  },
  {
   "cell_type": "markdown",
   "metadata": {},
   "source": [
    "## Scrape websites via \"a\" tags"
   ]
  },
  {
   "cell_type": "code",
   "execution_count": 23,
   "metadata": {
    "ExecuteTime": {
     "end_time": "2020-09-16T16:55:08.651293Z",
     "start_time": "2020-09-16T16:55:08.644514Z"
    }
   },
   "outputs": [],
   "source": [
    "websites = []\n",
    "for div in divs:\n",
    "    website = [x for x in div.find_all('a')]\n",
    "    websites.append(website)"
   ]
  },
  {
   "cell_type": "code",
   "execution_count": 24,
   "metadata": {
    "ExecuteTime": {
     "end_time": "2020-09-16T16:55:08.670426Z",
     "start_time": "2020-09-16T16:55:08.659165Z"
    }
   },
   "outputs": [
    {
     "data": {
      "text/plain": [
       "88"
      ]
     },
     "execution_count": 24,
     "metadata": {},
     "output_type": "execute_result"
    }
   ],
   "source": [
    "len(websites)"
   ]
  },
  {
   "cell_type": "code",
   "execution_count": 25,
   "metadata": {
    "ExecuteTime": {
     "end_time": "2020-09-16T16:55:08.685466Z",
     "start_time": "2020-09-16T16:55:08.674356Z"
    }
   },
   "outputs": [
    {
     "data": {
      "text/plain": [
       "[[<a href=\"http://www.co.le-sueur.mn.us/\">http://www.co.le-sueur.mn.us/</a>],\n",
       " [<a href=\"http://www.lincolncounty-mn.us/\">http://www.lincolncounty-mn.us/</a>],\n",
       " [<a href=\"http://www.lyonco.org/\">http://www.lyonco.org/</a>],\n",
       " [<a href=\"http://www.co.mahnomen.mn.us/\">http://www.co.mahnomen.mn.us/</a>],\n",
       " [<a href=\"http://www.co.marshall.mn.us/\">http://www.co.marshall.mn.us/</a>],\n",
       " [<a href=\"http://www.co.martin.mn.us/\">http://www.co.martin.mn.us/</a>],\n",
       " [<a href=\"http://www.co.mcleod.mn.us/\">http://www.co.mcleod.mn.us/</a>],\n",
       " [<a href=\"http://www.co.meeker.mn.us/\">http://www.co.meeker.mn.us/</a>],\n",
       " [<a href=\"http://www.millelacs.mn.gov/\">http://www.millelacs.mn.gov/</a>],\n",
       " [<a href=\"http://www.co.morrison.mn.us/\">http://www.co.morrison.mn.us/</a>]]"
      ]
     },
     "execution_count": 25,
     "metadata": {},
     "output_type": "execute_result"
    }
   ],
   "source": [
    "websites[40:50]"
   ]
  },
  {
   "cell_type": "code",
   "execution_count": 26,
   "metadata": {
    "ExecuteTime": {
     "end_time": "2020-09-16T16:55:08.699562Z",
     "start_time": "2020-09-16T16:55:08.690043Z"
    }
   },
   "outputs": [],
   "source": [
    "sites=[]\n",
    "for site in websites[1:]:\n",
    "    sites.append(site[0].text)"
   ]
  },
  {
   "cell_type": "code",
   "execution_count": 27,
   "metadata": {
    "ExecuteTime": {
     "end_time": "2020-09-16T16:55:08.728724Z",
     "start_time": "2020-09-16T16:55:08.706247Z"
    },
    "scrolled": false
   },
   "outputs": [
    {
     "data": {
      "text/plain": [
       "[[0, 'http://www.co.aitkin.mn.us/'],\n",
       " [1, 'http://www.anokacounty.us'],\n",
       " [2, 'http://www.co.becker.mn.us/'],\n",
       " [3, 'http://www.co.beltrami.mn.us/'],\n",
       " [4, 'http://www.co.benton.mn.us/'],\n",
       " [5, 'http://www.bigstonecounty.org/'],\n",
       " [6, 'http://www.blueearthcountymn.gov/index.aspx?nid=326'],\n",
       " [7, 'http://www.co.brown.mn.us'],\n",
       " [8, 'http://www.co.carlton.mn.us/'],\n",
       " [9, 'http://www.co.carver.mn.us/'],\n",
       " [10, 'http://www.co.cass.mn.us/'],\n",
       " [11, 'http://www.co.chippewa.mn.us'],\n",
       " [12, 'http://www.co.chisago.mn.us/'],\n",
       " [13, 'http://www.claycountymn.gov'],\n",
       " [14, 'http://www.co.clearwater.mn.us/'],\n",
       " [15, 'http://www.co.cook.mn.us/'],\n",
       " [16, 'http://www.co.cottonwood.mn.us/'],\n",
       " [17, 'http://crowwing.us/index.aspx?nid=110'],\n",
       " [18, 'http://www.dakotacounty.us'],\n",
       " [19, 'http://www.co.dodge.mn.us/'],\n",
       " [20, 'http://www.co.douglas.mn.us/'],\n",
       " [21, 'http://www.co.faribault.mn.us/'],\n",
       " [22, 'http://www.co.fillmore.mn.us'],\n",
       " [23, 'http://www.co.freeborn.mn.us/'],\n",
       " [24, 'http://www.co.goodhue.mn.us'],\n",
       " [25, 'http://www.co.grant.mn.us'],\n",
       " [26, 'http://www.hennepin.us'],\n",
       " [27, 'http://co.houston.mn.us'],\n",
       " [28, 'http://www.co.hubbard.mn.us'],\n",
       " [29, 'http://www.co.isanti.mn.us/'],\n",
       " [30, 'http://www.co.itasca.mn.us/'],\n",
       " [31, 'http://www.co.jackson.mn.us/'],\n",
       " [32, 'http://www.kanabeccounty.org/'],\n",
       " [33, 'http://www.co.kandiyohi.mn.us/'],\n",
       " [34, 'http://www.co.kittson.mn.us/'],\n",
       " [35, 'http://www.co.koochiching.mn.us/'],\n",
       " [36, 'http://www.lqpco.com'],\n",
       " [37, 'http://www.co.lake.mn.us/'],\n",
       " [38, 'http://www.co.lake-of-the-woods.mn.us/'],\n",
       " [39, 'http://www.co.le-sueur.mn.us/'],\n",
       " [40, 'http://www.lincolncounty-mn.us/'],\n",
       " [41, 'http://www.lyonco.org/'],\n",
       " [42, 'http://www.co.mahnomen.mn.us/'],\n",
       " [43, 'http://www.co.marshall.mn.us/'],\n",
       " [44, 'http://www.co.martin.mn.us/'],\n",
       " [45, 'http://www.co.mcleod.mn.us/'],\n",
       " [46, 'http://www.co.meeker.mn.us/'],\n",
       " [47, 'http://www.millelacs.mn.gov/'],\n",
       " [48, 'http://www.co.morrison.mn.us/'],\n",
       " [49, 'http://www.co.mower.mn.us/'],\n",
       " [50, 'http://www.murray-countymn.com/'],\n",
       " [51, 'http://www.co.nicollet.mn.us/'],\n",
       " [52, 'http://www.co.nobles.mn.us/'],\n",
       " [53, 'http://www.co.norman.mn.us/'],\n",
       " [54, 'http://www.co.olmsted.mn.us/'],\n",
       " [55, 'http://www.co.otter-tail.mn.us/'],\n",
       " [56, 'http://co.pennington.mn.us/'],\n",
       " [57, 'http://www.co.pine.mn.us'],\n",
       " [58, 'http://www.pipestone-county.com/'],\n",
       " [59, 'http://www.co.polk.mn.us/'],\n",
       " [60, 'http://www.co.pope.mn.us/'],\n",
       " [61, 'https://www.ramseycounty.us/residents/elections-voting'],\n",
       " [62, 'http://www.co.red-lake.mn.us/'],\n",
       " [63, 'http://www.co.redwood.mn.us/'],\n",
       " [64, 'http://www.renvillecountymn.com'],\n",
       " [65, 'http://www.co.rice.mn.us/'],\n",
       " [66, 'http://www.co.rock.mn.us/'],\n",
       " [67, 'http://www.co.roseau.mn.us'],\n",
       " [68, 'http://www.stlouiscountymn.gov/'],\n",
       " [69, 'http://www.co.scott.mn.us'],\n",
       " [70, 'http://www.co.sherburne.mn.us/'],\n",
       " [71, 'http://www.co.sibley.mn.us/'],\n",
       " [72, 'http://www.co.stearns.mn.us/'],\n",
       " [73, 'http://www.co.steele.mn.us'],\n",
       " [74, 'http://www.co.stevens.mn.us/'],\n",
       " [75, 'http://www.swiftcounty.com/'],\n",
       " [76, 'https://www.co.todd.mn.us/'],\n",
       " [77, 'http://www.co.traverse.mn.us/'],\n",
       " [78, 'http://www.co.wabasha.mn.us/'],\n",
       " [79, 'http://www.co.wadena.mn.us/'],\n",
       " [80, 'http://www.co.waseca.mn.us/'],\n",
       " [81, 'http://www.co.washington.mn.us/'],\n",
       " [82, 'http://www.co.watonwan.mn.us/'],\n",
       " [83, 'http://www.co.wilkin.mn.us/'],\n",
       " [84, 'http://www.co.winona.mn.us/'],\n",
       " [85, 'http://www.co.wright.mn.us/'],\n",
       " [86, 'http://www.co.ym.mn.gov']]"
      ]
     },
     "execution_count": 27,
     "metadata": {},
     "output_type": "execute_result"
    }
   ],
   "source": [
    "[[num,row] for num, row in enumerate(sites)]"
   ]
  },
  {
   "cell_type": "code",
   "execution_count": 28,
   "metadata": {
    "ExecuteTime": {
     "end_time": "2020-09-16T16:55:08.745400Z",
     "start_time": "2020-09-16T16:55:08.735317Z"
    }
   },
   "outputs": [
    {
     "data": {
      "text/plain": [
       "87"
      ]
     },
     "execution_count": 28,
     "metadata": {},
     "output_type": "execute_result"
    }
   ],
   "source": [
    "len(sites)"
   ]
  },
  {
   "cell_type": "code",
   "execution_count": 29,
   "metadata": {
    "ExecuteTime": {
     "end_time": "2020-09-16T16:55:08.760365Z",
     "start_time": "2020-09-16T16:55:08.753214Z"
    }
   },
   "outputs": [],
   "source": [
    "all_data_df['county_website_url'] = sites"
   ]
  },
  {
   "cell_type": "code",
   "execution_count": 30,
   "metadata": {
    "ExecuteTime": {
     "end_time": "2020-09-16T16:55:08.805775Z",
     "start_time": "2020-09-16T16:55:08.764935Z"
    }
   },
   "outputs": [
    {
     "data": {
      "text/html": [
       "<div>\n",
       "<style scoped>\n",
       "    .dataframe tbody tr th:only-of-type {\n",
       "        vertical-align: middle;\n",
       "    }\n",
       "\n",
       "    .dataframe tbody tr th {\n",
       "        vertical-align: top;\n",
       "    }\n",
       "\n",
       "    .dataframe thead th {\n",
       "        text-align: right;\n",
       "    }\n",
       "</style>\n",
       "<table border=\"1\" class=\"dataframe\">\n",
       "  <thead>\n",
       "    <tr style=\"text-align: right;\">\n",
       "      <th></th>\n",
       "      <th>county</th>\n",
       "      <th>location_type</th>\n",
       "      <th>address_1</th>\n",
       "      <th>address_2</th>\n",
       "      <th>city</th>\n",
       "      <th>state</th>\n",
       "      <th>zip</th>\n",
       "      <th>phone</th>\n",
       "      <th>latitude</th>\n",
       "      <th>longitude</th>\n",
       "      <th>has_droppff</th>\n",
       "      <th>has_phone</th>\n",
       "      <th>county_website_url</th>\n",
       "      <th>validate_url</th>\n",
       "      <th>email</th>\n",
       "      <th>fax</th>\n",
       "      <th>social</th>\n",
       "      <th>inactive</th>\n",
       "      <th>hours</th>\n",
       "    </tr>\n",
       "  </thead>\n",
       "  <tbody>\n",
       "    <tr>\n",
       "      <th>0</th>\n",
       "      <td>Aitkin County</td>\n",
       "      <td>NaN</td>\n",
       "      <td>NaN</td>\n",
       "      <td>NaN</td>\n",
       "      <td>NaN</td>\n",
       "      <td>NaN</td>\n",
       "      <td>NaN</td>\n",
       "      <td>NaN</td>\n",
       "      <td>NaN</td>\n",
       "      <td>NaN</td>\n",
       "      <td>NaN</td>\n",
       "      <td>NaN</td>\n",
       "      <td>http://www.co.aitkin.mn.us/</td>\n",
       "      <td>NaN</td>\n",
       "      <td>NaN</td>\n",
       "      <td>NaN</td>\n",
       "      <td>NaN</td>\n",
       "      <td>NaN</td>\n",
       "      <td>NaN</td>\n",
       "    </tr>\n",
       "    <tr>\n",
       "      <th>1</th>\n",
       "      <td>Anoka County</td>\n",
       "      <td>NaN</td>\n",
       "      <td>NaN</td>\n",
       "      <td>NaN</td>\n",
       "      <td>NaN</td>\n",
       "      <td>NaN</td>\n",
       "      <td>NaN</td>\n",
       "      <td>NaN</td>\n",
       "      <td>NaN</td>\n",
       "      <td>NaN</td>\n",
       "      <td>NaN</td>\n",
       "      <td>NaN</td>\n",
       "      <td>http://www.anokacounty.us</td>\n",
       "      <td>NaN</td>\n",
       "      <td>NaN</td>\n",
       "      <td>NaN</td>\n",
       "      <td>NaN</td>\n",
       "      <td>NaN</td>\n",
       "      <td>NaN</td>\n",
       "    </tr>\n",
       "    <tr>\n",
       "      <th>2</th>\n",
       "      <td>Becker County</td>\n",
       "      <td>NaN</td>\n",
       "      <td>NaN</td>\n",
       "      <td>NaN</td>\n",
       "      <td>NaN</td>\n",
       "      <td>NaN</td>\n",
       "      <td>NaN</td>\n",
       "      <td>NaN</td>\n",
       "      <td>NaN</td>\n",
       "      <td>NaN</td>\n",
       "      <td>NaN</td>\n",
       "      <td>NaN</td>\n",
       "      <td>http://www.co.becker.mn.us/</td>\n",
       "      <td>NaN</td>\n",
       "      <td>NaN</td>\n",
       "      <td>NaN</td>\n",
       "      <td>NaN</td>\n",
       "      <td>NaN</td>\n",
       "      <td>NaN</td>\n",
       "    </tr>\n",
       "    <tr>\n",
       "      <th>3</th>\n",
       "      <td>Beltrami County</td>\n",
       "      <td>NaN</td>\n",
       "      <td>NaN</td>\n",
       "      <td>NaN</td>\n",
       "      <td>NaN</td>\n",
       "      <td>NaN</td>\n",
       "      <td>NaN</td>\n",
       "      <td>NaN</td>\n",
       "      <td>NaN</td>\n",
       "      <td>NaN</td>\n",
       "      <td>NaN</td>\n",
       "      <td>NaN</td>\n",
       "      <td>http://www.co.beltrami.mn.us/</td>\n",
       "      <td>NaN</td>\n",
       "      <td>NaN</td>\n",
       "      <td>NaN</td>\n",
       "      <td>NaN</td>\n",
       "      <td>NaN</td>\n",
       "      <td>NaN</td>\n",
       "    </tr>\n",
       "    <tr>\n",
       "      <th>4</th>\n",
       "      <td>Benton County</td>\n",
       "      <td>NaN</td>\n",
       "      <td>NaN</td>\n",
       "      <td>NaN</td>\n",
       "      <td>NaN</td>\n",
       "      <td>NaN</td>\n",
       "      <td>NaN</td>\n",
       "      <td>NaN</td>\n",
       "      <td>NaN</td>\n",
       "      <td>NaN</td>\n",
       "      <td>NaN</td>\n",
       "      <td>NaN</td>\n",
       "      <td>http://www.co.benton.mn.us/</td>\n",
       "      <td>NaN</td>\n",
       "      <td>NaN</td>\n",
       "      <td>NaN</td>\n",
       "      <td>NaN</td>\n",
       "      <td>NaN</td>\n",
       "      <td>NaN</td>\n",
       "    </tr>\n",
       "    <tr>\n",
       "      <th>...</th>\n",
       "      <td>...</td>\n",
       "      <td>...</td>\n",
       "      <td>...</td>\n",
       "      <td>...</td>\n",
       "      <td>...</td>\n",
       "      <td>...</td>\n",
       "      <td>...</td>\n",
       "      <td>...</td>\n",
       "      <td>...</td>\n",
       "      <td>...</td>\n",
       "      <td>...</td>\n",
       "      <td>...</td>\n",
       "      <td>...</td>\n",
       "      <td>...</td>\n",
       "      <td>...</td>\n",
       "      <td>...</td>\n",
       "      <td>...</td>\n",
       "      <td>...</td>\n",
       "      <td>...</td>\n",
       "    </tr>\n",
       "    <tr>\n",
       "      <th>82</th>\n",
       "      <td>Watonwan County</td>\n",
       "      <td>NaN</td>\n",
       "      <td>NaN</td>\n",
       "      <td>NaN</td>\n",
       "      <td>NaN</td>\n",
       "      <td>NaN</td>\n",
       "      <td>NaN</td>\n",
       "      <td>NaN</td>\n",
       "      <td>NaN</td>\n",
       "      <td>NaN</td>\n",
       "      <td>NaN</td>\n",
       "      <td>NaN</td>\n",
       "      <td>http://www.co.watonwan.mn.us/</td>\n",
       "      <td>NaN</td>\n",
       "      <td>NaN</td>\n",
       "      <td>NaN</td>\n",
       "      <td>NaN</td>\n",
       "      <td>NaN</td>\n",
       "      <td>NaN</td>\n",
       "    </tr>\n",
       "    <tr>\n",
       "      <th>83</th>\n",
       "      <td>Wilkin County</td>\n",
       "      <td>NaN</td>\n",
       "      <td>NaN</td>\n",
       "      <td>NaN</td>\n",
       "      <td>NaN</td>\n",
       "      <td>NaN</td>\n",
       "      <td>NaN</td>\n",
       "      <td>NaN</td>\n",
       "      <td>NaN</td>\n",
       "      <td>NaN</td>\n",
       "      <td>NaN</td>\n",
       "      <td>NaN</td>\n",
       "      <td>http://www.co.wilkin.mn.us/</td>\n",
       "      <td>NaN</td>\n",
       "      <td>NaN</td>\n",
       "      <td>NaN</td>\n",
       "      <td>NaN</td>\n",
       "      <td>NaN</td>\n",
       "      <td>NaN</td>\n",
       "    </tr>\n",
       "    <tr>\n",
       "      <th>84</th>\n",
       "      <td>Winona County</td>\n",
       "      <td>NaN</td>\n",
       "      <td>NaN</td>\n",
       "      <td>NaN</td>\n",
       "      <td>NaN</td>\n",
       "      <td>NaN</td>\n",
       "      <td>NaN</td>\n",
       "      <td>NaN</td>\n",
       "      <td>NaN</td>\n",
       "      <td>NaN</td>\n",
       "      <td>NaN</td>\n",
       "      <td>NaN</td>\n",
       "      <td>http://www.co.winona.mn.us/</td>\n",
       "      <td>NaN</td>\n",
       "      <td>NaN</td>\n",
       "      <td>NaN</td>\n",
       "      <td>NaN</td>\n",
       "      <td>NaN</td>\n",
       "      <td>NaN</td>\n",
       "    </tr>\n",
       "    <tr>\n",
       "      <th>85</th>\n",
       "      <td>Wright County</td>\n",
       "      <td>NaN</td>\n",
       "      <td>NaN</td>\n",
       "      <td>NaN</td>\n",
       "      <td>NaN</td>\n",
       "      <td>NaN</td>\n",
       "      <td>NaN</td>\n",
       "      <td>NaN</td>\n",
       "      <td>NaN</td>\n",
       "      <td>NaN</td>\n",
       "      <td>NaN</td>\n",
       "      <td>NaN</td>\n",
       "      <td>http://www.co.wright.mn.us/</td>\n",
       "      <td>NaN</td>\n",
       "      <td>NaN</td>\n",
       "      <td>NaN</td>\n",
       "      <td>NaN</td>\n",
       "      <td>NaN</td>\n",
       "      <td>NaN</td>\n",
       "    </tr>\n",
       "    <tr>\n",
       "      <th>86</th>\n",
       "      <td>Yellow Medicine County</td>\n",
       "      <td>NaN</td>\n",
       "      <td>NaN</td>\n",
       "      <td>NaN</td>\n",
       "      <td>NaN</td>\n",
       "      <td>NaN</td>\n",
       "      <td>NaN</td>\n",
       "      <td>NaN</td>\n",
       "      <td>NaN</td>\n",
       "      <td>NaN</td>\n",
       "      <td>NaN</td>\n",
       "      <td>NaN</td>\n",
       "      <td>http://www.co.ym.mn.gov</td>\n",
       "      <td>NaN</td>\n",
       "      <td>NaN</td>\n",
       "      <td>NaN</td>\n",
       "      <td>NaN</td>\n",
       "      <td>NaN</td>\n",
       "      <td>NaN</td>\n",
       "    </tr>\n",
       "  </tbody>\n",
       "</table>\n",
       "<p>87 rows × 19 columns</p>\n",
       "</div>"
      ],
      "text/plain": [
       "                    county location_type address_1 address_2 city state  zip  \\\n",
       "0            Aitkin County           NaN       NaN       NaN  NaN   NaN  NaN   \n",
       "1             Anoka County           NaN       NaN       NaN  NaN   NaN  NaN   \n",
       "2            Becker County           NaN       NaN       NaN  NaN   NaN  NaN   \n",
       "3          Beltrami County           NaN       NaN       NaN  NaN   NaN  NaN   \n",
       "4            Benton County           NaN       NaN       NaN  NaN   NaN  NaN   \n",
       "..                     ...           ...       ...       ...  ...   ...  ...   \n",
       "82         Watonwan County           NaN       NaN       NaN  NaN   NaN  NaN   \n",
       "83           Wilkin County           NaN       NaN       NaN  NaN   NaN  NaN   \n",
       "84           Winona County           NaN       NaN       NaN  NaN   NaN  NaN   \n",
       "85           Wright County           NaN       NaN       NaN  NaN   NaN  NaN   \n",
       "86  Yellow Medicine County           NaN       NaN       NaN  NaN   NaN  NaN   \n",
       "\n",
       "   phone latitude longitude has_droppff has_phone  \\\n",
       "0    NaN      NaN       NaN         NaN       NaN   \n",
       "1    NaN      NaN       NaN         NaN       NaN   \n",
       "2    NaN      NaN       NaN         NaN       NaN   \n",
       "3    NaN      NaN       NaN         NaN       NaN   \n",
       "4    NaN      NaN       NaN         NaN       NaN   \n",
       "..   ...      ...       ...         ...       ...   \n",
       "82   NaN      NaN       NaN         NaN       NaN   \n",
       "83   NaN      NaN       NaN         NaN       NaN   \n",
       "84   NaN      NaN       NaN         NaN       NaN   \n",
       "85   NaN      NaN       NaN         NaN       NaN   \n",
       "86   NaN      NaN       NaN         NaN       NaN   \n",
       "\n",
       "               county_website_url validate_url email  fax social inactive  \\\n",
       "0     http://www.co.aitkin.mn.us/          NaN   NaN  NaN    NaN      NaN   \n",
       "1       http://www.anokacounty.us          NaN   NaN  NaN    NaN      NaN   \n",
       "2     http://www.co.becker.mn.us/          NaN   NaN  NaN    NaN      NaN   \n",
       "3   http://www.co.beltrami.mn.us/          NaN   NaN  NaN    NaN      NaN   \n",
       "4     http://www.co.benton.mn.us/          NaN   NaN  NaN    NaN      NaN   \n",
       "..                            ...          ...   ...  ...    ...      ...   \n",
       "82  http://www.co.watonwan.mn.us/          NaN   NaN  NaN    NaN      NaN   \n",
       "83    http://www.co.wilkin.mn.us/          NaN   NaN  NaN    NaN      NaN   \n",
       "84    http://www.co.winona.mn.us/          NaN   NaN  NaN    NaN      NaN   \n",
       "85    http://www.co.wright.mn.us/          NaN   NaN  NaN    NaN      NaN   \n",
       "86        http://www.co.ym.mn.gov          NaN   NaN  NaN    NaN      NaN   \n",
       "\n",
       "   hours  \n",
       "0    NaN  \n",
       "1    NaN  \n",
       "2    NaN  \n",
       "3    NaN  \n",
       "4    NaN  \n",
       "..   ...  \n",
       "82   NaN  \n",
       "83   NaN  \n",
       "84   NaN  \n",
       "85   NaN  \n",
       "86   NaN  \n",
       "\n",
       "[87 rows x 19 columns]"
      ]
     },
     "execution_count": 30,
     "metadata": {},
     "output_type": "execute_result"
    }
   ],
   "source": [
    "all_data_df"
   ]
  },
  {
   "cell_type": "markdown",
   "metadata": {},
   "source": [
    "# Scrape email, phone, city from 'br' tags"
   ]
  },
  {
   "cell_type": "code",
   "execution_count": 31,
   "metadata": {
    "ExecuteTime": {
     "end_time": "2020-09-16T16:55:08.832399Z",
     "start_time": "2020-09-16T16:55:08.811446Z"
    }
   },
   "outputs": [
    {
     "data": {
      "text/plain": [
       "<div class=\"collapse\" id=\"1\">\n",
       "<div>Election official: Kirk Peysar <br/>General phone: 218-927-7354 <br/>Fax: 218-927-7324 <br/>Website: <a href=\"http://www.co.aitkin.mn.us/\">http://www.co.aitkin.mn.us/</a>\n",
       "<h3 class=\"contentpage-h3\">Address</h3>\n",
       "Aitkin County Auditor <br/>307 2nd St NW Rm 121 <br/>Aitkin, MN 56431\n",
       "<h3 class=\"contentpage-h3\">Absentee voting contact</h3>\n",
       "Sally Huhta <br/>Phone: 218-927-7354 <br/>Fax: 218-927-7324 <br/>Email: sally.huhta@co.aitkin.mn.us\n",
       "<h3 class=\"contentpage-h3\">Military and overseas absentee voting contact</h3>\n",
       "Sally Huhta <br/>Phone: 218-927-7354 <br/>Fax: 218-927-7324 <br/>Email: sally.huhta@co.aitkin.mn.us<hr/></div>\n",
       "</div>"
      ]
     },
     "execution_count": 31,
     "metadata": {},
     "output_type": "execute_result"
    }
   ],
   "source": [
    "divs[1]"
   ]
  },
  {
   "cell_type": "code",
   "execution_count": 32,
   "metadata": {
    "ExecuteTime": {
     "end_time": "2020-09-16T16:55:08.851282Z",
     "start_time": "2020-09-16T16:55:08.839605Z"
    }
   },
   "outputs": [
    {
     "name": "stdout",
     "output_type": "stream",
     "text": [
      "Address\n",
      "\n",
      "Aitkin County Auditor \n",
      "Absentee voting contact\n",
      "\n",
      "Sally Huhta \n",
      "Military and overseas absentee voting contact\n",
      "\n",
      "Sally Huhta \n"
     ]
    }
   ],
   "source": [
    "for row in divs[1].find_all(['h3']):\n",
    "    print(row.text)\n",
    "    print(row.nextSibling)"
   ]
  },
  {
   "cell_type": "code",
   "execution_count": 33,
   "metadata": {
    "ExecuteTime": {
     "end_time": "2020-09-16T16:55:08.867552Z",
     "start_time": "2020-09-16T16:55:08.856551Z"
    },
    "scrolled": false
   },
   "outputs": [
    {
     "name": "stdout",
     "output_type": "stream",
     "text": [
      "\n",
      "General phone: 218-927-7354 \n",
      "\n",
      "Fax: 218-927-7324 \n",
      "\n",
      "Website: \n",
      "Address\n",
      "\n",
      "Aitkin County Auditor \n",
      "\n",
      "307 2nd St NW Rm 121 \n",
      "\n",
      "Aitkin, MN 56431\n",
      "\n",
      "Absentee voting contact\n",
      "\n",
      "Sally Huhta \n",
      "\n",
      "Phone: 218-927-7354 \n",
      "\n",
      "Fax: 218-927-7324 \n",
      "\n",
      "Email: sally.huhta@co.aitkin.mn.us\n",
      "\n",
      "Military and overseas absentee voting contact\n",
      "\n",
      "Sally Huhta \n",
      "\n",
      "Phone: 218-927-7354 \n",
      "\n",
      "Fax: 218-927-7324 \n",
      "\n",
      "Email: sally.huhta@co.aitkin.mn.us\n"
     ]
    }
   ],
   "source": [
    "for row in divs[1].find_all(['h3','br']):\n",
    "    print(row.text)\n",
    "    print(row.nextSibling)"
   ]
  },
  {
   "cell_type": "code",
   "execution_count": 34,
   "metadata": {
    "ExecuteTime": {
     "end_time": "2020-09-16T16:55:08.882542Z",
     "start_time": "2020-09-16T16:55:08.872977Z"
    }
   },
   "outputs": [
    {
     "name": "stdout",
     "output_type": "stream",
     "text": [
      "\n",
      "General phone: 218-927-7354 \n",
      "\n",
      "Fax: 218-927-7324 \n",
      "\n",
      "Website: \n",
      "\n",
      "307 2nd St NW Rm 121 \n",
      "\n",
      "Aitkin, MN 56431\n",
      "\n",
      "\n",
      "Phone: 218-927-7354 \n",
      "\n",
      "Fax: 218-927-7324 \n",
      "\n",
      "Email: sally.huhta@co.aitkin.mn.us\n",
      "\n",
      "\n",
      "Phone: 218-927-7354 \n",
      "\n",
      "Fax: 218-927-7324 \n",
      "\n",
      "Email: sally.huhta@co.aitkin.mn.us\n"
     ]
    }
   ],
   "source": [
    "for row in divs[1].find_all(['br']):\n",
    "    print(row.text)\n",
    "    print(row.nextSibling)"
   ]
  },
  {
   "cell_type": "code",
   "execution_count": 35,
   "metadata": {
    "ExecuteTime": {
     "end_time": "2020-09-16T16:55:08.929364Z",
     "start_time": "2020-09-16T16:55:08.887441Z"
    },
    "scrolled": false
   },
   "outputs": [],
   "source": [
    "all_info = []\n",
    "for div in divs[1:]:\n",
    "    data = [x.text or x.nextSibling for x in div.find_all(['h3','br'])]    \n",
    "    all_info.append(data)"
   ]
  },
  {
   "cell_type": "code",
   "execution_count": 36,
   "metadata": {
    "ExecuteTime": {
     "end_time": "2020-09-16T16:55:08.941638Z",
     "start_time": "2020-09-16T16:55:08.932014Z"
    }
   },
   "outputs": [
    {
     "data": {
      "text/plain": [
       "[[0,\n",
       "  ['General phone: 763-324-1300 ',\n",
       "   'Fax: 763-324-1160 ',\n",
       "   'Website: ',\n",
       "   'Email: elections@co.anoka.mn.us\\n',\n",
       "   'Address',\n",
       "   '2100 3rd Ave, Suite W130 ',\n",
       "   'Anoka, MN 55303-5031\\n',\n",
       "   'Absentee voting contact',\n",
       "   'Phone: 763-324-1300',\n",
       "   'Fax: 763-324-1160',\n",
       "   'Email: elections@co.anoka.mn.us\\n',\n",
       "   'Military and overseas absentee voting contact',\n",
       "   'Phone: 763-324-1300',\n",
       "   'Fax: 763-324-1160',\n",
       "   'Email: elections@co.anoka.mn.us']],\n",
       " [1,\n",
       "  ['General phone: 218-846-7311 ',\n",
       "   'Fax: 218-846-7257 ',\n",
       "   'Website: ',\n",
       "   'Email: auditor@co.becker.mn.us\\n',\n",
       "   'Address',\n",
       "   '915 Lake Ave ',\n",
       "   'Detroit Lakes, MN 56501\\n',\n",
       "   'Absentee voting contact',\n",
       "   'Phone: 218-846-7311 ',\n",
       "   'Fax: 218-846-7257 ',\n",
       "   'Email: elections@co.becker.mn.us\\n',\n",
       "   'Military and overseas absentee voting contact',\n",
       "   'Phone: 218-846-7311 ',\n",
       "   'Fax: 218-846-7257 ',\n",
       "   'Email: elections@co.becker.mn.us']],\n",
       " [2,\n",
       "  ['General phone: 218-333-4175 ',\n",
       "   'Fax: 218-333-4246 ',\n",
       "   'Website: ',\n",
       "   'Address',\n",
       "   '701 Minnesota Ave NW Ste 220 ',\n",
       "   'Bemidji, MN 56601-3178\\n',\n",
       "   'Absentee voting contact',\n",
       "   'Phone: 218-333-8476 ',\n",
       "   'Fax: 218-333-4246 ',\n",
       "   'Email: danielle.m.johnson@co.beltrami.mn.us\\n',\n",
       "   'Military and overseas absentee voting contact',\n",
       "   'Phone: 218-333-8476 ',\n",
       "   'Fax: 218-333-4246 ',\n",
       "   'Email: danielle.m.johnson@co.beltrami.mn.us']]]"
      ]
     },
     "execution_count": 36,
     "metadata": {},
     "output_type": "execute_result"
    }
   ],
   "source": [
    "[[num,row] for num,row in enumerate(all_info[1:4])]"
   ]
  },
  {
   "cell_type": "code",
   "execution_count": 37,
   "metadata": {
    "ExecuteTime": {
     "end_time": "2020-09-16T16:55:08.954670Z",
     "start_time": "2020-09-16T16:55:08.944747Z"
    }
   },
   "outputs": [
    {
     "data": {
      "text/plain": [
       "87"
      ]
     },
     "execution_count": 37,
     "metadata": {},
     "output_type": "execute_result"
    }
   ],
   "source": [
    "len(all_info)"
   ]
  },
  {
   "cell_type": "markdown",
   "metadata": {},
   "source": [
    "**Need to code around these \"hr\" tags that randomly appear**"
   ]
  },
  {
   "cell_type": "code",
   "execution_count": 38,
   "metadata": {
    "ExecuteTime": {
     "end_time": "2020-09-16T16:55:08.967377Z",
     "start_time": "2020-09-16T16:55:08.960144Z"
    }
   },
   "outputs": [],
   "source": [
    "hr_tag = all_info[10][18]"
   ]
  },
  {
   "cell_type": "code",
   "execution_count": 39,
   "metadata": {
    "ExecuteTime": {
     "end_time": "2020-09-16T16:55:08.981292Z",
     "start_time": "2020-09-16T16:55:08.972774Z"
    }
   },
   "outputs": [
    {
     "data": {
      "text/plain": [
       "<hr/>"
      ]
     },
     "execution_count": 39,
     "metadata": {},
     "output_type": "execute_result"
    }
   ],
   "source": [
    "hr_tag"
   ]
  },
  {
   "cell_type": "markdown",
   "metadata": {},
   "source": [
    "**It also appears that row number of the physical address varies, so need to code for all cases**"
   ]
  },
  {
   "cell_type": "code",
   "execution_count": 40,
   "metadata": {
    "ExecuteTime": {
     "end_time": "2020-09-16T16:55:09.019830Z",
     "start_time": "2020-09-16T16:55:08.987415Z"
    },
    "scrolled": false
   },
   "outputs": [
    {
     "name": "stdout",
     "output_type": "stream",
     "text": [
      "0 3 Address\n",
      "1 4 Address\n",
      "2 4 Address\n",
      "3 3 Address\n",
      "4 4 Street address\n",
      "5 4 Address\n",
      "6 4 Street address\n",
      "7 3 Street address\n",
      "8 3 Street address\n",
      "9 4 Address\n",
      "10 4 Street address\n",
      "11 3 Address\n",
      "12 4 Address\n",
      "13 4 Address\n",
      "14 4 Address\n",
      "15 4 Address\n",
      "16 3 Address\n",
      "17 4 Address\n",
      "18 4 Address\n",
      "19 4 Address\n",
      "20 4 Address\n",
      "21 4 Street address\n",
      "22 4 Street address\n",
      "23 3 Address\n",
      "24 4 Address\n",
      "25 3 Address\n",
      "26 4 Address\n",
      "27 4 Address\n",
      "28 4 Address\n",
      "29 4 Address\n",
      "30 4 Address\n",
      "31 3 Address\n",
      "32 3 Address\n",
      "33 3 Address\n",
      "34 3 Address\n",
      "35 3 Address\n",
      "36 4 Address\n",
      "37 4 Address\n",
      "38 4 Address\n",
      "39 3 Address\n",
      "40 4 Address\n",
      "41 4 Address\n",
      "42 3 Street address\n",
      "43 3 Address\n",
      "44 4 Address\n",
      "45 4 Address\n",
      "46 4 Address\n",
      "47 3 Address\n",
      "48 4 Address\n",
      "49 3 Address\n",
      "50 3 Street address\n",
      "51 4 Address\n",
      "52 4 Street address\n",
      "53 4 Street address\n",
      "54 4 Mailing Address\n",
      "55 4 Address\n",
      "56 4 Street address\n",
      "57 4 Address\n",
      "58 3 Address\n",
      "59 3 Address\n",
      "60 3 Address\n",
      "61 4 Street address\n",
      "62 4 Street address\n",
      "63 3 Street address\n",
      "64 4 Address\n",
      "65 4 Address\n",
      "66 3 Street address\n",
      "67 4 Address\n",
      "68 4 Address\n",
      "69 4 Address\n",
      "70 4 Address\n",
      "71 4 Street address\n",
      "72 3 Address\n",
      "73 3 Address\n",
      "74 4 Street address\n",
      "75 4 Street address\n",
      "76 4 Address\n",
      "77 3 Street address\n",
      "78 3 Street address\n",
      "79 3 Address\n",
      "80 3 Street address\n",
      "81 4 Street address\n",
      "82 3 Street address\n",
      "83 4 Street address\n",
      "84 4 Address\n",
      "85 4 Address\n",
      "86 4 Address\n"
     ]
    }
   ],
   "source": [
    "for div,info in enumerate(all_info):\n",
    "    for num,row in enumerate(info):\n",
    "        if row == hr_tag:\n",
    "            pass\n",
    "        elif re.search('Address', row) or re.search('Street address', row):\n",
    "            print(div, num, row)"
   ]
  },
  {
   "cell_type": "code",
   "execution_count": 41,
   "metadata": {
    "ExecuteTime": {
     "end_time": "2020-09-16T16:55:09.051038Z",
     "start_time": "2020-09-16T16:55:09.024998Z"
    }
   },
   "outputs": [],
   "source": [
    "all_data = []\n",
    "for info in all_info:\n",
    "    for row in info:\n",
    "        if row == hr_tag:\n",
    "            pass\n",
    "        elif re.findall('General phone:', row):\n",
    "            phone = row.split('General phone:')[1].strip()\n",
    "        elif re.findall('Fax:', row):\n",
    "            fax = row.split('Fax: ')[1].strip()\n",
    "        elif re.findall('Email: ', row):\n",
    "            email = row.split('Email:')[1].strip()\n",
    "        else:\n",
    "            pass\n",
    "        \n",
    "# re.search('Address', row) or re.search('Street address', row)        \n",
    "\n",
    "    if re.findall(', MN ', info[5]):\n",
    "        address = info[4].strip()\n",
    "        city = info[5].split(', MN')[0].strip()\n",
    "        zip_code = info[5].split(', MN ')[1].strip()\n",
    "    else:\n",
    "        address = info[5].strip()\n",
    "        city = info[6].split(', MN')[0].strip()\n",
    "        zip_code = info[6].split(', MN ')[1].strip()\n",
    "    \n",
    "    data= {\n",
    "        'address_1': address,\n",
    "        'city': city,\n",
    "        'phone': phone, \n",
    "        'email': email, \n",
    "        'fax': fax,\n",
    "        'zip_code': zip_code\n",
    "    }\n",
    "\n",
    "    all_data.append(data)"
   ]
  },
  {
   "cell_type": "code",
   "execution_count": 42,
   "metadata": {
    "ExecuteTime": {
     "end_time": "2020-09-16T16:55:09.069289Z",
     "start_time": "2020-09-16T16:55:09.056166Z"
    }
   },
   "outputs": [
    {
     "data": {
      "text/plain": [
       "[[0,\n",
       "  {'address_1': '2100 3rd Ave, Suite W130',\n",
       "   'city': 'Anoka',\n",
       "   'phone': '763-324-1300',\n",
       "   'email': 'elections@co.anoka.mn.us',\n",
       "   'fax': '763-324-1160',\n",
       "   'zip_code': '55303-5031'}],\n",
       " [1,\n",
       "  {'address_1': '915 Lake Ave',\n",
       "   'city': 'Detroit Lakes',\n",
       "   'phone': '218-846-7311',\n",
       "   'email': 'elections@co.becker.mn.us',\n",
       "   'fax': '218-846-7257',\n",
       "   'zip_code': '56501'}],\n",
       " [2,\n",
       "  {'address_1': '701 Minnesota Ave NW Ste 220',\n",
       "   'city': 'Bemidji',\n",
       "   'phone': '218-333-4175',\n",
       "   'email': 'danielle.m.johnson@co.beltrami.mn.us',\n",
       "   'fax': '218-333-4246',\n",
       "   'zip_code': '56601-3178'}]]"
      ]
     },
     "execution_count": 42,
     "metadata": {},
     "output_type": "execute_result"
    }
   ],
   "source": [
    "[[num,row] for num,row in enumerate(all_data[1:4])]"
   ]
  },
  {
   "cell_type": "markdown",
   "metadata": {},
   "source": [
    "**The street address for Winona is not being picked up because of a div unique to it's format. I'll pick this up in the final DataFrame**"
   ]
  },
  {
   "cell_type": "code",
   "execution_count": 43,
   "metadata": {
    "ExecuteTime": {
     "end_time": "2020-09-16T16:55:09.083697Z",
     "start_time": "2020-09-16T16:55:09.074055Z"
    }
   },
   "outputs": [
    {
     "data": {
      "text/plain": [
       "['General phone: 507-457-8830 ',\n",
       " 'Fax: 507-454-9368 ',\n",
       " 'Website: ',\n",
       " 'Email: elections@co.winona.mn.us\\n',\n",
       " 'Address',\n",
       " 'Winona, MN 55987\\n',\n",
       " 'Absentee voting contact',\n",
       " 'Phone: 507-457-8830 ',\n",
       " 'Fax: 507-454-9368 ',\n",
       " 'Email: elections@co.winona.mn.us\\n',\n",
       " 'Military and overseas absentee voting contact',\n",
       " 'Phone: 507-457-8830 ',\n",
       " 'Fax: 507-454-9368 ',\n",
       " 'Email: elections@co.winona.mn.us']"
      ]
     },
     "execution_count": 43,
     "metadata": {},
     "output_type": "execute_result"
    }
   ],
   "source": [
    "all_info[84]"
   ]
  },
  {
   "cell_type": "code",
   "execution_count": 44,
   "metadata": {
    "ExecuteTime": {
     "end_time": "2020-09-16T16:55:09.106158Z",
     "start_time": "2020-09-16T16:55:09.088096Z"
    },
    "scrolled": true
   },
   "outputs": [
    {
     "data": {
      "text/plain": [
       "<div class=\"collapse\" id=\"85\">\n",
       "<div>Election official: Sandra J Suchla <br/>General phone: 507-457-8830 <br/>Fax: 507-454-9368 <br/>Website: <a href=\"http://www.co.winona.mn.us/\">http://www.co.winona.mn.us/</a> <br/>Email: elections@co.winona.mn.us\n",
       "<h3 class=\"contentpage-h3\">Address</h3>\n",
       "Winona County Auditor-Treasurer</div>\n",
       "<div>202 W Third St<br/>Winona, MN 55987\n",
       "<h3 class=\"contentpage-h3\">Absentee voting contact</h3>\n",
       "Sandra J Suchla <br/>Phone: 507-457-8830 <br/>Fax: 507-454-9368 <br/>Email: elections@co.winona.mn.us\n",
       "<h3 class=\"contentpage-h3\">Military and overseas absentee voting contact</h3>\n",
       "Sandra J Suchla <br/>Phone: 507-457-8830 <br/>Fax: 507-454-9368 <br/>Email: elections@co.winona.mn.us<hr/></div>\n",
       "</div>"
      ]
     },
     "execution_count": 44,
     "metadata": {},
     "output_type": "execute_result"
    }
   ],
   "source": [
    "divs[85]"
   ]
  },
  {
   "cell_type": "code",
   "execution_count": 45,
   "metadata": {
    "ExecuteTime": {
     "end_time": "2020-09-16T16:55:09.120489Z",
     "start_time": "2020-09-16T16:55:09.110163Z"
    }
   },
   "outputs": [],
   "source": [
    "all_add_df = pd.DataFrame(all_data)"
   ]
  },
  {
   "cell_type": "code",
   "execution_count": 46,
   "metadata": {
    "ExecuteTime": {
     "end_time": "2020-09-16T16:55:09.156158Z",
     "start_time": "2020-09-16T16:55:09.127010Z"
    }
   },
   "outputs": [
    {
     "data": {
      "text/html": [
       "<div>\n",
       "<style scoped>\n",
       "    .dataframe tbody tr th:only-of-type {\n",
       "        vertical-align: middle;\n",
       "    }\n",
       "\n",
       "    .dataframe tbody tr th {\n",
       "        vertical-align: top;\n",
       "    }\n",
       "\n",
       "    .dataframe thead th {\n",
       "        text-align: right;\n",
       "    }\n",
       "</style>\n",
       "<table border=\"1\" class=\"dataframe\">\n",
       "  <thead>\n",
       "    <tr style=\"text-align: right;\">\n",
       "      <th></th>\n",
       "      <th>address_1</th>\n",
       "      <th>city</th>\n",
       "      <th>phone</th>\n",
       "      <th>email</th>\n",
       "      <th>fax</th>\n",
       "      <th>zip_code</th>\n",
       "    </tr>\n",
       "  </thead>\n",
       "  <tbody>\n",
       "    <tr>\n",
       "      <th>0</th>\n",
       "      <td>307 2nd St NW Rm 121</td>\n",
       "      <td>Aitkin</td>\n",
       "      <td>218-927-7354</td>\n",
       "      <td>sally.huhta@co.aitkin.mn.us</td>\n",
       "      <td>218-927-7324</td>\n",
       "      <td>56431</td>\n",
       "    </tr>\n",
       "    <tr>\n",
       "      <th>1</th>\n",
       "      <td>2100 3rd Ave, Suite W130</td>\n",
       "      <td>Anoka</td>\n",
       "      <td>763-324-1300</td>\n",
       "      <td>elections@co.anoka.mn.us</td>\n",
       "      <td>763-324-1160</td>\n",
       "      <td>55303-5031</td>\n",
       "    </tr>\n",
       "    <tr>\n",
       "      <th>2</th>\n",
       "      <td>915 Lake Ave</td>\n",
       "      <td>Detroit Lakes</td>\n",
       "      <td>218-846-7311</td>\n",
       "      <td>elections@co.becker.mn.us</td>\n",
       "      <td>218-846-7257</td>\n",
       "      <td>56501</td>\n",
       "    </tr>\n",
       "    <tr>\n",
       "      <th>3</th>\n",
       "      <td>701 Minnesota Ave NW Ste 220</td>\n",
       "      <td>Bemidji</td>\n",
       "      <td>218-333-4175</td>\n",
       "      <td>danielle.m.johnson@co.beltrami.mn.us</td>\n",
       "      <td>218-333-4246</td>\n",
       "      <td>56601-3178</td>\n",
       "    </tr>\n",
       "    <tr>\n",
       "      <th>4</th>\n",
       "      <td>531 Dewey St</td>\n",
       "      <td>Foley</td>\n",
       "      <td>320-968-5027</td>\n",
       "      <td>uocavaelections@co.benton.mn.us</td>\n",
       "      <td>320-968-5337</td>\n",
       "      <td>56329-0129</td>\n",
       "    </tr>\n",
       "    <tr>\n",
       "      <th>...</th>\n",
       "      <td>...</td>\n",
       "      <td>...</td>\n",
       "      <td>...</td>\n",
       "      <td>...</td>\n",
       "      <td>...</td>\n",
       "      <td>...</td>\n",
       "    </tr>\n",
       "    <tr>\n",
       "      <th>82</th>\n",
       "      <td>710 2nd Ave S</td>\n",
       "      <td>Saint James</td>\n",
       "      <td>507-375-1210</td>\n",
       "      <td>kelly.pauling@co.watonwan.mn.us</td>\n",
       "      <td>507-375-3547</td>\n",
       "      <td>56081</td>\n",
       "    </tr>\n",
       "    <tr>\n",
       "      <th>83</th>\n",
       "      <td>300 S 5th St</td>\n",
       "      <td>Breckenridge</td>\n",
       "      <td>218-643-7165</td>\n",
       "      <td>bconzemius@co.wilkin.mn.us</td>\n",
       "      <td>218-643-7169</td>\n",
       "      <td>56520</td>\n",
       "    </tr>\n",
       "    <tr>\n",
       "      <th>84</th>\n",
       "      <td>Address</td>\n",
       "      <td>Winona</td>\n",
       "      <td>507-457-8830</td>\n",
       "      <td>elections@co.winona.mn.us</td>\n",
       "      <td>507-454-9368</td>\n",
       "      <td>55987</td>\n",
       "    </tr>\n",
       "    <tr>\n",
       "      <th>85</th>\n",
       "      <td>10 2nd St NW Rm 230</td>\n",
       "      <td>Buffalo</td>\n",
       "      <td>763-682-7579</td>\n",
       "      <td>elections@co.wright.mn.us</td>\n",
       "      <td>763-682-7873</td>\n",
       "      <td>55313-1195</td>\n",
       "    </tr>\n",
       "    <tr>\n",
       "      <th>86</th>\n",
       "      <td>180 8th Ave</td>\n",
       "      <td>Granite Falls</td>\n",
       "      <td>320-564-3132</td>\n",
       "      <td>amyr@co.ym.mn.gov</td>\n",
       "      <td>320-564-0927</td>\n",
       "      <td>56241-1508</td>\n",
       "    </tr>\n",
       "  </tbody>\n",
       "</table>\n",
       "<p>87 rows × 6 columns</p>\n",
       "</div>"
      ],
      "text/plain": [
       "                       address_1           city         phone  \\\n",
       "0           307 2nd St NW Rm 121         Aitkin  218-927-7354   \n",
       "1       2100 3rd Ave, Suite W130          Anoka  763-324-1300   \n",
       "2                   915 Lake Ave  Detroit Lakes  218-846-7311   \n",
       "3   701 Minnesota Ave NW Ste 220        Bemidji  218-333-4175   \n",
       "4                   531 Dewey St          Foley  320-968-5027   \n",
       "..                           ...            ...           ...   \n",
       "82                 710 2nd Ave S    Saint James  507-375-1210   \n",
       "83                  300 S 5th St   Breckenridge  218-643-7165   \n",
       "84                       Address         Winona  507-457-8830   \n",
       "85           10 2nd St NW Rm 230        Buffalo  763-682-7579   \n",
       "86                   180 8th Ave  Granite Falls  320-564-3132   \n",
       "\n",
       "                                   email           fax    zip_code  \n",
       "0            sally.huhta@co.aitkin.mn.us  218-927-7324       56431  \n",
       "1               elections@co.anoka.mn.us  763-324-1160  55303-5031  \n",
       "2              elections@co.becker.mn.us  218-846-7257       56501  \n",
       "3   danielle.m.johnson@co.beltrami.mn.us  218-333-4246  56601-3178  \n",
       "4        uocavaelections@co.benton.mn.us  320-968-5337  56329-0129  \n",
       "..                                   ...           ...         ...  \n",
       "82       kelly.pauling@co.watonwan.mn.us  507-375-3547       56081  \n",
       "83            bconzemius@co.wilkin.mn.us  218-643-7169       56520  \n",
       "84             elections@co.winona.mn.us  507-454-9368       55987  \n",
       "85             elections@co.wright.mn.us  763-682-7873  55313-1195  \n",
       "86                     amyr@co.ym.mn.gov  320-564-0927  56241-1508  \n",
       "\n",
       "[87 rows x 6 columns]"
      ]
     },
     "execution_count": 46,
     "metadata": {},
     "output_type": "execute_result"
    }
   ],
   "source": [
    "all_add_df"
   ]
  },
  {
   "cell_type": "code",
   "execution_count": 47,
   "metadata": {
    "ExecuteTime": {
     "end_time": "2020-09-16T16:55:09.172863Z",
     "start_time": "2020-09-16T16:55:09.161950Z"
    }
   },
   "outputs": [],
   "source": [
    "all_data_df['address_1'] = all_add_df['address_1']\n",
    "all_data_df['city'] = all_add_df['city']\n",
    "all_data_df['phone'] = all_add_df['phone']\n",
    "all_data_df['email'] = all_add_df['email']\n",
    "all_data_df['fax'] = all_add_df['fax']\n",
    "all_data_df['zip'] = all_add_df['zip_code']\n",
    "all_data_df['state'] = 'MN'\n",
    "all_data_df['hours'] = 'The last Saturday before Election Day (10 a.m. — 3 p.m.); The day before Election Day until 5 p.m. (https://www.sos.state.mn.us/elections-voting/other-ways-to-vote/vote-early-in-person/)'"
   ]
  },
  {
   "cell_type": "code",
   "execution_count": 48,
   "metadata": {
    "ExecuteTime": {
     "end_time": "2020-09-16T16:55:09.196512Z",
     "start_time": "2020-09-16T16:55:09.178169Z"
    }
   },
   "outputs": [
    {
     "name": "stdout",
     "output_type": "stream",
     "text": [
      "<class 'pandas.core.frame.DataFrame'>\n",
      "RangeIndex: 87 entries, 0 to 86\n",
      "Data columns (total 19 columns):\n",
      " #   Column              Non-Null Count  Dtype \n",
      "---  ------              --------------  ----- \n",
      " 0   county              87 non-null     object\n",
      " 1   location_type       0 non-null      object\n",
      " 2   address_1           87 non-null     object\n",
      " 3   address_2           0 non-null      object\n",
      " 4   city                87 non-null     object\n",
      " 5   state               87 non-null     object\n",
      " 6   zip                 87 non-null     object\n",
      " 7   phone               87 non-null     object\n",
      " 8   latitude            0 non-null      object\n",
      " 9   longitude           0 non-null      object\n",
      " 10  has_droppff         0 non-null      object\n",
      " 11  has_phone           0 non-null      object\n",
      " 12  county_website_url  87 non-null     object\n",
      " 13  validate_url        0 non-null      object\n",
      " 14  email               87 non-null     object\n",
      " 15  fax                 87 non-null     object\n",
      " 16  social              0 non-null      object\n",
      " 17  inactive            0 non-null      object\n",
      " 18  hours               87 non-null     object\n",
      "dtypes: object(19)\n",
      "memory usage: 13.0+ KB\n"
     ]
    }
   ],
   "source": [
    "all_data_df.info()"
   ]
  },
  {
   "cell_type": "markdown",
   "metadata": {},
   "source": [
    "# Scrape location_type\n",
    "**Try using splitlines() to get the location_types**"
   ]
  },
  {
   "cell_type": "code",
   "execution_count": 49,
   "metadata": {
    "ExecuteTime": {
     "end_time": "2020-09-16T16:55:09.209386Z",
     "start_time": "2020-09-16T16:55:09.200917Z"
    },
    "scrolled": true
   },
   "outputs": [
    {
     "data": {
      "text/plain": [
       "['',\n",
       " 'Election official: Tamara J. Spooner General phone: 507-835-0610 Fax: 507-835-0633 Website: http://www.co.waseca.mn.us/',\n",
       " 'Street address',\n",
       " 'Waseca County Auditor 307 N State St Waseca, MN 56093',\n",
       " 'Mailing address',\n",
       " 'Waseca County Auditor PO Box 47 Waseca, MN 56093',\n",
       " 'Absentee voting contact',\n",
       " 'Mary Jo StanglerPhone: 507-835-0622 Fax: 507-835-0633 Email: maryjo.stangler@co.waseca.mn.us',\n",
       " 'Military and overseas absentee voting contact',\n",
       " 'Mary Jo StanglerPhone: 507-835-0622 Fax: 507-835-0633 Email: maryjo.stangler@co.waseca.mn.us']"
      ]
     },
     "execution_count": 49,
     "metadata": {},
     "output_type": "execute_result"
    }
   ],
   "source": [
    "divs[81].text.splitlines() #Let's take a look at one, random record"
   ]
  },
  {
   "cell_type": "markdown",
   "metadata": {},
   "source": [
    "## Examine every address line to determine consistency of formating"
   ]
  },
  {
   "cell_type": "code",
   "execution_count": 50,
   "metadata": {
    "ExecuteTime": {
     "end_time": "2020-09-16T16:55:09.229948Z",
     "start_time": "2020-09-16T16:55:09.213443Z"
    }
   },
   "outputs": [
    {
     "name": "stdout",
     "output_type": "stream",
     "text": [
      "0 \n",
      "1 Aitkin County Auditor 307 2nd St NW Rm 121 Aitkin, MN 56431\n",
      "2 Anoka County Elections & Voter Registration2100 3rd Ave, Suite W130 Anoka, MN 55303-5031\n",
      "3 Becker County Courthouse 915 Lake Ave Detroit Lakes, MN 56501\n",
      "4 Beltrami County Auditor 701 Minnesota Ave NW Ste 220 Bemidji, MN 56601-3178\n",
      "5 Benton County Auditor-Treasurer's Office 531 Dewey St Foley, MN 56329-0129\n",
      "6 Big Stone County Auditor 20 2nd St SE Ste 103 Ortonville, MN 56278\n",
      "7 Blue Earth County Historic Courthouse 204 S 5th St Mankato, MN 56001\n",
      "8 Brown County Courthouse 14 South State St New Ulm, MN 56073\n",
      "9 Carlton County Auditor 301 Walnut Ave Carlton, MN 55718\n",
      "10 Government Center - Administration Bldg 600 E Fourth St Chaska, MN 55318-2102\n",
      "11 Cass County Auditor-Treasurer's Office 303 Minnesota Ave W Walker, MN 56484\n",
      "12 Chippewa County Courthouse 629 N 11th St Montevideo, MN 56265\n",
      "13 Chisago County Gov Center 313 N Main St Rm 271 Center City, MN 55012-7656\n",
      "14 Clay County Courthouse 807 N 11th St Moorhead, MN 56560\n",
      "15 Clearwater County Auditor-Treasurer 213 Main Ave N Dept 202 Bagley, MN 56621-8304\n",
      "16 Cook County Courthouse 411 W 2nd St Grand Marais, MN 55604\n",
      "17 Cottonwood County Courthouse 900 3rd Ave Windom, MN 56101\n",
      "18 Crow Wing County Elections 326 Laurel St - Historic Courthouse Ste 22 Brainerd, MN 56401\n",
      "19 Dakota County Elections 1590 Highway 55 Ste 2300 Hastings, MN 55033\n",
      "20 Dodge County Elections 721 Main Street North, Dept 45 Mantorville, MN 55955-2204\n",
      "21 Douglas County Auditor/Treasurer 305 8th Ave W Alexandria, MN 56308\n",
      "22 Faribault County 415 N Main St Blue Earth, MN 56013\n",
      "23 Fillmore County Auditor 101 Fillmore St Preston, MN 55965\n",
      "24 Freeborn County Government Center 411 S Broadway Albert Lea, MN 56007\n",
      "25 Goodhue County Government Center 509 W 5th St Red Wing, MN 55066\n",
      "26 Grant County Courthouse 10 2nd St NE Elbow Lake, MN 56531-4400\n",
      "27 Hennepin County Gov't Center 300 South 6th St MC 012 Minneapolis, MN 55487-0012\n",
      "28 Houston County Courthouse 304 S Marshall St Rm 116 Caledonia, MN 55921\n",
      "29 Hubbard County Courthouse 301 Court Ave Park Rapids, MN 56470\n",
      "30 Isanti County Auditor's Office 555 18th Avenue SW Cambridge, MN 55008\n",
      "31 Itasca County Courthouse 123 NE 4th St Grand Rapids, MN 55744\n",
      "32 Jackson County Courthouse 405 4th St PO Box 226 Jackson, MN 56143\n",
      "33 Kanabec County Courthouse 18 N Vine St Ste 261-A Mora, MN 55051-1351\n",
      "34 Kandiyohi County Office Bldg 400 Benson Ave SW Willmar, MN 56201\n",
      "35 Kittson County Elections 410 5th St SE Ste 212 Hallock, MN 56728\n",
      "36 Koochiching County Courthouse 715 4th St International Falls, MN 56649\n",
      "37 Lac qui Parle County Auditor 600 6th Street, Ste 6 Madison, MN 56256\n",
      "38 Lake County Courthouse 601 3rd Ave Two Harbors, MN 55616\n",
      "39 Lorene Hanson 206 8th Ave SE Ste 260 Baudette, MN 56623\n",
      "40 Le Sueur County Courthouse 88 S Park Ave Le Center, MN 56057\n",
      "41 Lincoln County Courthouse 319 N Rebecca St, PO Box 29Ivanhoe, MN 56142\n",
      "42 Lyon County Government Center 607 W Main Marshall, MN 56258\n",
      "43 Mahnomen County Courthouse 311 N Main St Mahnomen, MN 56557\n",
      "44 Absentee voting contact\n",
      "45 Absentee voting contact\n",
      "46 Absentee voting contact\n",
      "47 Meeker County Courthouse 325 Sibley Ave N Litchfield, MN 55355\n",
      "48 Mille Lacs County Historic Courthouse 635 2nd St SE Milaca, MN 56353\n",
      "49 Morrison County Courthouse 213 SE 1st Ave Little Falls, MN 56345\n",
      "50 Mower County Auditor-Treasurer 500 4th Ave NEAustin, MN 55912\n",
      "51 Murray County Elections 2500 28th St Slayton, MN 56172-0057\n",
      "52 Nicollet County Govt Center 501 S Minnesota Ave St Peter, MN 56082\n",
      "53 Nobles County Auditor-Treasurer 315 10th St Worthington, MN 56187\n",
      "54 Norman County Courthouse 16 E 3rd Ave Ada, MN 56510\n",
      "55 Olmsted County Elections 151 4th St SE Rochester, MN 55904\n",
      "56 Otter Tail County Government Services Center 510 Fir Ave W Fergus Falls, MN 56537\n",
      "57 Pennington County Courthouse 101 Main Ave N Thief River Falls, MN 56701\n",
      "58 Pine County Courthouse 635 Northridge Dr NW Ste 240 Pine City, MN 55063\n",
      "59 Pipestone County Courthouse 416 Hiawatha Ave S Pipestone, MN 56164\n",
      "60 Polk County Government Center 612 N Broadway Ste 207 Crookston, MN 56716-1452\n",
      "61 Pope County Courthouse 130 E Minnesota Ave Ste 218 Glenwood, MN 56334-4525\n",
      "62 Ramsey County Elections 90 W Plato Blvd Ste 160 St Paul, MN 55107\n",
      "63 Red Lake County 124 Langevin Ave Red Lake Falls, MN 56750\n",
      "64 Redwood County Government Center 403 S Mill St Redwood Falls, MN 56283\n",
      "65 Renville County Courthouse 500 E Depue Ave Ste 202 Olivia, MN 56277\n",
      "66 Rice County Elections 320 3rd St NW Faribault, MN 55021\n",
      "67 Rock County Courthouse 204 Brown St E Luverne, MN 56156\n",
      "68 Roseau County Courthouse 606 5th Ave SW Rm 160 Roseau, MN 56751-1477\n",
      "69 St. Louis County Courthouse 100 N 5th Ave W # 214 Duluth, MN 55802-1293\n",
      "70 Mailing:\n",
      "71 Sherburne County Government Center 13880 Business Center Drive NW Elk River, MN 55330\n",
      "72 Sibley County Auditor 400 Court Avenue Gaylord, MN 55334-0171\n",
      "73 Stearns County Service Center\n",
      "74 Steele County Auditor 630 Florence Ave Owatonna, MN 55060\n",
      "75 Stevens County Auditor 400 Colorado Ave Ste 303 Morris, MN 56267\n",
      "76 Swift County Auditor 301 14th St N Benson, MN 56215\n",
      "77 Todd County Historic Courthouse 215 1st Ave S Ste 201 Long Prairie, MN 56347\n",
      "78 Traverse County Courthouse 702 2nd Ave N Wheaton, MN 56296\n",
      "79 Wabasha County Auditor/Treasurer 625 Jefferson Ave Wabasha, MN 55981\n",
      "80 Wadena County Courthouse 415 S Jefferson St Wadena, MN 56482\n",
      "81 Waseca County Auditor 307 N State St Waseca, MN 56093\n",
      "82 Washington County Government Center 14949 62nd St N Stillwater, MN 55082\n",
      "83 Watonwan County Courthouse710 2nd Ave SSaint James, MN 56081\n",
      "84 Wilkin County Courthouse 300 S 5th St Breckenridge, MN 56520\n",
      "85 Winona County Auditor-Treasurer\n",
      "86 Wright County Government Center 10 2nd St NW Rm 230 Buffalo, MN 55313-1195\n",
      "87 YMC Government Center 180 8th Ave Granite Falls, MN 56241-1508\n"
     ]
    }
   ],
   "source": [
    "for num,row in enumerate(divs):\n",
    "    print(num, row.text.splitlines()[3])"
   ]
  },
  {
   "cell_type": "markdown",
   "metadata": {},
   "source": [
    "**The address lines doesn't always occur on the same line number so we'll need to handle the cases**"
   ]
  },
  {
   "cell_type": "code",
   "execution_count": 51,
   "metadata": {
    "ExecuteTime": {
     "end_time": "2020-09-16T16:55:09.270202Z",
     "start_time": "2020-09-16T16:55:09.234046Z"
    },
    "scrolled": false
   },
   "outputs": [
    {
     "name": "stdout",
     "output_type": "stream",
     "text": [
      "0 \n",
      "1 Aitkin County Auditor 307 2nd St NW Rm 121 Aitkin, MN 56431\n",
      "2 Anoka County Elections & Voter Registration2100 3rd Ave, Suite W130 Anoka, MN 55303-5031\n",
      "3 Becker County Courthouse 915 Lake Ave Detroit Lakes, MN 56501\n",
      "4 Beltrami County Auditor 701 Minnesota Ave NW Ste 220 Bemidji, MN 56601-3178\n",
      "5 Benton County Auditor-Treasurer's Office 531 Dewey St Foley, MN 56329-0129\n",
      "6 Big Stone County Auditor 20 2nd St SE Ste 103 Ortonville, MN 56278\n",
      "7 Blue Earth County Historic Courthouse 204 S 5th St Mankato, MN 56001\n",
      "8 Brown County Courthouse 14 South State St New Ulm, MN 56073\n",
      "9 Carlton County Auditor 301 Walnut Ave Carlton, MN 55718\n",
      "10 Government Center - Administration Bldg 600 E Fourth St Chaska, MN 55318-2102\n",
      "11 Cass County Auditor-Treasurer's Office 303 Minnesota Ave W Walker, MN 56484\n",
      "12 Chippewa County Courthouse 629 N 11th St Montevideo, MN 56265\n",
      "13 Chisago County Gov Center 313 N Main St Rm 271 Center City, MN 55012-7656\n",
      "14 Clay County Courthouse 807 N 11th St Moorhead, MN 56560\n",
      "15 Clearwater County Auditor-Treasurer 213 Main Ave N Dept 202 Bagley, MN 56621-8304\n",
      "16 Cook County Courthouse 411 W 2nd St Grand Marais, MN 55604\n",
      "17 Cottonwood County Courthouse 900 3rd Ave Windom, MN 56101\n",
      "18 Crow Wing County Elections 326 Laurel St - Historic Courthouse Ste 22 Brainerd, MN 56401\n",
      "19 Dakota County Elections 1590 Highway 55 Ste 2300 Hastings, MN 55033\n",
      "20 Dodge County Elections 721 Main Street North, Dept 45 Mantorville, MN 55955-2204\n",
      "21 Douglas County Auditor/Treasurer 305 8th Ave W Alexandria, MN 56308\n",
      "22 Faribault County 415 N Main St Blue Earth, MN 56013\n",
      "23 Fillmore County Auditor 101 Fillmore St Preston, MN 55965\n",
      "24 Freeborn County Government Center 411 S Broadway Albert Lea, MN 56007\n",
      "25 Goodhue County Government Center 509 W 5th St Red Wing, MN 55066\n",
      "26 Grant County Courthouse 10 2nd St NE Elbow Lake, MN 56531-4400\n",
      "27 Hennepin County Gov't Center 300 South 6th St MC 012 Minneapolis, MN 55487-0012\n",
      "28 Houston County Courthouse 304 S Marshall St Rm 116 Caledonia, MN 55921\n",
      "29 Hubbard County Courthouse 301 Court Ave Park Rapids, MN 56470\n",
      "30 Isanti County Auditor's Office 555 18th Avenue SW Cambridge, MN 55008\n",
      "31 Itasca County Courthouse 123 NE 4th St Grand Rapids, MN 55744\n",
      "32 Jackson County Courthouse 405 4th St PO Box 226 Jackson, MN 56143\n",
      "33 Kanabec County Courthouse 18 N Vine St Ste 261-A Mora, MN 55051-1351\n",
      "34 Kandiyohi County Office Bldg 400 Benson Ave SW Willmar, MN 56201\n",
      "35 Kittson County Elections 410 5th St SE Ste 212 Hallock, MN 56728\n",
      "36 Koochiching County Courthouse 715 4th St International Falls, MN 56649\n",
      "37 Lac qui Parle County Auditor 600 6th Street, Ste 6 Madison, MN 56256\n",
      "38 Lake County Courthouse 601 3rd Ave Two Harbors, MN 55616\n",
      "39 Lorene Hanson 206 8th Ave SE Ste 260 Baudette, MN 56623\n",
      "40 Le Sueur County Courthouse 88 S Park Ave Le Center, MN 56057\n",
      "41 Lincoln County Courthouse 319 N Rebecca St, PO Box 29Ivanhoe, MN 56142\n",
      "42 Lyon County Government Center 607 W Main Marshall, MN 56258\n",
      "43 Mahnomen County Courthouse 311 N Main St Mahnomen, MN 56557\n",
      "44 Leanne Novacek208 E Colvin Ave, Ste 11 Warren, MN 56762\n",
      "45 Martin County Courthouse 201 Lake Ave Fairmont, MN 56031\n",
      "46 McLeod County 2391 Hennepin Ave N Glencoe, MN 55336\n",
      "47 Meeker County Courthouse 325 Sibley Ave N Litchfield, MN 55355\n",
      "48 Mille Lacs County Historic Courthouse 635 2nd St SE Milaca, MN 56353\n",
      "49 Morrison County Courthouse 213 SE 1st Ave Little Falls, MN 56345\n",
      "50 Mower County Auditor-Treasurer 500 4th Ave NEAustin, MN 55912\n",
      "51 Murray County Elections 2500 28th St Slayton, MN 56172-0057\n",
      "52 Nicollet County Govt Center 501 S Minnesota Ave St Peter, MN 56082\n",
      "53 Nobles County Auditor-Treasurer 315 10th St Worthington, MN 56187\n",
      "54 Norman County Courthouse 16 E 3rd Ave Ada, MN 56510\n",
      "55 Olmsted County Elections 151 4th St SE Rochester, MN 55904\n",
      "56 Otter Tail County Government Services Center 510 Fir Ave W Fergus Falls, MN 56537\n",
      "57 Pennington County Courthouse 101 Main Ave N Thief River Falls, MN 56701\n",
      "58 Pine County Courthouse 635 Northridge Dr NW Ste 240 Pine City, MN 55063\n",
      "59 Pipestone County Courthouse 416 Hiawatha Ave S Pipestone, MN 56164\n",
      "60 Polk County Government Center 612 N Broadway Ste 207 Crookston, MN 56716-1452\n",
      "61 Pope County Courthouse 130 E Minnesota Ave Ste 218 Glenwood, MN 56334-4525\n",
      "62 Ramsey County Elections 90 W Plato Blvd Ste 160 St Paul, MN 55107\n",
      "63 Red Lake County 124 Langevin Ave Red Lake Falls, MN 56750\n",
      "64 Redwood County Government Center 403 S Mill St Redwood Falls, MN 56283\n",
      "65 Renville County Courthouse 500 E Depue Ave Ste 202 Olivia, MN 56277\n",
      "66 Rice County Elections 320 3rd St NW Faribault, MN 55021\n",
      "67 Rock County Courthouse 204 Brown St E Luverne, MN 56156\n",
      "68 Roseau County Courthouse 606 5th Ave SW Rm 160 Roseau, MN 56751-1477\n",
      "69 St. Louis County Courthouse 100 N 5th Ave W # 214 Duluth, MN 55802-1293\n",
      "70 Scott County Government Center 200 Fourth Ave W Shakopee, MN 55379\n",
      "71 Sherburne County Government Center 13880 Business Center Drive NW Elk River, MN 55330\n",
      "72 Sibley County Auditor 400 Court Avenue Gaylord, MN 55334-0171\n",
      "73 Stearns County Service Center\n",
      "74 Steele County Auditor 630 Florence Ave Owatonna, MN 55060\n",
      "75 Stevens County Auditor 400 Colorado Ave Ste 303 Morris, MN 56267\n",
      "76 Swift County Auditor 301 14th St N Benson, MN 56215\n",
      "77 Todd County Historic Courthouse 215 1st Ave S Ste 201 Long Prairie, MN 56347\n",
      "78 Traverse County Courthouse 702 2nd Ave N Wheaton, MN 56296\n",
      "79 Wabasha County Auditor/Treasurer 625 Jefferson Ave Wabasha, MN 55981\n",
      "80 Wadena County Courthouse 415 S Jefferson St Wadena, MN 56482\n",
      "81 Waseca County Auditor 307 N State St Waseca, MN 56093\n",
      "82 Washington County Government Center 14949 62nd St N Stillwater, MN 55082\n",
      "83 Watonwan County Courthouse710 2nd Ave SSaint James, MN 56081\n",
      "84 Wilkin County Courthouse 300 S 5th St Breckenridge, MN 56520\n",
      "85 Winona County Auditor-Treasurer\n",
      "86 Wright County Government Center 10 2nd St NW Rm 230 Buffalo, MN 55313-1195\n",
      "87 YMC Government Center 180 8th Ave Granite Falls, MN 56241-1508\n"
     ]
    }
   ],
   "source": [
    "for num,row in enumerate(divs):\n",
    "    if row.text.splitlines()[3]=='Absentee voting contact':\n",
    "        print(num, row.text.splitlines()[2])\n",
    "    elif row.text.splitlines()[3]=='Mailing:':\n",
    "        print(num, row.text.splitlines()[4])\n",
    "    else:\n",
    "        print(num, row.text.splitlines()[3])"
   ]
  },
  {
   "cell_type": "markdown",
   "metadata": {},
   "source": [
    "## Parse location_type in address lines"
   ]
  },
  {
   "cell_type": "code",
   "execution_count": 52,
   "metadata": {
    "ExecuteTime": {
     "end_time": "2020-09-16T16:55:09.298367Z",
     "start_time": "2020-09-16T16:55:09.273240Z"
    },
    "scrolled": false
   },
   "outputs": [],
   "source": [
    "all_loc_types = []\n",
    "for loc in divs[1:]:\n",
    "    if loc.text.splitlines()[3]=='Absentee voting contact':\n",
    "            location = re.split('\\d', loc.text.splitlines()[2], 1)[0].strip()\n",
    "\n",
    "    elif loc.text.splitlines()[3]=='Mailing:':\n",
    "            location = re.split('\\d', loc.text.splitlines()[4], 1)[0].strip()\n",
    "\n",
    "    elif loc.text.splitlines()[3]=='Stearns County Service Center':\n",
    "            location = loc.text.splitlines()[3].strip()\n",
    "\n",
    "    elif loc.text.splitlines()[3]=='Winona County Auditor-Treasurer':\n",
    "            location = loc.text.splitlines()[3].strip()\n",
    "\n",
    "    else:\n",
    "            location = re.split('\\d', loc.text.splitlines()[3], 1)[0].strip()\n",
    "\n",
    "    data = {\n",
    "            'location_type': location\n",
    "        }\n",
    "        \n",
    "    all_loc_types.append(data)"
   ]
  },
  {
   "cell_type": "code",
   "execution_count": 53,
   "metadata": {
    "ExecuteTime": {
     "end_time": "2020-09-16T16:55:09.309966Z",
     "start_time": "2020-09-16T16:55:09.301807Z"
    }
   },
   "outputs": [
    {
     "data": {
      "text/plain": [
       "87"
      ]
     },
     "execution_count": 53,
     "metadata": {},
     "output_type": "execute_result"
    }
   ],
   "source": [
    "len(all_loc_types)"
   ]
  },
  {
   "cell_type": "code",
   "execution_count": 54,
   "metadata": {
    "ExecuteTime": {
     "end_time": "2020-09-16T16:55:09.332534Z",
     "start_time": "2020-09-16T16:55:09.315966Z"
    },
    "scrolled": false
   },
   "outputs": [
    {
     "data": {
      "text/plain": [
       "[{'location_type': 'Aitkin County Auditor'},\n",
       " {'location_type': 'Anoka County Elections & Voter Registration'},\n",
       " {'location_type': 'Becker County Courthouse'},\n",
       " {'location_type': 'Beltrami County Auditor'},\n",
       " {'location_type': \"Benton County Auditor-Treasurer's Office\"},\n",
       " {'location_type': 'Big Stone County Auditor'},\n",
       " {'location_type': 'Blue Earth County Historic Courthouse'},\n",
       " {'location_type': 'Brown County Courthouse'},\n",
       " {'location_type': 'Carlton County Auditor'},\n",
       " {'location_type': 'Government Center - Administration Bldg'},\n",
       " {'location_type': \"Cass County Auditor-Treasurer's Office\"},\n",
       " {'location_type': 'Chippewa County Courthouse'},\n",
       " {'location_type': 'Chisago County Gov Center'},\n",
       " {'location_type': 'Clay County Courthouse'},\n",
       " {'location_type': 'Clearwater County Auditor-Treasurer'},\n",
       " {'location_type': 'Cook County Courthouse'},\n",
       " {'location_type': 'Cottonwood County Courthouse'},\n",
       " {'location_type': 'Crow Wing County Elections'},\n",
       " {'location_type': 'Dakota County Elections'},\n",
       " {'location_type': 'Dodge County Elections'},\n",
       " {'location_type': 'Douglas County Auditor/Treasurer'},\n",
       " {'location_type': 'Faribault County'},\n",
       " {'location_type': 'Fillmore County Auditor'},\n",
       " {'location_type': 'Freeborn County Government Center'},\n",
       " {'location_type': 'Goodhue County Government Center'},\n",
       " {'location_type': 'Grant County Courthouse'},\n",
       " {'location_type': \"Hennepin County Gov't Center\"},\n",
       " {'location_type': 'Houston County Courthouse'},\n",
       " {'location_type': 'Hubbard County Courthouse'},\n",
       " {'location_type': \"Isanti County Auditor's Office\"},\n",
       " {'location_type': 'Itasca County Courthouse'},\n",
       " {'location_type': 'Jackson County Courthouse'},\n",
       " {'location_type': 'Kanabec County Courthouse'},\n",
       " {'location_type': 'Kandiyohi County Office Bldg'},\n",
       " {'location_type': 'Kittson County Elections'},\n",
       " {'location_type': 'Koochiching County Courthouse'},\n",
       " {'location_type': 'Lac qui Parle County Auditor'},\n",
       " {'location_type': 'Lake County Courthouse'},\n",
       " {'location_type': 'Lorene Hanson'},\n",
       " {'location_type': 'Le Sueur County Courthouse'},\n",
       " {'location_type': 'Lincoln County Courthouse'},\n",
       " {'location_type': 'Lyon County Government Center'},\n",
       " {'location_type': 'Mahnomen County Courthouse'},\n",
       " {'location_type': 'Leanne Novacek'},\n",
       " {'location_type': 'Martin County Courthouse'},\n",
       " {'location_type': 'McLeod County'},\n",
       " {'location_type': 'Meeker County Courthouse'},\n",
       " {'location_type': 'Mille Lacs County Historic Courthouse'},\n",
       " {'location_type': 'Morrison County Courthouse'},\n",
       " {'location_type': 'Mower County Auditor-Treasurer'},\n",
       " {'location_type': 'Murray County Elections'},\n",
       " {'location_type': 'Nicollet County Govt Center'},\n",
       " {'location_type': 'Nobles County Auditor-Treasurer'},\n",
       " {'location_type': 'Norman County Courthouse'},\n",
       " {'location_type': 'Olmsted County Elections'},\n",
       " {'location_type': 'Otter Tail County Government Services Center'},\n",
       " {'location_type': 'Pennington County Courthouse'},\n",
       " {'location_type': 'Pine County Courthouse'},\n",
       " {'location_type': 'Pipestone County Courthouse'},\n",
       " {'location_type': 'Polk County Government Center'},\n",
       " {'location_type': 'Pope County Courthouse'},\n",
       " {'location_type': 'Ramsey County Elections'},\n",
       " {'location_type': 'Red Lake County'},\n",
       " {'location_type': 'Redwood County Government Center'},\n",
       " {'location_type': 'Renville County Courthouse'},\n",
       " {'location_type': 'Rice County Elections'},\n",
       " {'location_type': 'Rock County Courthouse'},\n",
       " {'location_type': 'Roseau County Courthouse'},\n",
       " {'location_type': 'St. Louis County Courthouse'},\n",
       " {'location_type': 'Scott County Government Center'},\n",
       " {'location_type': 'Sherburne County Government Center'},\n",
       " {'location_type': 'Sibley County Auditor'},\n",
       " {'location_type': 'Stearns County Service Center'},\n",
       " {'location_type': 'Steele County Auditor'},\n",
       " {'location_type': 'Stevens County Auditor'},\n",
       " {'location_type': 'Swift County Auditor'},\n",
       " {'location_type': 'Todd County Historic Courthouse'},\n",
       " {'location_type': 'Traverse County Courthouse'},\n",
       " {'location_type': 'Wabasha County Auditor/Treasurer'},\n",
       " {'location_type': 'Wadena County Courthouse'},\n",
       " {'location_type': 'Waseca County Auditor'},\n",
       " {'location_type': 'Washington County Government Center'},\n",
       " {'location_type': 'Watonwan County Courthouse'},\n",
       " {'location_type': 'Wilkin County Courthouse'},\n",
       " {'location_type': 'Winona County Auditor-Treasurer'},\n",
       " {'location_type': 'Wright County Government Center'},\n",
       " {'location_type': 'YMC Government Center'}]"
      ]
     },
     "execution_count": 54,
     "metadata": {},
     "output_type": "execute_result"
    }
   ],
   "source": [
    "all_loc_types"
   ]
  },
  {
   "cell_type": "code",
   "execution_count": 55,
   "metadata": {
    "ExecuteTime": {
     "end_time": "2020-09-16T16:55:09.359939Z",
     "start_time": "2020-09-16T16:55:09.337658Z"
    }
   },
   "outputs": [],
   "source": [
    "loc_type_df = pd.DataFrame(all_loc_types)"
   ]
  },
  {
   "cell_type": "code",
   "execution_count": 56,
   "metadata": {
    "ExecuteTime": {
     "end_time": "2020-09-16T16:55:09.404727Z",
     "start_time": "2020-09-16T16:55:09.398304Z"
    }
   },
   "outputs": [],
   "source": [
    "all_data_df['location_type'] = loc_type_df['location_type']"
   ]
  },
  {
   "cell_type": "code",
   "execution_count": 57,
   "metadata": {
    "ExecuteTime": {
     "end_time": "2020-09-16T16:55:09.439565Z",
     "start_time": "2020-09-16T16:55:09.416839Z"
    }
   },
   "outputs": [
    {
     "name": "stdout",
     "output_type": "stream",
     "text": [
      "<class 'pandas.core.frame.DataFrame'>\n",
      "RangeIndex: 87 entries, 0 to 86\n",
      "Data columns (total 19 columns):\n",
      " #   Column              Non-Null Count  Dtype \n",
      "---  ------              --------------  ----- \n",
      " 0   county              87 non-null     object\n",
      " 1   location_type       87 non-null     object\n",
      " 2   address_1           87 non-null     object\n",
      " 3   address_2           0 non-null      object\n",
      " 4   city                87 non-null     object\n",
      " 5   state               87 non-null     object\n",
      " 6   zip                 87 non-null     object\n",
      " 7   phone               87 non-null     object\n",
      " 8   latitude            0 non-null      object\n",
      " 9   longitude           0 non-null      object\n",
      " 10  has_droppff         0 non-null      object\n",
      " 11  has_phone           0 non-null      object\n",
      " 12  county_website_url  87 non-null     object\n",
      " 13  validate_url        0 non-null      object\n",
      " 14  email               87 non-null     object\n",
      " 15  fax                 87 non-null     object\n",
      " 16  social              0 non-null      object\n",
      " 17  inactive            0 non-null      object\n",
      " 18  hours               87 non-null     object\n",
      "dtypes: object(19)\n",
      "memory usage: 13.0+ KB\n"
     ]
    }
   ],
   "source": [
    "all_data_df.info()"
   ]
  },
  {
   "cell_type": "markdown",
   "metadata": {},
   "source": [
    "# Correct Winona  and spot check a few counties"
   ]
  },
  {
   "cell_type": "code",
   "execution_count": 58,
   "metadata": {
    "ExecuteTime": {
     "end_time": "2020-09-16T16:55:09.460460Z",
     "start_time": "2020-09-16T16:55:09.451053Z"
    }
   },
   "outputs": [],
   "source": [
    "winona_index = all_data_df[all_data_df['county']=='Winona County'].index.item()"
   ]
  },
  {
   "cell_type": "code",
   "execution_count": 59,
   "metadata": {
    "ExecuteTime": {
     "end_time": "2020-09-16T16:55:09.475244Z",
     "start_time": "2020-09-16T16:55:09.468891Z"
    }
   },
   "outputs": [],
   "source": [
    "all_data_df.loc[winona_index, 'address_1'] = '202 W Third St'"
   ]
  },
  {
   "cell_type": "code",
   "execution_count": 60,
   "metadata": {
    "ExecuteTime": {
     "end_time": "2020-09-16T16:55:09.520202Z",
     "start_time": "2020-09-16T16:55:09.482447Z"
    }
   },
   "outputs": [
    {
     "data": {
      "text/html": [
       "<div>\n",
       "<style scoped>\n",
       "    .dataframe tbody tr th:only-of-type {\n",
       "        vertical-align: middle;\n",
       "    }\n",
       "\n",
       "    .dataframe tbody tr th {\n",
       "        vertical-align: top;\n",
       "    }\n",
       "\n",
       "    .dataframe thead th {\n",
       "        text-align: right;\n",
       "    }\n",
       "</style>\n",
       "<table border=\"1\" class=\"dataframe\">\n",
       "  <thead>\n",
       "    <tr style=\"text-align: right;\">\n",
       "      <th></th>\n",
       "      <th>county</th>\n",
       "      <th>location_type</th>\n",
       "      <th>address_1</th>\n",
       "      <th>address_2</th>\n",
       "      <th>city</th>\n",
       "      <th>state</th>\n",
       "      <th>zip</th>\n",
       "      <th>phone</th>\n",
       "      <th>latitude</th>\n",
       "      <th>longitude</th>\n",
       "      <th>has_droppff</th>\n",
       "      <th>has_phone</th>\n",
       "      <th>county_website_url</th>\n",
       "      <th>validate_url</th>\n",
       "      <th>email</th>\n",
       "      <th>fax</th>\n",
       "      <th>social</th>\n",
       "      <th>inactive</th>\n",
       "      <th>hours</th>\n",
       "    </tr>\n",
       "  </thead>\n",
       "  <tbody>\n",
       "    <tr>\n",
       "      <th>84</th>\n",
       "      <td>Winona County</td>\n",
       "      <td>Winona County Auditor-Treasurer</td>\n",
       "      <td>202 W Third St</td>\n",
       "      <td>NaN</td>\n",
       "      <td>Winona</td>\n",
       "      <td>MN</td>\n",
       "      <td>55987</td>\n",
       "      <td>507-457-8830</td>\n",
       "      <td>NaN</td>\n",
       "      <td>NaN</td>\n",
       "      <td>NaN</td>\n",
       "      <td>NaN</td>\n",
       "      <td>http://www.co.winona.mn.us/</td>\n",
       "      <td>NaN</td>\n",
       "      <td>elections@co.winona.mn.us</td>\n",
       "      <td>507-454-9368</td>\n",
       "      <td>NaN</td>\n",
       "      <td>NaN</td>\n",
       "      <td>The last Saturday before Election Day (10 a.m....</td>\n",
       "    </tr>\n",
       "  </tbody>\n",
       "</table>\n",
       "</div>"
      ],
      "text/plain": [
       "           county                    location_type       address_1 address_2  \\\n",
       "84  Winona County  Winona County Auditor-Treasurer  202 W Third St       NaN   \n",
       "\n",
       "      city state    zip         phone latitude longitude has_droppff  \\\n",
       "84  Winona    MN  55987  507-457-8830      NaN       NaN         NaN   \n",
       "\n",
       "   has_phone           county_website_url validate_url  \\\n",
       "84       NaN  http://www.co.winona.mn.us/          NaN   \n",
       "\n",
       "                        email           fax social inactive  \\\n",
       "84  elections@co.winona.mn.us  507-454-9368    NaN      NaN   \n",
       "\n",
       "                                                hours  \n",
       "84  The last Saturday before Election Day (10 a.m....  "
      ]
     },
     "execution_count": 60,
     "metadata": {},
     "output_type": "execute_result"
    }
   ],
   "source": [
    "all_data_df[all_data_df['county']=='Winona County']"
   ]
  },
  {
   "cell_type": "code",
   "execution_count": 61,
   "metadata": {
    "ExecuteTime": {
     "end_time": "2020-09-16T16:55:09.562762Z",
     "start_time": "2020-09-16T16:55:09.526207Z"
    }
   },
   "outputs": [
    {
     "data": {
      "text/html": [
       "<div>\n",
       "<style scoped>\n",
       "    .dataframe tbody tr th:only-of-type {\n",
       "        vertical-align: middle;\n",
       "    }\n",
       "\n",
       "    .dataframe tbody tr th {\n",
       "        vertical-align: top;\n",
       "    }\n",
       "\n",
       "    .dataframe thead th {\n",
       "        text-align: right;\n",
       "    }\n",
       "</style>\n",
       "<table border=\"1\" class=\"dataframe\">\n",
       "  <thead>\n",
       "    <tr style=\"text-align: right;\">\n",
       "      <th></th>\n",
       "      <th>county</th>\n",
       "      <th>location_type</th>\n",
       "      <th>address_1</th>\n",
       "      <th>address_2</th>\n",
       "      <th>city</th>\n",
       "      <th>state</th>\n",
       "      <th>zip</th>\n",
       "      <th>phone</th>\n",
       "      <th>latitude</th>\n",
       "      <th>longitude</th>\n",
       "      <th>has_droppff</th>\n",
       "      <th>has_phone</th>\n",
       "      <th>county_website_url</th>\n",
       "      <th>validate_url</th>\n",
       "      <th>email</th>\n",
       "      <th>fax</th>\n",
       "      <th>social</th>\n",
       "      <th>inactive</th>\n",
       "      <th>hours</th>\n",
       "    </tr>\n",
       "  </thead>\n",
       "  <tbody>\n",
       "    <tr>\n",
       "      <th>9</th>\n",
       "      <td>Carver County</td>\n",
       "      <td>Government Center - Administration Bldg</td>\n",
       "      <td>600 E Fourth St</td>\n",
       "      <td>NaN</td>\n",
       "      <td>Chaska</td>\n",
       "      <td>MN</td>\n",
       "      <td>55318-2102</td>\n",
       "      <td>952-361-1981</td>\n",
       "      <td>NaN</td>\n",
       "      <td>NaN</td>\n",
       "      <td>NaN</td>\n",
       "      <td>NaN</td>\n",
       "      <td>http://www.co.carver.mn.us/</td>\n",
       "      <td>NaN</td>\n",
       "      <td>elections@co.carver.mn.us</td>\n",
       "      <td>952-361-1919</td>\n",
       "      <td>NaN</td>\n",
       "      <td>NaN</td>\n",
       "      <td>The last Saturday before Election Day (10 a.m....</td>\n",
       "    </tr>\n",
       "  </tbody>\n",
       "</table>\n",
       "</div>"
      ],
      "text/plain": [
       "          county                            location_type        address_1  \\\n",
       "9  Carver County  Government Center - Administration Bldg  600 E Fourth St   \n",
       "\n",
       "  address_2    city state         zip         phone latitude longitude  \\\n",
       "9       NaN  Chaska    MN  55318-2102  952-361-1981      NaN       NaN   \n",
       "\n",
       "  has_droppff has_phone           county_website_url validate_url  \\\n",
       "9         NaN       NaN  http://www.co.carver.mn.us/          NaN   \n",
       "\n",
       "                       email           fax social inactive  \\\n",
       "9  elections@co.carver.mn.us  952-361-1919    NaN      NaN   \n",
       "\n",
       "                                               hours  \n",
       "9  The last Saturday before Election Day (10 a.m....  "
      ]
     },
     "execution_count": 61,
     "metadata": {},
     "output_type": "execute_result"
    }
   ],
   "source": [
    "all_data_df[all_data_df['county']=='Carver County']"
   ]
  },
  {
   "cell_type": "code",
   "execution_count": 62,
   "metadata": {
    "ExecuteTime": {
     "end_time": "2020-09-16T16:55:09.594913Z",
     "start_time": "2020-09-16T16:55:09.568610Z"
    }
   },
   "outputs": [
    {
     "data": {
      "text/html": [
       "<div>\n",
       "<style scoped>\n",
       "    .dataframe tbody tr th:only-of-type {\n",
       "        vertical-align: middle;\n",
       "    }\n",
       "\n",
       "    .dataframe tbody tr th {\n",
       "        vertical-align: top;\n",
       "    }\n",
       "\n",
       "    .dataframe thead th {\n",
       "        text-align: right;\n",
       "    }\n",
       "</style>\n",
       "<table border=\"1\" class=\"dataframe\">\n",
       "  <thead>\n",
       "    <tr style=\"text-align: right;\">\n",
       "      <th></th>\n",
       "      <th>county</th>\n",
       "      <th>location_type</th>\n",
       "      <th>address_1</th>\n",
       "      <th>address_2</th>\n",
       "      <th>city</th>\n",
       "      <th>state</th>\n",
       "      <th>zip</th>\n",
       "      <th>phone</th>\n",
       "      <th>latitude</th>\n",
       "      <th>longitude</th>\n",
       "      <th>has_droppff</th>\n",
       "      <th>has_phone</th>\n",
       "      <th>county_website_url</th>\n",
       "      <th>validate_url</th>\n",
       "      <th>email</th>\n",
       "      <th>fax</th>\n",
       "      <th>social</th>\n",
       "      <th>inactive</th>\n",
       "      <th>hours</th>\n",
       "    </tr>\n",
       "  </thead>\n",
       "  <tbody>\n",
       "    <tr>\n",
       "      <th>86</th>\n",
       "      <td>Yellow Medicine County</td>\n",
       "      <td>YMC Government Center</td>\n",
       "      <td>180 8th Ave</td>\n",
       "      <td>NaN</td>\n",
       "      <td>Granite Falls</td>\n",
       "      <td>MN</td>\n",
       "      <td>56241-1508</td>\n",
       "      <td>320-564-3132</td>\n",
       "      <td>NaN</td>\n",
       "      <td>NaN</td>\n",
       "      <td>NaN</td>\n",
       "      <td>NaN</td>\n",
       "      <td>http://www.co.ym.mn.gov</td>\n",
       "      <td>NaN</td>\n",
       "      <td>amyr@co.ym.mn.gov</td>\n",
       "      <td>320-564-0927</td>\n",
       "      <td>NaN</td>\n",
       "      <td>NaN</td>\n",
       "      <td>The last Saturday before Election Day (10 a.m....</td>\n",
       "    </tr>\n",
       "  </tbody>\n",
       "</table>\n",
       "</div>"
      ],
      "text/plain": [
       "                    county          location_type    address_1 address_2  \\\n",
       "86  Yellow Medicine County  YMC Government Center  180 8th Ave       NaN   \n",
       "\n",
       "             city state         zip         phone latitude longitude  \\\n",
       "86  Granite Falls    MN  56241-1508  320-564-3132      NaN       NaN   \n",
       "\n",
       "   has_droppff has_phone       county_website_url validate_url  \\\n",
       "86         NaN       NaN  http://www.co.ym.mn.gov          NaN   \n",
       "\n",
       "                email           fax social inactive  \\\n",
       "86  amyr@co.ym.mn.gov  320-564-0927    NaN      NaN   \n",
       "\n",
       "                                                hours  \n",
       "86  The last Saturday before Election Day (10 a.m....  "
      ]
     },
     "execution_count": 62,
     "metadata": {},
     "output_type": "execute_result"
    }
   ],
   "source": [
    "all_data_df[all_data_df['county']=='Yellow Medicine County']"
   ]
  },
  {
   "cell_type": "code",
   "execution_count": 63,
   "metadata": {
    "ExecuteTime": {
     "end_time": "2020-09-16T16:55:09.628202Z",
     "start_time": "2020-09-16T16:55:09.599824Z"
    }
   },
   "outputs": [
    {
     "data": {
      "text/html": [
       "<div>\n",
       "<style scoped>\n",
       "    .dataframe tbody tr th:only-of-type {\n",
       "        vertical-align: middle;\n",
       "    }\n",
       "\n",
       "    .dataframe tbody tr th {\n",
       "        vertical-align: top;\n",
       "    }\n",
       "\n",
       "    .dataframe thead th {\n",
       "        text-align: right;\n",
       "    }\n",
       "</style>\n",
       "<table border=\"1\" class=\"dataframe\">\n",
       "  <thead>\n",
       "    <tr style=\"text-align: right;\">\n",
       "      <th></th>\n",
       "      <th>county</th>\n",
       "      <th>location_type</th>\n",
       "      <th>address_1</th>\n",
       "      <th>address_2</th>\n",
       "      <th>city</th>\n",
       "      <th>state</th>\n",
       "      <th>zip</th>\n",
       "      <th>phone</th>\n",
       "      <th>latitude</th>\n",
       "      <th>longitude</th>\n",
       "      <th>has_droppff</th>\n",
       "      <th>has_phone</th>\n",
       "      <th>county_website_url</th>\n",
       "      <th>validate_url</th>\n",
       "      <th>email</th>\n",
       "      <th>fax</th>\n",
       "      <th>social</th>\n",
       "      <th>inactive</th>\n",
       "      <th>hours</th>\n",
       "    </tr>\n",
       "  </thead>\n",
       "  <tbody>\n",
       "    <tr>\n",
       "      <th>38</th>\n",
       "      <td>Lake of the Woods County</td>\n",
       "      <td>Lorene Hanson</td>\n",
       "      <td>206 8th Ave SE Ste 260</td>\n",
       "      <td>NaN</td>\n",
       "      <td>Baudette</td>\n",
       "      <td>MN</td>\n",
       "      <td>56623</td>\n",
       "      <td>218-634-2836</td>\n",
       "      <td>NaN</td>\n",
       "      <td>NaN</td>\n",
       "      <td>NaN</td>\n",
       "      <td>NaN</td>\n",
       "      <td>http://www.co.lake-of-the-woods.mn.us/</td>\n",
       "      <td>NaN</td>\n",
       "      <td>lorene_h@co.lake-of-the-woods.mn.us</td>\n",
       "      <td>218-634-2509</td>\n",
       "      <td>NaN</td>\n",
       "      <td>NaN</td>\n",
       "      <td>The last Saturday before Election Day (10 a.m....</td>\n",
       "    </tr>\n",
       "  </tbody>\n",
       "</table>\n",
       "</div>"
      ],
      "text/plain": [
       "                      county  location_type               address_1 address_2  \\\n",
       "38  Lake of the Woods County  Lorene Hanson  206 8th Ave SE Ste 260       NaN   \n",
       "\n",
       "        city state    zip         phone latitude longitude has_droppff  \\\n",
       "38  Baudette    MN  56623  218-634-2836      NaN       NaN         NaN   \n",
       "\n",
       "   has_phone                      county_website_url validate_url  \\\n",
       "38       NaN  http://www.co.lake-of-the-woods.mn.us/          NaN   \n",
       "\n",
       "                                  email           fax social inactive  \\\n",
       "38  lorene_h@co.lake-of-the-woods.mn.us  218-634-2509    NaN      NaN   \n",
       "\n",
       "                                                hours  \n",
       "38  The last Saturday before Election Day (10 a.m....  "
      ]
     },
     "execution_count": 63,
     "metadata": {},
     "output_type": "execute_result"
    }
   ],
   "source": [
    "all_data_df[all_data_df['county']=='Lake of the Woods County']"
   ]
  },
  {
   "cell_type": "code",
   "execution_count": 64,
   "metadata": {
    "ExecuteTime": {
     "end_time": "2020-09-16T16:55:09.658051Z",
     "start_time": "2020-09-16T16:55:09.632094Z"
    }
   },
   "outputs": [
    {
     "data": {
      "text/html": [
       "<div>\n",
       "<style scoped>\n",
       "    .dataframe tbody tr th:only-of-type {\n",
       "        vertical-align: middle;\n",
       "    }\n",
       "\n",
       "    .dataframe tbody tr th {\n",
       "        vertical-align: top;\n",
       "    }\n",
       "\n",
       "    .dataframe thead th {\n",
       "        text-align: right;\n",
       "    }\n",
       "</style>\n",
       "<table border=\"1\" class=\"dataframe\">\n",
       "  <thead>\n",
       "    <tr style=\"text-align: right;\">\n",
       "      <th></th>\n",
       "      <th>county</th>\n",
       "      <th>location_type</th>\n",
       "      <th>address_1</th>\n",
       "      <th>address_2</th>\n",
       "      <th>city</th>\n",
       "      <th>state</th>\n",
       "      <th>zip</th>\n",
       "      <th>phone</th>\n",
       "      <th>latitude</th>\n",
       "      <th>longitude</th>\n",
       "      <th>has_droppff</th>\n",
       "      <th>has_phone</th>\n",
       "      <th>county_website_url</th>\n",
       "      <th>validate_url</th>\n",
       "      <th>email</th>\n",
       "      <th>fax</th>\n",
       "      <th>social</th>\n",
       "      <th>inactive</th>\n",
       "      <th>hours</th>\n",
       "    </tr>\n",
       "  </thead>\n",
       "  <tbody>\n",
       "    <tr>\n",
       "      <th>43</th>\n",
       "      <td>Marshall County</td>\n",
       "      <td>Leanne Novacek</td>\n",
       "      <td>208 E Colvin Ave, Ste 11</td>\n",
       "      <td>NaN</td>\n",
       "      <td>Warren</td>\n",
       "      <td>MN</td>\n",
       "      <td>56762</td>\n",
       "      <td>218-745-4851</td>\n",
       "      <td>NaN</td>\n",
       "      <td>NaN</td>\n",
       "      <td>NaN</td>\n",
       "      <td>NaN</td>\n",
       "      <td>http://www.co.marshall.mn.us/</td>\n",
       "      <td>NaN</td>\n",
       "      <td>leanne.novacek@co.marshall.mn.us</td>\n",
       "      <td>218-745-5089</td>\n",
       "      <td>NaN</td>\n",
       "      <td>NaN</td>\n",
       "      <td>The last Saturday before Election Day (10 a.m....</td>\n",
       "    </tr>\n",
       "  </tbody>\n",
       "</table>\n",
       "</div>"
      ],
      "text/plain": [
       "             county   location_type                 address_1 address_2  \\\n",
       "43  Marshall County  Leanne Novacek  208 E Colvin Ave, Ste 11       NaN   \n",
       "\n",
       "      city state    zip         phone latitude longitude has_droppff  \\\n",
       "43  Warren    MN  56762  218-745-4851      NaN       NaN         NaN   \n",
       "\n",
       "   has_phone             county_website_url validate_url  \\\n",
       "43       NaN  http://www.co.marshall.mn.us/          NaN   \n",
       "\n",
       "                               email           fax social inactive  \\\n",
       "43  leanne.novacek@co.marshall.mn.us  218-745-5089    NaN      NaN   \n",
       "\n",
       "                                                hours  \n",
       "43  The last Saturday before Election Day (10 a.m....  "
      ]
     },
     "execution_count": 64,
     "metadata": {},
     "output_type": "execute_result"
    }
   ],
   "source": [
    "all_data_df[all_data_df['county']=='Marshall County']"
   ]
  },
  {
   "cell_type": "markdown",
   "metadata": {},
   "source": [
    "# Write DataFrame to csv"
   ]
  },
  {
   "cell_type": "code",
   "execution_count": 65,
   "metadata": {
    "ExecuteTime": {
     "end_time": "2020-09-16T16:55:09.665848Z",
     "start_time": "2020-09-16T16:55:09.662091Z"
    }
   },
   "outputs": [],
   "source": [
    "all_data_df.to_csv('Minnesota.csv', index=False)"
   ]
  }
 ],
 "metadata": {
  "kernelspec": {
   "display_name": "Python 3",
   "language": "python",
   "name": "python3"
  },
  "language_info": {
   "codemirror_mode": {
    "name": "ipython",
    "version": 3
   },
   "file_extension": ".py",
   "mimetype": "text/x-python",
   "name": "python",
   "nbconvert_exporter": "python",
   "pygments_lexer": "ipython3",
   "version": "3.6.8"
  },
  "toc": {
   "base_numbering": 1,
   "nav_menu": {},
   "number_sections": true,
   "sideBar": true,
   "skip_h1_title": false,
   "title_cell": "Table of Contents",
   "title_sidebar": "Contents",
   "toc_cell": true,
   "toc_position": {
    "height": "708px",
    "left": "1395.40625px",
    "top": "140px",
    "width": "345.59375px"
   },
   "toc_section_display": true,
   "toc_window_display": true
  }
 },
 "nbformat": 4,
 "nbformat_minor": 4
}
