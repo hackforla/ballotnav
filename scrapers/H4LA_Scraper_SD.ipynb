{
 "cells": [
  {
   "cell_type": "code",
   "execution_count": 1,
   "metadata": {},
   "outputs": [],
   "source": [
    "import requests\n",
    "from bs4 import BeautifulSoup\n",
    "import pandas as pd"
   ]
  },
  {
   "cell_type": "code",
   "execution_count": 2,
   "metadata": {},
   "outputs": [],
   "source": [
    "url = \"https://vip.sdsos.gov/CountyAuditors.aspx\"\n",
    "res = requests.get(url)"
   ]
  },
  {
   "cell_type": "code",
   "execution_count": 3,
   "metadata": {},
   "outputs": [
    {
     "data": {
      "text/plain": [
       "200"
      ]
     },
     "execution_count": 3,
     "metadata": {},
     "output_type": "execute_result"
    }
   ],
   "source": [
    "res.status_code\n",
    "\n",
    "#200 means it worked"
   ]
  },
  {
   "cell_type": "code",
   "execution_count": 4,
   "metadata": {},
   "outputs": [],
   "source": [
    "# res.content - monstrocity! this is where BeautifulSoup comes in!"
   ]
  },
  {
   "cell_type": "code",
   "execution_count": 5,
   "metadata": {},
   "outputs": [],
   "source": [
    "soup = BeautifulSoup(res.content, \"html.parser\")\n",
    "#soup"
   ]
  },
  {
   "cell_type": "code",
   "execution_count": 6,
   "metadata": {},
   "outputs": [],
   "source": [
    "body = soup.find(\"body\")\n",
    "#body"
   ]
  },
  {
   "cell_type": "code",
   "execution_count": 7,
   "metadata": {},
   "outputs": [],
   "source": [
    "#body.find(\"div\", {\"class\": \"panel\"})\n",
    "#body.find(\"div\", {\"class\": \"panel\"}).text.strip()"
   ]
  },
  {
   "cell_type": "code",
   "execution_count": 8,
   "metadata": {},
   "outputs": [],
   "source": [
    "counties = body.find(\"table\", {\"class\": \"rgMasterTable\"})\n",
    "#counties"
   ]
  },
  {
   "cell_type": "code",
   "execution_count": 9,
   "metadata": {},
   "outputs": [],
   "source": [
    "tbody = body.findAll(\"tbody\")\n",
    "#tbody"
   ]
  },
  {
   "cell_type": "code",
   "execution_count": 10,
   "metadata": {},
   "outputs": [],
   "source": [
    "#for county in counties.findAll('tr'):\n",
    "    #print(county.find('td'))"
   ]
  },
  {
   "cell_type": "code",
   "execution_count": 11,
   "metadata": {},
   "outputs": [
    {
     "name": "stdout",
     "output_type": "stream",
     "text": [
      "<td>Aurora</td>\n",
      "<td>Bennett</td>\n",
      "<td>Brookings</td>\n",
      "<td>Brule</td>\n",
      "<td>Butte</td>\n",
      "<td>Charles Mix</td>\n",
      "<td>Clay</td>\n",
      "<td>Corson</td>\n",
      "<td>Davison</td>\n",
      "<td>Deuel</td>\n",
      "<td>Douglas</td>\n",
      "<td>Fall River</td>\n",
      "<td>Grant</td>\n",
      "<td>Haakon</td>\n",
      "<td>Hand</td>\n",
      "<td>Harding</td>\n",
      "<td>Hutchinson</td>\n",
      "<td>Jackson</td>\n",
      "<td>Jones</td>\n",
      "<td>Lake</td>\n",
      "<td>Lincoln</td>\n",
      "<td>Marshall</td>\n",
      "<td>McPherson</td>\n",
      "<td>Mellette</td>\n",
      "<td>Minnehaha</td>\n",
      "<td>Oglala Lakota</td>\n",
      "<td>Perkins</td>\n",
      "<td>Roberts</td>\n",
      "<td>Spink</td>\n",
      "<td>Sully</td>\n",
      "<td>Tripp</td>\n",
      "<td>Union</td>\n",
      "<td>Yankton</td>\n"
     ]
    }
   ],
   "source": [
    "#counties.findAll('tr', {'class' : 'rgRow'})\n",
    "\n",
    "for item in counties.findAll('tr', {'class' : 'rgRow'}):\n",
    "    print(item.find('td'))"
   ]
  },
  {
   "cell_type": "code",
   "execution_count": 12,
   "metadata": {},
   "outputs": [
    {
     "data": {
      "text/plain": [
       "<tr class=\"rgRow\" id=\"ctl00_MainContent_rdgCountyAuditors_ctl00__0\">\n",
       "<td>Aurora</td><td>Susan</td><td>Urban</td><td>PO Box 397</td><td>Plankinton</td><td>57368-0397</td><td>(605) 942-7752</td><td>(605) 942-7746</td><td><a href=\"mailto:susan.urban@state.sd.us\">Email</a></td>\n",
       "</tr>"
      ]
     },
     "execution_count": 12,
     "metadata": {},
     "output_type": "execute_result"
    }
   ],
   "source": [
    "counties.findAll('tr', {'class' : 'rgRow'})[0]"
   ]
  },
  {
   "cell_type": "code",
   "execution_count": 13,
   "metadata": {},
   "outputs": [
    {
     "data": {
      "text/plain": [
       "[<td>Aurora</td>,\n",
       " <td>Susan</td>,\n",
       " <td>Urban</td>,\n",
       " <td>PO Box 397</td>,\n",
       " <td>Plankinton</td>,\n",
       " <td>57368-0397</td>,\n",
       " <td>(605) 942-7752</td>,\n",
       " <td>(605) 942-7746</td>,\n",
       " <td><a href=\"mailto:susan.urban@state.sd.us\">Email</a></td>]"
      ]
     },
     "execution_count": 13,
     "metadata": {},
     "output_type": "execute_result"
    }
   ],
   "source": [
    "counties.findAll('tr', {'class' : 'rgRow'})[0].findAll('td')"
   ]
  },
  {
   "cell_type": "code",
   "execution_count": 14,
   "metadata": {},
   "outputs": [
    {
     "data": {
      "text/plain": [
       "'Aurora'"
      ]
     },
     "execution_count": 14,
     "metadata": {},
     "output_type": "execute_result"
    }
   ],
   "source": [
    "#County name\n",
    "counties.findAll('tr', {'class' : 'rgRow'})[0].findAll('td')[0].text "
   ]
  },
  {
   "cell_type": "code",
   "execution_count": 15,
   "metadata": {},
   "outputs": [
    {
     "data": {
      "text/plain": [
       "'Susan'"
      ]
     },
     "execution_count": 15,
     "metadata": {},
     "output_type": "execute_result"
    }
   ],
   "source": [
    "#First Name\n",
    "counties.findAll('tr', {'class' : 'rgRow'})[0].findAll('td')[1].text "
   ]
  },
  {
   "cell_type": "code",
   "execution_count": 16,
   "metadata": {},
   "outputs": [
    {
     "data": {
      "text/plain": [
       "'Urban'"
      ]
     },
     "execution_count": 16,
     "metadata": {},
     "output_type": "execute_result"
    }
   ],
   "source": [
    "#Last Name\n",
    "counties.findAll('tr', {'class' : 'rgRow'})[0].findAll('td')[2].text "
   ]
  },
  {
   "cell_type": "code",
   "execution_count": 17,
   "metadata": {},
   "outputs": [
    {
     "data": {
      "text/plain": [
       "'PO Box 397'"
      ]
     },
     "execution_count": 17,
     "metadata": {},
     "output_type": "execute_result"
    }
   ],
   "source": [
    "#Mailing address\n",
    "counties.findAll('tr', {'class' : 'rgRow'})[0].findAll('td')[3].text "
   ]
  },
  {
   "cell_type": "code",
   "execution_count": 18,
   "metadata": {},
   "outputs": [
    {
     "data": {
      "text/plain": [
       "('(605) 942-7752',)"
      ]
     },
     "execution_count": 18,
     "metadata": {},
     "output_type": "execute_result"
    }
   ],
   "source": [
    "#Phone\n",
    "counties.findAll('tr', {'class' : 'rgRow'})[0].findAll('td')[6].text,"
   ]
  },
  {
   "cell_type": "code",
   "execution_count": 19,
   "metadata": {},
   "outputs": [
    {
     "data": {
      "text/plain": [
       "('mailto:susan.urban@state.sd.us',)"
      ]
     },
     "execution_count": 19,
     "metadata": {},
     "output_type": "execute_result"
    }
   ],
   "source": [
    "#Email\n",
    "counties.findAll('tr', {'class' : 'rgRow'})[0].find('a').attrs['href'],"
   ]
  },
  {
   "cell_type": "code",
   "execution_count": 20,
   "metadata": {},
   "outputs": [
    {
     "data": {
      "text/plain": [
       "('mailto:dcaudit1@itctel.com',)"
      ]
     },
     "execution_count": 20,
     "metadata": {},
     "output_type": "execute_result"
    }
   ],
   "source": [
    "#Email\n",
    "counties.findAll('tr', {'class' : 'rgRow'})[9].find('a').attrs['href'],"
   ]
  },
  {
   "cell_type": "code",
   "execution_count": 21,
   "metadata": {},
   "outputs": [
    {
     "data": {
      "text/plain": [
       "6"
      ]
     },
     "execution_count": 21,
     "metadata": {},
     "output_type": "execute_result"
    }
   ],
   "source": [
    "len(counties)"
   ]
  },
  {
   "cell_type": "markdown",
   "metadata": {},
   "source": [
    "#### findAll('tr', {'class' : 'rgAltRow'})"
   ]
  },
  {
   "cell_type": "code",
   "execution_count": 22,
   "metadata": {},
   "outputs": [
    {
     "data": {
      "text/plain": [
       "<tr class=\"rgAltRow\" id=\"ctl00_MainContent_rdgCountyAuditors_ctl00__1\">\n",
       "<td>Beadle</td><td>Jill</td><td>Hanson</td><td>450 3rd St. SW, Ste. 201</td><td>Huron</td><td>57350</td><td>(605) 353-8400</td><td>(605) 353-8402</td><td><a href=\"mailto:auditor@beadlesd.org\">Email</a></td>\n",
       "</tr>"
      ]
     },
     "execution_count": 22,
     "metadata": {},
     "output_type": "execute_result"
    }
   ],
   "source": [
    "counties.findAll('tr', {'class' : 'rgAltRow'})[0]"
   ]
  },
  {
   "cell_type": "markdown",
   "metadata": {},
   "source": [
    "#### Main Function"
   ]
  },
  {
   "cell_type": "code",
   "execution_count": 23,
   "metadata": {},
   "outputs": [
    {
     "name": "stdout",
     "output_type": "stream",
     "text": [
      "mailto:susan.urban@state.sd.us\n",
      "mailto:bcauditor@gwtc.net\n",
      "mailto:vbuseth@brookingscountysd.gov\n",
      "mailto:brulaud@midstatesd.net\n",
      "mailto:auditor@buttesd.org\n",
      "mailto:ddavenport@charlesmixcounty.org\n",
      "mailto:carri.crum@claycountysd.org\n",
      "mailto:corsonauditor@sdplains.com\n",
      "mailto:auditor@davisoncounty.org\n",
      "mailto:dcaudit1@itctel.com\n",
      "mailto:phyllis.barker@state.sd.us\n",
      "mailto:sue.ganje@state.sd.us\n",
      "mailto:karen.layher@grantcountysd.us\n",
      "mailto:haakon@gwtc.net\n",
      "mailto:auditor@handcountysd.org\n",
      "mailto:kathy.glines@state.sd.us\n",
      "mailto:dmurtha@hutchinsoncounty.org\n",
      "mailto:vicki.wilson@state.sd.us\n",
      "mailto:jonesaud@goldenwest.net\n",
      "mailto:lakeauditor@lake.sd.gov\n",
      "mailto:Auditor@lincolncountysd.org\n",
      "mailto:mcauditor@venturecomm.net\n",
      "mailto:mcphersonaud@valleytel.net\n",
      "mailto:mellettecounty@gmail.com\n",
      "mailto:blitz@minnehahacounty.org\n",
      "mailto:sue.ganje@state.sd.us\n",
      "mailto:pkaud@sdplains.com\n",
      "mailto:dawn.sattler@state.sd.us\n",
      "mailto:spinkcoauditor@nrctv.com\n",
      "mailto:sullyaud@venturecomm.net\n",
      "mailto:bdesersa@trippcounty.us\n",
      "mailto:ucauditor@unioncountysd.org\n",
      "mailto:patty@co.yankton.sd.us\n"
     ]
    }
   ],
   "source": [
    "#Email\n",
    "for item in counties.findAll('tr', {'class' : 'rgRow'}):\n",
    "    print(item.find('a').attrs['href'])"
   ]
  },
  {
   "cell_type": "code",
   "execution_count": 52,
   "metadata": {},
   "outputs": [],
   "source": [
    "#counties.findAll('tr', {'class' : 'rgRow'})[1].findAll('td')[8]"
   ]
  },
  {
   "cell_type": "code",
   "execution_count": 43,
   "metadata": {},
   "outputs": [
    {
     "name": "stdout",
     "output_type": "stream",
     "text": [
      "susan.urban@state.sd.us\n",
      "bcauditor@gwtc.net\n",
      "vbuseth@brookingscountysd.gov\n",
      "brulaud@midstatesd.net\n",
      "auditor@buttesd.org\n",
      "ddavenport@charlesmixcounty.org\n",
      "carri.crum@claycountysd.org\n",
      "corsonauditor@sdplains.com\n",
      "auditor@davisoncounty.org\n",
      "dcaudit1@itctel.com\n",
      "phyllis.barker@state.sd.us\n",
      "sue.ganje@state.sd.us\n",
      "karen.layher@grantcountysd.us\n",
      "haakon@gwtc.net\n",
      "auditor@handcountysd.org\n",
      "kathy.glines@state.sd.us\n",
      "dmurtha@hutchinsoncounty.org\n",
      "vicki.wilson@state.sd.us\n",
      "jonesaud@goldenwest.net\n",
      "lakeauditor@lake.sd.gov\n",
      "Auditor@lincolncountysd.org\n",
      "mcauditor@venturecomm.net\n",
      "mcphersonaud@valleytel.net\n",
      "mellettecounty@gmail.com\n",
      "blitz@minnehahacounty.org\n",
      "sue.ganje@state.sd.us\n",
      "pkaud@sdplains.com\n",
      "dawn.sattler@state.sd.us\n",
      "spinkcoauditor@nrctv.com\n",
      "sullyaud@venturecomm.net\n",
      "bdesersa@trippcounty.us\n",
      "ucauditor@unioncountysd.org\n",
      "patty@co.yankton.sd.us\n"
     ]
    }
   ],
   "source": [
    "#Email cleaned up\n",
    "for item in counties.findAll('tr', {'class' : 'rgRow'}):\n",
    "    print(item.findAll('td')[8].find('a').attrs['href'][7:])\n",
    "    \n",
    "    #print(item.find('a').attrs['href'])"
   ]
  },
  {
   "cell_type": "code",
   "execution_count": 26,
   "metadata": {},
   "outputs": [
    {
     "name": "stdout",
     "output_type": "stream",
     "text": [
      "<td>Susan</td>\n",
      "<td>Angela</td>\n",
      "<td>Vicki</td>\n",
      "<td>Pam</td>\n",
      "<td>Elaine</td>\n",
      "<td>Danielle</td>\n",
      "<td>Carri</td>\n",
      "<td>Tammy</td>\n",
      "<td>Susan</td>\n",
      "<td>Mary</td>\n",
      "<td>Phyllis</td>\n",
      "<td>Sue</td>\n",
      "<td>Karen</td>\n",
      "<td>Carla</td>\n",
      "<td>Doug</td>\n",
      "<td>Kathy</td>\n",
      "<td>Diane</td>\n",
      "<td>Vicki</td>\n",
      "<td>Janice</td>\n",
      "<td>Paula</td>\n",
      "<td>Marlene</td>\n",
      "<td>Megan</td>\n",
      "<td>Lindley</td>\n",
      "<td>Jenny</td>\n",
      "<td>Bob</td>\n",
      "<td>Sue</td>\n",
      "<td>Sylvia</td>\n",
      "<td>Dawn</td>\n",
      "<td>Theresa</td>\n",
      "<td>Susan</td>\n",
      "<td>Barbara</td>\n",
      "<td>Jackie</td>\n",
      "<td>Patty</td>\n"
     ]
    }
   ],
   "source": [
    "for item in counties.findAll('tr', {'class' : 'rgRow'}):\n",
    "    print(item.findAll('td')[1])"
   ]
  },
  {
   "cell_type": "code",
   "execution_count": 46,
   "metadata": {},
   "outputs": [
    {
     "data": {
      "text/html": [
       "<div>\n",
       "<style scoped>\n",
       "    .dataframe tbody tr th:only-of-type {\n",
       "        vertical-align: middle;\n",
       "    }\n",
       "\n",
       "    .dataframe tbody tr th {\n",
       "        vertical-align: top;\n",
       "    }\n",
       "\n",
       "    .dataframe thead th {\n",
       "        text-align: right;\n",
       "    }\n",
       "</style>\n",
       "<table border=\"1\" class=\"dataframe\">\n",
       "  <thead>\n",
       "    <tr style=\"text-align: right;\">\n",
       "      <th></th>\n",
       "      <th>State</th>\n",
       "      <th>County</th>\n",
       "      <th>location_type</th>\n",
       "      <th>address_1</th>\n",
       "      <th>address_2</th>\n",
       "      <th>city</th>\n",
       "      <th>state</th>\n",
       "      <th>phone</th>\n",
       "      <th>latitude</th>\n",
       "      <th>longitude</th>\n",
       "      <th>has_dropoff_location</th>\n",
       "      <th>has_phone_number</th>\n",
       "      <th>county_website_url</th>\n",
       "      <th>email</th>\n",
       "      <th>fax</th>\n",
       "      <th>social</th>\n",
       "      <th>inactive</th>\n",
       "      <th>hours</th>\n",
       "      <th>rules</th>\n",
       "      <th>notes</th>\n",
       "    </tr>\n",
       "  </thead>\n",
       "  <tbody>\n",
       "    <tr>\n",
       "      <th>0</th>\n",
       "      <td>SD</td>\n",
       "      <td>Aurora</td>\n",
       "      <td>County Auditors</td>\n",
       "      <td>PO Box 397</td>\n",
       "      <td></td>\n",
       "      <td>Plankinton</td>\n",
       "      <td>SD</td>\n",
       "      <td>(605) 942-7752</td>\n",
       "      <td></td>\n",
       "      <td></td>\n",
       "      <td>True</td>\n",
       "      <td>True</td>\n",
       "      <td></td>\n",
       "      <td>susan.urban@state.sd.us</td>\n",
       "      <td>(605) 942-7746</td>\n",
       "      <td></td>\n",
       "      <td></td>\n",
       "      <td></td>\n",
       "      <td>Any registered voter may vote by absentee ball...</td>\n",
       "      <td></td>\n",
       "    </tr>\n",
       "    <tr>\n",
       "      <th>1</th>\n",
       "      <td>SD</td>\n",
       "      <td>Bennett</td>\n",
       "      <td>County Auditors</td>\n",
       "      <td>PO Box 460</td>\n",
       "      <td></td>\n",
       "      <td>Martin</td>\n",
       "      <td>SD</td>\n",
       "      <td>(605) 685-6931</td>\n",
       "      <td></td>\n",
       "      <td></td>\n",
       "      <td>True</td>\n",
       "      <td>True</td>\n",
       "      <td></td>\n",
       "      <td>bcauditor@gwtc.net</td>\n",
       "      <td>(605) 685-6311</td>\n",
       "      <td></td>\n",
       "      <td></td>\n",
       "      <td></td>\n",
       "      <td>Any registered voter may vote by absentee ball...</td>\n",
       "      <td></td>\n",
       "    </tr>\n",
       "    <tr>\n",
       "      <th>2</th>\n",
       "      <td>SD</td>\n",
       "      <td>Brookings</td>\n",
       "      <td>County Auditors</td>\n",
       "      <td>520 3rd St., Suite 100</td>\n",
       "      <td></td>\n",
       "      <td>Brookings</td>\n",
       "      <td>SD</td>\n",
       "      <td>(605) 696-8250</td>\n",
       "      <td></td>\n",
       "      <td></td>\n",
       "      <td>True</td>\n",
       "      <td>True</td>\n",
       "      <td></td>\n",
       "      <td>vbuseth@brookingscountysd.gov</td>\n",
       "      <td>(605) 696-8259</td>\n",
       "      <td></td>\n",
       "      <td></td>\n",
       "      <td></td>\n",
       "      <td>Any registered voter may vote by absentee ball...</td>\n",
       "      <td></td>\n",
       "    </tr>\n",
       "    <tr>\n",
       "      <th>3</th>\n",
       "      <td>SD</td>\n",
       "      <td>Brule</td>\n",
       "      <td>County Auditors</td>\n",
       "      <td>300 S Courtland STE 103</td>\n",
       "      <td></td>\n",
       "      <td>Chamberlain</td>\n",
       "      <td>SD</td>\n",
       "      <td>(605) 234-4430</td>\n",
       "      <td></td>\n",
       "      <td></td>\n",
       "      <td>True</td>\n",
       "      <td>True</td>\n",
       "      <td></td>\n",
       "      <td>brulaud@midstatesd.net</td>\n",
       "      <td>(605) 234-4430</td>\n",
       "      <td></td>\n",
       "      <td></td>\n",
       "      <td></td>\n",
       "      <td>Any registered voter may vote by absentee ball...</td>\n",
       "      <td></td>\n",
       "    </tr>\n",
       "    <tr>\n",
       "      <th>4</th>\n",
       "      <td>SD</td>\n",
       "      <td>Butte</td>\n",
       "      <td>County Auditors</td>\n",
       "      <td>117 5th Avenue</td>\n",
       "      <td></td>\n",
       "      <td>Belle Fourche</td>\n",
       "      <td>SD</td>\n",
       "      <td>(605) 892-4485</td>\n",
       "      <td></td>\n",
       "      <td></td>\n",
       "      <td>True</td>\n",
       "      <td>True</td>\n",
       "      <td></td>\n",
       "      <td>auditor@buttesd.org</td>\n",
       "      <td>(605) 723-0057</td>\n",
       "      <td></td>\n",
       "      <td></td>\n",
       "      <td></td>\n",
       "      <td>Any registered voter may vote by absentee ball...</td>\n",
       "      <td></td>\n",
       "    </tr>\n",
       "    <tr>\n",
       "      <th>...</th>\n",
       "      <td>...</td>\n",
       "      <td>...</td>\n",
       "      <td>...</td>\n",
       "      <td>...</td>\n",
       "      <td>...</td>\n",
       "      <td>...</td>\n",
       "      <td>...</td>\n",
       "      <td>...</td>\n",
       "      <td>...</td>\n",
       "      <td>...</td>\n",
       "      <td>...</td>\n",
       "      <td>...</td>\n",
       "      <td>...</td>\n",
       "      <td>...</td>\n",
       "      <td>...</td>\n",
       "      <td>...</td>\n",
       "      <td>...</td>\n",
       "      <td>...</td>\n",
       "      <td>...</td>\n",
       "      <td>...</td>\n",
       "    </tr>\n",
       "    <tr>\n",
       "      <th>61</th>\n",
       "      <td>SD</td>\n",
       "      <td>Stanley</td>\n",
       "      <td>County Auditors</td>\n",
       "      <td>PO Box 595</td>\n",
       "      <td></td>\n",
       "      <td>Fort Pierre</td>\n",
       "      <td>SD</td>\n",
       "      <td>(605) 223-7780</td>\n",
       "      <td></td>\n",
       "      <td></td>\n",
       "      <td>True</td>\n",
       "      <td>True</td>\n",
       "      <td></td>\n",
       "      <td>scauditor@midconetwork.com</td>\n",
       "      <td>(605) 223-7785</td>\n",
       "      <td></td>\n",
       "      <td></td>\n",
       "      <td></td>\n",
       "      <td>Any registered voter may vote by absentee ball...</td>\n",
       "      <td></td>\n",
       "    </tr>\n",
       "    <tr>\n",
       "      <th>62</th>\n",
       "      <td>SD</td>\n",
       "      <td>Todd</td>\n",
       "      <td>County Auditors</td>\n",
       "      <td>200 E 3rd St</td>\n",
       "      <td></td>\n",
       "      <td>Winner</td>\n",
       "      <td>SD</td>\n",
       "      <td>(605) 842-3727</td>\n",
       "      <td></td>\n",
       "      <td></td>\n",
       "      <td>True</td>\n",
       "      <td>True</td>\n",
       "      <td></td>\n",
       "      <td>bdesersa@trippcounty.us</td>\n",
       "      <td>(605) 842-1116</td>\n",
       "      <td></td>\n",
       "      <td></td>\n",
       "      <td></td>\n",
       "      <td>Any registered voter may vote by absentee ball...</td>\n",
       "      <td></td>\n",
       "    </tr>\n",
       "    <tr>\n",
       "      <th>63</th>\n",
       "      <td>SD</td>\n",
       "      <td>Turner</td>\n",
       "      <td>County Auditors</td>\n",
       "      <td>PO Box 370</td>\n",
       "      <td></td>\n",
       "      <td>Parker</td>\n",
       "      <td>SD</td>\n",
       "      <td>(605) 297-3153</td>\n",
       "      <td></td>\n",
       "      <td></td>\n",
       "      <td>True</td>\n",
       "      <td>True</td>\n",
       "      <td></td>\n",
       "      <td>turcoaud@iw.net</td>\n",
       "      <td>(605) 297-5556</td>\n",
       "      <td></td>\n",
       "      <td></td>\n",
       "      <td></td>\n",
       "      <td>Any registered voter may vote by absentee ball...</td>\n",
       "      <td></td>\n",
       "    </tr>\n",
       "    <tr>\n",
       "      <th>64</th>\n",
       "      <td>SD</td>\n",
       "      <td>Walworth</td>\n",
       "      <td>County Auditors</td>\n",
       "      <td>PO Box 199</td>\n",
       "      <td></td>\n",
       "      <td>Selby</td>\n",
       "      <td>SD</td>\n",
       "      <td>(605) 649-7878</td>\n",
       "      <td></td>\n",
       "      <td></td>\n",
       "      <td>True</td>\n",
       "      <td>True</td>\n",
       "      <td></td>\n",
       "      <td>rkrein@walworthco.org</td>\n",
       "      <td>(605) 649-7867</td>\n",
       "      <td></td>\n",
       "      <td></td>\n",
       "      <td></td>\n",
       "      <td>Any registered voter may vote by absentee ball...</td>\n",
       "      <td></td>\n",
       "    </tr>\n",
       "    <tr>\n",
       "      <th>65</th>\n",
       "      <td>SD</td>\n",
       "      <td>Ziebach</td>\n",
       "      <td>County Auditors</td>\n",
       "      <td>PO Box 68</td>\n",
       "      <td></td>\n",
       "      <td>Dupree</td>\n",
       "      <td>SD</td>\n",
       "      <td>(605) 365-5157</td>\n",
       "      <td></td>\n",
       "      <td></td>\n",
       "      <td>True</td>\n",
       "      <td>True</td>\n",
       "      <td></td>\n",
       "      <td>ziebachauditor@lakotanetwork.com</td>\n",
       "      <td>(605) 365-5203</td>\n",
       "      <td></td>\n",
       "      <td></td>\n",
       "      <td></td>\n",
       "      <td>Any registered voter may vote by absentee ball...</td>\n",
       "      <td></td>\n",
       "    </tr>\n",
       "  </tbody>\n",
       "</table>\n",
       "<p>66 rows × 20 columns</p>\n",
       "</div>"
      ],
      "text/plain": [
       "   State     County    location_type                address_1 address_2  \\\n",
       "0     SD     Aurora  County Auditors               PO Box 397             \n",
       "1     SD    Bennett  County Auditors               PO Box 460             \n",
       "2     SD  Brookings  County Auditors   520 3rd St., Suite 100             \n",
       "3     SD      Brule  County Auditors  300 S Courtland STE 103             \n",
       "4     SD      Butte  County Auditors           117 5th Avenue             \n",
       "..   ...        ...              ...                      ...       ...   \n",
       "61    SD    Stanley  County Auditors               PO Box 595             \n",
       "62    SD       Todd  County Auditors             200 E 3rd St             \n",
       "63    SD     Turner  County Auditors               PO Box 370             \n",
       "64    SD   Walworth  County Auditors               PO Box 199             \n",
       "65    SD    Ziebach  County Auditors                PO Box 68             \n",
       "\n",
       "             city state           phone latitude longitude  \\\n",
       "0      Plankinton    SD  (605) 942-7752                      \n",
       "1          Martin    SD  (605) 685-6931                      \n",
       "2       Brookings    SD  (605) 696-8250                      \n",
       "3     Chamberlain    SD  (605) 234-4430                      \n",
       "4   Belle Fourche    SD  (605) 892-4485                      \n",
       "..            ...   ...             ...      ...       ...   \n",
       "61    Fort Pierre    SD  (605) 223-7780                      \n",
       "62         Winner    SD  (605) 842-3727                      \n",
       "63         Parker    SD  (605) 297-3153                      \n",
       "64          Selby    SD  (605) 649-7878                      \n",
       "65         Dupree    SD  (605) 365-5157                      \n",
       "\n",
       "   has_dropoff_location has_phone_number county_website_url  \\\n",
       "0                  True             True                      \n",
       "1                  True             True                      \n",
       "2                  True             True                      \n",
       "3                  True             True                      \n",
       "4                  True             True                      \n",
       "..                  ...              ...                ...   \n",
       "61                 True             True                      \n",
       "62                 True             True                      \n",
       "63                 True             True                      \n",
       "64                 True             True                      \n",
       "65                 True             True                      \n",
       "\n",
       "                               email             fax social inactive hours  \\\n",
       "0            susan.urban@state.sd.us  (605) 942-7746                         \n",
       "1                 bcauditor@gwtc.net  (605) 685-6311                         \n",
       "2      vbuseth@brookingscountysd.gov  (605) 696-8259                         \n",
       "3             brulaud@midstatesd.net  (605) 234-4430                         \n",
       "4                auditor@buttesd.org  (605) 723-0057                         \n",
       "..                               ...             ...    ...      ...   ...   \n",
       "61        scauditor@midconetwork.com  (605) 223-7785                         \n",
       "62           bdesersa@trippcounty.us  (605) 842-1116                         \n",
       "63                   turcoaud@iw.net  (605) 297-5556                         \n",
       "64             rkrein@walworthco.org  (605) 649-7867                         \n",
       "65  ziebachauditor@lakotanetwork.com  (605) 365-5203                         \n",
       "\n",
       "                                                rules notes  \n",
       "0   Any registered voter may vote by absentee ball...        \n",
       "1   Any registered voter may vote by absentee ball...        \n",
       "2   Any registered voter may vote by absentee ball...        \n",
       "3   Any registered voter may vote by absentee ball...        \n",
       "4   Any registered voter may vote by absentee ball...        \n",
       "..                                                ...   ...  \n",
       "61  Any registered voter may vote by absentee ball...        \n",
       "62  Any registered voter may vote by absentee ball...        \n",
       "63  Any registered voter may vote by absentee ball...        \n",
       "64  Any registered voter may vote by absentee ball...        \n",
       "65  Any registered voter may vote by absentee ball...        \n",
       "\n",
       "[66 rows x 20 columns]"
      ]
     },
     "execution_count": 46,
     "metadata": {},
     "output_type": "execute_result"
    }
   ],
   "source": [
    "county_list = []\n",
    "county_info = {}\n",
    "\n",
    "for county in counties.findAll('tr', {'class' : 'rgRow'}):\n",
    "    #print(county.find('td'))\n",
    "    #for _ in county.findAll('td'):\n",
    "    county_info = {\n",
    "        'State' : 'SD',\n",
    "        'County' : county.findAll('td')[0].text,\n",
    "        'location_type' : 'County Auditors',\n",
    "        'address_1' : county.findAll('td')[3].text,\n",
    "        'address_2' : '',\n",
    "        'city' : county.findAll('td')[4].text,\n",
    "        'state' : 'SD',\n",
    "        'phone' : county.findAll('td')[6].text,\n",
    "        'latitude' :'',\n",
    "        'longitude' : '',\n",
    "        'has_dropoff_location' : 'True',\n",
    "        'has_phone_number' : 'True',\n",
    "        'county_website_url' : '',\n",
    "        'email' : county.findAll('td')[8].find('a').attrs['href'][7:],\n",
    "        'fax' : county.findAll('td')[7].text,\n",
    "        'social' : '',\n",
    "        'inactive' : '',\n",
    "        'hours' : '',\n",
    "        'rules' : 'Any registered voter may vote by absentee ballot and no excuse required.',\n",
    "        'notes' : ''\n",
    "    }\n",
    "    county_list.append(county_info)\n",
    "\n",
    "for county in counties.findAll('tr', {'class' : 'rgAltRow'}):\n",
    "    #print(county.find('td'))\n",
    "    #for _ in county.findAll('td'):\n",
    "    county_info = {\n",
    "        'State' : 'SD',\n",
    "        'County' : county.findAll('td')[0].text,\n",
    "        'location_type' : 'County Auditors',\n",
    "        'address_1' : county.findAll('td')[3].text,\n",
    "        'address_2' : '',\n",
    "        'city' : county.findAll('td')[4].text,\n",
    "        'state' : 'SD',\n",
    "        'phone' : county.findAll('td')[6].text,\n",
    "        'latitude' :'',\n",
    "        'longitude' : '',\n",
    "        'has_dropoff_location' : 'True',\n",
    "        'has_phone_number' : 'True',\n",
    "        'county_website_url' : '',\n",
    "        'email' : county.findAll('td')[8].find('a').attrs['href'][7:],\n",
    "        'fax' : county.findAll('td')[7].text,\n",
    "        'social' : '',\n",
    "        'inactive' : '',\n",
    "        'hours' : '',\n",
    "        'rules' : 'Any registered voter may vote by absentee ballot and no excuse required.',\n",
    "        'notes' : ''\n",
    "    }    \n",
    "    county_list.append(county_info)\n",
    "    #print(county_info)\n",
    "\n",
    "pd.DataFrame(county_list)"
   ]
  },
  {
   "cell_type": "code",
   "execution_count": 66,
   "metadata": {},
   "outputs": [],
   "source": [
    "#pd.DataFrame(county_list)"
   ]
  },
  {
   "cell_type": "code",
   "execution_count": 67,
   "metadata": {},
   "outputs": [],
   "source": [
    "counties_df = pd.DataFrame(county_list)\n",
    "#counties_df"
   ]
  },
  {
   "cell_type": "code",
   "execution_count": 59,
   "metadata": {},
   "outputs": [],
   "source": [
    "counties_df.to_csv('South Dakota County Location.csv', index=False)"
   ]
  },
  {
   "cell_type": "code",
   "execution_count": null,
   "metadata": {},
   "outputs": [],
   "source": []
  },
  {
   "cell_type": "markdown",
   "metadata": {},
   "source": [
    "##### Both classes - findAll('tr', {\"class\" : [\"rgRow\", \"rgAltRow\"]})"
   ]
  },
  {
   "cell_type": "code",
   "execution_count": 29,
   "metadata": {},
   "outputs": [
    {
     "data": {
      "text/plain": [
       "<tr class=\"rgRow\" id=\"ctl00_MainContent_rdgCountyAuditors_ctl00__0\">\n",
       "<td>Aurora</td><td>Susan</td><td>Urban</td><td>PO Box 397</td><td>Plankinton</td><td>57368-0397</td><td>(605) 942-7752</td><td>(605) 942-7746</td><td><a href=\"mailto:susan.urban@state.sd.us\">Email</a></td>\n",
       "</tr>"
      ]
     },
     "execution_count": 29,
     "metadata": {},
     "output_type": "execute_result"
    }
   ],
   "source": [
    "counties.findAll('tr', {\"class\" : [\"rgRow\", \"rgAltRow\"]})[0]\n",
    "\n",
    "#soup.findAll(True, {'class':['class1', 'class2']}) - when two classes, pass the classes into an array"
   ]
  },
  {
   "cell_type": "code",
   "execution_count": 30,
   "metadata": {},
   "outputs": [
    {
     "data": {
      "text/plain": [
       "<tr class=\"rgAltRow\" id=\"ctl00_MainContent_rdgCountyAuditors_ctl00__1\">\n",
       "<td>Beadle</td><td>Jill</td><td>Hanson</td><td>450 3rd St. SW, Ste. 201</td><td>Huron</td><td>57350</td><td>(605) 353-8400</td><td>(605) 353-8402</td><td><a href=\"mailto:auditor@beadlesd.org\">Email</a></td>\n",
       "</tr>"
      ]
     },
     "execution_count": 30,
     "metadata": {},
     "output_type": "execute_result"
    }
   ],
   "source": [
    "counties.findAll('tr', {\"class\" : [\"rgRow\", \"rgAltRow\"]})[1]"
   ]
  },
  {
   "cell_type": "code",
   "execution_count": 31,
   "metadata": {},
   "outputs": [],
   "source": [
    "all_rows = counties.findAll('tr', {\"class\" : [\"rgRow\", \"rgAltRow\"]})\n",
    "#all_rows"
   ]
  },
  {
   "cell_type": "code",
   "execution_count": 32,
   "metadata": {},
   "outputs": [
    {
     "data": {
      "text/plain": [
       "66"
      ]
     },
     "execution_count": 32,
     "metadata": {},
     "output_type": "execute_result"
    }
   ],
   "source": [
    "len(all_rows)"
   ]
  },
  {
   "cell_type": "code",
   "execution_count": 33,
   "metadata": {},
   "outputs": [
    {
     "data": {
      "text/plain": [
       "[<td>Aurora</td>,\n",
       " <td>Susan</td>,\n",
       " <td>Urban</td>,\n",
       " <td>PO Box 397</td>,\n",
       " <td>Plankinton</td>,\n",
       " <td>57368-0397</td>,\n",
       " <td>(605) 942-7752</td>,\n",
       " <td>(605) 942-7746</td>,\n",
       " <td><a href=\"mailto:susan.urban@state.sd.us\">Email</a></td>]"
      ]
     },
     "execution_count": 33,
     "metadata": {},
     "output_type": "execute_result"
    }
   ],
   "source": [
    "all_rows[0].findAll(['td'])"
   ]
  },
  {
   "cell_type": "code",
   "execution_count": 64,
   "metadata": {},
   "outputs": [
    {
     "data": {
      "text/plain": [
       "'Aurora'"
      ]
     },
     "execution_count": 64,
     "metadata": {},
     "output_type": "execute_result"
    }
   ],
   "source": [
    "#counties.findAll('tr')[1].findAll('td')\n",
    "all_rows[0].findAll('td')[0].text"
   ]
  },
  {
   "cell_type": "code",
   "execution_count": 65,
   "metadata": {},
   "outputs": [
    {
     "data": {
      "text/plain": [
       "'Custer'"
      ]
     },
     "execution_count": 65,
     "metadata": {},
     "output_type": "execute_result"
    }
   ],
   "source": [
    "#counties.findAll('tr')[1].findAll('td')\n",
    "all_rows[15].findAll('td')[0].text"
   ]
  },
  {
   "cell_type": "code",
   "execution_count": null,
   "metadata": {},
   "outputs": [],
   "source": []
  },
  {
   "cell_type": "code",
   "execution_count": null,
   "metadata": {},
   "outputs": [],
   "source": []
  },
  {
   "cell_type": "code",
   "execution_count": null,
   "metadata": {},
   "outputs": [],
   "source": []
  },
  {
   "cell_type": "code",
   "execution_count": null,
   "metadata": {},
   "outputs": [],
   "source": []
  },
  {
   "cell_type": "code",
   "execution_count": null,
   "metadata": {},
   "outputs": [],
   "source": []
  },
  {
   "cell_type": "code",
   "execution_count": null,
   "metadata": {},
   "outputs": [],
   "source": []
  },
  {
   "cell_type": "code",
   "execution_count": null,
   "metadata": {},
   "outputs": [],
   "source": []
  }
 ],
 "metadata": {
  "kernelspec": {
   "display_name": "Python 3",
   "language": "python",
   "name": "python3"
  },
  "language_info": {
   "codemirror_mode": {
    "name": "ipython",
    "version": 3
   },
   "file_extension": ".py",
   "mimetype": "text/x-python",
   "name": "python",
   "nbconvert_exporter": "python",
   "pygments_lexer": "ipython3",
   "version": "3.7.6"
  }
 },
 "nbformat": 4,
 "nbformat_minor": 4
}
