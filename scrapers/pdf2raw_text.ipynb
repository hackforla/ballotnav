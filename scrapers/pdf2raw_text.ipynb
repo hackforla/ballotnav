{
 "cells": [
  {
   "cell_type": "code",
   "execution_count": null,
   "metadata": {},
   "outputs": [],
   "source": [
    "# ONLY RUN if fitz not installed\n",
    "!pip install fitz"
   ]
  },
  {
   "cell_type": "code",
   "execution_count": 1,
   "metadata": {},
   "outputs": [],
   "source": [
    "import fitz"
   ]
  },
  {
   "cell_type": "code",
   "execution_count": 2,
   "metadata": {},
   "outputs": [
    {
     "name": "stdout",
     "output_type": "stream",
     "text": [
      "\n",
      "PyMuPDF 1.17.6: Python bindings for the MuPDF 1.17.0 library.\n",
      "Version date: 2020-08-26 14:54:32.\n",
      "Built for Python 3.8 on darwin (64-bit).\n",
      "\n"
     ]
    }
   ],
   "source": [
    "# verify installation\n",
    "print(fitz.__doc__)"
   ]
  },
  {
   "cell_type": "code",
   "execution_count": 3,
   "metadata": {},
   "outputs": [],
   "source": [
    "path = \"path_to_file\"\n",
    "doc = fitz.open(path)"
   ]
  },
  {
   "cell_type": "code",
   "execution_count": 14,
   "metadata": {},
   "outputs": [],
   "source": [
    "raw_text = \"\"\n",
    "for page in doc:\n",
    "    text = page.getText(\"text\")\n",
    "    raw_text += text"
   ]
  }
 ],
 "metadata": {
  "kernelspec": {
   "display_name": "Python 3",
   "language": "python",
   "name": "python3"
  },
  "language_info": {
   "codemirror_mode": {
    "name": "ipython",
    "version": 3
   },
   "file_extension": ".py",
   "mimetype": "text/x-python",
   "name": "python",
   "nbconvert_exporter": "python",
   "pygments_lexer": "ipython3",
   "version": "3.8.5"
  }
 },
 "nbformat": 4,
 "nbformat_minor": 4
}
